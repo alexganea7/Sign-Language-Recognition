{
 "cells": [
  {
   "cell_type": "markdown",
   "metadata": {},
   "source": [
    "# Sign language recognition"
   ]
  },
  {
   "cell_type": "code",
   "execution_count": 1,
   "metadata": {
    "execution": {
     "iopub.execute_input": "2024-06-16T09:33:40.467998Z",
     "iopub.status.busy": "2024-06-16T09:33:40.467303Z",
     "iopub.status.idle": "2024-06-16T09:33:53.962835Z",
     "shell.execute_reply": "2024-06-16T09:33:53.961539Z",
     "shell.execute_reply.started": "2024-06-16T09:33:40.467961Z"
    },
    "trusted": true
   },
   "outputs": [
    {
     "name": "stderr",
     "output_type": "stream",
     "text": [
      "DEPRECATION: Loading egg at c:\\python311\\lib\\site-packages\\vboxapi-1.0-py3.11.egg is deprecated. pip 24.3 will enforce this behaviour change. A possible replacement is to use pip for package installation.. Discussion can be found at https://github.com/pypa/pip/issues/12330\n",
      "\n",
      "[notice] A new release of pip is available: 24.0 -> 24.3.1\n",
      "[notice] To update, run: python.exe -m pip install --upgrade pip\n"
     ]
    }
   ],
   "source": [
    "!pip install mediapipe -q"
   ]
  },
  {
   "cell_type": "markdown",
   "metadata": {},
   "source": [
    " Pentru a putea rula codul, este necesară instalarea setului de date https://www.microsoft.com/en-us/research/project/asl-citizen/\n",
    " In plus este necesară organizarea setului in foldere corespunzatoare\n"
   ]
  },
  {
   "cell_type": "code",
   "execution_count": 625,
   "metadata": {
    "execution": {
     "iopub.execute_input": "2024-06-16T09:33:53.965618Z",
     "iopub.status.busy": "2024-06-16T09:33:53.965272Z",
     "iopub.status.idle": "2024-06-16T09:33:53.971478Z",
     "shell.execute_reply": "2024-06-16T09:33:53.970428Z",
     "shell.execute_reply.started": "2024-06-16T09:33:53.965584Z"
    },
    "trusted": true
   },
   "outputs": [],
   "source": [
    "NUM_CLASSES = 100\n",
    "EPOCHS = 100\n",
    "REDO_DATASET = 0\n",
    "dataset1000 = 0 # daca e 1 folosesc 1000 de clase\n",
    "if(dataset1000):\n",
    "    NUM_CLASSES = 1000"
   ]
  },
  {
   "cell_type": "code",
   "execution_count": null,
   "metadata": {
    "_cell_guid": "b1076dfc-b9ad-4769-8c92-a6c4dae69d19",
    "_uuid": "8f2839f25d086af736a60e9eeb907d3b93b6e0e5",
    "execution": {
     "iopub.execute_input": "2024-06-16T09:33:53.972909Z",
     "iopub.status.busy": "2024-06-16T09:33:53.972620Z",
     "iopub.status.idle": "2024-06-16T09:33:53.982082Z",
     "shell.execute_reply": "2024-06-16T09:33:53.981297Z",
     "shell.execute_reply.started": "2024-06-16T09:33:53.972885Z"
    },
    "trusted": true
   },
   "outputs": [],
   "source": [
    "import numpy as np\n",
    "import json\n",
    "import pandas as pd\n",
    "import os\n",
    "from collections import Counter\n",
    "from tqdm import tqdm\n",
    "import matplotlib.pyplot as plt\n",
    "import mediapipe as mp\n",
    "import cv2\n",
    "import threading\n",
    "import gc\n",
    "import string\n",
    "\n",
    "import tensorflow as tf\n",
    "from keras.utils import to_categorical\n",
    "from tensorflow.keras.models import Sequential\n",
    "from tensorflow.keras.layers import Masking, LSTM, Dense, Reshape, BatchNormalization, Dropout, Layer\n",
    "from tensorflow.keras.callbacks import ModelCheckpoint\n",
    "from tensorflow.keras.models import load_model\n",
    "from tensorflow.keras.utils import register_keras_serializable\n",
    "\n"
   ]
  },
  {
   "cell_type": "code",
   "execution_count": null,
   "metadata": {
    "execution": {
     "iopub.execute_input": "2024-06-16T09:33:53.985448Z",
     "iopub.status.busy": "2024-06-16T09:33:53.984601Z",
     "iopub.status.idle": "2024-06-16T09:33:53.996249Z",
     "shell.execute_reply": "2024-06-16T09:33:53.995339Z",
     "shell.execute_reply.started": "2024-06-16T09:33:53.985412Z"
    },
    "trusted": true
   },
   "outputs": [
    {
     "data": {
      "text/plain": [
       "'2.15.0'"
      ]
     },
     "execution_count": 627,
     "metadata": {},
     "output_type": "execute_result"
    }
   ],
   "source": [
    "tf.__version__"
   ]
  },
  {
   "cell_type": "markdown",
   "metadata": {},
   "source": [
    "## Dataset splits"
   ]
  },
  {
   "cell_type": "code",
   "execution_count": 628,
   "metadata": {
    "execution": {
     "iopub.execute_input": "2024-06-16T09:33:53.997612Z",
     "iopub.status.busy": "2024-06-16T09:33:53.997352Z",
     "iopub.status.idle": "2024-06-16T09:33:54.045548Z",
     "shell.execute_reply": "2024-06-16T09:33:54.044822Z",
     "shell.execute_reply.started": "2024-06-16T09:33:53.997582Z"
    },
    "trusted": true
   },
   "outputs": [],
   "source": [
    "if(dataset1000):\n",
    "    DIR = \"/kaggle/input/asl-citizen-landmarks/\"   # train1000\n",
    "    train_csv = pd.read_csv(DIR+'splits3/train1000.csv')\n",
    "    test_csv = pd.read_csv(DIR+'splits3/test1000.csv')\n",
    "    val_csv = pd.read_csv(DIR+'splits3/val1000.csv')\n",
    "else:\n",
    "    DIR = \"/kaggle/input/asl-citizen/ASL_Citizen/\"   # train100\n",
    "    train_csv = pd.read_csv(DIR+'splits2/train100.csv')\n",
    "    test_csv = pd.read_csv(DIR+'splits2/test100.csv')\n",
    "    val_csv = pd.read_csv(DIR+'splits2/val100.csv')"
   ]
  },
  {
   "cell_type": "code",
   "execution_count": 629,
   "metadata": {
    "execution": {
     "iopub.execute_input": "2024-06-16T09:33:54.046801Z",
     "iopub.status.busy": "2024-06-16T09:33:54.046526Z",
     "iopub.status.idle": "2024-06-16T09:33:54.059061Z",
     "shell.execute_reply": "2024-06-16T09:33:54.058229Z",
     "shell.execute_reply.started": "2024-06-16T09:33:54.046776Z"
    },
    "trusted": true
   },
   "outputs": [],
   "source": [
    "citizen_train= np.array(train_csv['Gloss'])\n",
    "citizen_test= np.array(test_csv['Gloss'])\n",
    "citizen_val= np.array(val_csv['Gloss'])"
   ]
  },
  {
   "cell_type": "code",
   "execution_count": 630,
   "metadata": {
    "execution": {
     "iopub.execute_input": "2024-06-16T09:33:54.060461Z",
     "iopub.status.busy": "2024-06-16T09:33:54.060133Z",
     "iopub.status.idle": "2024-06-16T09:33:54.069224Z",
     "shell.execute_reply": "2024-06-16T09:33:54.068307Z",
     "shell.execute_reply.started": "2024-06-16T09:33:54.060436Z"
    },
    "trusted": true
   },
   "outputs": [
    {
     "data": {
      "text/plain": [
       "1489"
      ]
     },
     "execution_count": 630,
     "metadata": {},
     "output_type": "execute_result"
    }
   ],
   "source": [
    "len(citizen_train)"
   ]
  },
  {
   "cell_type": "markdown",
   "metadata": {},
   "source": [
    "# Landmarks"
   ]
  },
  {
   "cell_type": "code",
   "execution_count": 631,
   "metadata": {
    "execution": {
     "iopub.execute_input": "2024-06-16T09:33:54.070644Z",
     "iopub.status.busy": "2024-06-16T09:33:54.070313Z",
     "iopub.status.idle": "2024-06-16T09:33:54.078820Z",
     "shell.execute_reply": "2024-06-16T09:33:54.077869Z",
     "shell.execute_reply.started": "2024-06-16T09:33:54.070613Z"
    },
    "trusted": true
   },
   "outputs": [],
   "source": [
    "filtered_face = [0, 61, 185, 40, 39, 37, 267, 269, 270, 409,\n",
    "                291, 146, 91, 181, 84, 17, 314, 405, 321, 375,\n",
    "                78, 191, 80, 81, 82, 13, 312, 311, 310, 415,\n",
    "                95, 88, 178, 87, 14, 317, 402, 318, 324, 308,\n",
    "                1,2,98,327, 33, 7, 163, 144, 145, 153, 154, 155, 133,\n",
    "                246, 161, 160, 159, 158, 157, 173, 263, 249, 390, 373, 374, 380, 381, 382, 362,\n",
    "                466, 388, 387, 386, 385, 384, 398,] # 4 nose + reye + leye\n",
    "\n",
    "filtered_pose = [11, 12, 13, 14, 15, 16]\n",
    "\n",
    "FACE_NUM = len(filtered_face)\n",
    "POSE_NUM = len(filtered_pose)\n",
    "HAND_NUM = 21  # per hand"
   ]
  },
  {
   "cell_type": "code",
   "execution_count": null,
   "metadata": {
    "execution": {
     "iopub.execute_input": "2024-06-16T09:33:54.080790Z",
     "iopub.status.busy": "2024-06-16T09:33:54.080409Z",
     "iopub.status.idle": "2024-06-16T09:33:54.087026Z",
     "shell.execute_reply": "2024-06-16T09:33:54.086118Z",
     "shell.execute_reply.started": "2024-06-16T09:33:54.080756Z"
    },
    "trusted": true
   },
   "outputs": [],
   "source": [
    "def adjust_3d_landmarks(arr, center):\n",
    "    arr_reshaped = arr.reshape(-1, 3)\n",
    "    center_repeated = np.tile(center, (len(arr_reshaped), 1))\n",
    "    arr_adjusted = arr_reshaped - center_repeated\n",
    "    arr_adjusted = arr_adjusted.reshape(arr.shape)\n",
    "\n",
    "    return arr_adjusted"
   ]
  },
  {
   "cell_type": "code",
   "execution_count": null,
   "metadata": {
    "execution": {
     "iopub.execute_input": "2024-06-16T09:33:54.091675Z",
     "iopub.status.busy": "2024-06-16T09:33:54.091371Z",
     "iopub.status.idle": "2024-06-16T09:33:54.146885Z",
     "shell.execute_reply": "2024-06-16T09:33:54.144875Z",
     "shell.execute_reply.started": "2024-06-16T09:33:54.091638Z"
    },
    "trusted": true
   },
   "outputs": [],
   "source": [
    "hands = mp.solutions.hands.Hands()\n",
    "\n",
    "pose = mp.solutions.pose.Pose()\n",
    "\n",
    "face_mesh = mp.solutions.face_mesh.FaceMesh(refine_landmarks=True)\n",
    "\n",
    "\n",
    "def get_frame_landmarks(frame):\n",
    "    all_landmarks = np.zeros((HAND_NUM * 2 + POSE_NUM + FACE_NUM, 3))\n",
    "\n",
    "    def get_hands(frame):\n",
    "        results_hands = hands.process(frame)\n",
    "        if results_hands.multi_hand_landmarks:\n",
    "            for i, hand_landmarks in enumerate(results_hands.multi_hand_landmarks):\n",
    "\n",
    "                if results_hands.multi_handedness[i].classification[0].index == 0:\n",
    "                    hands_landmarks = np.array([(lm.x, lm.y, lm.z) for lm in hand_landmarks.landmark])\n",
    "                    hands_center = hands_landmarks[0, :3]\n",
    "\n",
    "                    hands_adjusted = adjust_3d_landmarks(hands_landmarks, hands_center)\n",
    "                    all_landmarks[:HAND_NUM, :] = hands_adjusted\n",
    "\n",
    "                else:  # right hand\n",
    "\n",
    "                    hands_landmarks = np.array([(lm.x, lm.y, lm.z) for lm in hand_landmarks.landmark])\n",
    "                    hands_center = hands_landmarks[0, :3]\n",
    "\n",
    "                    hands_adjusted = adjust_3d_landmarks(hands_landmarks, hands_center)\n",
    "                    all_landmarks[HAND_NUM:HAND_NUM * 2, :] = hands_adjusted\n",
    "    def get_pose(frame):\n",
    "        results_pose = pose.process(frame)\n",
    "\n",
    "        if results_pose.pose_landmarks:\n",
    "            poses_landmarks = np.array([(lm.x, lm.y, lm.z) for lm in results_pose.pose_landmarks.landmark])[filtered_pose]\n",
    "            pose_center = poses_landmarks[0, :3]\n",
    "\n",
    "            pose_adjusted = adjust_3d_landmarks(poses_landmarks, pose_center)\n",
    "            all_landmarks[HAND_NUM * 2:HAND_NUM * 2 + POSE_NUM, :] = pose_adjusted\n",
    "\n",
    "    def get_face(frame):\n",
    "        results_face = face_mesh.process(frame)\n",
    "        if results_face.multi_face_landmarks:\n",
    "\n",
    "            face = np.array([(lm.x, lm.y, lm.z) for lm in results_face.multi_face_landmarks[0].landmark])[filtered_face]\n",
    "            face_center = face[0, :3]\n",
    "\n",
    "            face_adjusted = adjust_3d_landmarks(face, face_center)\n",
    "            all_landmarks[HAND_NUM * 2 + POSE_NUM:, :] = face_adjusted\n",
    "    threads = []\n",
    "    threads.append(threading.Thread(target=get_hands, args=(frame,)))\n",
    "    threads.append(threading.Thread(target=get_pose, args=(frame,)))\n",
    "    threads.append(threading.Thread(target=get_face, args=(frame,)))\n",
    "\n",
    "    for thread in threads:\n",
    "        thread.start()\n",
    "\n",
    "    for thread in threads:\n",
    "        thread.join()\n",
    "\n",
    "    return all_landmarks"
   ]
  },
  {
   "cell_type": "code",
   "execution_count": 634,
   "metadata": {
    "execution": {
     "iopub.execute_input": "2024-06-16T09:33:54.151657Z",
     "iopub.status.busy": "2024-06-16T09:33:54.149553Z",
     "iopub.status.idle": "2024-06-16T09:33:54.164048Z",
     "shell.execute_reply": "2024-06-16T09:33:54.162870Z",
     "shell.execute_reply.started": "2024-06-16T09:33:54.151594Z"
    },
    "trusted": true
   },
   "outputs": [
    {
     "name": "stderr",
     "output_type": "stream",
     "text": [
      "W0000 00:00:1718530434.148956   47473 inference_feedback_manager.cc:114] Feedback manager requires a model with a single signature inference. Disabling support for feedback tensors.\n",
      "W0000 00:00:1718530434.155808   47479 inference_feedback_manager.cc:114] Feedback manager requires a model with a single signature inference. Disabling support for feedback tensors.\n"
     ]
    }
   ],
   "source": [
    "NUM_LANDMARKS = HAND_NUM * 2 + POSE_NUM + FACE_NUM"
   ]
  },
  {
   "cell_type": "code",
   "execution_count": 635,
   "metadata": {
    "execution": {
     "iopub.execute_input": "2024-06-16T09:33:54.166223Z",
     "iopub.status.busy": "2024-06-16T09:33:54.165925Z",
     "iopub.status.idle": "2024-06-16T09:33:54.181108Z",
     "shell.execute_reply": "2024-06-16T09:33:54.179667Z",
     "shell.execute_reply.started": "2024-06-16T09:33:54.166170Z"
    },
    "trusted": true
   },
   "outputs": [],
   "source": [
    "def get_video_landmarks(video_path, start_frame=1, end_frame=-1):\n",
    "    cap = cv2.VideoCapture(video_path)\n",
    "    end_frame = int(cap.get(cv2.CAP_PROP_FRAME_COUNT)) # set to maximum\n",
    "    num_landmarks = NUM_LANDMARKS\n",
    "    all_frame_landmarks = np.zeros((end_frame - start_frame + 1, num_landmarks, 3))\n",
    "    frame_index = 1\n",
    "\n",
    "    while cap.isOpened() and frame_index <= end_frame:\n",
    "        ret, frame = cap.read()\n",
    "        if not ret:\n",
    "            break\n",
    "        if frame_index >= start_frame:\n",
    "            frame.flags.writeable = False\n",
    "            frame = cv2.cvtColor(frame, cv2.COLOR_BGR2RGB)\n",
    "            frame_landmarks = get_frame_landmarks(frame)\n",
    "            all_frame_landmarks[frame_index - start_frame] = frame_landmarks\n",
    "\n",
    "        frame_index += 1\n",
    "    cap.release()\n",
    "    hands.reset()\n",
    "    pose.reset()\n",
    "    face_mesh.reset()\n",
    "    return all_frame_landmarks"
   ]
  },
  {
   "cell_type": "code",
   "execution_count": 636,
   "metadata": {
    "execution": {
     "iopub.execute_input": "2024-06-16T09:33:54.183769Z",
     "iopub.status.busy": "2024-06-16T09:33:54.183080Z",
     "iopub.status.idle": "2024-06-16T09:33:54.196488Z",
     "shell.execute_reply": "2024-06-16T09:33:54.195145Z",
     "shell.execute_reply.started": "2024-06-16T09:33:54.183664Z"
    },
    "trusted": true
   },
   "outputs": [],
   "source": [
    "working_dir = '/kaggle/working/'\n",
    "numpy_dir = working_dir + 'new_preprocessed-data'\n",
    "if not os.path.exists(numpy_dir):\n",
    "    os.mkdir(numpy_dir)\n",
    "\n",
    "numpy_dir_1 = numpy_dir + '/train'\n",
    "numpy_dir_2 = numpy_dir + '/val'\n",
    "numpy_dir_3 = numpy_dir + '/test'\n",
    "\n",
    "if not os.path.exists(numpy_dir_1):\n",
    "    os.mkdir(numpy_dir_1)\n",
    "if not os.path.exists(numpy_dir_2):\n",
    "    os.mkdir(numpy_dir_2)\n",
    "if not os.path.exists(numpy_dir_3):\n",
    "    os.mkdir(numpy_dir_3)"
   ]
  },
  {
   "cell_type": "code",
   "execution_count": 637,
   "metadata": {
    "execution": {
     "iopub.execute_input": "2024-06-16T09:33:54.203776Z",
     "iopub.status.busy": "2024-06-16T09:33:54.200807Z",
     "iopub.status.idle": "2024-06-16T09:33:54.218523Z",
     "shell.execute_reply": "2024-06-16T09:33:54.217121Z",
     "shell.execute_reply.started": "2024-06-16T09:33:54.203731Z"
    },
    "trusted": true
   },
   "outputs": [
    {
     "name": "stderr",
     "output_type": "stream",
     "text": [
      "W0000 00:00:1718530434.210395   47480 inference_feedback_manager.cc:114] Feedback manager requires a model with a single signature inference. Disabling support for feedback tensors.\n",
      "W0000 00:00:1718530434.214821   47474 inference_feedback_manager.cc:114] Feedback manager requires a model with a single signature inference. Disabling support for feedback tensors.\n"
     ]
    }
   ],
   "source": [
    "data_count = len(train_csv)+len(test_csv)+len(val_csv)\n",
    "train_csv\n",
    "train_csv['Category_List'] = 'train'\n",
    "test_csv['Category_List'] = 'test'\n",
    "val_csv['Category_List'] = 'val'"
   ]
  },
  {
   "cell_type": "code",
   "execution_count": 638,
   "metadata": {
    "execution": {
     "iopub.execute_input": "2024-06-16T09:33:54.220748Z",
     "iopub.status.busy": "2024-06-16T09:33:54.220283Z",
     "iopub.status.idle": "2024-06-16T09:33:54.240849Z",
     "shell.execute_reply": "2024-06-16T09:33:54.239675Z",
     "shell.execute_reply.started": "2024-06-16T09:33:54.220713Z"
    },
    "trusted": true
   },
   "outputs": [
    {
     "data": {
      "text/html": [
       "<div>\n",
       "<style scoped>\n",
       "    .dataframe tbody tr th:only-of-type {\n",
       "        vertical-align: middle;\n",
       "    }\n",
       "\n",
       "    .dataframe tbody tr th {\n",
       "        vertical-align: top;\n",
       "    }\n",
       "\n",
       "    .dataframe thead th {\n",
       "        text-align: right;\n",
       "    }\n",
       "</style>\n",
       "<table border=\"1\" class=\"dataframe\">\n",
       "  <thead>\n",
       "    <tr style=\"text-align: right;\">\n",
       "      <th></th>\n",
       "      <th>Participant ID</th>\n",
       "      <th>Video file</th>\n",
       "      <th>Gloss</th>\n",
       "      <th>ASL-LEX Code</th>\n",
       "      <th>Category_List</th>\n",
       "    </tr>\n",
       "  </thead>\n",
       "  <tbody>\n",
       "    <tr>\n",
       "      <th>0</th>\n",
       "      <td>P1</td>\n",
       "      <td>15890366051589533-APPLE.mp4</td>\n",
       "      <td>APPLE</td>\n",
       "      <td>A_03_054</td>\n",
       "      <td>train</td>\n",
       "    </tr>\n",
       "    <tr>\n",
       "      <th>1</th>\n",
       "      <td>P1</td>\n",
       "      <td>49288220098651747-DOG.mp4</td>\n",
       "      <td>DOG1</td>\n",
       "      <td>A_01_056</td>\n",
       "      <td>train</td>\n",
       "    </tr>\n",
       "    <tr>\n",
       "      <th>2</th>\n",
       "      <td>P40</td>\n",
       "      <td>654679171689897-APPLE.mp4</td>\n",
       "      <td>APPLE</td>\n",
       "      <td>A_03_054</td>\n",
       "      <td>train</td>\n",
       "    </tr>\n",
       "    <tr>\n",
       "      <th>3</th>\n",
       "      <td>P40</td>\n",
       "      <td>11432147423106453-DOG.mp4</td>\n",
       "      <td>DOG1</td>\n",
       "      <td>A_01_056</td>\n",
       "      <td>train</td>\n",
       "    </tr>\n",
       "    <tr>\n",
       "      <th>4</th>\n",
       "      <td>P40</td>\n",
       "      <td>0525121513125173-DARK.mp4</td>\n",
       "      <td>DARK1</td>\n",
       "      <td>J_03_094</td>\n",
       "      <td>train</td>\n",
       "    </tr>\n",
       "    <tr>\n",
       "      <th>...</th>\n",
       "      <td>...</td>\n",
       "      <td>...</td>\n",
       "      <td>...</td>\n",
       "      <td>...</td>\n",
       "      <td>...</td>\n",
       "    </tr>\n",
       "    <tr>\n",
       "      <th>382</th>\n",
       "      <td>P26</td>\n",
       "      <td>2867662506233086-GIVE.mp4</td>\n",
       "      <td>GIVE</td>\n",
       "      <td>F_01_023</td>\n",
       "      <td>val</td>\n",
       "    </tr>\n",
       "    <tr>\n",
       "      <th>383</th>\n",
       "      <td>P26</td>\n",
       "      <td>9474917526716478-BASKETBALL.mp4</td>\n",
       "      <td>BASKETBALL1</td>\n",
       "      <td>A_03_045</td>\n",
       "      <td>val</td>\n",
       "    </tr>\n",
       "    <tr>\n",
       "      <th>384</th>\n",
       "      <td>P26</td>\n",
       "      <td>3559344612386124-WALK.mp4</td>\n",
       "      <td>WALK1</td>\n",
       "      <td>D_02_057</td>\n",
       "      <td>val</td>\n",
       "    </tr>\n",
       "    <tr>\n",
       "      <th>385</th>\n",
       "      <td>P26</td>\n",
       "      <td>5023511933090157-MANY.mp4</td>\n",
       "      <td>MANY</td>\n",
       "      <td>D_03_065</td>\n",
       "      <td>val</td>\n",
       "    </tr>\n",
       "    <tr>\n",
       "      <th>386</th>\n",
       "      <td>P26</td>\n",
       "      <td>8218136220855874-HELP.mp4</td>\n",
       "      <td>HELP</td>\n",
       "      <td>D_01_042</td>\n",
       "      <td>val</td>\n",
       "    </tr>\n",
       "  </tbody>\n",
       "</table>\n",
       "<p>3134 rows × 5 columns</p>\n",
       "</div>"
      ],
      "text/plain": [
       "    Participant ID                       Video file        Gloss ASL-LEX Code  \\\n",
       "0               P1      15890366051589533-APPLE.mp4        APPLE     A_03_054   \n",
       "1               P1        49288220098651747-DOG.mp4         DOG1     A_01_056   \n",
       "2              P40        654679171689897-APPLE.mp4        APPLE     A_03_054   \n",
       "3              P40        11432147423106453-DOG.mp4         DOG1     A_01_056   \n",
       "4              P40        0525121513125173-DARK.mp4        DARK1     J_03_094   \n",
       "..             ...                              ...          ...          ...   \n",
       "382            P26        2867662506233086-GIVE.mp4         GIVE     F_01_023   \n",
       "383            P26  9474917526716478-BASKETBALL.mp4  BASKETBALL1     A_03_045   \n",
       "384            P26        3559344612386124-WALK.mp4        WALK1     D_02_057   \n",
       "385            P26        5023511933090157-MANY.mp4         MANY     D_03_065   \n",
       "386            P26        8218136220855874-HELP.mp4         HELP     D_01_042   \n",
       "\n",
       "    Category_List  \n",
       "0           train  \n",
       "1           train  \n",
       "2           train  \n",
       "3           train  \n",
       "4           train  \n",
       "..            ...  \n",
       "382           val  \n",
       "383           val  \n",
       "384           val  \n",
       "385           val  \n",
       "386           val  \n",
       "\n",
       "[3134 rows x 5 columns]"
      ]
     },
     "execution_count": 638,
     "metadata": {},
     "output_type": "execute_result"
    }
   ],
   "source": [
    "data = pd.concat([train_csv, test_csv, val_csv])\n",
    "data"
   ]
  },
  {
   "cell_type": "code",
   "execution_count": 639,
   "metadata": {
    "execution": {
     "iopub.execute_input": "2024-06-16T09:33:54.242502Z",
     "iopub.status.busy": "2024-06-16T09:33:54.242155Z",
     "iopub.status.idle": "2024-06-16T09:33:54.250741Z",
     "shell.execute_reply": "2024-06-16T09:33:54.249675Z",
     "shell.execute_reply.started": "2024-06-16T09:33:54.242473Z"
    },
    "trusted": true
   },
   "outputs": [
    {
     "data": {
      "text/plain": [
       "'49288220098651747-DOG.mp4'"
      ]
     },
     "execution_count": 639,
     "metadata": {},
     "output_type": "execute_result"
    }
   ],
   "source": [
    "labels_concat = np.concatenate((citizen_train, citizen_test, citizen_val), -1)\n",
    "data['Video file'].iloc[1]"
   ]
  },
  {
   "cell_type": "markdown",
   "metadata": {},
   "source": [
    "## Storing as numpy files"
   ]
  },
  {
   "cell_type": "code",
   "execution_count": 640,
   "metadata": {
    "execution": {
     "iopub.execute_input": "2024-06-16T09:33:54.252823Z",
     "iopub.status.busy": "2024-06-16T09:33:54.252513Z",
     "iopub.status.idle": "2024-06-16T09:33:54.258766Z",
     "shell.execute_reply": "2024-06-16T09:33:54.257642Z",
     "shell.execute_reply.started": "2024-06-16T09:33:54.252791Z"
    },
    "trusted": true
   },
   "outputs": [],
   "source": [
    "if(REDO_DATASET):\n",
    "    for i in tqdm(range(data_count), ncols=100):\n",
    "        npy_path = f\"{working_dir}new_preprocessed-data/{data['Category_List'].iloc[i]}/{i}.npy\"\n",
    "\n",
    "        if os.path.exists(npy_path):\n",
    "            print(f\"File {npy_path} already exists..\")\n",
    "            continue\n",
    "\n",
    "        input_path = DIR+'videos/'+data['Video file'].iloc[i]\n",
    "\n",
    "        npyArray = get_video_landmarks(input_path)\n",
    "\n",
    "        np.save(npy_path, npyArray)"
   ]
  },
  {
   "cell_type": "code",
   "execution_count": 641,
   "metadata": {
    "execution": {
     "iopub.execute_input": "2024-06-16T09:33:54.260649Z",
     "iopub.status.busy": "2024-06-16T09:33:54.260336Z",
     "iopub.status.idle": "2024-06-16T09:33:54.266849Z",
     "shell.execute_reply": "2024-06-16T09:33:54.266098Z",
     "shell.execute_reply.started": "2024-06-16T09:33:54.260609Z"
    },
    "trusted": true
   },
   "outputs": [],
   "source": [
    "train_landmarks_dict = {}\n",
    "test_landmarks_dict = {}\n",
    "val_landmarks_dict = {}\n",
    "\n",
    "train_npy_dir = DIR + 'new_preprocessed-data/train'\n",
    "test_npy_dir = DIR + 'new_preprocessed-data/test'\n",
    "val_npy_dir = DIR + 'new_preprocessed-data/val'"
   ]
  },
  {
   "cell_type": "code",
   "execution_count": 642,
   "metadata": {
    "execution": {
     "iopub.execute_input": "2024-06-16T09:33:54.268771Z",
     "iopub.status.busy": "2024-06-16T09:33:54.268148Z",
     "iopub.status.idle": "2024-06-16T09:33:54.276745Z",
     "shell.execute_reply": "2024-06-16T09:33:54.275749Z",
     "shell.execute_reply.started": "2024-06-16T09:33:54.268743Z"
    },
    "trusted": true
   },
   "outputs": [
    {
     "data": {
      "text/plain": [
       "'/kaggle/input/asl-citizen/ASL_Citizen/new_preprocessed-data/train'"
      ]
     },
     "execution_count": 642,
     "metadata": {},
     "output_type": "execute_result"
    }
   ],
   "source": [
    "train_npy_dir"
   ]
  },
  {
   "cell_type": "code",
   "execution_count": 643,
   "metadata": {
    "execution": {
     "iopub.execute_input": "2024-06-16T09:33:54.278677Z",
     "iopub.status.busy": "2024-06-16T09:33:54.278344Z",
     "iopub.status.idle": "2024-06-16T09:33:54.285550Z",
     "shell.execute_reply": "2024-06-16T09:33:54.284554Z",
     "shell.execute_reply.started": "2024-06-16T09:33:54.278644Z"
    },
    "trusted": true
   },
   "outputs": [],
   "source": [
    "def generate_npz(npy_dir, landmarks_dict, npz_path):\n",
    "    nrok=0\n",
    "    for filename in os.listdir(npy_dir):\n",
    "        if filename.endswith('.npy'):\n",
    "            if(nrok==0):\n",
    "              nrok+=1\n",
    "              print(filename)\n",
    "            key = filename.split('.')[0]\n",
    "            landmarks = np.load(os.path.join(\n",
    "                npy_dir, filename), allow_pickle=True) # to allow serializing objects\n",
    "            # print(landmarks)\n",
    "            landmarks_dict[key] = landmarks\n",
    "            print(f'{npy_dir}/{filename} added')\n",
    "\n",
    "    np.savez_compressed(npz_path, **landmarks_dict)\n",
    "    print(f\"{npy_dir} saved successfully\")"
   ]
  },
  {
   "cell_type": "code",
   "execution_count": 644,
   "metadata": {
    "execution": {
     "iopub.execute_input": "2024-06-16T09:33:54.286815Z",
     "iopub.status.busy": "2024-06-16T09:33:54.286528Z",
     "iopub.status.idle": "2024-06-16T09:33:54.298145Z",
     "shell.execute_reply": "2024-06-16T09:33:54.297251Z",
     "shell.execute_reply.started": "2024-06-16T09:33:54.286791Z"
    },
    "trusted": true
   },
   "outputs": [],
   "source": [
    "if(dataset1000):\n",
    "    npz_landmarks_dir = '/kaggle/input/asl-citizen-landmarks/landmarks' # train1000\n",
    "else:\n",
    "    npz_landmarks_dir = '/kaggle/input/asl-citizen/ASL_Citizen/landmarks'\n",
    "if not os.path.exists(npz_landmarks_dir):\n",
    "    os.mkdir(npz_landmarks_dir)"
   ]
  },
  {
   "cell_type": "code",
   "execution_count": 645,
   "metadata": {
    "execution": {
     "iopub.execute_input": "2024-06-16T09:33:54.299718Z",
     "iopub.status.busy": "2024-06-16T09:33:54.299465Z",
     "iopub.status.idle": "2024-06-16T09:33:54.311577Z",
     "shell.execute_reply": "2024-06-16T09:33:54.310072Z",
     "shell.execute_reply.started": "2024-06-16T09:33:54.299684Z"
    },
    "trusted": true
   },
   "outputs": [
    {
     "name": "stderr",
     "output_type": "stream",
     "text": [
      "W0000 00:00:1718530434.303275   47476 inference_feedback_manager.cc:114] Feedback manager requires a model with a single signature inference. Disabling support for feedback tensors.\n"
     ]
    }
   ],
   "source": [
    "npz_train_path = DIR + 'landmarks/landmarks_train.npz'\n",
    "npz_test_path = DIR + 'landmarks/landmarks_test.npz'\n",
    "npz_val_path = DIR + 'landmarks/landmarks_val.npz'\n",
    "\n",
    "if not os.path.exists(npz_train_path):\n",
    "    generate_npz(train_npy_dir, train_landmarks_dict, npz_train_path)\n",
    "if not os.path.exists(npz_test_path):\n",
    "    generate_npz(test_npy_dir, test_landmarks_dict, npz_test_path)\n",
    "if not os.path.exists(npz_val_path):\n",
    "    generate_npz(val_npy_dir, val_landmarks_dict, npz_val_path)"
   ]
  },
  {
   "cell_type": "code",
   "execution_count": null,
   "metadata": {
    "trusted": true
   },
   "outputs": [],
   "source": []
  },
  {
   "cell_type": "code",
   "execution_count": 646,
   "metadata": {
    "execution": {
     "iopub.execute_input": "2024-06-16T09:33:54.312953Z",
     "iopub.status.busy": "2024-06-16T09:33:54.312627Z",
     "iopub.status.idle": "2024-06-16T09:33:56.743364Z",
     "shell.execute_reply": "2024-06-16T09:33:56.742385Z",
     "shell.execute_reply.started": "2024-06-16T09:33:54.312920Z"
    },
    "trusted": true
   },
   "outputs": [
    {
     "name": "stderr",
     "output_type": "stream",
     "text": [
      "W0000 00:00:1718530434.341349   47475 inference_feedback_manager.cc:114] Feedback manager requires a model with a single signature inference. Disabling support for feedback tensors.\n"
     ]
    },
    {
     "data": {
      "text/plain": [
       "186253"
      ]
     },
     "execution_count": 646,
     "metadata": {},
     "output_type": "execute_result"
    }
   ],
   "source": [
    "del train_landmarks_dict, test_landmarks_dict, val_landmarks_dict\n",
    "gc.collect()"
   ]
  },
  {
   "cell_type": "markdown",
   "metadata": {},
   "source": [
    "# Loading preprocessed data"
   ]
  },
  {
   "cell_type": "code",
   "execution_count": 647,
   "metadata": {
    "execution": {
     "iopub.execute_input": "2024-06-16T09:33:56.745893Z",
     "iopub.status.busy": "2024-06-16T09:33:56.745607Z",
     "iopub.status.idle": "2024-06-16T09:33:56.864782Z",
     "shell.execute_reply": "2024-06-16T09:33:56.863816Z",
     "shell.execute_reply.started": "2024-06-16T09:33:56.745868Z"
    },
    "trusted": true
   },
   "outputs": [
    {
     "name": "stdout",
     "output_type": "stream",
     "text": [
      "NpzFile '/kaggle/input/asl-citizen/ASL_Citizen/landmarks/landmarks_test.npz' with keys: 1489, 1490, 1491, 1492, 1493...\n"
     ]
    }
   ],
   "source": [
    "if(dataset1000):\n",
    "    npz_landmarks_dir = '/kaggle/input/asl-citizen-landmarks/landmarks/'  # train1000\n",
    "else:\n",
    "    npz_landmarks_dir = '/kaggle/input/asl-citizen/ASL_Citizen/landmarks/'    #train100\n",
    "\n",
    "landmark_train_dict = np.load(\n",
    "    npz_landmarks_dir + 'landmarks_train.npz', allow_pickle=True)\n",
    "\n",
    "landmark_test_dict = np.load(\n",
    "    npz_landmarks_dir + 'landmarks_test.npz', allow_pickle=True)\n",
    "print(landmark_test_dict)\n",
    "landmark_val_dict = np.load(\n",
    "    npz_landmarks_dir + 'landmarks_val.npz', allow_pickle=True)"
   ]
  },
  {
   "cell_type": "code",
   "execution_count": null,
   "metadata": {
    "execution": {
     "iopub.execute_input": "2024-06-16T09:33:56.866450Z",
     "iopub.status.busy": "2024-06-16T09:33:56.865993Z",
     "iopub.status.idle": "2024-06-16T09:33:56.876145Z",
     "shell.execute_reply": "2024-06-16T09:33:56.875148Z",
     "shell.execute_reply.started": "2024-06-16T09:33:56.866414Z"
    },
    "trusted": true
   },
   "outputs": [],
   "source": [
    "def load_data(filtered_labels=None, max_labels=None, landmarks_dict=None):\n",
    "\n",
    "    if filtered_labels is not None:\n",
    "        X = [landmarks_dict[k] for k in landmarks_dict.keys()\n",
    "             if label[int(k)] in filtered_labels]\n",
    "        Y = [labels_concat[int(k)] for k in landmarks_dict.keys()\n",
    "             if labels_concat[int(k)] in filtered_labels]\n",
    "\n",
    "    elif max_labels is not None:\n",
    "        label_counts = {}\n",
    "        for label in labels_concat:\n",
    "            label_counts[label] = label_counts.get(label, 0) + 1 \n",
    "\n",
    "        top_labels = sorted(label_counts, key=label_counts.get, reverse=True)[:max_labels]\n",
    "        X = [landmarks_dict[k] for k in landmarks_dict.keys()\n",
    "             if labels_concat[int(k)] in top_labels]\n",
    "        Y = [labels_concat[int(k)] for k in landmarks_dict.keys() if labels_concat[int(k)] in top_labels]\n",
    "\n",
    "    else:\n",
    "        X = [landmarks_dict[k] for k in landmarks_dict.keys()]\n",
    "        Y = [labels_concat[int(k)] for k in landmarks_dict.keys()]\n",
    "\n",
    "    return X, Y"
   ]
  },
  {
   "cell_type": "code",
   "execution_count": 649,
   "metadata": {
    "execution": {
     "iopub.execute_input": "2024-06-16T09:33:56.877666Z",
     "iopub.status.busy": "2024-06-16T09:33:56.877297Z",
     "iopub.status.idle": "2024-06-16T09:34:03.587236Z",
     "shell.execute_reply": "2024-06-16T09:34:03.586241Z",
     "shell.execute_reply.started": "2024-06-16T09:33:56.877640Z"
    },
    "trusted": true
   },
   "outputs": [],
   "source": [
    "X_train, Y_train = load_data(landmarks_dict=landmark_train_dict)\n",
    "X_val, Y_val = load_data(landmarks_dict=landmark_val_dict)\n",
    "X_test, Y_test = load_data(landmarks_dict=landmark_test_dict)"
   ]
  },
  {
   "cell_type": "code",
   "execution_count": 651,
   "metadata": {
    "execution": {
     "iopub.execute_input": "2024-06-16T09:34:03.604137Z",
     "iopub.status.busy": "2024-06-16T09:34:03.603862Z",
     "iopub.status.idle": "2024-06-16T09:34:03.610150Z",
     "shell.execute_reply": "2024-06-16T09:34:03.609152Z",
     "shell.execute_reply.started": "2024-06-16T09:34:03.604112Z"
    },
    "trusted": true
   },
   "outputs": [
    {
     "data": {
      "text/plain": [
       "(1489, 1258, 387)"
      ]
     },
     "execution_count": 651,
     "metadata": {},
     "output_type": "execute_result"
    }
   ],
   "source": [
    "len(X_train), len(X_test), len(X_val)"
   ]
  },
  {
   "cell_type": "code",
   "execution_count": 652,
   "metadata": {
    "execution": {
     "iopub.execute_input": "2024-06-16T09:34:03.611757Z",
     "iopub.status.busy": "2024-06-16T09:34:03.611325Z",
     "iopub.status.idle": "2024-06-16T09:34:03.619889Z",
     "shell.execute_reply": "2024-06-16T09:34:03.618943Z",
     "shell.execute_reply.started": "2024-06-16T09:34:03.611721Z"
    },
    "trusted": true
   },
   "outputs": [
    {
     "data": {
      "text/plain": [
       "82"
      ]
     },
     "execution_count": 652,
     "metadata": {},
     "output_type": "execute_result"
    }
   ],
   "source": [
    "length = int(sum(len(x) for x in X_train)/len(X_train))\n",
    "length"
   ]
  },
  {
   "cell_type": "markdown",
   "metadata": {},
   "source": [
    "## Landmarks plot"
   ]
  },
  {
   "cell_type": "code",
   "execution_count": 676,
   "metadata": {
    "execution": {
     "iopub.execute_input": "2024-06-16T09:43:24.462288Z",
     "iopub.status.busy": "2024-06-16T09:43:24.462003Z",
     "iopub.status.idle": "2024-06-16T09:43:24.699972Z",
     "shell.execute_reply": "2024-06-16T09:43:24.699086Z",
     "shell.execute_reply.started": "2024-06-16T09:43:24.462263Z"
    },
    "trusted": true
   },
   "outputs": [
    {
     "data": {
      "image/png": "[encoded data removed]",
      "text/plain": [
       "<Figure size 640x480 with 1 Axes>"
      ]
     },
     "metadata": {},
     "output_type": "display_data"
    }
   ],
   "source": [
    "segmente = [(0,1),(1,2),(2,3),(3,4),(0,5),(0,17),(5,6),(6,7),(7,8),(5,9),(9,10),(10,11),(11,12),\n",
    "         (9,13),(13,14),(14,15),(15,16),(13,17),(17,18),(18,19),(19,20)]\n",
    "ld = pd.DataFrame(X_train[72][50][:HAND_NUM])\n",
    "ld = ld.rename(columns={0:'x', 1:'y', 2:'z'})\n",
    "ld['y'] = -ld['y']\n",
    "ld.plot(x='x', y='y', kind='scatter')\n",
    "\n",
    "for seg in segmente:\n",
    "    x_values = [ld.loc[seg[0], 'x'], ld.loc[seg[1], 'x']]\n",
    "    y_values = [ld.loc[seg[0], 'y'], ld.loc[seg[1], 'y']]\n",
    "    plt.plot(x_values, y_values, marker='o', color = 'k')\n",
    "# X_train[0].shape"
   ]
  },
  {
   "cell_type": "code",
   "execution_count": 677,
   "metadata": {
    "execution": {
     "iopub.execute_input": "2024-06-16T09:43:25.187707Z",
     "iopub.status.busy": "2024-06-16T09:43:25.187417Z",
     "iopub.status.idle": "2024-06-16T09:43:25.485742Z",
     "shell.execute_reply": "2024-06-16T09:43:25.484772Z",
     "shell.execute_reply.started": "2024-06-16T09:43:25.187681Z"
    },
    "trusted": true
   },
   "outputs": [
    {
     "data": {
      "image/png": "[encoded data removed]",
      "text/plain": [
       "<Figure size 640x480 with 1 Axes>"
      ]
     },
     "metadata": {},
     "output_type": "display_data"
    }
   ],
   "source": [
    "segmente = [(0,1),(1,2),(2,3),(3,4),(0,5),(0,17),(5,6),(6,7),(7,8),(5,9),(9,10),(10,11),(11,12),\n",
    "         (9,13),(13,14),(14,15),(15,16),(13,17),(17,18),(18,19),(19,20)]\n",
    "ld = pd.DataFrame(X_train[73][50][:HAND_NUM])\n",
    "ld = ld.rename(columns={0:'x', 1:'y', 2:'z'})\n",
    "ld['y'] = -ld['y']\n",
    "ld.plot(x='x', y='y', kind='scatter')\n",
    "\n",
    "for seg in segmente:\n",
    "    x_values = [ld.loc[seg[0], 'x'], ld.loc[seg[1], 'x']]\n",
    "    y_values = [ld.loc[seg[0], 'y'], ld.loc[seg[1], 'y']]\n",
    "    plt.plot(x_values, y_values, marker='o', color = 'k')\n",
    "# X_train[0].shape"
   ]
  },
  {
   "cell_type": "markdown",
   "metadata": {},
   "source": [
    "# Data Augmentation"
   ]
  },
  {
   "cell_type": "code",
   "execution_count": 653,
   "metadata": {
    "execution": {
     "iopub.execute_input": "2024-06-16T09:34:03.622732Z",
     "iopub.status.busy": "2024-06-16T09:34:03.620920Z",
     "iopub.status.idle": "2024-06-16T09:34:03.633819Z",
     "shell.execute_reply": "2024-06-16T09:34:03.632874Z",
     "shell.execute_reply.started": "2024-06-16T09:34:03.622705Z"
    },
    "trusted": true
   },
   "outputs": [],
   "source": [
    "def random_scale(data, scale_range=(0.9, 1.1)):\n",
    "    scale = np.random.uniform(scale_range[0], scale_range[1])\n",
    "    data[:, :, :2] *= scale\n",
    "    return data\n",
    "\n",
    "def random_shift(data, shift_range=(0.1, 0.1)):\n",
    "    shift_x = np.random.uniform(-shift_range[0], shift_range[0])\n",
    "    shift_y = np.random.uniform(-shift_range[1], shift_range[1])\n",
    "    data[:, :, 0] += shift_x\n",
    "    data[:, :, 1] += shift_y\n",
    "    return data\n",
    "\n",
    "def random_rotate(data, angle_range=(-10, 10)):\n",
    "    angle = np.random.uniform(angle_range[0], angle_range[1])\n",
    "    radians = np.deg2rad(angle)\n",
    "    cos_val = np.cos(radians)\n",
    "    sin_val = np.sin(radians)\n",
    "    \n",
    "    x = data[:, :, 0]\n",
    "    y = data[:, :, 1]\n",
    "    \n",
    "    data[:, :, 0] = cos_val * x - sin_val * y\n",
    "    data[:, :, 1] = sin_val * x + cos_val * y\n",
    "    return data\n",
    "\n",
    "def random_shear(data, shear_range=(-10, 10)):\n",
    "    shear = np.random.uniform(shear_range[0], shear_range[1])\n",
    "    shear_radians = np.deg2rad(shear)\n",
    "    \n",
    "    x = data[:, :, 0]\n",
    "    y = data[:, :, 1]\n",
    "    \n",
    "    data[:, :, 0] = x + shear_radians * y\n",
    "    return data"
   ]
  },
  {
   "cell_type": "code",
   "execution_count": 654,
   "metadata": {
    "execution": {
     "iopub.execute_input": "2024-06-16T09:34:03.635288Z",
     "iopub.status.busy": "2024-06-16T09:34:03.634982Z",
     "iopub.status.idle": "2024-06-16T09:34:03.645023Z",
     "shell.execute_reply": "2024-06-16T09:34:03.644222Z",
     "shell.execute_reply.started": "2024-06-16T09:34:03.635263Z"
    },
    "trusted": true
   },
   "outputs": [],
   "source": [
    "def apply_augmentations(data):\n",
    "    aug_functions = [random_scale, random_shift, random_rotate, random_shear]\n",
    "    np.random.shuffle(aug_functions)\n",
    "    for fun in aug_functions:\n",
    "            data = fun(data)\n",
    "\n",
    "    return data"
   ]
  },
  {
   "cell_type": "code",
   "execution_count": 655,
   "metadata": {
    "execution": {
     "iopub.execute_input": "2024-06-16T09:34:03.646320Z",
     "iopub.status.busy": "2024-06-16T09:34:03.646025Z",
     "iopub.status.idle": "2024-06-16T09:34:03.654659Z",
     "shell.execute_reply": "2024-06-16T09:34:03.653787Z",
     "shell.execute_reply.started": "2024-06-16T09:34:03.646286Z"
    },
    "trusted": true
   },
   "outputs": [],
   "source": [
    "def augment(X, Y, num=None):\n",
    "    X_aug = X.copy()\n",
    "    Y_aug = Y.copy()\n",
    "    \n",
    "    if num == None:\n",
    "        for i in tqdm(range(len(Y)), ncols=100):\n",
    "            num_aug = np.random.choice([1, 2, 3])\n",
    "            for n in range(num_aug):\n",
    "                X_aug.append(apply_augmentations(X[i].copy()))\n",
    "                Y_aug.append(Y[i])\n",
    "    elif num > 0:\n",
    "        for i in tqdm(range(len(Y)), ncols=100):\n",
    "            if np.random.rand() < 0.3:\n",
    "                X_aug.append(apply_augmentations(X[i].copy()))\n",
    "                Y_aug.append(Y[i])\n",
    "\n",
    "    return X_aug, Y_aug"
   ]
  },
  {
   "cell_type": "code",
   "execution_count": 656,
   "metadata": {
    "execution": {
     "iopub.execute_input": "2024-06-16T09:34:03.657224Z",
     "iopub.status.busy": "2024-06-16T09:34:03.656866Z",
     "iopub.status.idle": "2024-06-16T09:34:03.928954Z",
     "shell.execute_reply": "2024-06-16T09:34:03.927980Z",
     "shell.execute_reply.started": "2024-06-16T09:34:03.657171Z"
    },
    "trusted": true
   },
   "outputs": [
    {
     "name": "stderr",
     "output_type": "stream",
     "text": [
      "100%|█████████████████████████████████████████████████████████| 1489/1489 [00:00<00:00, 5712.23it/s]\n"
     ]
    }
   ],
   "source": [
    "X_train, Y_train = augment(X_train, Y_train, 1)\n"
   ]
  },
  {
   "cell_type": "code",
   "execution_count": null,
   "metadata": {
    "execution": {
     "iopub.execute_input": "2024-06-16T09:34:03.930655Z",
     "iopub.status.busy": "2024-06-16T09:34:03.930366Z",
     "iopub.status.idle": "2024-06-16T09:34:03.941330Z",
     "shell.execute_reply": "2024-06-16T09:34:03.940398Z",
     "shell.execute_reply.started": "2024-06-16T09:34:03.930629Z"
    },
    "trusted": true
   },
   "outputs": [],
   "source": [
    "def padding(X, Y, length=length, pad=0):\n",
    "    X_padded = []\n",
    "    for x in X:\n",
    "        if len(x) >= 2 * length:  \n",
    "            x = x[::2]  \n",
    "        if len(x) > length:\n",
    "            X_padded.append(x[:length])  # truncate if more than length\n",
    "        else:\n",
    "            pad =  np.expand_dims(x[0], axis=0)\n",
    "            while(len(x) < length):\n",
    "              x = np.concatenate((pad, x), axis = 0)\n",
    "            X_padded.append(x)\n",
    "            \n",
    "    X_padded = np.array(X_padded)\n",
    "    return X_padded, Y\n"
   ]
  },
  {
   "cell_type": "code",
   "execution_count": 658,
   "metadata": {
    "execution": {
     "iopub.execute_input": "2024-06-16T09:34:03.943063Z",
     "iopub.status.busy": "2024-06-16T09:34:03.942650Z",
     "iopub.status.idle": "2024-06-16T09:34:06.862061Z",
     "shell.execute_reply": "2024-06-16T09:34:06.861241Z",
     "shell.execute_reply.started": "2024-06-16T09:34:03.943026Z"
    },
    "trusted": true
   },
   "outputs": [],
   "source": [
    "gc.collect()\n",
    "\n",
    "X_train, Y_train = padding(X_train, Y_train, length=length, pad=0)\n",
    "X_val, Y_val = padding(X_val, Y_val, length=length, pad=0)\n",
    "X_test, Y_test = padding(X_test, Y_test, length=length, pad=0)"
   ]
  },
  {
   "cell_type": "code",
   "execution_count": 659,
   "metadata": {
    "execution": {
     "iopub.execute_input": "2024-06-16T09:34:06.864556Z",
     "iopub.status.busy": "2024-06-16T09:34:06.864262Z",
     "iopub.status.idle": "2024-06-16T09:34:06.870065Z",
     "shell.execute_reply": "2024-06-16T09:34:06.869153Z",
     "shell.execute_reply.started": "2024-06-16T09:34:06.864529Z"
    },
    "trusted": true
   },
   "outputs": [
    {
     "data": {
      "text/plain": [
       "(1932, 82, 124, 3)"
      ]
     },
     "execution_count": 659,
     "metadata": {},
     "output_type": "execute_result"
    }
   ],
   "source": [
    "X_train.shape"
   ]
  },
  {
   "cell_type": "code",
   "execution_count": 660,
   "metadata": {
    "execution": {
     "iopub.execute_input": "2024-06-16T09:34:06.872032Z",
     "iopub.status.busy": "2024-06-16T09:34:06.871370Z",
     "iopub.status.idle": "2024-06-16T09:34:06.883398Z",
     "shell.execute_reply": "2024-06-16T09:34:06.882543Z",
     "shell.execute_reply.started": "2024-06-16T09:34:06.871985Z"
    },
    "trusted": true
   },
   "outputs": [
    {
     "name": "stdout",
     "output_type": "stream",
     "text": [
      "['ACCIDENT' 'AFRICA' 'ALL' 'APPLE' 'BASKETBALL1' 'BED1' 'BEFORE' 'BIRD'\n",
      " 'BIRTHDAY' 'BLACK' 'BLUE' 'BOOK' 'BOWLING1' 'BROWN' 'BUT' 'CAN1' 'CANDY1'\n",
      " 'CHAIR' 'CHANGE' 'CHEAT1' 'CITY1' 'CLOTHES' 'COLOR' 'COMPUTER' 'COOK'\n",
      " 'COOL1' 'CORN1' 'COUSIN' 'COW' 'DANCE' 'DARK1' 'DEAF1' 'DECIDE1'\n",
      " 'DOCTOR1' 'DOG1' 'DRINK1' 'EAT1' 'ENJOY' 'FAMILY' 'FINE1' 'FINISH' 'FISH'\n",
      " 'FULL' 'GIVE' 'GO' 'GRADUATE' 'HAT1' 'HEARING' 'HELP' 'HOT' 'HOW1'\n",
      " 'JACKET1' 'KISS1' 'LANGUAGE' 'LAST' 'LATER' 'LETTER1' 'LIKE' 'MAN' 'MANY'\n",
      " 'MEDICINE' 'MEET' 'MOTHER' 'NEED' 'NO' 'NOW' 'ORANGE' 'PAINT' 'PAPER'\n",
      " 'PINK' 'PIZZA1' 'PLAY' 'PULL' 'PURPLE' 'RIGHT1' 'SAME1' 'SCHOOL'\n",
      " 'SECRETARY' 'SHIRT1' 'SON' 'STUDY' 'TABLE' 'TALL1' 'TELL' 'THANKSGIVING'\n",
      " 'THIN' 'THURSDAY' 'TIME' 'UNIVERSITY' 'WALK1' 'WANT1' 'WATER' 'WHAT1'\n",
      " 'WHITE' 'WHO' 'WOMAN1' 'WORK' 'WRONG' 'YEAR' 'YES']\n"
     ]
    }
   ],
   "source": [
    "labels = np.unique(Y_train)\n",
    "unique_labels = {word: idx for idx, word in enumerate(labels)}\n",
    "print(labels)"
   ]
  },
  {
   "cell_type": "code",
   "execution_count": 661,
   "metadata": {
    "execution": {
     "iopub.execute_input": "2024-06-16T09:34:06.884923Z",
     "iopub.status.busy": "2024-06-16T09:34:06.884578Z",
     "iopub.status.idle": "2024-06-16T09:34:06.891569Z",
     "shell.execute_reply": "2024-06-16T09:34:06.890763Z",
     "shell.execute_reply.started": "2024-06-16T09:34:06.884891Z"
    },
    "trusted": true
   },
   "outputs": [],
   "source": [
    "Y_train = np.array([unique_labels[word] for word in Y_train])\n",
    "Y_val = np.array([unique_labels[word] for word in Y_val])\n",
    "Y_test = np.array([unique_labels[word] for word in Y_test])"
   ]
  },
  {
   "cell_type": "code",
   "execution_count": 662,
   "metadata": {
    "execution": {
     "iopub.execute_input": "2024-06-16T09:34:06.892991Z",
     "iopub.status.busy": "2024-06-16T09:34:06.892697Z",
     "iopub.status.idle": "2024-06-16T09:34:06.902212Z",
     "shell.execute_reply": "2024-06-16T09:34:06.901399Z",
     "shell.execute_reply.started": "2024-06-16T09:34:06.892964Z"
    },
    "trusted": true
   },
   "outputs": [],
   "source": [
    "Y_train = to_categorical(Y_train).astype(int)\n",
    "Y_val = to_categorical(Y_val).astype(int)\n",
    "Y_test = to_categorical(Y_test).astype(int)"
   ]
  },
  {
   "cell_type": "code",
   "execution_count": null,
   "metadata": {
    "execution": {
     "iopub.execute_input": "2024-06-16T09:34:06.910989Z",
     "iopub.status.busy": "2024-06-16T09:34:06.910609Z",
     "iopub.status.idle": "2024-06-16T09:34:06.923263Z",
     "shell.execute_reply": "2024-06-16T09:34:06.922374Z",
     "shell.execute_reply.started": "2024-06-16T09:34:06.910953Z"
    },
    "trusted": true
   },
   "outputs": [],
   "source": [
    "def ploturiSiSave(history, nume):\n",
    "    train_acc = history.history['categorical_accuracy']\n",
    "    val_acc = history.history['val_categorical_accuracy']\n",
    "    train_loss = history.history['loss']\n",
    "    val_loss = history.history['val_loss']\n",
    "\n",
    "    epochs = range(1, len(train_acc) + 1)\n",
    "\n",
    "    step = 3\n",
    "\n",
    "    plt.figure(figsize=(12, 10))\n",
    "\n",
    "    plt.subplot(2, 1, 1)\n",
    "    plt.plot(epochs, train_acc, 'b-', label='Acuratețe antrenare', linewidth=1)\n",
    "    plt.plot(epochs, val_acc, 'r-', label='Acuratețe validare', linewidth=1)\n",
    "    plt.scatter(epochs[::step], train_acc[::step], color='blue', s=30)\n",
    "    plt.scatter(epochs[::step], val_acc[::step], color='red', s=30)\n",
    "    plt.title('Acuratețe antrenare și validare')\n",
    "    plt.xlabel('Epocă')\n",
    "    plt.ylabel('Acuratețe')\n",
    "    plt.legend()\n",
    "\n",
    "    plt.subplot(2, 1, 2)\n",
    "    plt.plot(epochs, train_loss, 'b-', label='Loss antrenare', linewidth=1)\n",
    "    plt.plot(epochs, val_loss, 'r-', label='Loss validare', linewidth=1)\n",
    "    plt.scatter(epochs[::step], train_loss[::step], color='blue', s=30)\n",
    "    plt.scatter(epochs[::step], val_loss[::step], color='red', s=30)\n",
    "    plt.title('Loss antrenare și validare')\n",
    "    plt.xlabel('Epocă')\n",
    "    plt.ylabel('Pierdere')\n",
    "    plt.legend()\n",
    "\n",
    "    plt.tight_layout()\n",
    "    plt.savefig(f'/kaggle/working/{nume}.png')    \n",
    "    plt.show()\n"
   ]
  },
  {
   "cell_type": "markdown",
   "metadata": {},
   "source": [
    "# Transformer model"
   ]
  },
  {
   "cell_type": "code",
   "execution_count": 666,
   "metadata": {
    "execution": {
     "iopub.execute_input": "2024-06-16T09:34:06.936682Z",
     "iopub.status.busy": "2024-06-16T09:34:06.936037Z",
     "iopub.status.idle": "2024-06-16T09:34:06.942996Z",
     "shell.execute_reply": "2024-06-16T09:34:06.941988Z",
     "shell.execute_reply.started": "2024-06-16T09:34:06.936655Z"
    },
    "trusted": true
   },
   "outputs": [],
   "source": [
    "@register_keras_serializable(package=\"Custom\", name=\"MyLayer\")\n",
    "class MyLayer(Layer):\n",
    "    def call(self, x):\n",
    "        return tf.reshape(x, [-1, X_train[0].shape[0], X_train[0].shape[1] * X_train[0].shape[2]])"
   ]
  },
  {
   "cell_type": "code",
   "execution_count": null,
   "metadata": {
    "execution": {
     "iopub.execute_input": "2024-06-16T09:34:06.944448Z",
     "iopub.status.busy": "2024-06-16T09:34:06.944146Z",
     "iopub.status.idle": "2024-06-16T09:34:06.966166Z",
     "shell.execute_reply": "2024-06-16T09:34:06.965332Z",
     "shell.execute_reply.started": "2024-06-16T09:34:06.944424Z"
    },
    "trusted": true
   },
   "outputs": [],
   "source": [
    "@register_keras_serializable(package=\"Custom\", name=\"ECA\")\n",
    "class ECA(tf.keras.layers.Layer):\n",
    "    def __init__(self, kernel_size=5, **kwargs):\n",
    "        super().__init__(**kwargs)\n",
    "        self.supports_masking = True\n",
    "        self.kernel_size = kernel_size\n",
    "        self.conv = tf.keras.layers.Conv1D(1, kernel_size=kernel_size, strides=1, padding=\"same\", use_bias=False)\n",
    "\n",
    "    def call(self, inputs, mask=None):\n",
    "        nn = tf.keras.layers.GlobalAveragePooling1D()(inputs, mask=mask)\n",
    "        nn = tf.expand_dims(nn, -1)\n",
    "        nn = self.conv(nn)\n",
    "        nn = tf.squeeze(nn, -1)\n",
    "        nn = tf.nn.sigmoid(nn)\n",
    "        nn = nn[:,None,:]\n",
    "        return inputs * nn\n",
    "\n",
    "class LateDropout(tf.keras.layers.Layer):\n",
    "    def __init__(self, rate, noise_shape=None, start_step=0, **kwargs):\n",
    "        super().__init__(**kwargs)\n",
    "        self.supports_masking = True\n",
    "        self.rate = rate\n",
    "        self.start_step = start_step\n",
    "        self.dropout = tf.keras.layers.Dropout(rate, noise_shape=noise_shape)\n",
    "      \n",
    "    def build(self, input_shape):\n",
    "        super().build(input_shape)\n",
    "        agg = tf.VariableAggregation.ONLY_FIRST_REPLICA\n",
    "        self._train_counter = tf.Variable(0, dtype=\"int64\", aggregation=agg, trainable=False)\n",
    "\n",
    "    def call(self, inputs, training=False):\n",
    "        x = tf.cond(self._train_counter < self.start_step, lambda:inputs, lambda:self.dropout(inputs, training=training))\n",
    "        if training:\n",
    "            self._train_counter.assign_add(1)\n",
    "        return x\n",
    "\n",
    "@register_keras_serializable(package=\"Custom\", name=\"CausalDWConv1D\")\n",
    "class CausalDWConv1D(tf.keras.layers.Layer):\n",
    "    def __init__(self, \n",
    "        kernel_size=17,\n",
    "        dilation_rate=1,\n",
    "        use_bias=False,\n",
    "        depthwise_initializer='glorot_uniform',\n",
    "        name='', **kwargs):\n",
    "        super().__init__(name=name,**kwargs)\n",
    "        self.causal_pad = tf.keras.layers.ZeroPadding1D((dilation_rate*(kernel_size-1),0),name=name + '_pad')\n",
    "        self.dw_conv = tf.keras.layers.DepthwiseConv1D(\n",
    "                            kernel_size,\n",
    "                            strides=1,\n",
    "                            dilation_rate=dilation_rate,\n",
    "                            padding='valid',\n",
    "                            use_bias=use_bias,\n",
    "                            depthwise_initializer=depthwise_initializer,\n",
    "                            name=name + '_dwconv')\n",
    "        self.supports_masking = True\n",
    "        \n",
    "    def call(self, inputs):\n",
    "        x = self.causal_pad(inputs)\n",
    "        x = self.dw_conv(x)\n",
    "        return x\n",
    "\n",
    "def Conv1DBlock(channel_size,\n",
    "          kernel_size,\n",
    "          dilation_rate=1,\n",
    "          drop_rate=0.0,\n",
    "          expand_ratio=2,\n",
    "          se_ratio=0.25,\n",
    "          activation='swish',\n",
    "          name=None):\n",
    "\n",
    "    if name is None:\n",
    "        name = str(tf.keras.backend.get_uid(\"mbblock\"))\n",
    "\n",
    "    def apply(inputs):\n",
    "        channels_in = tf.keras.backend.int_shape(inputs)[-1]\n",
    "        channels_expand = channels_in * expand_ratio\n",
    "\n",
    "        skip = inputs\n",
    "\n",
    "        x = tf.keras.layers.Dense(\n",
    "            channels_expand,\n",
    "            use_bias=True,\n",
    "            activation=activation,\n",
    "            name=name + '_expand_conv')(inputs)\n",
    "\n",
    "        x = CausalDWConv1D(kernel_size,\n",
    "            dilation_rate=dilation_rate,\n",
    "            use_bias=False,\n",
    "            name=name + '_dwconv')(x)\n",
    "\n",
    "        x = tf.keras.layers.BatchNormalization(momentum=0.95, name=name + '_bn')(x)\n",
    "\n",
    "        x  = ECA()(x)\n",
    "\n",
    "        x = tf.keras.layers.Dense(\n",
    "            channel_size,\n",
    "            use_bias=True,\n",
    "            name=name + '_project_conv')(x)\n",
    "\n",
    "        if drop_rate > 0:\n",
    "            x = tf.keras.layers.Dropout(drop_rate, noise_shape=(None,1,1), name=name + '_drop')(x)\n",
    "\n",
    "        if (channels_in == channel_size):\n",
    "            x = tf.keras.layers.add([x, skip], name=name + '_add')\n",
    "        return x\n",
    "\n",
    "    return apply"
   ]
  },
  {
   "cell_type": "code",
   "execution_count": 668,
   "metadata": {
    "execution": {
     "iopub.execute_input": "2024-06-16T09:34:06.967732Z",
     "iopub.status.busy": "2024-06-16T09:34:06.967459Z",
     "iopub.status.idle": "2024-06-16T09:34:06.983675Z",
     "shell.execute_reply": "2024-06-16T09:34:06.982808Z",
     "shell.execute_reply.started": "2024-06-16T09:34:06.967708Z"
    },
    "trusted": true
   },
   "outputs": [],
   "source": [
    "@register_keras_serializable(package=\"Custom\", name=\"MultiHeadSelfAttention\")\n",
    "class MultiHeadSelfAttention(tf.keras.layers.Layer):\n",
    "    def __init__(self, dim=256, num_heads=4, dropout=0, **kwargs):\n",
    "        super().__init__(**kwargs)\n",
    "        self.dim = dim\n",
    "        self.scale = self.dim ** -0.5\n",
    "        self.num_heads = num_heads\n",
    "        self.qkv = tf.keras.layers.Dense(3 * dim, use_bias=False)\n",
    "        self.drop1 = tf.keras.layers.Dropout(dropout)\n",
    "        self.proj = tf.keras.layers.Dense(dim, use_bias=False)\n",
    "        self.supports_masking = True\n",
    "\n",
    "    def call(self, inputs, mask=None):\n",
    "        qkv = self.qkv(inputs)\n",
    "        qkv = tf.keras.layers.Permute((2, 1, 3))(tf.keras.layers.Reshape((-1, self.num_heads, self.dim * 3 // self.num_heads))(qkv))\n",
    "        q, k, v = tf.split(qkv, [self.dim // self.num_heads] * 3, axis=-1)\n",
    "\n",
    "        attn = tf.matmul(q, k, transpose_b=True) * self.scale\n",
    "\n",
    "        if mask is not None:\n",
    "            mask = mask[:, None, None, :]\n",
    "\n",
    "        attn = tf.keras.layers.Softmax(axis=-1)(attn, mask=mask)\n",
    "        attn = self.drop1(attn)\n",
    "\n",
    "        x = attn @ v\n",
    "        x = tf.keras.layers.Reshape((-1, self.dim))(tf.keras.layers.Permute((2, 1, 3))(x))\n",
    "        x = self.proj(x)\n",
    "        return x\n",
    "\n",
    "\n",
    "def TransformerBlock(dim=256, num_heads=4, expand=4, attn_dropout=0.2, drop_rate=0.2, activation='swish'):\n",
    "    def apply(inputs):\n",
    "        x = inputs\n",
    "        x = tf.keras.layers.BatchNormalization(momentum=0.95)(x)\n",
    "        x = MultiHeadSelfAttention(dim=dim,num_heads=num_heads,dropout=attn_dropout)(x)\n",
    "        x = tf.keras.layers.Dropout(drop_rate, noise_shape=(None,1,1))(x)\n",
    "        x = tf.keras.layers.Add()([inputs, x])\n",
    "        attn_out = x\n",
    "\n",
    "        x = tf.keras.layers.BatchNormalization(momentum=0.95)(x)\n",
    "        x = tf.keras.layers.Dense(dim*expand, use_bias=False, activation=activation)(x)\n",
    "        x = tf.keras.layers.Dense(dim, use_bias=False)(x)\n",
    "        x = tf.keras.layers.Dropout(drop_rate, noise_shape=(None,1,1))(x)\n",
    "        x = tf.keras.layers.Add()([attn_out, x])\n",
    "        return x\n",
    "    return apply"
   ]
  },
  {
   "cell_type": "code",
   "execution_count": null,
   "metadata": {
    "execution": {
     "iopub.execute_input": "2024-06-16T09:34:06.985083Z",
     "iopub.status.busy": "2024-06-16T09:34:06.984762Z",
     "iopub.status.idle": "2024-06-16T09:34:06.996135Z",
     "shell.execute_reply": "2024-06-16T09:34:06.995405Z",
     "shell.execute_reply.started": "2024-06-16T09:34:06.985051Z"
    },
    "trusted": true
   },
   "outputs": [],
   "source": [
    "def get_model(max_len=length, dropout_step=0, dim=192):\n",
    "    inp = tf.keras.layers.Input(X_train[0].shape, name='input')\n",
    "    x = inp\n",
    "    x = MyLayer()(x)\n",
    "\n",
    "    ksize = 17\n",
    "    x = tf.keras.layers.Dense(dim, use_bias=False,name='stem_conv')(x)\n",
    "    x = tf.keras.layers.BatchNormalization(momentum=0.95,name='stem_bn')(x)\n",
    "\n",
    "    x = Conv1DBlock(dim,ksize,drop_rate=0.2)(x)\n",
    "    x = Conv1DBlock(dim,ksize,drop_rate=0.2)(x)\n",
    "    x = Conv1DBlock(dim,ksize,drop_rate=0.2)(x)\n",
    "    x = TransformerBlock(dim,expand=2)(x)\n",
    "\n",
    "    x = Conv1DBlock(dim,ksize,drop_rate=0.2)(x)\n",
    "    x = Conv1DBlock(dim,ksize,drop_rate=0.2)(x)\n",
    "    x = Conv1DBlock(dim,ksize,drop_rate=0.2)(x)\n",
    "    x = TransformerBlock(dim,expand=2)(x)\n",
    "\n",
    "    x = tf.keras.layers.Dense(dim*2,activation=None,name='top_conv')(x)\n",
    "    x = tf.keras.layers.GlobalAveragePooling1D()(x)\n",
    "    x = Dropout(0.8)(x)    \n",
    "\n",
    "    outputs = Dense(NUM_CLASSES, activation='softmax')(x)\n",
    "    model = tf.keras.models.Model(inputs=inp, outputs=outputs) \n",
    "\n",
    "    return model"
   ]
  },
  {
   "cell_type": "code",
   "execution_count": null,
   "metadata": {
    "execution": {
     "iopub.execute_input": "2024-06-16T09:34:06.997332Z",
     "iopub.status.busy": "2024-06-16T09:34:06.997054Z",
     "iopub.status.idle": "2024-06-16T09:34:07.816931Z",
     "shell.execute_reply": "2024-06-16T09:34:07.816120Z",
     "shell.execute_reply.started": "2024-06-16T09:34:06.997307Z"
    },
    "trusted": true
   },
   "outputs": [],
   "source": [
    "model = get_model(length)\n",
    "lr_scheduler = tf.keras.callbacks.LearningRateScheduler(lambda epoch, lr: float(lr * tf.math.exp(-0.1)) if epoch >= 50 else float(lr))\n",
    "\n",
    "initial_learning_rate = 1e-3\n",
    "model.compile(\n",
    "    loss=tf.keras.losses.CategoricalCrossentropy(label_smoothing=0.1),\n",
    "    optimizer=tf.keras.optimizers.AdamW(learning_rate=1e-3, weight_decay=1e-5, clipnorm=1.0),\n",
    "    metrics=[tf.keras.metrics.CategoricalAccuracy(), tf.keras.metrics.TopKCategoricalAccuracy(k=5, name=f'top{5}', dtype=None)]\n",
    ")\n",
    "\n",
    "checkpoint = tf.keras.callbacks.ModelCheckpoint('best_model_transformer.keras', monitor='val_categorical_accuracy', save_best_only=True, mode='max', verbose=1)\n",
    "lr_scheduler = tf.keras.callbacks.LearningRateScheduler(lambda epoch, lr: float(lr * tf.math.exp(-0.1)) if epoch >= 50 else float(initial_learning_rate))\n",
    "callbacks_list = [checkpoint, lr_scheduler]"
   ]
  },
  {
   "cell_type": "code",
   "execution_count": null,
   "metadata": {
    "execution": {
     "iopub.execute_input": "2024-06-16T09:34:07.818326Z",
     "iopub.status.busy": "2024-06-16T09:34:07.818024Z",
     "iopub.status.idle": "2024-06-16T09:38:25.525596Z",
     "shell.execute_reply": "2024-06-16T09:38:25.524630Z",
     "shell.execute_reply.started": "2024-06-16T09:34:07.818298Z"
    },
    "scrolled": true,
    "trusted": true
   },
   "outputs": [
    {
     "name": "stdout",
     "output_type": "stream",
     "text": [
      "Epoch 1/100\n",
      "\u001b[1m 2/31\u001b[0m \u001b[32m━\u001b[0m\u001b[37m━━━━━━━━━━━━━━━━━━━\u001b[0m \u001b[1m2s\u001b[0m 77ms/step - categorical_accuracy: 0.0039 - loss: 8.6824 - top5: 0.0312      "
     ]
    },
    {
     "name": "stderr",
     "output_type": "stream",
     "text": [
      "W0000 00:00:1718530490.171052     143 graph_launch.cc:671] Fallback to op-by-op mode because memset node breaks graph update\n",
      "W0000 00:00:1718530490.175361     143 graph_launch.cc:671] Fallback to op-by-op mode because memset node breaks graph update\n",
      "W0000 00:00:1718530490.177683     143 graph_launch.cc:671] Fallback to op-by-op mode because memset node breaks graph update\n",
      "W0000 00:00:1718530490.178997     143 graph_launch.cc:671] Fallback to op-by-op mode because memset node breaks graph update\n",
      "W0000 00:00:1718530490.180485     143 graph_launch.cc:671] Fallback to op-by-op mode because memset node breaks graph update\n",
      "W0000 00:00:1718530490.182076     143 graph_launch.cc:671] Fallback to op-by-op mode because memset node breaks graph update\n",
      "W0000 00:00:1718530490.183426     143 graph_launch.cc:671] Fallback to op-by-op mode because memset node breaks graph update\n",
      "W0000 00:00:1718530490.184766     143 graph_launch.cc:671] Fallback to op-by-op mode because memset node breaks graph update\n"
     ]
    },
    {
     "name": "stdout",
     "output_type": "stream",
     "text": [
      "\u001b[1m31/31\u001b[0m \u001b[32m━━━━━━━━━━━━━━━━━━━━\u001b[0m\u001b[37m\u001b[0m \u001b[1m0s\u001b[0m 1s/step - categorical_accuracy: 0.0122 - loss: 7.6351 - top5: 0.0616  "
     ]
    },
    {
     "name": "stderr",
     "output_type": "stream",
     "text": [
      "W0000 00:00:1718530527.860060     142 graph_launch.cc:671] Fallback to op-by-op mode because memset node breaks graph update\n",
      "W0000 00:00:1718530527.861651     142 graph_launch.cc:671] Fallback to op-by-op mode because memset node breaks graph update\n",
      "W0000 00:00:1718530527.862276     142 graph_launch.cc:671] Fallback to op-by-op mode because memset node breaks graph update\n",
      "W0000 00:00:1718530527.862999     142 graph_launch.cc:671] Fallback to op-by-op mode because memset node breaks graph update\n",
      "W0000 00:00:1718530527.863817     142 graph_launch.cc:671] Fallback to op-by-op mode because memset node breaks graph update\n",
      "W0000 00:00:1718530527.864480     142 graph_launch.cc:671] Fallback to op-by-op mode because memset node breaks graph update\n",
      "W0000 00:00:1718530527.865467     142 graph_launch.cc:671] Fallback to op-by-op mode because memset node breaks graph update\n",
      "W0000 00:00:1718530527.867477     142 graph_launch.cc:671] Fallback to op-by-op mode because memset node breaks graph update\n",
      "W0000 00:00:1718530527.868762     142 graph_launch.cc:671] Fallback to op-by-op mode because memset node breaks graph update\n",
      "W0000 00:00:1718530527.870161     142 graph_launch.cc:671] Fallback to op-by-op mode because memset node breaks graph update\n",
      "W0000 00:00:1718530527.871706     142 graph_launch.cc:671] Fallback to op-by-op mode because memset node breaks graph update\n",
      "W0000 00:00:1718530527.872979     142 graph_launch.cc:671] Fallback to op-by-op mode because memset node breaks graph update\n",
      "W0000 00:00:1718530529.911806     140 graph_launch.cc:671] Fallback to op-by-op mode because memset node breaks graph update\n"
     ]
    },
    {
     "name": "stdout",
     "output_type": "stream",
     "text": [
      "\n",
      "Epoch 1: val_categorical_accuracy improved from -inf to 0.01809, saving model to best_model_transformer.keras\n",
      "\u001b[1m31/31\u001b[0m \u001b[32m━━━━━━━━━━━━━━━━━━━━\u001b[0m\u001b[37m\u001b[0m \u001b[1m83s\u001b[0m 1s/step - categorical_accuracy: 0.0124 - loss: 7.6101 - top5: 0.0622 - val_categorical_accuracy: 0.0181 - val_loss: 4.5640 - val_top5: 0.0879 - learning_rate: 0.0010\n",
      "Epoch 2/100\n",
      "\u001b[1m30/31\u001b[0m \u001b[32m━━━━━━━━━━━━━━━━━━━\u001b[0m\u001b[37m━\u001b[0m \u001b[1m0s\u001b[0m 53ms/step - categorical_accuracy: 0.0318 - loss: 5.4426 - top5: 0.1082\n",
      "Epoch 2: val_categorical_accuracy improved from 0.01809 to 0.05943, saving model to best_model_transformer.keras\n",
      "\u001b[1m31/31\u001b[0m \u001b[32m━━━━━━━━━━━━━━━━━━━━\u001b[0m\u001b[37m\u001b[0m \u001b[1m2s\u001b[0m 65ms/step - categorical_accuracy: 0.0322 - loss: 5.4291 - top5: 0.1091 - val_categorical_accuracy: 0.0594 - val_loss: 4.4154 - val_top5: 0.2171 - learning_rate: 0.0010\n",
      "Epoch 3/100\n",
      "\u001b[1m30/31\u001b[0m \u001b[32m━━━━━━━━━━━━━━━━━━━\u001b[0m\u001b[37m━\u001b[0m \u001b[1m0s\u001b[0m 51ms/step - categorical_accuracy: 0.0592 - loss: 4.8035 - top5: 0.1956\n",
      "Epoch 3: val_categorical_accuracy improved from 0.05943 to 0.17313, saving model to best_model_transformer.keras\n",
      "\u001b[1m31/31\u001b[0m \u001b[32m━━━━━━━━━━━━━━━━━━━━\u001b[0m\u001b[37m\u001b[0m \u001b[1m2s\u001b[0m 63ms/step - categorical_accuracy: 0.0598 - loss: 4.7954 - top5: 0.1964 - val_categorical_accuracy: 0.1731 - val_loss: 3.9927 - val_top5: 0.3850 - learning_rate: 0.0010\n",
      "Epoch 4/100\n",
      "\u001b[1m30/31\u001b[0m \u001b[32m━━━━━━━━━━━━━━━━━━━\u001b[0m\u001b[37m━\u001b[0m \u001b[1m0s\u001b[0m 51ms/step - categorical_accuracy: 0.1035 - loss: 4.3681 - top5: 0.2966\n",
      "Epoch 4: val_categorical_accuracy improved from 0.17313 to 0.21189, saving model to best_model_transformer.keras\n",
      "\u001b[1m31/31\u001b[0m \u001b[32m━━━━━━━━━━━━━━━━━━━━\u001b[0m\u001b[37m\u001b[0m \u001b[1m2s\u001b[0m 62ms/step - categorical_accuracy: 0.1042 - loss: 4.3619 - top5: 0.2973 - val_categorical_accuracy: 0.2119 - val_loss: 3.5615 - val_top5: 0.5090 - learning_rate: 0.0010\n",
      "Epoch 5/100\n",
      "\u001b[1m31/31\u001b[0m \u001b[32m━━━━━━━━━━━━━━━━━━━━\u001b[0m\u001b[37m\u001b[0m \u001b[1m0s\u001b[0m 50ms/step - categorical_accuracy: 0.1410 - loss: 4.0604 - top5: 0.3581\n",
      "Epoch 5: val_categorical_accuracy improved from 0.21189 to 0.28424, saving model to best_model_transformer.keras\n",
      "\u001b[1m31/31\u001b[0m \u001b[32m━━━━━━━━━━━━━━━━━━━━\u001b[0m\u001b[37m\u001b[0m \u001b[1m2s\u001b[0m 62ms/step - categorical_accuracy: 0.1412 - loss: 4.0585 - top5: 0.3584 - val_categorical_accuracy: 0.2842 - val_loss: 3.2756 - val_top5: 0.5788 - learning_rate: 0.0010\n",
      "Epoch 6/100\n",
      "\u001b[1m30/31\u001b[0m \u001b[32m━━━━━━━━━━━━━━━━━━━\u001b[0m\u001b[37m━\u001b[0m \u001b[1m0s\u001b[0m 51ms/step - categorical_accuracy: 0.1691 - loss: 3.8466 - top5: 0.4475\n",
      "Epoch 6: val_categorical_accuracy improved from 0.28424 to 0.32817, saving model to best_model_transformer.keras\n",
      "\u001b[1m31/31\u001b[0m \u001b[32m━━━━━━━━━━━━━━━━━━━━\u001b[0m\u001b[37m\u001b[0m \u001b[1m2s\u001b[0m 63ms/step - categorical_accuracy: 0.1699 - loss: 3.8413 - top5: 0.4480 - val_categorical_accuracy: 0.3282 - val_loss: 3.0574 - val_top5: 0.6796 - learning_rate: 0.0010\n",
      "Epoch 7/100\n",
      "\u001b[1m30/31\u001b[0m \u001b[32m━━━━━━━━━━━━━━━━━━━\u001b[0m\u001b[37m━\u001b[0m \u001b[1m0s\u001b[0m 51ms/step - categorical_accuracy: 0.2268 - loss: 3.6025 - top5: 0.5057\n",
      "Epoch 7: val_categorical_accuracy improved from 0.32817 to 0.43152, saving model to best_model_transformer.keras\n",
      "\u001b[1m31/31\u001b[0m \u001b[32m━━━━━━━━━━━━━━━━━━━━\u001b[0m\u001b[37m\u001b[0m \u001b[1m2s\u001b[0m 63ms/step - categorical_accuracy: 0.2268 - loss: 3.5991 - top5: 0.5063 - val_categorical_accuracy: 0.4315 - val_loss: 2.8354 - val_top5: 0.7313 - learning_rate: 0.0010\n",
      "Epoch 8/100\n",
      "\u001b[1m31/31\u001b[0m \u001b[32m━━━━━━━━━━━━━━━━━━━━\u001b[0m\u001b[37m\u001b[0m \u001b[1m0s\u001b[0m 51ms/step - categorical_accuracy: 0.2731 - loss: 3.4067 - top5: 0.5631\n",
      "Epoch 8: val_categorical_accuracy improved from 0.43152 to 0.45478, saving model to best_model_transformer.keras\n",
      "\u001b[1m31/31\u001b[0m \u001b[32m━━━━━━━━━━━━━━━━━━━━\u001b[0m\u001b[37m\u001b[0m \u001b[1m2s\u001b[0m 64ms/step - categorical_accuracy: 0.2735 - loss: 3.4041 - top5: 0.5640 - val_categorical_accuracy: 0.4548 - val_loss: 2.7541 - val_top5: 0.7571 - learning_rate: 0.0010\n",
      "Epoch 9/100\n",
      "\u001b[1m30/31\u001b[0m \u001b[32m━━━━━━━━━━━━━━━━━━━\u001b[0m\u001b[37m━\u001b[0m \u001b[1m0s\u001b[0m 51ms/step - categorical_accuracy: 0.3141 - loss: 3.2017 - top5: 0.6196\n",
      "Epoch 9: val_categorical_accuracy improved from 0.45478 to 0.50904, saving model to best_model_transformer.keras\n",
      "\u001b[1m31/31\u001b[0m \u001b[32m━━━━━━━━━━━━━━━━━━━━\u001b[0m\u001b[37m\u001b[0m \u001b[1m2s\u001b[0m 63ms/step - categorical_accuracy: 0.3156 - loss: 3.1964 - top5: 0.6214 - val_categorical_accuracy: 0.5090 - val_loss: 2.5467 - val_top5: 0.8062 - learning_rate: 0.0010\n",
      "Epoch 10/100\n",
      "\u001b[1m31/31\u001b[0m \u001b[32m━━━━━━━━━━━━━━━━━━━━\u001b[0m\u001b[37m\u001b[0m \u001b[1m0s\u001b[0m 50ms/step - categorical_accuracy: 0.3398 - loss: 3.0301 - top5: 0.6689\n",
      "Epoch 10: val_categorical_accuracy improved from 0.50904 to 0.55556, saving model to best_model_transformer.keras\n",
      "\u001b[1m31/31\u001b[0m \u001b[32m━━━━━━━━━━━━━━━━━━━━\u001b[0m\u001b[37m\u001b[0m \u001b[1m2s\u001b[0m 63ms/step - categorical_accuracy: 0.3403 - loss: 3.0285 - top5: 0.6695 - val_categorical_accuracy: 0.5556 - val_loss: 2.4138 - val_top5: 0.8424 - learning_rate: 0.0010\n",
      "Epoch 11/100\n",
      "\u001b[1m30/31\u001b[0m \u001b[32m━━━━━━━━━━━━━━━━━━━\u001b[0m\u001b[37m━\u001b[0m \u001b[1m0s\u001b[0m 51ms/step - categorical_accuracy: 0.4015 - loss: 2.8594 - top5: 0.7217\n",
      "Epoch 11: val_categorical_accuracy improved from 0.55556 to 0.58398, saving model to best_model_transformer.keras\n",
      "\u001b[1m31/31\u001b[0m \u001b[32m━━━━━━━━━━━━━━━━━━━━\u001b[0m\u001b[37m\u001b[0m \u001b[1m2s\u001b[0m 63ms/step - categorical_accuracy: 0.4021 - loss: 2.8568 - top5: 0.7225 - val_categorical_accuracy: 0.5840 - val_loss: 2.3313 - val_top5: 0.8553 - learning_rate: 0.0010\n",
      "Epoch 12/100\n",
      "\u001b[1m30/31\u001b[0m \u001b[32m━━━━━━━━━━━━━━━━━━━\u001b[0m\u001b[37m━\u001b[0m \u001b[1m0s\u001b[0m 51ms/step - categorical_accuracy: 0.4640 - loss: 2.6957 - top5: 0.7632\n",
      "Epoch 12: val_categorical_accuracy improved from 0.58398 to 0.59690, saving model to best_model_transformer.keras\n",
      "\u001b[1m31/31\u001b[0m \u001b[32m━━━━━━━━━━━━━━━━━━━━\u001b[0m\u001b[37m\u001b[0m \u001b[1m2s\u001b[0m 63ms/step - categorical_accuracy: 0.4639 - loss: 2.6936 - top5: 0.7642 - val_categorical_accuracy: 0.5969 - val_loss: 2.2608 - val_top5: 0.8424 - learning_rate: 0.0010\n",
      "Epoch 13/100\n",
      "\u001b[1m30/31\u001b[0m \u001b[32m━━━━━━━━━━━━━━━━━━━\u001b[0m\u001b[37m━\u001b[0m \u001b[1m0s\u001b[0m 51ms/step - categorical_accuracy: 0.4865 - loss: 2.5565 - top5: 0.7981\n",
      "Epoch 13: val_categorical_accuracy improved from 0.59690 to 0.60724, saving model to best_model_transformer.keras\n",
      "\u001b[1m31/31\u001b[0m \u001b[32m━━━━━━━━━━━━━━━━━━━━\u001b[0m\u001b[37m\u001b[0m \u001b[1m2s\u001b[0m 63ms/step - categorical_accuracy: 0.4866 - loss: 2.5566 - top5: 0.7984 - val_categorical_accuracy: 0.6072 - val_loss: 2.2165 - val_top5: 0.8656 - learning_rate: 0.0010\n",
      "Epoch 14/100\n",
      "\u001b[1m30/31\u001b[0m \u001b[32m━━━━━━━━━━━━━━━━━━━\u001b[0m\u001b[37m━\u001b[0m \u001b[1m0s\u001b[0m 51ms/step - categorical_accuracy: 0.4908 - loss: 2.5207 - top5: 0.8091\n",
      "Epoch 14: val_categorical_accuracy improved from 0.60724 to 0.64858, saving model to best_model_transformer.keras\n",
      "\u001b[1m31/31\u001b[0m \u001b[32m━━━━━━━━━━━━━━━━━━━━\u001b[0m\u001b[37m\u001b[0m \u001b[1m2s\u001b[0m 62ms/step - categorical_accuracy: 0.4921 - loss: 2.5179 - top5: 0.8099 - val_categorical_accuracy: 0.6486 - val_loss: 2.0969 - val_top5: 0.8837 - learning_rate: 0.0010\n",
      "Epoch 15/100\n",
      "\u001b[1m30/31\u001b[0m \u001b[32m━━━━━━━━━━━━━━━━━━━\u001b[0m\u001b[37m━\u001b[0m \u001b[1m0s\u001b[0m 51ms/step - categorical_accuracy: 0.5311 - loss: 2.3902 - top5: 0.8464\n",
      "Epoch 15: val_categorical_accuracy improved from 0.64858 to 0.66925, saving model to best_model_transformer.keras\n",
      "\u001b[1m31/31\u001b[0m \u001b[32m━━━━━━━━━━━━━━━━━━━━\u001b[0m\u001b[37m\u001b[0m \u001b[1m2s\u001b[0m 63ms/step - categorical_accuracy: 0.5326 - loss: 2.3874 - top5: 0.8473 - val_categorical_accuracy: 0.6693 - val_loss: 1.9941 - val_top5: 0.9070 - learning_rate: 0.0010\n",
      "Epoch 16/100\n",
      "\u001b[1m30/31\u001b[0m \u001b[32m━━━━━━━━━━━━━━━━━━━\u001b[0m\u001b[37m━\u001b[0m \u001b[1m0s\u001b[0m 51ms/step - categorical_accuracy: 0.5962 - loss: 2.2460 - top5: 0.8886\n",
      "Epoch 16: val_categorical_accuracy improved from 0.66925 to 0.67183, saving model to best_model_transformer.keras\n",
      "\u001b[1m31/31\u001b[0m \u001b[32m━━━━━━━━━━━━━━━━━━━━\u001b[0m\u001b[37m\u001b[0m \u001b[1m2s\u001b[0m 62ms/step - categorical_accuracy: 0.5965 - loss: 2.2456 - top5: 0.8883 - val_categorical_accuracy: 0.6718 - val_loss: 1.9370 - val_top5: 0.9173 - learning_rate: 0.0010\n",
      "Epoch 17/100\n",
      "\u001b[1m30/31\u001b[0m \u001b[32m━━━━━━━━━━━━━━━━━━━\u001b[0m\u001b[37m━\u001b[0m \u001b[1m0s\u001b[0m 51ms/step - categorical_accuracy: 0.5820 - loss: 2.2835 - top5: 0.8740\n",
      "Epoch 17: val_categorical_accuracy did not improve from 0.67183\n",
      "\u001b[1m31/31\u001b[0m \u001b[32m━━━━━━━━━━━━━━━━━━━━\u001b[0m\u001b[37m\u001b[0m \u001b[1m2s\u001b[0m 53ms/step - categorical_accuracy: 0.5831 - loss: 2.2800 - top5: 0.8743 - val_categorical_accuracy: 0.6408 - val_loss: 2.0146 - val_top5: 0.8992 - learning_rate: 0.0010\n",
      "Epoch 18/100\n",
      "\u001b[1m30/31\u001b[0m \u001b[32m━━━━━━━━━━━━━━━━━━━\u001b[0m\u001b[37m━\u001b[0m \u001b[1m0s\u001b[0m 51ms/step - categorical_accuracy: 0.6519 - loss: 2.1382 - top5: 0.8848\n",
      "Epoch 18: val_categorical_accuracy improved from 0.67183 to 0.71835, saving model to best_model_transformer.keras\n",
      "\u001b[1m31/31\u001b[0m \u001b[32m━━━━━━━━━━━━━━━━━━━━\u001b[0m\u001b[37m\u001b[0m \u001b[1m2s\u001b[0m 62ms/step - categorical_accuracy: 0.6524 - loss: 2.1355 - top5: 0.8854 - val_categorical_accuracy: 0.7183 - val_loss: 1.8418 - val_top5: 0.9457 - learning_rate: 0.0010\n",
      "Epoch 19/100\n",
      "\u001b[1m30/31\u001b[0m \u001b[32m━━━━━━━━━━━━━━━━━━━\u001b[0m\u001b[37m━\u001b[0m \u001b[1m0s\u001b[0m 51ms/step - categorical_accuracy: 0.6884 - loss: 2.0041 - top5: 0.9150\n",
      "Epoch 19: val_categorical_accuracy improved from 0.71835 to 0.72351, saving model to best_model_transformer.keras\n",
      "\u001b[1m31/31\u001b[0m \u001b[32m━━━━━━━━━━━━━━━━━━━━\u001b[0m\u001b[37m\u001b[0m \u001b[1m2s\u001b[0m 62ms/step - categorical_accuracy: 0.6882 - loss: 2.0041 - top5: 0.9152 - val_categorical_accuracy: 0.7235 - val_loss: 1.8302 - val_top5: 0.9457 - learning_rate: 0.0010\n",
      "Epoch 20/100\n",
      "\u001b[1m30/31\u001b[0m \u001b[32m━━━━━━━━━━━━━━━━━━━\u001b[0m\u001b[37m━\u001b[0m \u001b[1m0s\u001b[0m 50ms/step - categorical_accuracy: 0.6631 - loss: 2.0065 - top5: 0.9328\n",
      "Epoch 20: val_categorical_accuracy improved from 0.72351 to 0.74935, saving model to best_model_transformer.keras\n",
      "\u001b[1m31/31\u001b[0m \u001b[32m━━━━━━━━━━━━━━━━━━━━\u001b[0m\u001b[37m\u001b[0m \u001b[1m2s\u001b[0m 62ms/step - categorical_accuracy: 0.6648 - loss: 2.0045 - top5: 0.9325 - val_categorical_accuracy: 0.7494 - val_loss: 1.7773 - val_top5: 0.9354 - learning_rate: 0.0010\n",
      "Epoch 21/100\n",
      "\u001b[1m30/31\u001b[0m \u001b[32m━━━━━━━━━━━━━━━━━━━\u001b[0m\u001b[37m━\u001b[0m \u001b[1m0s\u001b[0m 50ms/step - categorical_accuracy: 0.7133 - loss: 1.9124 - top5: 0.9215\n",
      "Epoch 21: val_categorical_accuracy did not improve from 0.74935\n",
      "\u001b[1m31/31\u001b[0m \u001b[32m━━━━━━━━━━━━━━━━━━━━\u001b[0m\u001b[37m\u001b[0m \u001b[1m2s\u001b[0m 53ms/step - categorical_accuracy: 0.7137 - loss: 1.9119 - top5: 0.9219 - val_categorical_accuracy: 0.7468 - val_loss: 1.7562 - val_top5: 0.9690 - learning_rate: 0.0010\n",
      "Epoch 22/100\n",
      "\u001b[1m30/31\u001b[0m \u001b[32m━━━━━━━━━━━━━━━━━━━\u001b[0m\u001b[37m━\u001b[0m \u001b[1m0s\u001b[0m 50ms/step - categorical_accuracy: 0.7426 - loss: 1.8471 - top5: 0.9477\n",
      "Epoch 22: val_categorical_accuracy improved from 0.74935 to 0.75452, saving model to best_model_transformer.keras\n",
      "\u001b[1m31/31\u001b[0m \u001b[32m━━━━━━━━━━━━━━━━━━━━\u001b[0m\u001b[37m\u001b[0m \u001b[1m2s\u001b[0m 62ms/step - categorical_accuracy: 0.7431 - loss: 1.8467 - top5: 0.9476 - val_categorical_accuracy: 0.7545 - val_loss: 1.7246 - val_top5: 0.9638 - learning_rate: 0.0010\n",
      "Epoch 23/100\n",
      "\u001b[1m31/31\u001b[0m \u001b[32m━━━━━━━━━━━━━━━━━━━━\u001b[0m\u001b[37m\u001b[0m \u001b[1m0s\u001b[0m 50ms/step - categorical_accuracy: 0.7512 - loss: 1.8234 - top5: 0.9499\n",
      "Epoch 23: val_categorical_accuracy did not improve from 0.75452\n",
      "\u001b[1m31/31\u001b[0m \u001b[32m━━━━━━━━━━━━━━━━━━━━\u001b[0m\u001b[37m\u001b[0m \u001b[1m2s\u001b[0m 53ms/step - categorical_accuracy: 0.7512 - loss: 1.8230 - top5: 0.9499 - val_categorical_accuracy: 0.7364 - val_loss: 1.7309 - val_top5: 0.9406 - learning_rate: 0.0010\n",
      "Epoch 24/100\n",
      "\u001b[1m30/31\u001b[0m \u001b[32m━━━━━━━━━━━━━━━━━━━\u001b[0m\u001b[37m━\u001b[0m \u001b[1m0s\u001b[0m 51ms/step - categorical_accuracy: 0.7627 - loss: 1.8100 - top5: 0.9460\n",
      "Epoch 24: val_categorical_accuracy improved from 0.75452 to 0.77519, saving model to best_model_transformer.keras\n",
      "\u001b[1m31/31\u001b[0m \u001b[32m━━━━━━━━━━━━━━━━━━━━\u001b[0m\u001b[37m\u001b[0m \u001b[1m2s\u001b[0m 63ms/step - categorical_accuracy: 0.7633 - loss: 1.8076 - top5: 0.9463 - val_categorical_accuracy: 0.7752 - val_loss: 1.7069 - val_top5: 0.9432 - learning_rate: 0.0010\n",
      "Epoch 25/100\n",
      "\u001b[1m30/31\u001b[0m \u001b[32m━━━━━━━━━━━━━━━━━━━\u001b[0m\u001b[37m━\u001b[0m \u001b[1m0s\u001b[0m 50ms/step - categorical_accuracy: 0.7987 - loss: 1.6973 - top5: 0.9621\n",
      "Epoch 25: val_categorical_accuracy improved from 0.77519 to 0.78811, saving model to best_model_transformer.keras\n",
      "\u001b[1m31/31\u001b[0m \u001b[32m━━━━━━━━━━━━━━━━━━━━\u001b[0m\u001b[37m\u001b[0m \u001b[1m2s\u001b[0m 62ms/step - categorical_accuracy: 0.7987 - loss: 1.6974 - top5: 0.9621 - val_categorical_accuracy: 0.7881 - val_loss: 1.6473 - val_top5: 0.9664 - learning_rate: 0.0010\n",
      "Epoch 26/100\n",
      "\u001b[1m30/31\u001b[0m \u001b[32m━━━━━━━━━━━━━━━━━━━\u001b[0m\u001b[37m━\u001b[0m \u001b[1m0s\u001b[0m 50ms/step - categorical_accuracy: 0.8097 - loss: 1.6606 - top5: 0.9719\n",
      "Epoch 26: val_categorical_accuracy improved from 0.78811 to 0.79070, saving model to best_model_transformer.keras\n",
      "\u001b[1m31/31\u001b[0m \u001b[32m━━━━━━━━━━━━━━━━━━━━\u001b[0m\u001b[37m\u001b[0m \u001b[1m2s\u001b[0m 62ms/step - categorical_accuracy: 0.8096 - loss: 1.6607 - top5: 0.9717 - val_categorical_accuracy: 0.7907 - val_loss: 1.6484 - val_top5: 0.9612 - learning_rate: 0.0010\n",
      "Epoch 27/100\n",
      "\u001b[1m31/31\u001b[0m \u001b[32m━━━━━━━━━━━━━━━━━━━━\u001b[0m\u001b[37m\u001b[0m \u001b[1m0s\u001b[0m 49ms/step - categorical_accuracy: 0.8074 - loss: 1.6444 - top5: 0.9714\n",
      "Epoch 27: val_categorical_accuracy did not improve from 0.79070\n",
      "\u001b[1m31/31\u001b[0m \u001b[32m━━━━━━━━━━━━━━━━━━━━\u001b[0m\u001b[37m\u001b[0m \u001b[1m2s\u001b[0m 52ms/step - categorical_accuracy: 0.8075 - loss: 1.6442 - top5: 0.9714 - val_categorical_accuracy: 0.7623 - val_loss: 1.6975 - val_top5: 0.9457 - learning_rate: 0.0010\n",
      "Epoch 28/100\n",
      "\u001b[1m31/31\u001b[0m \u001b[32m━━━━━━━━━━━━━━━━━━━━\u001b[0m\u001b[37m\u001b[0m \u001b[1m0s\u001b[0m 49ms/step - categorical_accuracy: 0.8151 - loss: 1.6021 - top5: 0.9755\n",
      "Epoch 28: val_categorical_accuracy did not improve from 0.79070\n",
      "\u001b[1m31/31\u001b[0m \u001b[32m━━━━━━━━━━━━━━━━━━━━\u001b[0m\u001b[37m\u001b[0m \u001b[1m2s\u001b[0m 52ms/step - categorical_accuracy: 0.8154 - loss: 1.6020 - top5: 0.9754 - val_categorical_accuracy: 0.7752 - val_loss: 1.6616 - val_top5: 0.9483 - learning_rate: 0.0010\n",
      "Epoch 29/100\n",
      "\u001b[1m30/31\u001b[0m \u001b[32m━━━━━━━━━━━━━━━━━━━\u001b[0m\u001b[37m━\u001b[0m \u001b[1m0s\u001b[0m 50ms/step - categorical_accuracy: 0.8305 - loss: 1.5936 - top5: 0.9747\n",
      "Epoch 29: val_categorical_accuracy improved from 0.79070 to 0.80362, saving model to best_model_transformer.keras\n",
      "\u001b[1m31/31\u001b[0m \u001b[32m━━━━━━━━━━━━━━━━━━━━\u001b[0m\u001b[37m\u001b[0m \u001b[1m2s\u001b[0m 61ms/step - categorical_accuracy: 0.8310 - loss: 1.5921 - top5: 0.9749 - val_categorical_accuracy: 0.8036 - val_loss: 1.6251 - val_top5: 0.9664 - learning_rate: 0.0010\n",
      "Epoch 30/100\n",
      "\u001b[1m30/31\u001b[0m \u001b[32m━━━━━━━━━━━━━━━━━━━\u001b[0m\u001b[37m━\u001b[0m \u001b[1m0s\u001b[0m 50ms/step - categorical_accuracy: 0.8453 - loss: 1.5672 - top5: 0.9766\n",
      "Epoch 30: val_categorical_accuracy improved from 0.80362 to 0.80879, saving model to best_model_transformer.keras\n",
      "\u001b[1m31/31\u001b[0m \u001b[32m━━━━━━━━━━━━━━━━━━━━\u001b[0m\u001b[37m\u001b[0m \u001b[1m2s\u001b[0m 62ms/step - categorical_accuracy: 0.8461 - loss: 1.5653 - top5: 0.9766 - val_categorical_accuracy: 0.8088 - val_loss: 1.5529 - val_top5: 0.9690 - learning_rate: 0.0010\n",
      "Epoch 31/100\n",
      "\u001b[1m31/31\u001b[0m \u001b[32m━━━━━━━━━━━━━━━━━━━━\u001b[0m\u001b[37m\u001b[0m \u001b[1m0s\u001b[0m 49ms/step - categorical_accuracy: 0.8514 - loss: 1.5505 - top5: 0.9719\n",
      "Epoch 31: val_categorical_accuracy did not improve from 0.80879\n",
      "\u001b[1m31/31\u001b[0m \u001b[32m━━━━━━━━━━━━━━━━━━━━\u001b[0m\u001b[37m\u001b[0m \u001b[1m2s\u001b[0m 52ms/step - categorical_accuracy: 0.8516 - loss: 1.5501 - top5: 0.9720 - val_categorical_accuracy: 0.7778 - val_loss: 1.6438 - val_top5: 0.9587 - learning_rate: 0.0010\n",
      "Epoch 32/100\n",
      "\u001b[1m31/31\u001b[0m \u001b[32m━━━━━━━━━━━━━━━━━━━━\u001b[0m\u001b[37m\u001b[0m \u001b[1m0s\u001b[0m 48ms/step - categorical_accuracy: 0.8686 - loss: 1.5211 - top5: 0.9801\n",
      "Epoch 32: val_categorical_accuracy improved from 0.80879 to 0.82429, saving model to best_model_transformer.keras\n",
      "\u001b[1m31/31\u001b[0m \u001b[32m━━━━━━━━━━━━━━━━━━━━\u001b[0m\u001b[37m\u001b[0m \u001b[1m2s\u001b[0m 62ms/step - categorical_accuracy: 0.8687 - loss: 1.5204 - top5: 0.9801 - val_categorical_accuracy: 0.8243 - val_loss: 1.5552 - val_top5: 0.9690 - learning_rate: 0.0010\n",
      "Epoch 33/100\n",
      "\u001b[1m31/31\u001b[0m \u001b[32m━━━━━━━━━━━━━━━━━━━━\u001b[0m\u001b[37m\u001b[0m \u001b[1m0s\u001b[0m 49ms/step - categorical_accuracy: 0.8699 - loss: 1.4799 - top5: 0.9819\n",
      "Epoch 33: val_categorical_accuracy did not improve from 0.82429\n",
      "\u001b[1m31/31\u001b[0m \u001b[32m━━━━━━━━━━━━━━━━━━━━\u001b[0m\u001b[37m\u001b[0m \u001b[1m2s\u001b[0m 52ms/step - categorical_accuracy: 0.8701 - loss: 1.4795 - top5: 0.9820 - val_categorical_accuracy: 0.7623 - val_loss: 1.6139 - val_top5: 0.9587 - learning_rate: 0.0010\n",
      "Epoch 34/100\n",
      "\u001b[1m30/31\u001b[0m \u001b[32m━━━━━━━━━━━━━━━━━━━\u001b[0m\u001b[37m━\u001b[0m \u001b[1m0s\u001b[0m 50ms/step - categorical_accuracy: 0.8604 - loss: 1.4725 - top5: 0.9868\n",
      "Epoch 34: val_categorical_accuracy did not improve from 0.82429\n",
      "\u001b[1m31/31\u001b[0m \u001b[32m━━━━━━━━━━━━━━━━━━━━\u001b[0m\u001b[37m\u001b[0m \u001b[1m2s\u001b[0m 52ms/step - categorical_accuracy: 0.8608 - loss: 1.4721 - top5: 0.9866 - val_categorical_accuracy: 0.8191 - val_loss: 1.5207 - val_top5: 0.9742 - learning_rate: 0.0010\n",
      "Epoch 35/100\n",
      "\u001b[1m30/31\u001b[0m \u001b[32m━━━━━━━━━━━━━━━━━━━\u001b[0m\u001b[37m━\u001b[0m \u001b[1m0s\u001b[0m 50ms/step - categorical_accuracy: 0.9187 - loss: 1.4042 - top5: 0.9912\n",
      "Epoch 35: val_categorical_accuracy did not improve from 0.82429\n",
      "\u001b[1m31/31\u001b[0m \u001b[32m━━━━━━━━━━━━━━━━━━━━\u001b[0m\u001b[37m\u001b[0m \u001b[1m2s\u001b[0m 52ms/step - categorical_accuracy: 0.9182 - loss: 1.4046 - top5: 0.9911 - val_categorical_accuracy: 0.7933 - val_loss: 1.5188 - val_top5: 0.9664 - learning_rate: 0.0010\n",
      "Epoch 36/100\n",
      "\u001b[1m30/31\u001b[0m \u001b[32m━━━━━━━━━━━━━━━━━━━\u001b[0m\u001b[37m━\u001b[0m \u001b[1m0s\u001b[0m 50ms/step - categorical_accuracy: 0.9113 - loss: 1.3818 - top5: 0.9916\n",
      "Epoch 36: val_categorical_accuracy did not improve from 0.82429\n",
      "\u001b[1m31/31\u001b[0m \u001b[32m━━━━━━━━━━━━━━━━━━━━\u001b[0m\u001b[37m\u001b[0m \u001b[1m2s\u001b[0m 53ms/step - categorical_accuracy: 0.9109 - loss: 1.3820 - top5: 0.9917 - val_categorical_accuracy: 0.7881 - val_loss: 1.5703 - val_top5: 0.9612 - learning_rate: 0.0010\n",
      "Epoch 37/100\n",
      "\u001b[1m30/31\u001b[0m \u001b[32m━━━━━━━━━━━━━━━━━━━\u001b[0m\u001b[37m━\u001b[0m \u001b[1m0s\u001b[0m 49ms/step - categorical_accuracy: 0.9120 - loss: 1.3779 - top5: 0.9919\n",
      "Epoch 37: val_categorical_accuracy did not improve from 0.82429\n",
      "\u001b[1m31/31\u001b[0m \u001b[32m━━━━━━━━━━━━━━━━━━━━\u001b[0m\u001b[37m\u001b[0m \u001b[1m2s\u001b[0m 52ms/step - categorical_accuracy: 0.9120 - loss: 1.3777 - top5: 0.9917 - val_categorical_accuracy: 0.8114 - val_loss: 1.5256 - val_top5: 0.9690 - learning_rate: 0.0010\n",
      "Epoch 38/100\n",
      "\u001b[1m30/31\u001b[0m \u001b[32m━━━━━━━━━━━━━━━━━━━\u001b[0m\u001b[37m━\u001b[0m \u001b[1m0s\u001b[0m 50ms/step - categorical_accuracy: 0.9138 - loss: 1.3739 - top5: 0.9880\n",
      "Epoch 38: val_categorical_accuracy did not improve from 0.82429\n",
      "\u001b[1m31/31\u001b[0m \u001b[32m━━━━━━━━━━━━━━━━━━━━\u001b[0m\u001b[37m\u001b[0m \u001b[1m2s\u001b[0m 52ms/step - categorical_accuracy: 0.9137 - loss: 1.3735 - top5: 0.9882 - val_categorical_accuracy: 0.7984 - val_loss: 1.5218 - val_top5: 0.9742 - learning_rate: 0.0010\n",
      "Epoch 39/100\n",
      "\u001b[1m30/31\u001b[0m \u001b[32m━━━━━━━━━━━━━━━━━━━\u001b[0m\u001b[37m━\u001b[0m \u001b[1m0s\u001b[0m 50ms/step - categorical_accuracy: 0.9230 - loss: 1.3696 - top5: 0.9920\n",
      "Epoch 39: val_categorical_accuracy did not improve from 0.82429\n",
      "\u001b[1m31/31\u001b[0m \u001b[32m━━━━━━━━━━━━━━━━━━━━\u001b[0m\u001b[37m\u001b[0m \u001b[1m2s\u001b[0m 52ms/step - categorical_accuracy: 0.9228 - loss: 1.3696 - top5: 0.9919 - val_categorical_accuracy: 0.8114 - val_loss: 1.5000 - val_top5: 0.9793 - learning_rate: 0.0010\n",
      "Epoch 40/100\n",
      "\u001b[1m30/31\u001b[0m \u001b[32m━━━━━━━━━━━━━━━━━━━\u001b[0m\u001b[37m━\u001b[0m \u001b[1m0s\u001b[0m 50ms/step - categorical_accuracy: 0.9240 - loss: 1.3373 - top5: 0.9945\n",
      "Epoch 40: val_categorical_accuracy did not improve from 0.82429\n",
      "\u001b[1m31/31\u001b[0m \u001b[32m━━━━━━━━━━━━━━━━━━━━\u001b[0m\u001b[37m\u001b[0m \u001b[1m2s\u001b[0m 52ms/step - categorical_accuracy: 0.9239 - loss: 1.3374 - top5: 0.9943 - val_categorical_accuracy: 0.8165 - val_loss: 1.4819 - val_top5: 0.9716 - learning_rate: 0.0010\n",
      "Epoch 41/100\n",
      "\u001b[1m30/31\u001b[0m \u001b[32m━━━━━━━━━━━━━━━━━━━\u001b[0m\u001b[37m━\u001b[0m \u001b[1m0s\u001b[0m 50ms/step - categorical_accuracy: 0.9285 - loss: 1.3196 - top5: 0.9960\n",
      "Epoch 41: val_categorical_accuracy improved from 0.82429 to 0.83204, saving model to best_model_transformer.keras\n",
      "\u001b[1m31/31\u001b[0m \u001b[32m━━━━━━━━━━━━━━━━━━━━\u001b[0m\u001b[37m\u001b[0m \u001b[1m2s\u001b[0m 62ms/step - categorical_accuracy: 0.9286 - loss: 1.3190 - top5: 0.9960 - val_categorical_accuracy: 0.8320 - val_loss: 1.4478 - val_top5: 0.9742 - learning_rate: 0.0010\n",
      "Epoch 42/100\n",
      "\u001b[1m30/31\u001b[0m \u001b[32m━━━━━━━━━━━━━━━━━━━\u001b[0m\u001b[37m━\u001b[0m \u001b[1m0s\u001b[0m 51ms/step - categorical_accuracy: 0.9299 - loss: 1.3021 - top5: 0.9928\n",
      "Epoch 42: val_categorical_accuracy did not improve from 0.83204\n",
      "\u001b[1m31/31\u001b[0m \u001b[32m━━━━━━━━━━━━━━━━━━━━\u001b[0m\u001b[37m\u001b[0m \u001b[1m2s\u001b[0m 55ms/step - categorical_accuracy: 0.9298 - loss: 1.3026 - top5: 0.9927 - val_categorical_accuracy: 0.8217 - val_loss: 1.4961 - val_top5: 0.9664 - learning_rate: 0.0010\n",
      "Epoch 43/100\n",
      "\u001b[1m30/31\u001b[0m \u001b[32m━━━━━━━━━━━━━━━━━━━\u001b[0m\u001b[37m━\u001b[0m \u001b[1m0s\u001b[0m 50ms/step - categorical_accuracy: 0.9381 - loss: 1.3216 - top5: 0.9934\n",
      "Epoch 43: val_categorical_accuracy did not improve from 0.83204\n",
      "\u001b[1m31/31\u001b[0m \u001b[32m━━━━━━━━━━━━━━━━━━━━\u001b[0m\u001b[37m\u001b[0m \u001b[1m2s\u001b[0m 52ms/step - categorical_accuracy: 0.9386 - loss: 1.3201 - top5: 0.9936 - val_categorical_accuracy: 0.8269 - val_loss: 1.4779 - val_top5: 0.9638 - learning_rate: 0.0010\n",
      "Epoch 44/100\n",
      "\u001b[1m30/31\u001b[0m \u001b[32m━━━━━━━━━━━━━━━━━━━\u001b[0m\u001b[37m━\u001b[0m \u001b[1m0s\u001b[0m 50ms/step - categorical_accuracy: 0.9472 - loss: 1.2577 - top5: 0.9973\n",
      "Epoch 44: val_categorical_accuracy did not improve from 0.83204\n",
      "\u001b[1m31/31\u001b[0m \u001b[32m━━━━━━━━━━━━━━━━━━━━\u001b[0m\u001b[37m\u001b[0m \u001b[1m2s\u001b[0m 52ms/step - categorical_accuracy: 0.9474 - loss: 1.2577 - top5: 0.9973 - val_categorical_accuracy: 0.8243 - val_loss: 1.5028 - val_top5: 0.9742 - learning_rate: 0.0010\n",
      "Epoch 45/100\n",
      "\u001b[1m30/31\u001b[0m \u001b[32m━━━━━━━━━━━━━━━━━━━\u001b[0m\u001b[37m━\u001b[0m \u001b[1m0s\u001b[0m 50ms/step - categorical_accuracy: 0.9388 - loss: 1.3018 - top5: 0.9925\n",
      "Epoch 45: val_categorical_accuracy did not improve from 0.83204\n",
      "\u001b[1m31/31\u001b[0m \u001b[32m━━━━━━━━━━━━━━━━━━━━\u001b[0m\u001b[37m\u001b[0m \u001b[1m2s\u001b[0m 52ms/step - categorical_accuracy: 0.9389 - loss: 1.3011 - top5: 0.9925 - val_categorical_accuracy: 0.8320 - val_loss: 1.4482 - val_top5: 0.9716 - learning_rate: 0.0010\n",
      "Epoch 46/100\n",
      "\u001b[1m30/31\u001b[0m \u001b[32m━━━━━━━━━━━━━━━━━━━\u001b[0m\u001b[37m━\u001b[0m \u001b[1m0s\u001b[0m 50ms/step - categorical_accuracy: 0.9526 - loss: 1.2373 - top5: 0.9981\n",
      "Epoch 46: val_categorical_accuracy did not improve from 0.83204\n",
      "\u001b[1m31/31\u001b[0m \u001b[32m━━━━━━━━━━━━━━━━━━━━\u001b[0m\u001b[37m\u001b[0m \u001b[1m2s\u001b[0m 53ms/step - categorical_accuracy: 0.9524 - loss: 1.2384 - top5: 0.9980 - val_categorical_accuracy: 0.8165 - val_loss: 1.4783 - val_top5: 0.9612 - learning_rate: 0.0010\n",
      "Epoch 47/100\n",
      "\u001b[1m30/31\u001b[0m \u001b[32m━━━━━━━━━━━━━━━━━━━\u001b[0m\u001b[37m━\u001b[0m \u001b[1m0s\u001b[0m 50ms/step - categorical_accuracy: 0.9523 - loss: 1.2519 - top5: 0.9945\n",
      "Epoch 47: val_categorical_accuracy improved from 0.83204 to 0.84238, saving model to best_model_transformer.keras\n",
      "\u001b[1m31/31\u001b[0m \u001b[32m━━━━━━━━━━━━━━━━━━━━\u001b[0m\u001b[37m\u001b[0m \u001b[1m2s\u001b[0m 62ms/step - categorical_accuracy: 0.9522 - loss: 1.2522 - top5: 0.9945 - val_categorical_accuracy: 0.8424 - val_loss: 1.4127 - val_top5: 0.9742 - learning_rate: 0.0010\n",
      "Epoch 48/100\n",
      "\u001b[1m31/31\u001b[0m \u001b[32m━━━━━━━━━━━━━━━━━━━━\u001b[0m\u001b[37m\u001b[0m \u001b[1m0s\u001b[0m 49ms/step - categorical_accuracy: 0.9578 - loss: 1.2416 - top5: 0.9954\n",
      "Epoch 48: val_categorical_accuracy did not improve from 0.84238\n",
      "\u001b[1m31/31\u001b[0m \u001b[32m━━━━━━━━━━━━━━━━━━━━\u001b[0m\u001b[37m\u001b[0m \u001b[1m2s\u001b[0m 53ms/step - categorical_accuracy: 0.9576 - loss: 1.2418 - top5: 0.9954 - val_categorical_accuracy: 0.8295 - val_loss: 1.4259 - val_top5: 0.9742 - learning_rate: 0.0010\n",
      "Epoch 49/100\n",
      "\u001b[1m30/31\u001b[0m \u001b[32m━━━━━━━━━━━━━━━━━━━\u001b[0m\u001b[37m━\u001b[0m \u001b[1m0s\u001b[0m 50ms/step - categorical_accuracy: 0.9575 - loss: 1.2225 - top5: 0.9973\n",
      "Epoch 49: val_categorical_accuracy improved from 0.84238 to 0.85530, saving model to best_model_transformer.keras\n",
      "\u001b[1m31/31\u001b[0m \u001b[32m━━━━━━━━━━━━━━━━━━━━\u001b[0m\u001b[37m\u001b[0m \u001b[1m2s\u001b[0m 61ms/step - categorical_accuracy: 0.9573 - loss: 1.2233 - top5: 0.9972 - val_categorical_accuracy: 0.8553 - val_loss: 1.4163 - val_top5: 0.9716 - learning_rate: 0.0010\n",
      "Epoch 50/100\n",
      "\u001b[1m30/31\u001b[0m \u001b[32m━━━━━━━━━━━━━━━━━━━\u001b[0m\u001b[37m━\u001b[0m \u001b[1m0s\u001b[0m 51ms/step - categorical_accuracy: 0.9572 - loss: 1.2378 - top5: 0.9898\n",
      "Epoch 50: val_categorical_accuracy did not improve from 0.85530\n",
      "\u001b[1m31/31\u001b[0m \u001b[32m━━━━━━━━━━━━━━━━━━━━\u001b[0m\u001b[37m\u001b[0m \u001b[1m2s\u001b[0m 53ms/step - categorical_accuracy: 0.9573 - loss: 1.2373 - top5: 0.9900 - val_categorical_accuracy: 0.8320 - val_loss: 1.4397 - val_top5: 0.9767 - learning_rate: 0.0010\n",
      "Epoch 51/100\n",
      "\u001b[1m31/31\u001b[0m \u001b[32m━━━━━━━━━━━━━━━━━━━━\u001b[0m\u001b[37m\u001b[0m \u001b[1m0s\u001b[0m 49ms/step - categorical_accuracy: 0.9613 - loss: 1.2141 - top5: 0.9956\n",
      "Epoch 51: val_categorical_accuracy did not improve from 0.85530\n",
      "\u001b[1m31/31\u001b[0m \u001b[32m━━━━━━━━━━━━━━━━━━━━\u001b[0m\u001b[37m\u001b[0m \u001b[1m2s\u001b[0m 52ms/step - categorical_accuracy: 0.9613 - loss: 1.2143 - top5: 0.9956 - val_categorical_accuracy: 0.8269 - val_loss: 1.4654 - val_top5: 0.9664 - learning_rate: 9.0484e-04\n",
      "Epoch 52/100\n",
      "\u001b[1m30/31\u001b[0m \u001b[32m━━━━━━━━━━━━━━━━━━━\u001b[0m\u001b[37m━\u001b[0m \u001b[1m0s\u001b[0m 50ms/step - categorical_accuracy: 0.9695 - loss: 1.1926 - top5: 0.9973\n",
      "Epoch 52: val_categorical_accuracy improved from 0.85530 to 0.86047, saving model to best_model_transformer.keras\n",
      "\u001b[1m31/31\u001b[0m \u001b[32m━━━━━━━━━━━━━━━━━━━━\u001b[0m\u001b[37m\u001b[0m \u001b[1m2s\u001b[0m 62ms/step - categorical_accuracy: 0.9695 - loss: 1.1924 - top5: 0.9973 - val_categorical_accuracy: 0.8605 - val_loss: 1.4173 - val_top5: 0.9716 - learning_rate: 8.1873e-04\n",
      "Epoch 53/100\n",
      "\u001b[1m31/31\u001b[0m \u001b[32m━━━━━━━━━━━━━━━━━━━━\u001b[0m\u001b[37m\u001b[0m \u001b[1m0s\u001b[0m 49ms/step - categorical_accuracy: 0.9678 - loss: 1.1877 - top5: 0.9964\n",
      "Epoch 53: val_categorical_accuracy did not improve from 0.86047\n",
      "\u001b[1m31/31\u001b[0m \u001b[32m━━━━━━━━━━━━━━━━━━━━\u001b[0m\u001b[37m\u001b[0m \u001b[1m2s\u001b[0m 53ms/step - categorical_accuracy: 0.9678 - loss: 1.1872 - top5: 0.9964 - val_categorical_accuracy: 0.8605 - val_loss: 1.3928 - val_top5: 0.9716 - learning_rate: 7.4082e-04\n",
      "Epoch 54/100\n",
      "\u001b[1m31/31\u001b[0m \u001b[32m━━━━━━━━━━━━━━━━━━━━\u001b[0m\u001b[37m\u001b[0m \u001b[1m0s\u001b[0m 49ms/step - categorical_accuracy: 0.9807 - loss: 1.1480 - top5: 0.9988\n",
      "Epoch 54: val_categorical_accuracy did not improve from 0.86047\n",
      "\u001b[1m31/31\u001b[0m \u001b[32m━━━━━━━━━━━━━━━━━━━━\u001b[0m\u001b[37m\u001b[0m \u001b[1m2s\u001b[0m 52ms/step - categorical_accuracy: 0.9807 - loss: 1.1480 - top5: 0.9988 - val_categorical_accuracy: 0.8372 - val_loss: 1.4275 - val_top5: 0.9845 - learning_rate: 6.7032e-04\n",
      "Epoch 55/100\n",
      "\u001b[1m31/31\u001b[0m \u001b[32m━━━━━━━━━━━━━━━━━━━━\u001b[0m\u001b[37m\u001b[0m \u001b[1m0s\u001b[0m 49ms/step - categorical_accuracy: 0.9792 - loss: 1.1326 - top5: 0.9996\n",
      "Epoch 55: val_categorical_accuracy did not improve from 0.86047\n",
      "\u001b[1m31/31\u001b[0m \u001b[32m━━━━━━━━━━━━━━━━━━━━\u001b[0m\u001b[37m\u001b[0m \u001b[1m2s\u001b[0m 52ms/step - categorical_accuracy: 0.9792 - loss: 1.1326 - top5: 0.9996 - val_categorical_accuracy: 0.8243 - val_loss: 1.4012 - val_top5: 0.9845 - learning_rate: 6.0653e-04\n",
      "Epoch 56/100\n",
      "\u001b[1m30/31\u001b[0m \u001b[32m━━━━━━━━━━━━━━━━━━━\u001b[0m\u001b[37m━\u001b[0m \u001b[1m0s\u001b[0m 50ms/step - categorical_accuracy: 0.9873 - loss: 1.1140 - top5: 1.0000\n",
      "Epoch 56: val_categorical_accuracy improved from 0.86047 to 0.86305, saving model to best_model_transformer.keras\n",
      "\u001b[1m31/31\u001b[0m \u001b[32m━━━━━━━━━━━━━━━━━━━━\u001b[0m\u001b[37m\u001b[0m \u001b[1m2s\u001b[0m 62ms/step - categorical_accuracy: 0.9872 - loss: 1.1140 - top5: 1.0000 - val_categorical_accuracy: 0.8630 - val_loss: 1.3662 - val_top5: 0.9819 - learning_rate: 5.4881e-04\n",
      "Epoch 57/100\n",
      "\u001b[1m31/31\u001b[0m \u001b[32m━━━━━━━━━━━━━━━━━━━━\u001b[0m\u001b[37m\u001b[0m \u001b[1m0s\u001b[0m 49ms/step - categorical_accuracy: 0.9856 - loss: 1.1115 - top5: 0.9976\n",
      "Epoch 57: val_categorical_accuracy did not improve from 0.86305\n",
      "\u001b[1m31/31\u001b[0m \u001b[32m━━━━━━━━━━━━━━━━━━━━\u001b[0m\u001b[37m\u001b[0m \u001b[1m2s\u001b[0m 53ms/step - categorical_accuracy: 0.9856 - loss: 1.1114 - top5: 0.9977 - val_categorical_accuracy: 0.8605 - val_loss: 1.3699 - val_top5: 0.9871 - learning_rate: 4.9659e-04\n",
      "Epoch 58/100\n",
      "\u001b[1m31/31\u001b[0m \u001b[32m━━━━━━━━━━━━━━━━━━━━\u001b[0m\u001b[37m\u001b[0m \u001b[1m0s\u001b[0m 49ms/step - categorical_accuracy: 0.9907 - loss: 1.0938 - top5: 0.9987\n",
      "Epoch 58: val_categorical_accuracy did not improve from 0.86305\n",
      "\u001b[1m31/31\u001b[0m \u001b[32m━━━━━━━━━━━━━━━━━━━━\u001b[0m\u001b[37m\u001b[0m \u001b[1m2s\u001b[0m 52ms/step - categorical_accuracy: 0.9906 - loss: 1.0938 - top5: 0.9987 - val_categorical_accuracy: 0.8553 - val_loss: 1.3524 - val_top5: 0.9819 - learning_rate: 4.4933e-04\n",
      "Epoch 59/100\n",
      "\u001b[1m30/31\u001b[0m \u001b[32m━━━━━━━━━━━━━━━━━━━\u001b[0m\u001b[37m━\u001b[0m \u001b[1m0s\u001b[0m 51ms/step - categorical_accuracy: 0.9819 - loss: 1.1042 - top5: 0.9984\n",
      "Epoch 59: val_categorical_accuracy improved from 0.86305 to 0.87597, saving model to best_model_transformer.keras\n",
      "\u001b[1m31/31\u001b[0m \u001b[32m━━━━━━━━━━━━━━━━━━━━\u001b[0m\u001b[37m\u001b[0m \u001b[1m2s\u001b[0m 62ms/step - categorical_accuracy: 0.9819 - loss: 1.1039 - top5: 0.9985 - val_categorical_accuracy: 0.8760 - val_loss: 1.3344 - val_top5: 0.9871 - learning_rate: 4.0657e-04\n",
      "Epoch 60/100\n",
      "\u001b[1m31/31\u001b[0m \u001b[32m━━━━━━━━━━━━━━━━━━━━\u001b[0m\u001b[37m\u001b[0m \u001b[1m0s\u001b[0m 50ms/step - categorical_accuracy: 0.9890 - loss: 1.0739 - top5: 0.9995\n",
      "Epoch 60: val_categorical_accuracy did not improve from 0.87597\n",
      "\u001b[1m31/31\u001b[0m \u001b[32m━━━━━━━━━━━━━━━━━━━━\u001b[0m\u001b[37m\u001b[0m \u001b[1m2s\u001b[0m 54ms/step - categorical_accuracy: 0.9890 - loss: 1.0741 - top5: 0.9994 - val_categorical_accuracy: 0.8734 - val_loss: 1.3326 - val_top5: 0.9871 - learning_rate: 3.6788e-04\n",
      "Epoch 61/100\n",
      "\u001b[1m31/31\u001b[0m \u001b[32m━━━━━━━━━━━━━━━━━━━━\u001b[0m\u001b[37m\u001b[0m \u001b[1m0s\u001b[0m 49ms/step - categorical_accuracy: 0.9870 - loss: 1.0856 - top5: 0.9971\n",
      "Epoch 61: val_categorical_accuracy did not improve from 0.87597\n",
      "\u001b[1m31/31\u001b[0m \u001b[32m━━━━━━━━━━━━━━━━━━━━\u001b[0m\u001b[37m\u001b[0m \u001b[1m2s\u001b[0m 52ms/step - categorical_accuracy: 0.9870 - loss: 1.0854 - top5: 0.9971 - val_categorical_accuracy: 0.8630 - val_loss: 1.3659 - val_top5: 0.9897 - learning_rate: 3.3287e-04\n",
      "Epoch 62/100\n",
      "\u001b[1m31/31\u001b[0m \u001b[32m━━━━━━━━━━━━━━━━━━━━\u001b[0m\u001b[37m\u001b[0m \u001b[1m0s\u001b[0m 49ms/step - categorical_accuracy: 0.9861 - loss: 1.0813 - top5: 0.9999\n",
      "Epoch 62: val_categorical_accuracy did not improve from 0.87597\n",
      "\u001b[1m31/31\u001b[0m \u001b[32m━━━━━━━━━━━━━━━━━━━━\u001b[0m\u001b[37m\u001b[0m \u001b[1m2s\u001b[0m 53ms/step - categorical_accuracy: 0.9862 - loss: 1.0808 - top5: 0.9999 - val_categorical_accuracy: 0.8630 - val_loss: 1.3514 - val_top5: 0.9871 - learning_rate: 3.0119e-04\n",
      "Epoch 63/100\n",
      "\u001b[1m30/31\u001b[0m \u001b[32m━━━━━━━━━━━━━━━━━━━\u001b[0m\u001b[37m━\u001b[0m \u001b[1m0s\u001b[0m 50ms/step - categorical_accuracy: 0.9904 - loss: 1.0650 - top5: 1.0000\n",
      "Epoch 63: val_categorical_accuracy did not improve from 0.87597\n",
      "\u001b[1m31/31\u001b[0m \u001b[32m━━━━━━━━━━━━━━━━━━━━\u001b[0m\u001b[37m\u001b[0m \u001b[1m2s\u001b[0m 52ms/step - categorical_accuracy: 0.9904 - loss: 1.0648 - top5: 1.0000 - val_categorical_accuracy: 0.8734 - val_loss: 1.3492 - val_top5: 0.9819 - learning_rate: 2.7253e-04\n",
      "Epoch 64/100\n",
      "\u001b[1m30/31\u001b[0m \u001b[32m━━━━━━━━━━━━━━━━━━━\u001b[0m\u001b[37m━\u001b[0m \u001b[1m0s\u001b[0m 50ms/step - categorical_accuracy: 0.9852 - loss: 1.0683 - top5: 0.9988\n",
      "Epoch 64: val_categorical_accuracy did not improve from 0.87597\n",
      "\u001b[1m31/31\u001b[0m \u001b[32m━━━━━━━━━━━━━━━━━━━━\u001b[0m\u001b[37m\u001b[0m \u001b[1m2s\u001b[0m 53ms/step - categorical_accuracy: 0.9852 - loss: 1.0682 - top5: 0.9988 - val_categorical_accuracy: 0.8734 - val_loss: 1.3311 - val_top5: 0.9845 - learning_rate: 2.4660e-04\n",
      "Epoch 65/100\n",
      "\u001b[1m31/31\u001b[0m \u001b[32m━━━━━━━━━━━━━━━━━━━━\u001b[0m\u001b[37m\u001b[0m \u001b[1m0s\u001b[0m 49ms/step - categorical_accuracy: 0.9914 - loss: 1.0718 - top5: 0.9982\n",
      "Epoch 65: val_categorical_accuracy did not improve from 0.87597\n",
      "\u001b[1m31/31\u001b[0m \u001b[32m━━━━━━━━━━━━━━━━━━━━\u001b[0m\u001b[37m\u001b[0m \u001b[1m2s\u001b[0m 52ms/step - categorical_accuracy: 0.9914 - loss: 1.0718 - top5: 0.9982 - val_categorical_accuracy: 0.8630 - val_loss: 1.3471 - val_top5: 0.9871 - learning_rate: 2.2313e-04\n",
      "Epoch 66/100\n",
      "\u001b[1m30/31\u001b[0m \u001b[32m━━━━━━━━━━━━━━━━━━━\u001b[0m\u001b[37m━\u001b[0m \u001b[1m0s\u001b[0m 50ms/step - categorical_accuracy: 0.9867 - loss: 1.0501 - top5: 1.0000\n",
      "Epoch 66: val_categorical_accuracy did not improve from 0.87597\n",
      "\u001b[1m31/31\u001b[0m \u001b[32m━━━━━━━━━━━━━━━━━━━━\u001b[0m\u001b[37m\u001b[0m \u001b[1m2s\u001b[0m 53ms/step - categorical_accuracy: 0.9867 - loss: 1.0502 - top5: 1.0000 - val_categorical_accuracy: 0.8579 - val_loss: 1.3485 - val_top5: 0.9819 - learning_rate: 2.0190e-04\n",
      "Epoch 67/100\n",
      "\u001b[1m30/31\u001b[0m \u001b[32m━━━━━━━━━━━━━━━━━━━\u001b[0m\u001b[37m━\u001b[0m \u001b[1m0s\u001b[0m 50ms/step - categorical_accuracy: 0.9919 - loss: 1.0435 - top5: 0.9994\n",
      "Epoch 67: val_categorical_accuracy improved from 0.87597 to 0.87855, saving model to best_model_transformer.keras\n",
      "\u001b[1m31/31\u001b[0m \u001b[32m━━━━━━━━━━━━━━━━━━━━\u001b[0m\u001b[37m\u001b[0m \u001b[1m2s\u001b[0m 62ms/step - categorical_accuracy: 0.9919 - loss: 1.0436 - top5: 0.9994 - val_categorical_accuracy: 0.8786 - val_loss: 1.3448 - val_top5: 0.9845 - learning_rate: 1.8268e-04\n",
      "Epoch 68/100\n",
      "\u001b[1m30/31\u001b[0m \u001b[32m━━━━━━━━━━━━━━━━━━━\u001b[0m\u001b[37m━\u001b[0m \u001b[1m0s\u001b[0m 50ms/step - categorical_accuracy: 0.9942 - loss: 1.0526 - top5: 0.9996\n",
      "Epoch 68: val_categorical_accuracy did not improve from 0.87855\n",
      "\u001b[1m31/31\u001b[0m \u001b[32m━━━━━━━━━━━━━━━━━━━━\u001b[0m\u001b[37m\u001b[0m \u001b[1m2s\u001b[0m 53ms/step - categorical_accuracy: 0.9942 - loss: 1.0525 - top5: 0.9996 - val_categorical_accuracy: 0.8708 - val_loss: 1.3445 - val_top5: 0.9871 - learning_rate: 1.6530e-04\n",
      "Epoch 69/100\n",
      "\u001b[1m30/31\u001b[0m \u001b[32m━━━━━━━━━━━━━━━━━━━\u001b[0m\u001b[37m━\u001b[0m \u001b[1m0s\u001b[0m 50ms/step - categorical_accuracy: 0.9935 - loss: 1.0370 - top5: 0.9979\n",
      "Epoch 69: val_categorical_accuracy did not improve from 0.87855\n",
      "\u001b[1m31/31\u001b[0m \u001b[32m━━━━━━━━━━━━━━━━━━━━\u001b[0m\u001b[37m\u001b[0m \u001b[1m2s\u001b[0m 52ms/step - categorical_accuracy: 0.9935 - loss: 1.0371 - top5: 0.9980 - val_categorical_accuracy: 0.8708 - val_loss: 1.3537 - val_top5: 0.9819 - learning_rate: 1.4957e-04\n",
      "Epoch 70/100\n",
      "\u001b[1m30/31\u001b[0m \u001b[32m━━━━━━━━━━━━━━━━━━━\u001b[0m\u001b[37m━\u001b[0m \u001b[1m0s\u001b[0m 50ms/step - categorical_accuracy: 0.9877 - loss: 1.0545 - top5: 1.0000\n",
      "Epoch 70: val_categorical_accuracy did not improve from 0.87855\n",
      "\u001b[1m31/31\u001b[0m \u001b[32m━━━━━━━━━━━━━━━━━━━━\u001b[0m\u001b[37m\u001b[0m \u001b[1m2s\u001b[0m 53ms/step - categorical_accuracy: 0.9879 - loss: 1.0545 - top5: 1.0000 - val_categorical_accuracy: 0.8656 - val_loss: 1.3482 - val_top5: 0.9845 - learning_rate: 1.3534e-04\n",
      "Epoch 71/100\n",
      "\u001b[1m30/31\u001b[0m \u001b[32m━━━━━━━━━━━━━━━━━━━\u001b[0m\u001b[37m━\u001b[0m \u001b[1m0s\u001b[0m 50ms/step - categorical_accuracy: 0.9948 - loss: 1.0416 - top5: 1.0000\n",
      "Epoch 71: val_categorical_accuracy did not improve from 0.87855\n",
      "\u001b[1m31/31\u001b[0m \u001b[32m━━━━━━━━━━━━━━━━━━━━\u001b[0m\u001b[37m\u001b[0m \u001b[1m2s\u001b[0m 52ms/step - categorical_accuracy: 0.9948 - loss: 1.0418 - top5: 1.0000 - val_categorical_accuracy: 0.8708 - val_loss: 1.3437 - val_top5: 0.9845 - learning_rate: 1.2246e-04\n",
      "Epoch 72/100\n",
      "\u001b[1m30/31\u001b[0m \u001b[32m━━━━━━━━━━━━━━━━━━━\u001b[0m\u001b[37m━\u001b[0m \u001b[1m0s\u001b[0m 50ms/step - categorical_accuracy: 0.9948 - loss: 1.0447 - top5: 0.9997\n",
      "Epoch 72: val_categorical_accuracy did not improve from 0.87855\n",
      "\u001b[1m31/31\u001b[0m \u001b[32m━━━━━━━━━━━━━━━━━━━━\u001b[0m\u001b[37m\u001b[0m \u001b[1m2s\u001b[0m 53ms/step - categorical_accuracy: 0.9946 - loss: 1.0447 - top5: 0.9997 - val_categorical_accuracy: 0.8734 - val_loss: 1.3376 - val_top5: 0.9845 - learning_rate: 1.1080e-04\n",
      "Epoch 73/100\n",
      "\u001b[1m31/31\u001b[0m \u001b[32m━━━━━━━━━━━━━━━━━━━━\u001b[0m\u001b[37m\u001b[0m \u001b[1m0s\u001b[0m 49ms/step - categorical_accuracy: 0.9870 - loss: 1.0539 - top5: 0.9999\n",
      "Epoch 73: val_categorical_accuracy did not improve from 0.87855\n",
      "\u001b[1m31/31\u001b[0m \u001b[32m━━━━━━━━━━━━━━━━━━━━\u001b[0m\u001b[37m\u001b[0m \u001b[1m2s\u001b[0m 52ms/step - categorical_accuracy: 0.9871 - loss: 1.0536 - top5: 0.9998 - val_categorical_accuracy: 0.8682 - val_loss: 1.3385 - val_top5: 0.9845 - learning_rate: 1.0026e-04\n",
      "Epoch 74/100\n",
      "\u001b[1m30/31\u001b[0m \u001b[32m━━━━━━━━━━━━━━━━━━━\u001b[0m\u001b[37m━\u001b[0m \u001b[1m0s\u001b[0m 50ms/step - categorical_accuracy: 0.9922 - loss: 1.0477 - top5: 0.9983\n",
      "Epoch 74: val_categorical_accuracy did not improve from 0.87855\n",
      "\u001b[1m31/31\u001b[0m \u001b[32m━━━━━━━━━━━━━━━━━━━━\u001b[0m\u001b[37m\u001b[0m \u001b[1m2s\u001b[0m 53ms/step - categorical_accuracy: 0.9922 - loss: 1.0472 - top5: 0.9984 - val_categorical_accuracy: 0.8734 - val_loss: 1.3392 - val_top5: 0.9845 - learning_rate: 9.0718e-05\n",
      "Epoch 75/100\n",
      "\u001b[1m30/31\u001b[0m \u001b[32m━━━━━━━━━━━━━━━━━━━\u001b[0m\u001b[37m━\u001b[0m \u001b[1m0s\u001b[0m 50ms/step - categorical_accuracy: 0.9918 - loss: 1.0381 - top5: 0.9978\n",
      "Epoch 75: val_categorical_accuracy did not improve from 0.87855\n",
      "\u001b[1m31/31\u001b[0m \u001b[32m━━━━━━━━━━━━━━━━━━━━\u001b[0m\u001b[37m\u001b[0m \u001b[1m2s\u001b[0m 52ms/step - categorical_accuracy: 0.9917 - loss: 1.0383 - top5: 0.9979 - val_categorical_accuracy: 0.8760 - val_loss: 1.3426 - val_top5: 0.9819 - learning_rate: 8.2085e-05\n",
      "Epoch 76/100\n",
      "\u001b[1m31/31\u001b[0m \u001b[32m━━━━━━━━━━━━━━━━━━━━\u001b[0m\u001b[37m\u001b[0m \u001b[1m0s\u001b[0m 49ms/step - categorical_accuracy: 0.9952 - loss: 1.0265 - top5: 0.9996\n",
      "Epoch 76: val_categorical_accuracy did not improve from 0.87855\n",
      "\u001b[1m31/31\u001b[0m \u001b[32m━━━━━━━━━━━━━━━━━━━━\u001b[0m\u001b[37m\u001b[0m \u001b[1m2s\u001b[0m 52ms/step - categorical_accuracy: 0.9951 - loss: 1.0267 - top5: 0.9996 - val_categorical_accuracy: 0.8734 - val_loss: 1.3364 - val_top5: 0.9819 - learning_rate: 7.4273e-05\n",
      "Epoch 77/100\n",
      "\u001b[1m30/31\u001b[0m \u001b[32m━━━━━━━━━━━━━━━━━━━\u001b[0m\u001b[37m━\u001b[0m \u001b[1m0s\u001b[0m 50ms/step - categorical_accuracy: 0.9971 - loss: 1.0271 - top5: 1.0000\n",
      "Epoch 77: val_categorical_accuracy did not improve from 0.87855\n",
      "\u001b[1m31/31\u001b[0m \u001b[32m━━━━━━━━━━━━━━━━━━━━\u001b[0m\u001b[37m\u001b[0m \u001b[1m2s\u001b[0m 52ms/step - categorical_accuracy: 0.9971 - loss: 1.0272 - top5: 1.0000 - val_categorical_accuracy: 0.8708 - val_loss: 1.3408 - val_top5: 0.9845 - learning_rate: 6.7205e-05\n",
      "Epoch 78/100\n",
      "\u001b[1m31/31\u001b[0m \u001b[32m━━━━━━━━━━━━━━━━━━━━\u001b[0m\u001b[37m\u001b[0m \u001b[1m0s\u001b[0m 50ms/step - categorical_accuracy: 0.9928 - loss: 1.0369 - top5: 0.9990\n",
      "Epoch 78: val_categorical_accuracy did not improve from 0.87855\n",
      "\u001b[1m31/31\u001b[0m \u001b[32m━━━━━━━━━━━━━━━━━━━━\u001b[0m\u001b[37m\u001b[0m \u001b[1m2s\u001b[0m 53ms/step - categorical_accuracy: 0.9928 - loss: 1.0368 - top5: 0.9990 - val_categorical_accuracy: 0.8734 - val_loss: 1.3387 - val_top5: 0.9871 - learning_rate: 6.0810e-05\n",
      "Epoch 79/100\n",
      "\u001b[1m31/31\u001b[0m \u001b[32m━━━━━━━━━━━━━━━━━━━━\u001b[0m\u001b[37m\u001b[0m \u001b[1m0s\u001b[0m 50ms/step - categorical_accuracy: 0.9883 - loss: 1.0399 - top5: 0.9989\n",
      "Epoch 79: val_categorical_accuracy did not improve from 0.87855\n",
      "\u001b[1m31/31\u001b[0m \u001b[32m━━━━━━━━━━━━━━━━━━━━\u001b[0m\u001b[37m\u001b[0m \u001b[1m2s\u001b[0m 54ms/step - categorical_accuracy: 0.9883 - loss: 1.0398 - top5: 0.9989 - val_categorical_accuracy: 0.8734 - val_loss: 1.3400 - val_top5: 0.9845 - learning_rate: 5.5023e-05\n",
      "Epoch 80/100\n",
      "\u001b[1m31/31\u001b[0m \u001b[32m━━━━━━━━━━━━━━━━━━━━\u001b[0m\u001b[37m\u001b[0m \u001b[1m0s\u001b[0m 49ms/step - categorical_accuracy: 0.9866 - loss: 1.0408 - top5: 0.9985\n",
      "Epoch 80: val_categorical_accuracy did not improve from 0.87855\n",
      "\u001b[1m31/31\u001b[0m \u001b[32m━━━━━━━━━━━━━━━━━━━━\u001b[0m\u001b[37m\u001b[0m \u001b[1m2s\u001b[0m 53ms/step - categorical_accuracy: 0.9867 - loss: 1.0406 - top5: 0.9985 - val_categorical_accuracy: 0.8734 - val_loss: 1.3435 - val_top5: 0.9845 - learning_rate: 4.9787e-05\n",
      "Epoch 81/100\n",
      "\u001b[1m31/31\u001b[0m \u001b[32m━━━━━━━━━━━━━━━━━━━━\u001b[0m\u001b[37m\u001b[0m \u001b[1m0s\u001b[0m 49ms/step - categorical_accuracy: 0.9938 - loss: 1.0313 - top5: 1.0000\n",
      "Epoch 81: val_categorical_accuracy did not improve from 0.87855\n",
      "\u001b[1m31/31\u001b[0m \u001b[32m━━━━━━━━━━━━━━━━━━━━\u001b[0m\u001b[37m\u001b[0m \u001b[1m2s\u001b[0m 52ms/step - categorical_accuracy: 0.9939 - loss: 1.0311 - top5: 1.0000 - val_categorical_accuracy: 0.8708 - val_loss: 1.3454 - val_top5: 0.9845 - learning_rate: 4.5049e-05\n",
      "Epoch 82/100\n",
      "\u001b[1m31/31\u001b[0m \u001b[32m━━━━━━━━━━━━━━━━━━━━\u001b[0m\u001b[37m\u001b[0m \u001b[1m0s\u001b[0m 49ms/step - categorical_accuracy: 0.9952 - loss: 1.0155 - top5: 0.9990\n",
      "Epoch 82: val_categorical_accuracy did not improve from 0.87855\n",
      "\u001b[1m31/31\u001b[0m \u001b[32m━━━━━━━━━━━━━━━━━━━━\u001b[0m\u001b[37m\u001b[0m \u001b[1m2s\u001b[0m 52ms/step - categorical_accuracy: 0.9953 - loss: 1.0156 - top5: 0.9990 - val_categorical_accuracy: 0.8708 - val_loss: 1.3469 - val_top5: 0.9819 - learning_rate: 4.0762e-05\n",
      "Epoch 83/100\n",
      "\u001b[1m30/31\u001b[0m \u001b[32m━━━━━━━━━━━━━━━━━━━\u001b[0m\u001b[37m━\u001b[0m \u001b[1m0s\u001b[0m 50ms/step - categorical_accuracy: 0.9953 - loss: 1.0330 - top5: 0.9990\n",
      "Epoch 83: val_categorical_accuracy did not improve from 0.87855\n",
      "\u001b[1m31/31\u001b[0m \u001b[32m━━━━━━━━━━━━━━━━━━━━\u001b[0m\u001b[37m\u001b[0m \u001b[1m2s\u001b[0m 52ms/step - categorical_accuracy: 0.9952 - loss: 1.0331 - top5: 0.9990 - val_categorical_accuracy: 0.8708 - val_loss: 1.3447 - val_top5: 0.9845 - learning_rate: 3.6883e-05\n",
      "Epoch 84/100\n",
      "\u001b[1m30/31\u001b[0m \u001b[32m━━━━━━━━━━━━━━━━━━━\u001b[0m\u001b[37m━\u001b[0m \u001b[1m0s\u001b[0m 50ms/step - categorical_accuracy: 0.9928 - loss: 1.0369 - top5: 0.9959\n",
      "Epoch 84: val_categorical_accuracy did not improve from 0.87855\n",
      "\u001b[1m31/31\u001b[0m \u001b[32m━━━━━━━━━━━━━━━━━━━━\u001b[0m\u001b[37m\u001b[0m \u001b[1m2s\u001b[0m 52ms/step - categorical_accuracy: 0.9929 - loss: 1.0368 - top5: 0.9960 - val_categorical_accuracy: 0.8708 - val_loss: 1.3390 - val_top5: 0.9845 - learning_rate: 3.3373e-05\n",
      "Epoch 85/100\n",
      "\u001b[1m30/31\u001b[0m \u001b[32m━━━━━━━━━━━━━━━━━━━\u001b[0m\u001b[37m━\u001b[0m \u001b[1m0s\u001b[0m 50ms/step - categorical_accuracy: 0.9942 - loss: 1.0267 - top5: 0.9988\n",
      "Epoch 85: val_categorical_accuracy did not improve from 0.87855\n",
      "\u001b[1m31/31\u001b[0m \u001b[32m━━━━━━━━━━━━━━━━━━━━\u001b[0m\u001b[37m\u001b[0m \u001b[1m2s\u001b[0m 52ms/step - categorical_accuracy: 0.9941 - loss: 1.0266 - top5: 0.9989 - val_categorical_accuracy: 0.8708 - val_loss: 1.3414 - val_top5: 0.9845 - learning_rate: 3.0197e-05\n",
      "Epoch 86/100\n",
      "\u001b[1m31/31\u001b[0m \u001b[32m━━━━━━━━━━━━━━━━━━━━\u001b[0m\u001b[37m\u001b[0m \u001b[1m0s\u001b[0m 49ms/step - categorical_accuracy: 0.9932 - loss: 1.0353 - top5: 0.9975\n",
      "Epoch 86: val_categorical_accuracy did not improve from 0.87855\n",
      "\u001b[1m31/31\u001b[0m \u001b[32m━━━━━━━━━━━━━━━━━━━━\u001b[0m\u001b[37m\u001b[0m \u001b[1m2s\u001b[0m 52ms/step - categorical_accuracy: 0.9932 - loss: 1.0354 - top5: 0.9975 - val_categorical_accuracy: 0.8760 - val_loss: 1.3393 - val_top5: 0.9845 - learning_rate: 2.7324e-05\n",
      "Epoch 87/100\n",
      "\u001b[1m30/31\u001b[0m \u001b[32m━━━━━━━━━━━━━━━━━━━\u001b[0m\u001b[37m━\u001b[0m \u001b[1m0s\u001b[0m 50ms/step - categorical_accuracy: 0.9947 - loss: 1.0296 - top5: 0.9993\n",
      "Epoch 87: val_categorical_accuracy did not improve from 0.87855\n",
      "\u001b[1m31/31\u001b[0m \u001b[32m━━━━━━━━━━━━━━━━━━━━\u001b[0m\u001b[37m\u001b[0m \u001b[1m2s\u001b[0m 52ms/step - categorical_accuracy: 0.9948 - loss: 1.0292 - top5: 0.9993 - val_categorical_accuracy: 0.8760 - val_loss: 1.3358 - val_top5: 0.9845 - learning_rate: 2.4723e-05\n",
      "Epoch 88/100\n",
      "\u001b[1m31/31\u001b[0m \u001b[32m━━━━━━━━━━━━━━━━━━━━\u001b[0m\u001b[37m\u001b[0m \u001b[1m0s\u001b[0m 48ms/step - categorical_accuracy: 0.9972 - loss: 1.0212 - top5: 0.9993\n",
      "Epoch 88: val_categorical_accuracy did not improve from 0.87855\n",
      "\u001b[1m31/31\u001b[0m \u001b[32m━━━━━━━━━━━━━━━━━━━━\u001b[0m\u001b[37m\u001b[0m \u001b[1m2s\u001b[0m 54ms/step - categorical_accuracy: 0.9971 - loss: 1.0213 - top5: 0.9993 - val_categorical_accuracy: 0.8786 - val_loss: 1.3359 - val_top5: 0.9845 - learning_rate: 2.2371e-05\n",
      "Epoch 89/100\n",
      "\u001b[1m30/31\u001b[0m \u001b[32m━━━━━━━━━━━━━━━━━━━\u001b[0m\u001b[37m━\u001b[0m \u001b[1m0s\u001b[0m 50ms/step - categorical_accuracy: 0.9967 - loss: 1.0135 - top5: 0.9987\n",
      "Epoch 89: val_categorical_accuracy did not improve from 0.87855\n",
      "\u001b[1m31/31\u001b[0m \u001b[32m━━━━━━━━━━━━━━━━━━━━\u001b[0m\u001b[37m\u001b[0m \u001b[1m2s\u001b[0m 52ms/step - categorical_accuracy: 0.9967 - loss: 1.0137 - top5: 0.9987 - val_categorical_accuracy: 0.8734 - val_loss: 1.3372 - val_top5: 0.9819 - learning_rate: 2.0242e-05\n",
      "Epoch 90/100\n",
      "\u001b[1m30/31\u001b[0m \u001b[32m━━━━━━━━━━━━━━━━━━━\u001b[0m\u001b[37m━\u001b[0m \u001b[1m0s\u001b[0m 50ms/step - categorical_accuracy: 0.9901 - loss: 1.0295 - top5: 0.9988\n",
      "Epoch 90: val_categorical_accuracy did not improve from 0.87855\n",
      "\u001b[1m31/31\u001b[0m \u001b[32m━━━━━━━━━━━━━━━━━━━━\u001b[0m\u001b[37m\u001b[0m \u001b[1m2s\u001b[0m 52ms/step - categorical_accuracy: 0.9901 - loss: 1.0297 - top5: 0.9987 - val_categorical_accuracy: 0.8734 - val_loss: 1.3361 - val_top5: 0.9845 - learning_rate: 1.8316e-05\n",
      "Epoch 91/100\n",
      "\u001b[1m30/31\u001b[0m \u001b[32m━━━━━━━━━━━━━━━━━━━\u001b[0m\u001b[37m━\u001b[0m \u001b[1m0s\u001b[0m 50ms/step - categorical_accuracy: 0.9942 - loss: 1.0217 - top5: 0.9987\n",
      "Epoch 91: val_categorical_accuracy did not improve from 0.87855\n",
      "\u001b[1m31/31\u001b[0m \u001b[32m━━━━━━━━━━━━━━━━━━━━\u001b[0m\u001b[37m\u001b[0m \u001b[1m2s\u001b[0m 53ms/step - categorical_accuracy: 0.9942 - loss: 1.0222 - top5: 0.9987 - val_categorical_accuracy: 0.8734 - val_loss: 1.3373 - val_top5: 0.9845 - learning_rate: 1.6573e-05\n",
      "Epoch 92/100\n",
      "\u001b[1m31/31\u001b[0m \u001b[32m━━━━━━━━━━━━━━━━━━━━\u001b[0m\u001b[37m\u001b[0m \u001b[1m0s\u001b[0m 49ms/step - categorical_accuracy: 0.9916 - loss: 1.0345 - top5: 0.9976\n",
      "Epoch 92: val_categorical_accuracy did not improve from 0.87855\n",
      "\u001b[1m31/31\u001b[0m \u001b[32m━━━━━━━━━━━━━━━━━━━━\u001b[0m\u001b[37m\u001b[0m \u001b[1m2s\u001b[0m 53ms/step - categorical_accuracy: 0.9916 - loss: 1.0344 - top5: 0.9976 - val_categorical_accuracy: 0.8760 - val_loss: 1.3357 - val_top5: 0.9845 - learning_rate: 1.4996e-05\n",
      "Epoch 93/100\n",
      "\u001b[1m30/31\u001b[0m \u001b[32m━━━━━━━━━━━━━━━━━━━\u001b[0m\u001b[37m━\u001b[0m \u001b[1m0s\u001b[0m 50ms/step - categorical_accuracy: 0.9910 - loss: 1.0287 - top5: 0.9969\n",
      "Epoch 93: val_categorical_accuracy did not improve from 0.87855\n",
      "\u001b[1m31/31\u001b[0m \u001b[32m━━━━━━━━━━━━━━━━━━━━\u001b[0m\u001b[37m\u001b[0m \u001b[1m2s\u001b[0m 52ms/step - categorical_accuracy: 0.9910 - loss: 1.0285 - top5: 0.9970 - val_categorical_accuracy: 0.8760 - val_loss: 1.3376 - val_top5: 0.9871 - learning_rate: 1.3569e-05\n",
      "Epoch 94/100\n",
      "\u001b[1m30/31\u001b[0m \u001b[32m━━━━━━━━━━━━━━━━━━━\u001b[0m\u001b[37m━\u001b[0m \u001b[1m0s\u001b[0m 50ms/step - categorical_accuracy: 0.9926 - loss: 1.0334 - top5: 0.9987\n",
      "Epoch 94: val_categorical_accuracy did not improve from 0.87855\n",
      "\u001b[1m31/31\u001b[0m \u001b[32m━━━━━━━━━━━━━━━━━━━━\u001b[0m\u001b[37m\u001b[0m \u001b[1m2s\u001b[0m 53ms/step - categorical_accuracy: 0.9927 - loss: 1.0328 - top5: 0.9987 - val_categorical_accuracy: 0.8786 - val_loss: 1.3376 - val_top5: 0.9845 - learning_rate: 1.2277e-05\n",
      "Epoch 95/100\n",
      "\u001b[1m30/31\u001b[0m \u001b[32m━━━━━━━━━━━━━━━━━━━\u001b[0m\u001b[37m━\u001b[0m \u001b[1m0s\u001b[0m 50ms/step - categorical_accuracy: 0.9883 - loss: 1.0317 - top5: 0.9998\n",
      "Epoch 95: val_categorical_accuracy did not improve from 0.87855\n",
      "\u001b[1m31/31\u001b[0m \u001b[32m━━━━━━━━━━━━━━━━━━━━\u001b[0m\u001b[37m\u001b[0m \u001b[1m2s\u001b[0m 52ms/step - categorical_accuracy: 0.9886 - loss: 1.0313 - top5: 0.9997 - val_categorical_accuracy: 0.8760 - val_loss: 1.3379 - val_top5: 0.9845 - learning_rate: 1.1109e-05\n",
      "Epoch 96/100\n",
      "\u001b[1m30/31\u001b[0m \u001b[32m━━━━━━━━━━━━━━━━━━━\u001b[0m\u001b[37m━\u001b[0m \u001b[1m0s\u001b[0m 50ms/step - categorical_accuracy: 0.9977 - loss: 1.0119 - top5: 1.0000\n",
      "Epoch 96: val_categorical_accuracy did not improve from 0.87855\n",
      "\u001b[1m31/31\u001b[0m \u001b[32m━━━━━━━━━━━━━━━━━━━━\u001b[0m\u001b[37m\u001b[0m \u001b[1m2s\u001b[0m 53ms/step - categorical_accuracy: 0.9977 - loss: 1.0120 - top5: 1.0000 - val_categorical_accuracy: 0.8786 - val_loss: 1.3371 - val_top5: 0.9845 - learning_rate: 1.0052e-05\n",
      "Epoch 97/100\n",
      "\u001b[1m30/31\u001b[0m \u001b[32m━━━━━━━━━━━━━━━━━━━\u001b[0m\u001b[37m━\u001b[0m \u001b[1m0s\u001b[0m 50ms/step - categorical_accuracy: 0.9974 - loss: 1.0119 - top5: 0.9991\n",
      "Epoch 97: val_categorical_accuracy did not improve from 0.87855\n",
      "\u001b[1m31/31\u001b[0m \u001b[32m━━━━━━━━━━━━━━━━━━━━\u001b[0m\u001b[37m\u001b[0m \u001b[1m2s\u001b[0m 52ms/step - categorical_accuracy: 0.9973 - loss: 1.0122 - top5: 0.9991 - val_categorical_accuracy: 0.8786 - val_loss: 1.3378 - val_top5: 0.9845 - learning_rate: 9.0953e-06\n",
      "Epoch 98/100\n",
      "\u001b[1m31/31\u001b[0m \u001b[32m━━━━━━━━━━━━━━━━━━━━\u001b[0m\u001b[37m\u001b[0m \u001b[1m0s\u001b[0m 50ms/step - categorical_accuracy: 0.9959 - loss: 1.0245 - top5: 0.9996\n",
      "Epoch 98: val_categorical_accuracy did not improve from 0.87855\n",
      "\u001b[1m31/31\u001b[0m \u001b[32m━━━━━━━━━━━━━━━━━━━━\u001b[0m\u001b[37m\u001b[0m \u001b[1m2s\u001b[0m 53ms/step - categorical_accuracy: 0.9959 - loss: 1.0246 - top5: 0.9996 - val_categorical_accuracy: 0.8786 - val_loss: 1.3377 - val_top5: 0.9845 - learning_rate: 8.2297e-06\n",
      "Epoch 99/100\n",
      "\u001b[1m31/31\u001b[0m \u001b[32m━━━━━━━━━━━━━━━━━━━━\u001b[0m\u001b[37m\u001b[0m \u001b[1m0s\u001b[0m 48ms/step - categorical_accuracy: 0.9995 - loss: 1.0168 - top5: 1.0000\n",
      "Epoch 99: val_categorical_accuracy did not improve from 0.87855\n",
      "\u001b[1m31/31\u001b[0m \u001b[32m━━━━━━━━━━━━━━━━━━━━\u001b[0m\u001b[37m\u001b[0m \u001b[1m2s\u001b[0m 52ms/step - categorical_accuracy: 0.9994 - loss: 1.0170 - top5: 1.0000 - val_categorical_accuracy: 0.8760 - val_loss: 1.3358 - val_top5: 0.9845 - learning_rate: 7.4466e-06\n",
      "Epoch 100/100\n",
      "\u001b[1m31/31\u001b[0m \u001b[32m━━━━━━━━━━━━━━━━━━━━\u001b[0m\u001b[37m\u001b[0m \u001b[1m0s\u001b[0m 49ms/step - categorical_accuracy: 0.9926 - loss: 1.0307 - top5: 0.9992\n",
      "Epoch 100: val_categorical_accuracy did not improve from 0.87855\n",
      "\u001b[1m31/31\u001b[0m \u001b[32m━━━━━━━━━━━━━━━━━━━━\u001b[0m\u001b[37m\u001b[0m \u001b[1m2s\u001b[0m 52ms/step - categorical_accuracy: 0.9927 - loss: 1.0305 - top5: 0.9992 - val_categorical_accuracy: 0.8760 - val_loss: 1.3380 - val_top5: 0.9845 - learning_rate: 6.7379e-06\n"
     ]
    }
   ],
   "source": [
    "history = model.fit(X_train, Y_train, epochs=EPOCHS, batch_size=64, validation_data=(X_val, Y_val), callbacks=callbacks_list, shuffle=True)"
   ]
  },
  {
   "cell_type": "code",
   "execution_count": 672,
   "metadata": {
    "execution": {
     "iopub.execute_input": "2024-06-16T09:38:25.528472Z",
     "iopub.status.busy": "2024-06-16T09:38:25.527838Z",
     "iopub.status.idle": "2024-06-16T09:38:31.398861Z",
     "shell.execute_reply": "2024-06-16T09:38:31.398077Z",
     "shell.execute_reply.started": "2024-06-16T09:38:25.528432Z"
    },
    "trusted": true
   },
   "outputs": [
    {
     "name": "stderr",
     "output_type": "stream",
     "text": [
      "/opt/conda/lib/python3.10/site-packages/keras/src/layers/layer.py:361: UserWarning: `build()` was called on layer '79_dwconv', however the layer does not have a `build()` method implemented and it looks like it has unbuilt state. This will cause the layer to be marked as built, despite not being actually built, which may cause failures down the line. Make sure to implement a proper `build()` method.\n",
      "  warnings.warn(\n",
      "/opt/conda/lib/python3.10/site-packages/keras/src/layers/layer.py:361: UserWarning: `build()` was called on layer 'eca_78', however the layer does not have a `build()` method implemented and it looks like it has unbuilt state. This will cause the layer to be marked as built, despite not being actually built, which may cause failures down the line. Make sure to implement a proper `build()` method.\n",
      "  warnings.warn(\n",
      "/opt/conda/lib/python3.10/site-packages/keras/src/layers/layer.py:361: UserWarning: `build()` was called on layer '80_dwconv', however the layer does not have a `build()` method implemented and it looks like it has unbuilt state. This will cause the layer to be marked as built, despite not being actually built, which may cause failures down the line. Make sure to implement a proper `build()` method.\n",
      "  warnings.warn(\n",
      "/opt/conda/lib/python3.10/site-packages/keras/src/layers/layer.py:361: UserWarning: `build()` was called on layer 'eca_79', however the layer does not have a `build()` method implemented and it looks like it has unbuilt state. This will cause the layer to be marked as built, despite not being actually built, which may cause failures down the line. Make sure to implement a proper `build()` method.\n",
      "  warnings.warn(\n",
      "/opt/conda/lib/python3.10/site-packages/keras/src/layers/layer.py:361: UserWarning: `build()` was called on layer '81_dwconv', however the layer does not have a `build()` method implemented and it looks like it has unbuilt state. This will cause the layer to be marked as built, despite not being actually built, which may cause failures down the line. Make sure to implement a proper `build()` method.\n",
      "  warnings.warn(\n",
      "/opt/conda/lib/python3.10/site-packages/keras/src/layers/layer.py:361: UserWarning: `build()` was called on layer 'eca_80', however the layer does not have a `build()` method implemented and it looks like it has unbuilt state. This will cause the layer to be marked as built, despite not being actually built, which may cause failures down the line. Make sure to implement a proper `build()` method.\n",
      "  warnings.warn(\n",
      "/opt/conda/lib/python3.10/site-packages/keras/src/layers/layer.py:361: UserWarning: `build()` was called on layer 'multi_head_self_attention_26', however the layer does not have a `build()` method implemented and it looks like it has unbuilt state. This will cause the layer to be marked as built, despite not being actually built, which may cause failures down the line. Make sure to implement a proper `build()` method.\n",
      "  warnings.warn(\n",
      "/opt/conda/lib/python3.10/site-packages/keras/src/layers/layer.py:361: UserWarning: `build()` was called on layer '82_dwconv', however the layer does not have a `build()` method implemented and it looks like it has unbuilt state. This will cause the layer to be marked as built, despite not being actually built, which may cause failures down the line. Make sure to implement a proper `build()` method.\n",
      "  warnings.warn(\n",
      "/opt/conda/lib/python3.10/site-packages/keras/src/layers/layer.py:361: UserWarning: `build()` was called on layer 'eca_81', however the layer does not have a `build()` method implemented and it looks like it has unbuilt state. This will cause the layer to be marked as built, despite not being actually built, which may cause failures down the line. Make sure to implement a proper `build()` method.\n",
      "  warnings.warn(\n",
      "/opt/conda/lib/python3.10/site-packages/keras/src/layers/layer.py:361: UserWarning: `build()` was called on layer '83_dwconv', however the layer does not have a `build()` method implemented and it looks like it has unbuilt state. This will cause the layer to be marked as built, despite not being actually built, which may cause failures down the line. Make sure to implement a proper `build()` method.\n",
      "  warnings.warn(\n",
      "/opt/conda/lib/python3.10/site-packages/keras/src/layers/layer.py:361: UserWarning: `build()` was called on layer 'eca_82', however the layer does not have a `build()` method implemented and it looks like it has unbuilt state. This will cause the layer to be marked as built, despite not being actually built, which may cause failures down the line. Make sure to implement a proper `build()` method.\n",
      "  warnings.warn(\n",
      "/opt/conda/lib/python3.10/site-packages/keras/src/layers/layer.py:361: UserWarning: `build()` was called on layer '84_dwconv', however the layer does not have a `build()` method implemented and it looks like it has unbuilt state. This will cause the layer to be marked as built, despite not being actually built, which may cause failures down the line. Make sure to implement a proper `build()` method.\n",
      "  warnings.warn(\n",
      "/opt/conda/lib/python3.10/site-packages/keras/src/layers/layer.py:361: UserWarning: `build()` was called on layer 'eca_83', however the layer does not have a `build()` method implemented and it looks like it has unbuilt state. This will cause the layer to be marked as built, despite not being actually built, which may cause failures down the line. Make sure to implement a proper `build()` method.\n",
      "  warnings.warn(\n",
      "/opt/conda/lib/python3.10/site-packages/keras/src/layers/layer.py:361: UserWarning: `build()` was called on layer 'multi_head_self_attention_27', however the layer does not have a `build()` method implemented and it looks like it has unbuilt state. This will cause the layer to be marked as built, despite not being actually built, which may cause failures down the line. Make sure to implement a proper `build()` method.\n",
      "  warnings.warn(\n"
     ]
    },
    {
     "name": "stdout",
     "output_type": "stream",
     "text": [
      "\u001b[1m15/40\u001b[0m \u001b[32m━━━━━━━\u001b[0m\u001b[37m━━━━━━━━━━━━━\u001b[0m \u001b[1m0s\u001b[0m 12ms/step - categorical_accuracy: 0.8240 - loss: 1.5368 - top5: 0.9371"
     ]
    },
    {
     "name": "stderr",
     "output_type": "stream",
     "text": [
      "W0000 00:00:1718530709.877203     142 graph_launch.cc:671] Fallback to op-by-op mode because memset node breaks graph update\n",
      "W0000 00:00:1718530709.878051     142 graph_launch.cc:671] Fallback to op-by-op mode because memset node breaks graph update\n",
      "W0000 00:00:1718530709.878634     142 graph_launch.cc:671] Fallback to op-by-op mode because memset node breaks graph update\n",
      "W0000 00:00:1718530709.879239     142 graph_launch.cc:671] Fallback to op-by-op mode because memset node breaks graph update\n",
      "W0000 00:00:1718530709.879896     142 graph_launch.cc:671] Fallback to op-by-op mode because memset node breaks graph update\n",
      "W0000 00:00:1718530709.880452     142 graph_launch.cc:671] Fallback to op-by-op mode because memset node breaks graph update\n",
      "W0000 00:00:1718530709.881117     142 graph_launch.cc:671] Fallback to op-by-op mode because memset node breaks graph update\n"
     ]
    },
    {
     "name": "stdout",
     "output_type": "stream",
     "text": [
      "\u001b[1m40/40\u001b[0m \u001b[32m━━━━━━━━━━━━━━━━━━━━\u001b[0m\u001b[37m\u001b[0m \u001b[1m3s\u001b[0m 38ms/step - categorical_accuracy: 0.8132 - loss: 1.5542 - top5: 0.9337\n"
     ]
    }
   ],
   "source": [
    "# model.summary()\n",
    "loaded_model = load_model('best_model_transformer.keras', custom_objects={\"ECA\": ECA, \"MultiHeadSelfAttention\":MultiHeadSelfAttention})\n",
    "x = loaded_model.evaluate(X_test, Y_test)"
   ]
  },
  {
   "cell_type": "code",
   "execution_count": null,
   "metadata": {
    "execution": {
     "iopub.execute_input": "2024-06-16T09:38:31.400548Z",
     "iopub.status.busy": "2024-06-16T09:38:31.400263Z",
     "iopub.status.idle": "2024-06-16T09:38:32.436960Z",
     "shell.execute_reply": "2024-06-16T09:38:32.435985Z",
     "shell.execute_reply.started": "2024-06-16T09:38:31.400522Z"
    },
    "trusted": true
   },
   "outputs": [
    {
     "data": {
      "image/png": "[encoded data removed]",
      "text/plain": [
       "<Figure size 1200x1000 with 2 Axes>"
      ]
     },
     "metadata": {},
     "output_type": "display_data"
    }
   ],
   "source": [
    "ploturiSiSave(history, \"transformerplot\")"
   ]
  },
  {
   "cell_type": "code",
   "execution_count": null,
   "metadata": {
    "execution": {
     "iopub.execute_input": "2024-06-16T09:43:23.833237Z",
     "iopub.status.busy": "2024-06-16T09:43:23.832399Z",
     "iopub.status.idle": "2024-06-16T09:43:24.102535Z",
     "shell.execute_reply": "2024-06-16T09:43:24.101584Z",
     "shell.execute_reply.started": "2024-06-16T09:43:23.833198Z"
    },
    "trusted": true
   },
   "outputs": [
    {
     "data": {
      "image/png": "[encoded data removed]",
      "text/plain": [
       "<Figure size 640x480 with 1 Axes>"
      ]
     },
     "metadata": {},
     "output_type": "display_data"
    }
   ],
   "source": [
    "def lr_scheduler(epoch, lr):\n",
    "    return lr * np.exp(-0.1) if epoch >= 50 else lr\n",
    "\n",
    "initial_lr = 1e-3  \n",
    "num_epochs = 100 \n",
    "lr = initial_lr\n",
    "learning_rates = []\n",
    "for epoch in range(num_epochs):\n",
    "    lr = lr_scheduler(epoch, lr)\n",
    "    learning_rates.append(lr)\n",
    "\n",
    "epochs = np.arange(1, num_epochs + 1)\n",
    "plt.plot(epochs, learning_rates)\n",
    "plt.xlabel('Epochs')\n",
    "plt.ylabel('Learning Rate')\n",
    "plt.title('Variation of Learning Rate with Epochs')\n",
    "plt.show()\n"
   ]
  },
  {
   "cell_type": "code",
   "execution_count": 678,
   "metadata": {
    "execution": {
     "iopub.execute_input": "2024-06-16T09:43:25.578077Z",
     "iopub.status.busy": "2024-06-16T09:43:25.577733Z",
     "iopub.status.idle": "2024-06-16T09:43:25.690029Z",
     "shell.execute_reply": "2024-06-16T09:43:25.689132Z",
     "shell.execute_reply.started": "2024-06-16T09:43:25.578045Z"
    },
    "trusted": true
   },
   "outputs": [
    {
     "data": {
      "text/html": [
       "<pre style=\"white-space:pre;overflow-x:auto;line-height:normal;font-family:Menlo,'DejaVu Sans Mono',consolas,'Courier New',monospace\"><span style=\"font-weight: bold\">Model: \"functional_61\"</span>\n",
       "</pre>\n"
      ],
      "text/plain": [
       "\u001b[1mModel: \"functional_61\"\u001b[0m\n"
      ]
     },
     "metadata": {},
     "output_type": "display_data"
    },
    {
     "data": {
      "text/html": [
       "<pre style=\"white-space:pre;overflow-x:auto;line-height:normal;font-family:Menlo,'DejaVu Sans Mono',consolas,'Courier New',monospace\">┏━━━━━━━━━━━━━━━━━━━━━┳━━━━━━━━━━━━━━━━━━━┳━━━━━━━━━━━━┳━━━━━━━━━━━━━━━━━━━┓\n",
       "┃<span style=\"font-weight: bold\"> Layer (type)        </span>┃<span style=\"font-weight: bold\"> Output Shape      </span>┃<span style=\"font-weight: bold\">    Param # </span>┃<span style=\"font-weight: bold\"> Connected to      </span>┃\n",
       "┡━━━━━━━━━━━━━━━━━━━━━╇━━━━━━━━━━━━━━━━━━━╇━━━━━━━━━━━━╇━━━━━━━━━━━━━━━━━━━┩\n",
       "│ input (<span style=\"color: #0087ff; text-decoration-color: #0087ff\">InputLayer</span>)  │ (<span style=\"color: #00d7ff; text-decoration-color: #00d7ff\">None</span>, <span style=\"color: #00af00; text-decoration-color: #00af00\">82</span>, <span style=\"color: #00af00; text-decoration-color: #00af00\">124</span>,   │          <span style=\"color: #00af00; text-decoration-color: #00af00\">0</span> │ -                 │\n",
       "│                     │ <span style=\"color: #00af00; text-decoration-color: #00af00\">3</span>)                │            │                   │\n",
       "├─────────────────────┼───────────────────┼────────────┼───────────────────┤\n",
       "│ my_layer_13         │ (<span style=\"color: #00d7ff; text-decoration-color: #00d7ff\">None</span>, <span style=\"color: #00af00; text-decoration-color: #00af00\">82</span>, <span style=\"color: #00af00; text-decoration-color: #00af00\">372</span>)   │          <span style=\"color: #00af00; text-decoration-color: #00af00\">0</span> │ input[<span style=\"color: #00af00; text-decoration-color: #00af00\">0</span>][<span style=\"color: #00af00; text-decoration-color: #00af00\">0</span>]       │\n",
       "│ (<span style=\"color: #0087ff; text-decoration-color: #0087ff\">MyLayer</span>)           │                   │            │                   │\n",
       "├─────────────────────┼───────────────────┼────────────┼───────────────────┤\n",
       "│ stem_conv (<span style=\"color: #0087ff; text-decoration-color: #0087ff\">Dense</span>)   │ (<span style=\"color: #00d7ff; text-decoration-color: #00d7ff\">None</span>, <span style=\"color: #00af00; text-decoration-color: #00af00\">82</span>, <span style=\"color: #00af00; text-decoration-color: #00af00\">192</span>)   │     <span style=\"color: #00af00; text-decoration-color: #00af00\">71,424</span> │ my_layer_13[<span style=\"color: #00af00; text-decoration-color: #00af00\">0</span>][<span style=\"color: #00af00; text-decoration-color: #00af00\">0</span>] │\n",
       "├─────────────────────┼───────────────────┼────────────┼───────────────────┤\n",
       "│ stem_bn             │ (<span style=\"color: #00d7ff; text-decoration-color: #00d7ff\">None</span>, <span style=\"color: #00af00; text-decoration-color: #00af00\">82</span>, <span style=\"color: #00af00; text-decoration-color: #00af00\">192</span>)   │        <span style=\"color: #00af00; text-decoration-color: #00af00\">768</span> │ stem_conv[<span style=\"color: #00af00; text-decoration-color: #00af00\">0</span>][<span style=\"color: #00af00; text-decoration-color: #00af00\">0</span>]   │\n",
       "│ (<span style=\"color: #0087ff; text-decoration-color: #0087ff\">BatchNormalizatio…</span> │                   │            │                   │\n",
       "├─────────────────────┼───────────────────┼────────────┼───────────────────┤\n",
       "│ 79_expand_conv      │ (<span style=\"color: #00d7ff; text-decoration-color: #00d7ff\">None</span>, <span style=\"color: #00af00; text-decoration-color: #00af00\">82</span>, <span style=\"color: #00af00; text-decoration-color: #00af00\">384</span>)   │     <span style=\"color: #00af00; text-decoration-color: #00af00\">74,112</span> │ stem_bn[<span style=\"color: #00af00; text-decoration-color: #00af00\">0</span>][<span style=\"color: #00af00; text-decoration-color: #00af00\">0</span>]     │\n",
       "│ (<span style=\"color: #0087ff; text-decoration-color: #0087ff\">Dense</span>)             │                   │            │                   │\n",
       "├─────────────────────┼───────────────────┼────────────┼───────────────────┤\n",
       "│ 79_dwconv           │ (<span style=\"color: #00d7ff; text-decoration-color: #00d7ff\">None</span>, <span style=\"color: #00af00; text-decoration-color: #00af00\">82</span>, <span style=\"color: #00af00; text-decoration-color: #00af00\">384</span>)   │      <span style=\"color: #00af00; text-decoration-color: #00af00\">6,528</span> │ 79_expand_conv[<span style=\"color: #00af00; text-decoration-color: #00af00\">0</span>… │\n",
       "│ (<span style=\"color: #0087ff; text-decoration-color: #0087ff\">CausalDWConv1D</span>)    │                   │            │                   │\n",
       "├─────────────────────┼───────────────────┼────────────┼───────────────────┤\n",
       "│ 79_bn               │ (<span style=\"color: #00d7ff; text-decoration-color: #00d7ff\">None</span>, <span style=\"color: #00af00; text-decoration-color: #00af00\">82</span>, <span style=\"color: #00af00; text-decoration-color: #00af00\">384</span>)   │      <span style=\"color: #00af00; text-decoration-color: #00af00\">1,536</span> │ 79_dwconv[<span style=\"color: #00af00; text-decoration-color: #00af00\">0</span>][<span style=\"color: #00af00; text-decoration-color: #00af00\">0</span>]   │\n",
       "│ (<span style=\"color: #0087ff; text-decoration-color: #0087ff\">BatchNormalizatio…</span> │                   │            │                   │\n",
       "├─────────────────────┼───────────────────┼────────────┼───────────────────┤\n",
       "│ eca_78 (<span style=\"color: #0087ff; text-decoration-color: #0087ff\">ECA</span>)        │ (<span style=\"color: #00d7ff; text-decoration-color: #00d7ff\">None</span>, <span style=\"color: #00af00; text-decoration-color: #00af00\">82</span>, <span style=\"color: #00af00; text-decoration-color: #00af00\">384</span>)   │          <span style=\"color: #00af00; text-decoration-color: #00af00\">5</span> │ 79_bn[<span style=\"color: #00af00; text-decoration-color: #00af00\">0</span>][<span style=\"color: #00af00; text-decoration-color: #00af00\">0</span>]       │\n",
       "├─────────────────────┼───────────────────┼────────────┼───────────────────┤\n",
       "│ 79_project_conv     │ (<span style=\"color: #00d7ff; text-decoration-color: #00d7ff\">None</span>, <span style=\"color: #00af00; text-decoration-color: #00af00\">82</span>, <span style=\"color: #00af00; text-decoration-color: #00af00\">192</span>)   │     <span style=\"color: #00af00; text-decoration-color: #00af00\">73,920</span> │ eca_78[<span style=\"color: #00af00; text-decoration-color: #00af00\">0</span>][<span style=\"color: #00af00; text-decoration-color: #00af00\">0</span>]      │\n",
       "│ (<span style=\"color: #0087ff; text-decoration-color: #0087ff\">Dense</span>)             │                   │            │                   │\n",
       "├─────────────────────┼───────────────────┼────────────┼───────────────────┤\n",
       "│ 79_drop (<span style=\"color: #0087ff; text-decoration-color: #0087ff\">Dropout</span>)   │ (<span style=\"color: #00d7ff; text-decoration-color: #00d7ff\">None</span>, <span style=\"color: #00af00; text-decoration-color: #00af00\">82</span>, <span style=\"color: #00af00; text-decoration-color: #00af00\">192</span>)   │          <span style=\"color: #00af00; text-decoration-color: #00af00\">0</span> │ 79_project_conv[<span style=\"color: #00af00; text-decoration-color: #00af00\">…</span> │\n",
       "├─────────────────────┼───────────────────┼────────────┼───────────────────┤\n",
       "│ 79_add (<span style=\"color: #0087ff; text-decoration-color: #0087ff\">Add</span>)        │ (<span style=\"color: #00d7ff; text-decoration-color: #00d7ff\">None</span>, <span style=\"color: #00af00; text-decoration-color: #00af00\">82</span>, <span style=\"color: #00af00; text-decoration-color: #00af00\">192</span>)   │          <span style=\"color: #00af00; text-decoration-color: #00af00\">0</span> │ 79_drop[<span style=\"color: #00af00; text-decoration-color: #00af00\">0</span>][<span style=\"color: #00af00; text-decoration-color: #00af00\">0</span>],    │\n",
       "│                     │                   │            │ stem_bn[<span style=\"color: #00af00; text-decoration-color: #00af00\">0</span>][<span style=\"color: #00af00; text-decoration-color: #00af00\">0</span>]     │\n",
       "├─────────────────────┼───────────────────┼────────────┼───────────────────┤\n",
       "│ 80_expand_conv      │ (<span style=\"color: #00d7ff; text-decoration-color: #00d7ff\">None</span>, <span style=\"color: #00af00; text-decoration-color: #00af00\">82</span>, <span style=\"color: #00af00; text-decoration-color: #00af00\">384</span>)   │     <span style=\"color: #00af00; text-decoration-color: #00af00\">74,112</span> │ 79_add[<span style=\"color: #00af00; text-decoration-color: #00af00\">0</span>][<span style=\"color: #00af00; text-decoration-color: #00af00\">0</span>]      │\n",
       "│ (<span style=\"color: #0087ff; text-decoration-color: #0087ff\">Dense</span>)             │                   │            │                   │\n",
       "├─────────────────────┼───────────────────┼────────────┼───────────────────┤\n",
       "│ 80_dwconv           │ (<span style=\"color: #00d7ff; text-decoration-color: #00d7ff\">None</span>, <span style=\"color: #00af00; text-decoration-color: #00af00\">82</span>, <span style=\"color: #00af00; text-decoration-color: #00af00\">384</span>)   │      <span style=\"color: #00af00; text-decoration-color: #00af00\">6,528</span> │ 80_expand_conv[<span style=\"color: #00af00; text-decoration-color: #00af00\">0</span>… │\n",
       "│ (<span style=\"color: #0087ff; text-decoration-color: #0087ff\">CausalDWConv1D</span>)    │                   │            │                   │\n",
       "├─────────────────────┼───────────────────┼────────────┼───────────────────┤\n",
       "│ 80_bn               │ (<span style=\"color: #00d7ff; text-decoration-color: #00d7ff\">None</span>, <span style=\"color: #00af00; text-decoration-color: #00af00\">82</span>, <span style=\"color: #00af00; text-decoration-color: #00af00\">384</span>)   │      <span style=\"color: #00af00; text-decoration-color: #00af00\">1,536</span> │ 80_dwconv[<span style=\"color: #00af00; text-decoration-color: #00af00\">0</span>][<span style=\"color: #00af00; text-decoration-color: #00af00\">0</span>]   │\n",
       "│ (<span style=\"color: #0087ff; text-decoration-color: #0087ff\">BatchNormalizatio…</span> │                   │            │                   │\n",
       "├─────────────────────┼───────────────────┼────────────┼───────────────────┤\n",
       "│ eca_79 (<span style=\"color: #0087ff; text-decoration-color: #0087ff\">ECA</span>)        │ (<span style=\"color: #00d7ff; text-decoration-color: #00d7ff\">None</span>, <span style=\"color: #00af00; text-decoration-color: #00af00\">82</span>, <span style=\"color: #00af00; text-decoration-color: #00af00\">384</span>)   │          <span style=\"color: #00af00; text-decoration-color: #00af00\">5</span> │ 80_bn[<span style=\"color: #00af00; text-decoration-color: #00af00\">0</span>][<span style=\"color: #00af00; text-decoration-color: #00af00\">0</span>]       │\n",
       "├─────────────────────┼───────────────────┼────────────┼───────────────────┤\n",
       "│ 80_project_conv     │ (<span style=\"color: #00d7ff; text-decoration-color: #00d7ff\">None</span>, <span style=\"color: #00af00; text-decoration-color: #00af00\">82</span>, <span style=\"color: #00af00; text-decoration-color: #00af00\">192</span>)   │     <span style=\"color: #00af00; text-decoration-color: #00af00\">73,920</span> │ eca_79[<span style=\"color: #00af00; text-decoration-color: #00af00\">0</span>][<span style=\"color: #00af00; text-decoration-color: #00af00\">0</span>]      │\n",
       "│ (<span style=\"color: #0087ff; text-decoration-color: #0087ff\">Dense</span>)             │                   │            │                   │\n",
       "├─────────────────────┼───────────────────┼────────────┼───────────────────┤\n",
       "│ 80_drop (<span style=\"color: #0087ff; text-decoration-color: #0087ff\">Dropout</span>)   │ (<span style=\"color: #00d7ff; text-decoration-color: #00d7ff\">None</span>, <span style=\"color: #00af00; text-decoration-color: #00af00\">82</span>, <span style=\"color: #00af00; text-decoration-color: #00af00\">192</span>)   │          <span style=\"color: #00af00; text-decoration-color: #00af00\">0</span> │ 80_project_conv[<span style=\"color: #00af00; text-decoration-color: #00af00\">…</span> │\n",
       "├─────────────────────┼───────────────────┼────────────┼───────────────────┤\n",
       "│ 80_add (<span style=\"color: #0087ff; text-decoration-color: #0087ff\">Add</span>)        │ (<span style=\"color: #00d7ff; text-decoration-color: #00d7ff\">None</span>, <span style=\"color: #00af00; text-decoration-color: #00af00\">82</span>, <span style=\"color: #00af00; text-decoration-color: #00af00\">192</span>)   │          <span style=\"color: #00af00; text-decoration-color: #00af00\">0</span> │ 80_drop[<span style=\"color: #00af00; text-decoration-color: #00af00\">0</span>][<span style=\"color: #00af00; text-decoration-color: #00af00\">0</span>],    │\n",
       "│                     │                   │            │ 79_add[<span style=\"color: #00af00; text-decoration-color: #00af00\">0</span>][<span style=\"color: #00af00; text-decoration-color: #00af00\">0</span>]      │\n",
       "├─────────────────────┼───────────────────┼────────────┼───────────────────┤\n",
       "│ 81_expand_conv      │ (<span style=\"color: #00d7ff; text-decoration-color: #00d7ff\">None</span>, <span style=\"color: #00af00; text-decoration-color: #00af00\">82</span>, <span style=\"color: #00af00; text-decoration-color: #00af00\">384</span>)   │     <span style=\"color: #00af00; text-decoration-color: #00af00\">74,112</span> │ 80_add[<span style=\"color: #00af00; text-decoration-color: #00af00\">0</span>][<span style=\"color: #00af00; text-decoration-color: #00af00\">0</span>]      │\n",
       "│ (<span style=\"color: #0087ff; text-decoration-color: #0087ff\">Dense</span>)             │                   │            │                   │\n",
       "├─────────────────────┼───────────────────┼────────────┼───────────────────┤\n",
       "│ 81_dwconv           │ (<span style=\"color: #00d7ff; text-decoration-color: #00d7ff\">None</span>, <span style=\"color: #00af00; text-decoration-color: #00af00\">82</span>, <span style=\"color: #00af00; text-decoration-color: #00af00\">384</span>)   │      <span style=\"color: #00af00; text-decoration-color: #00af00\">6,528</span> │ 81_expand_conv[<span style=\"color: #00af00; text-decoration-color: #00af00\">0</span>… │\n",
       "│ (<span style=\"color: #0087ff; text-decoration-color: #0087ff\">CausalDWConv1D</span>)    │                   │            │                   │\n",
       "├─────────────────────┼───────────────────┼────────────┼───────────────────┤\n",
       "│ 81_bn               │ (<span style=\"color: #00d7ff; text-decoration-color: #00d7ff\">None</span>, <span style=\"color: #00af00; text-decoration-color: #00af00\">82</span>, <span style=\"color: #00af00; text-decoration-color: #00af00\">384</span>)   │      <span style=\"color: #00af00; text-decoration-color: #00af00\">1,536</span> │ 81_dwconv[<span style=\"color: #00af00; text-decoration-color: #00af00\">0</span>][<span style=\"color: #00af00; text-decoration-color: #00af00\">0</span>]   │\n",
       "│ (<span style=\"color: #0087ff; text-decoration-color: #0087ff\">BatchNormalizatio…</span> │                   │            │                   │\n",
       "├─────────────────────┼───────────────────┼────────────┼───────────────────┤\n",
       "│ eca_80 (<span style=\"color: #0087ff; text-decoration-color: #0087ff\">ECA</span>)        │ (<span style=\"color: #00d7ff; text-decoration-color: #00d7ff\">None</span>, <span style=\"color: #00af00; text-decoration-color: #00af00\">82</span>, <span style=\"color: #00af00; text-decoration-color: #00af00\">384</span>)   │          <span style=\"color: #00af00; text-decoration-color: #00af00\">5</span> │ 81_bn[<span style=\"color: #00af00; text-decoration-color: #00af00\">0</span>][<span style=\"color: #00af00; text-decoration-color: #00af00\">0</span>]       │\n",
       "├─────────────────────┼───────────────────┼────────────┼───────────────────┤\n",
       "│ 81_project_conv     │ (<span style=\"color: #00d7ff; text-decoration-color: #00d7ff\">None</span>, <span style=\"color: #00af00; text-decoration-color: #00af00\">82</span>, <span style=\"color: #00af00; text-decoration-color: #00af00\">192</span>)   │     <span style=\"color: #00af00; text-decoration-color: #00af00\">73,920</span> │ eca_80[<span style=\"color: #00af00; text-decoration-color: #00af00\">0</span>][<span style=\"color: #00af00; text-decoration-color: #00af00\">0</span>]      │\n",
       "│ (<span style=\"color: #0087ff; text-decoration-color: #0087ff\">Dense</span>)             │                   │            │                   │\n",
       "├─────────────────────┼───────────────────┼────────────┼───────────────────┤\n",
       "│ 81_drop (<span style=\"color: #0087ff; text-decoration-color: #0087ff\">Dropout</span>)   │ (<span style=\"color: #00d7ff; text-decoration-color: #00d7ff\">None</span>, <span style=\"color: #00af00; text-decoration-color: #00af00\">82</span>, <span style=\"color: #00af00; text-decoration-color: #00af00\">192</span>)   │          <span style=\"color: #00af00; text-decoration-color: #00af00\">0</span> │ 81_project_conv[<span style=\"color: #00af00; text-decoration-color: #00af00\">…</span> │\n",
       "├─────────────────────┼───────────────────┼────────────┼───────────────────┤\n",
       "│ 81_add (<span style=\"color: #0087ff; text-decoration-color: #0087ff\">Add</span>)        │ (<span style=\"color: #00d7ff; text-decoration-color: #00d7ff\">None</span>, <span style=\"color: #00af00; text-decoration-color: #00af00\">82</span>, <span style=\"color: #00af00; text-decoration-color: #00af00\">192</span>)   │          <span style=\"color: #00af00; text-decoration-color: #00af00\">0</span> │ 81_drop[<span style=\"color: #00af00; text-decoration-color: #00af00\">0</span>][<span style=\"color: #00af00; text-decoration-color: #00af00\">0</span>],    │\n",
       "│                     │                   │            │ 80_add[<span style=\"color: #00af00; text-decoration-color: #00af00\">0</span>][<span style=\"color: #00af00; text-decoration-color: #00af00\">0</span>]      │\n",
       "├─────────────────────┼───────────────────┼────────────┼───────────────────┤\n",
       "│ batch_normalizatio… │ (<span style=\"color: #00d7ff; text-decoration-color: #00d7ff\">None</span>, <span style=\"color: #00af00; text-decoration-color: #00af00\">82</span>, <span style=\"color: #00af00; text-decoration-color: #00af00\">192</span>)   │        <span style=\"color: #00af00; text-decoration-color: #00af00\">768</span> │ 81_add[<span style=\"color: #00af00; text-decoration-color: #00af00\">0</span>][<span style=\"color: #00af00; text-decoration-color: #00af00\">0</span>]      │\n",
       "│ (<span style=\"color: #0087ff; text-decoration-color: #0087ff\">BatchNormalizatio…</span> │                   │            │                   │\n",
       "├─────────────────────┼───────────────────┼────────────┼───────────────────┤\n",
       "│ multi_head_self_at… │ (<span style=\"color: #00d7ff; text-decoration-color: #00d7ff\">None</span>, <span style=\"color: #00af00; text-decoration-color: #00af00\">82</span>, <span style=\"color: #00af00; text-decoration-color: #00af00\">192</span>)   │    <span style=\"color: #00af00; text-decoration-color: #00af00\">147,456</span> │ batch_normalizat… │\n",
       "│ (<span style=\"color: #0087ff; text-decoration-color: #0087ff\">MultiHeadSelfAtte…</span> │                   │            │                   │\n",
       "├─────────────────────┼───────────────────┼────────────┼───────────────────┤\n",
       "│ dropout_159         │ (<span style=\"color: #00d7ff; text-decoration-color: #00d7ff\">None</span>, <span style=\"color: #00af00; text-decoration-color: #00af00\">82</span>, <span style=\"color: #00af00; text-decoration-color: #00af00\">192</span>)   │          <span style=\"color: #00af00; text-decoration-color: #00af00\">0</span> │ multi_head_self_… │\n",
       "│ (<span style=\"color: #0087ff; text-decoration-color: #0087ff\">Dropout</span>)           │                   │            │                   │\n",
       "├─────────────────────┼───────────────────┼────────────┼───────────────────┤\n",
       "│ add_52 (<span style=\"color: #0087ff; text-decoration-color: #0087ff\">Add</span>)        │ (<span style=\"color: #00d7ff; text-decoration-color: #00d7ff\">None</span>, <span style=\"color: #00af00; text-decoration-color: #00af00\">82</span>, <span style=\"color: #00af00; text-decoration-color: #00af00\">192</span>)   │          <span style=\"color: #00af00; text-decoration-color: #00af00\">0</span> │ 81_add[<span style=\"color: #00af00; text-decoration-color: #00af00\">0</span>][<span style=\"color: #00af00; text-decoration-color: #00af00\">0</span>],     │\n",
       "│                     │                   │            │ dropout_159[<span style=\"color: #00af00; text-decoration-color: #00af00\">0</span>][<span style=\"color: #00af00; text-decoration-color: #00af00\">0</span>] │\n",
       "├─────────────────────┼───────────────────┼────────────┼───────────────────┤\n",
       "│ batch_normalizatio… │ (<span style=\"color: #00d7ff; text-decoration-color: #00d7ff\">None</span>, <span style=\"color: #00af00; text-decoration-color: #00af00\">82</span>, <span style=\"color: #00af00; text-decoration-color: #00af00\">192</span>)   │        <span style=\"color: #00af00; text-decoration-color: #00af00\">768</span> │ add_52[<span style=\"color: #00af00; text-decoration-color: #00af00\">0</span>][<span style=\"color: #00af00; text-decoration-color: #00af00\">0</span>]      │\n",
       "│ (<span style=\"color: #0087ff; text-decoration-color: #0087ff\">BatchNormalizatio…</span> │                   │            │                   │\n",
       "├─────────────────────┼───────────────────┼────────────┼───────────────────┤\n",
       "│ dense_168 (<span style=\"color: #0087ff; text-decoration-color: #0087ff\">Dense</span>)   │ (<span style=\"color: #00d7ff; text-decoration-color: #00d7ff\">None</span>, <span style=\"color: #00af00; text-decoration-color: #00af00\">82</span>, <span style=\"color: #00af00; text-decoration-color: #00af00\">384</span>)   │     <span style=\"color: #00af00; text-decoration-color: #00af00\">73,728</span> │ batch_normalizat… │\n",
       "├─────────────────────┼───────────────────┼────────────┼───────────────────┤\n",
       "│ dense_169 (<span style=\"color: #0087ff; text-decoration-color: #0087ff\">Dense</span>)   │ (<span style=\"color: #00d7ff; text-decoration-color: #00d7ff\">None</span>, <span style=\"color: #00af00; text-decoration-color: #00af00\">82</span>, <span style=\"color: #00af00; text-decoration-color: #00af00\">192</span>)   │     <span style=\"color: #00af00; text-decoration-color: #00af00\">73,728</span> │ dense_168[<span style=\"color: #00af00; text-decoration-color: #00af00\">0</span>][<span style=\"color: #00af00; text-decoration-color: #00af00\">0</span>]   │\n",
       "├─────────────────────┼───────────────────┼────────────┼───────────────────┤\n",
       "│ dropout_160         │ (<span style=\"color: #00d7ff; text-decoration-color: #00d7ff\">None</span>, <span style=\"color: #00af00; text-decoration-color: #00af00\">82</span>, <span style=\"color: #00af00; text-decoration-color: #00af00\">192</span>)   │          <span style=\"color: #00af00; text-decoration-color: #00af00\">0</span> │ dense_169[<span style=\"color: #00af00; text-decoration-color: #00af00\">0</span>][<span style=\"color: #00af00; text-decoration-color: #00af00\">0</span>]   │\n",
       "│ (<span style=\"color: #0087ff; text-decoration-color: #0087ff\">Dropout</span>)           │                   │            │                   │\n",
       "├─────────────────────┼───────────────────┼────────────┼───────────────────┤\n",
       "│ add_53 (<span style=\"color: #0087ff; text-decoration-color: #0087ff\">Add</span>)        │ (<span style=\"color: #00d7ff; text-decoration-color: #00d7ff\">None</span>, <span style=\"color: #00af00; text-decoration-color: #00af00\">82</span>, <span style=\"color: #00af00; text-decoration-color: #00af00\">192</span>)   │          <span style=\"color: #00af00; text-decoration-color: #00af00\">0</span> │ add_52[<span style=\"color: #00af00; text-decoration-color: #00af00\">0</span>][<span style=\"color: #00af00; text-decoration-color: #00af00\">0</span>],     │\n",
       "│                     │                   │            │ dropout_160[<span style=\"color: #00af00; text-decoration-color: #00af00\">0</span>][<span style=\"color: #00af00; text-decoration-color: #00af00\">0</span>] │\n",
       "├─────────────────────┼───────────────────┼────────────┼───────────────────┤\n",
       "│ 82_expand_conv      │ (<span style=\"color: #00d7ff; text-decoration-color: #00d7ff\">None</span>, <span style=\"color: #00af00; text-decoration-color: #00af00\">82</span>, <span style=\"color: #00af00; text-decoration-color: #00af00\">384</span>)   │     <span style=\"color: #00af00; text-decoration-color: #00af00\">74,112</span> │ add_53[<span style=\"color: #00af00; text-decoration-color: #00af00\">0</span>][<span style=\"color: #00af00; text-decoration-color: #00af00\">0</span>]      │\n",
       "│ (<span style=\"color: #0087ff; text-decoration-color: #0087ff\">Dense</span>)             │                   │            │                   │\n",
       "├─────────────────────┼───────────────────┼────────────┼───────────────────┤\n",
       "│ 82_dwconv           │ (<span style=\"color: #00d7ff; text-decoration-color: #00d7ff\">None</span>, <span style=\"color: #00af00; text-decoration-color: #00af00\">82</span>, <span style=\"color: #00af00; text-decoration-color: #00af00\">384</span>)   │      <span style=\"color: #00af00; text-decoration-color: #00af00\">6,528</span> │ 82_expand_conv[<span style=\"color: #00af00; text-decoration-color: #00af00\">0</span>… │\n",
       "│ (<span style=\"color: #0087ff; text-decoration-color: #0087ff\">CausalDWConv1D</span>)    │                   │            │                   │\n",
       "├─────────────────────┼───────────────────┼────────────┼───────────────────┤\n",
       "│ 82_bn               │ (<span style=\"color: #00d7ff; text-decoration-color: #00d7ff\">None</span>, <span style=\"color: #00af00; text-decoration-color: #00af00\">82</span>, <span style=\"color: #00af00; text-decoration-color: #00af00\">384</span>)   │      <span style=\"color: #00af00; text-decoration-color: #00af00\">1,536</span> │ 82_dwconv[<span style=\"color: #00af00; text-decoration-color: #00af00\">0</span>][<span style=\"color: #00af00; text-decoration-color: #00af00\">0</span>]   │\n",
       "│ (<span style=\"color: #0087ff; text-decoration-color: #0087ff\">BatchNormalizatio…</span> │                   │            │                   │\n",
       "├─────────────────────┼───────────────────┼────────────┼───────────────────┤\n",
       "│ eca_81 (<span style=\"color: #0087ff; text-decoration-color: #0087ff\">ECA</span>)        │ (<span style=\"color: #00d7ff; text-decoration-color: #00d7ff\">None</span>, <span style=\"color: #00af00; text-decoration-color: #00af00\">82</span>, <span style=\"color: #00af00; text-decoration-color: #00af00\">384</span>)   │          <span style=\"color: #00af00; text-decoration-color: #00af00\">5</span> │ 82_bn[<span style=\"color: #00af00; text-decoration-color: #00af00\">0</span>][<span style=\"color: #00af00; text-decoration-color: #00af00\">0</span>]       │\n",
       "├─────────────────────┼───────────────────┼────────────┼───────────────────┤\n",
       "│ 82_project_conv     │ (<span style=\"color: #00d7ff; text-decoration-color: #00d7ff\">None</span>, <span style=\"color: #00af00; text-decoration-color: #00af00\">82</span>, <span style=\"color: #00af00; text-decoration-color: #00af00\">192</span>)   │     <span style=\"color: #00af00; text-decoration-color: #00af00\">73,920</span> │ eca_81[<span style=\"color: #00af00; text-decoration-color: #00af00\">0</span>][<span style=\"color: #00af00; text-decoration-color: #00af00\">0</span>]      │\n",
       "│ (<span style=\"color: #0087ff; text-decoration-color: #0087ff\">Dense</span>)             │                   │            │                   │\n",
       "├─────────────────────┼───────────────────┼────────────┼───────────────────┤\n",
       "│ 82_drop (<span style=\"color: #0087ff; text-decoration-color: #0087ff\">Dropout</span>)   │ (<span style=\"color: #00d7ff; text-decoration-color: #00d7ff\">None</span>, <span style=\"color: #00af00; text-decoration-color: #00af00\">82</span>, <span style=\"color: #00af00; text-decoration-color: #00af00\">192</span>)   │          <span style=\"color: #00af00; text-decoration-color: #00af00\">0</span> │ 82_project_conv[<span style=\"color: #00af00; text-decoration-color: #00af00\">…</span> │\n",
       "├─────────────────────┼───────────────────┼────────────┼───────────────────┤\n",
       "│ 82_add (<span style=\"color: #0087ff; text-decoration-color: #0087ff\">Add</span>)        │ (<span style=\"color: #00d7ff; text-decoration-color: #00d7ff\">None</span>, <span style=\"color: #00af00; text-decoration-color: #00af00\">82</span>, <span style=\"color: #00af00; text-decoration-color: #00af00\">192</span>)   │          <span style=\"color: #00af00; text-decoration-color: #00af00\">0</span> │ 82_drop[<span style=\"color: #00af00; text-decoration-color: #00af00\">0</span>][<span style=\"color: #00af00; text-decoration-color: #00af00\">0</span>],    │\n",
       "│                     │                   │            │ add_53[<span style=\"color: #00af00; text-decoration-color: #00af00\">0</span>][<span style=\"color: #00af00; text-decoration-color: #00af00\">0</span>]      │\n",
       "├─────────────────────┼───────────────────┼────────────┼───────────────────┤\n",
       "│ 83_expand_conv      │ (<span style=\"color: #00d7ff; text-decoration-color: #00d7ff\">None</span>, <span style=\"color: #00af00; text-decoration-color: #00af00\">82</span>, <span style=\"color: #00af00; text-decoration-color: #00af00\">384</span>)   │     <span style=\"color: #00af00; text-decoration-color: #00af00\">74,112</span> │ 82_add[<span style=\"color: #00af00; text-decoration-color: #00af00\">0</span>][<span style=\"color: #00af00; text-decoration-color: #00af00\">0</span>]      │\n",
       "│ (<span style=\"color: #0087ff; text-decoration-color: #0087ff\">Dense</span>)             │                   │            │                   │\n",
       "├─────────────────────┼───────────────────┼────────────┼───────────────────┤\n",
       "│ 83_dwconv           │ (<span style=\"color: #00d7ff; text-decoration-color: #00d7ff\">None</span>, <span style=\"color: #00af00; text-decoration-color: #00af00\">82</span>, <span style=\"color: #00af00; text-decoration-color: #00af00\">384</span>)   │      <span style=\"color: #00af00; text-decoration-color: #00af00\">6,528</span> │ 83_expand_conv[<span style=\"color: #00af00; text-decoration-color: #00af00\">0</span>… │\n",
       "│ (<span style=\"color: #0087ff; text-decoration-color: #0087ff\">CausalDWConv1D</span>)    │                   │            │                   │\n",
       "├─────────────────────┼───────────────────┼────────────┼───────────────────┤\n",
       "│ 83_bn               │ (<span style=\"color: #00d7ff; text-decoration-color: #00d7ff\">None</span>, <span style=\"color: #00af00; text-decoration-color: #00af00\">82</span>, <span style=\"color: #00af00; text-decoration-color: #00af00\">384</span>)   │      <span style=\"color: #00af00; text-decoration-color: #00af00\">1,536</span> │ 83_dwconv[<span style=\"color: #00af00; text-decoration-color: #00af00\">0</span>][<span style=\"color: #00af00; text-decoration-color: #00af00\">0</span>]   │\n",
       "│ (<span style=\"color: #0087ff; text-decoration-color: #0087ff\">BatchNormalizatio…</span> │                   │            │                   │\n",
       "├─────────────────────┼───────────────────┼────────────┼───────────────────┤\n",
       "│ eca_82 (<span style=\"color: #0087ff; text-decoration-color: #0087ff\">ECA</span>)        │ (<span style=\"color: #00d7ff; text-decoration-color: #00d7ff\">None</span>, <span style=\"color: #00af00; text-decoration-color: #00af00\">82</span>, <span style=\"color: #00af00; text-decoration-color: #00af00\">384</span>)   │          <span style=\"color: #00af00; text-decoration-color: #00af00\">5</span> │ 83_bn[<span style=\"color: #00af00; text-decoration-color: #00af00\">0</span>][<span style=\"color: #00af00; text-decoration-color: #00af00\">0</span>]       │\n",
       "├─────────────────────┼───────────────────┼────────────┼───────────────────┤\n",
       "│ 83_project_conv     │ (<span style=\"color: #00d7ff; text-decoration-color: #00d7ff\">None</span>, <span style=\"color: #00af00; text-decoration-color: #00af00\">82</span>, <span style=\"color: #00af00; text-decoration-color: #00af00\">192</span>)   │     <span style=\"color: #00af00; text-decoration-color: #00af00\">73,920</span> │ eca_82[<span style=\"color: #00af00; text-decoration-color: #00af00\">0</span>][<span style=\"color: #00af00; text-decoration-color: #00af00\">0</span>]      │\n",
       "│ (<span style=\"color: #0087ff; text-decoration-color: #0087ff\">Dense</span>)             │                   │            │                   │\n",
       "├─────────────────────┼───────────────────┼────────────┼───────────────────┤\n",
       "│ 83_drop (<span style=\"color: #0087ff; text-decoration-color: #0087ff\">Dropout</span>)   │ (<span style=\"color: #00d7ff; text-decoration-color: #00d7ff\">None</span>, <span style=\"color: #00af00; text-decoration-color: #00af00\">82</span>, <span style=\"color: #00af00; text-decoration-color: #00af00\">192</span>)   │          <span style=\"color: #00af00; text-decoration-color: #00af00\">0</span> │ 83_project_conv[<span style=\"color: #00af00; text-decoration-color: #00af00\">…</span> │\n",
       "├─────────────────────┼───────────────────┼────────────┼───────────────────┤\n",
       "│ 83_add (<span style=\"color: #0087ff; text-decoration-color: #0087ff\">Add</span>)        │ (<span style=\"color: #00d7ff; text-decoration-color: #00d7ff\">None</span>, <span style=\"color: #00af00; text-decoration-color: #00af00\">82</span>, <span style=\"color: #00af00; text-decoration-color: #00af00\">192</span>)   │          <span style=\"color: #00af00; text-decoration-color: #00af00\">0</span> │ 83_drop[<span style=\"color: #00af00; text-decoration-color: #00af00\">0</span>][<span style=\"color: #00af00; text-decoration-color: #00af00\">0</span>],    │\n",
       "│                     │                   │            │ 82_add[<span style=\"color: #00af00; text-decoration-color: #00af00\">0</span>][<span style=\"color: #00af00; text-decoration-color: #00af00\">0</span>]      │\n",
       "├─────────────────────┼───────────────────┼────────────┼───────────────────┤\n",
       "│ 84_expand_conv      │ (<span style=\"color: #00d7ff; text-decoration-color: #00d7ff\">None</span>, <span style=\"color: #00af00; text-decoration-color: #00af00\">82</span>, <span style=\"color: #00af00; text-decoration-color: #00af00\">384</span>)   │     <span style=\"color: #00af00; text-decoration-color: #00af00\">74,112</span> │ 83_add[<span style=\"color: #00af00; text-decoration-color: #00af00\">0</span>][<span style=\"color: #00af00; text-decoration-color: #00af00\">0</span>]      │\n",
       "│ (<span style=\"color: #0087ff; text-decoration-color: #0087ff\">Dense</span>)             │                   │            │                   │\n",
       "├─────────────────────┼───────────────────┼────────────┼───────────────────┤\n",
       "│ 84_dwconv           │ (<span style=\"color: #00d7ff; text-decoration-color: #00d7ff\">None</span>, <span style=\"color: #00af00; text-decoration-color: #00af00\">82</span>, <span style=\"color: #00af00; text-decoration-color: #00af00\">384</span>)   │      <span style=\"color: #00af00; text-decoration-color: #00af00\">6,528</span> │ 84_expand_conv[<span style=\"color: #00af00; text-decoration-color: #00af00\">0</span>… │\n",
       "│ (<span style=\"color: #0087ff; text-decoration-color: #0087ff\">CausalDWConv1D</span>)    │                   │            │                   │\n",
       "├─────────────────────┼───────────────────┼────────────┼───────────────────┤\n",
       "│ 84_bn               │ (<span style=\"color: #00d7ff; text-decoration-color: #00d7ff\">None</span>, <span style=\"color: #00af00; text-decoration-color: #00af00\">82</span>, <span style=\"color: #00af00; text-decoration-color: #00af00\">384</span>)   │      <span style=\"color: #00af00; text-decoration-color: #00af00\">1,536</span> │ 84_dwconv[<span style=\"color: #00af00; text-decoration-color: #00af00\">0</span>][<span style=\"color: #00af00; text-decoration-color: #00af00\">0</span>]   │\n",
       "│ (<span style=\"color: #0087ff; text-decoration-color: #0087ff\">BatchNormalizatio…</span> │                   │            │                   │\n",
       "├─────────────────────┼───────────────────┼────────────┼───────────────────┤\n",
       "│ eca_83 (<span style=\"color: #0087ff; text-decoration-color: #0087ff\">ECA</span>)        │ (<span style=\"color: #00d7ff; text-decoration-color: #00d7ff\">None</span>, <span style=\"color: #00af00; text-decoration-color: #00af00\">82</span>, <span style=\"color: #00af00; text-decoration-color: #00af00\">384</span>)   │          <span style=\"color: #00af00; text-decoration-color: #00af00\">5</span> │ 84_bn[<span style=\"color: #00af00; text-decoration-color: #00af00\">0</span>][<span style=\"color: #00af00; text-decoration-color: #00af00\">0</span>]       │\n",
       "├─────────────────────┼───────────────────┼────────────┼───────────────────┤\n",
       "│ 84_project_conv     │ (<span style=\"color: #00d7ff; text-decoration-color: #00d7ff\">None</span>, <span style=\"color: #00af00; text-decoration-color: #00af00\">82</span>, <span style=\"color: #00af00; text-decoration-color: #00af00\">192</span>)   │     <span style=\"color: #00af00; text-decoration-color: #00af00\">73,920</span> │ eca_83[<span style=\"color: #00af00; text-decoration-color: #00af00\">0</span>][<span style=\"color: #00af00; text-decoration-color: #00af00\">0</span>]      │\n",
       "│ (<span style=\"color: #0087ff; text-decoration-color: #0087ff\">Dense</span>)             │                   │            │                   │\n",
       "├─────────────────────┼───────────────────┼────────────┼───────────────────┤\n",
       "│ 84_drop (<span style=\"color: #0087ff; text-decoration-color: #0087ff\">Dropout</span>)   │ (<span style=\"color: #00d7ff; text-decoration-color: #00d7ff\">None</span>, <span style=\"color: #00af00; text-decoration-color: #00af00\">82</span>, <span style=\"color: #00af00; text-decoration-color: #00af00\">192</span>)   │          <span style=\"color: #00af00; text-decoration-color: #00af00\">0</span> │ 84_project_conv[<span style=\"color: #00af00; text-decoration-color: #00af00\">…</span> │\n",
       "├─────────────────────┼───────────────────┼────────────┼───────────────────┤\n",
       "│ 84_add (<span style=\"color: #0087ff; text-decoration-color: #0087ff\">Add</span>)        │ (<span style=\"color: #00d7ff; text-decoration-color: #00d7ff\">None</span>, <span style=\"color: #00af00; text-decoration-color: #00af00\">82</span>, <span style=\"color: #00af00; text-decoration-color: #00af00\">192</span>)   │          <span style=\"color: #00af00; text-decoration-color: #00af00\">0</span> │ 84_drop[<span style=\"color: #00af00; text-decoration-color: #00af00\">0</span>][<span style=\"color: #00af00; text-decoration-color: #00af00\">0</span>],    │\n",
       "│                     │                   │            │ 83_add[<span style=\"color: #00af00; text-decoration-color: #00af00\">0</span>][<span style=\"color: #00af00; text-decoration-color: #00af00\">0</span>]      │\n",
       "├─────────────────────┼───────────────────┼────────────┼───────────────────┤\n",
       "│ batch_normalizatio… │ (<span style=\"color: #00d7ff; text-decoration-color: #00d7ff\">None</span>, <span style=\"color: #00af00; text-decoration-color: #00af00\">82</span>, <span style=\"color: #00af00; text-decoration-color: #00af00\">192</span>)   │        <span style=\"color: #00af00; text-decoration-color: #00af00\">768</span> │ 84_add[<span style=\"color: #00af00; text-decoration-color: #00af00\">0</span>][<span style=\"color: #00af00; text-decoration-color: #00af00\">0</span>]      │\n",
       "│ (<span style=\"color: #0087ff; text-decoration-color: #0087ff\">BatchNormalizatio…</span> │                   │            │                   │\n",
       "├─────────────────────┼───────────────────┼────────────┼───────────────────┤\n",
       "│ multi_head_self_at… │ (<span style=\"color: #00d7ff; text-decoration-color: #00d7ff\">None</span>, <span style=\"color: #00af00; text-decoration-color: #00af00\">82</span>, <span style=\"color: #00af00; text-decoration-color: #00af00\">192</span>)   │    <span style=\"color: #00af00; text-decoration-color: #00af00\">147,456</span> │ batch_normalizat… │\n",
       "│ (<span style=\"color: #0087ff; text-decoration-color: #0087ff\">MultiHeadSelfAtte…</span> │                   │            │                   │\n",
       "├─────────────────────┼───────────────────┼────────────┼───────────────────┤\n",
       "│ dropout_162         │ (<span style=\"color: #00d7ff; text-decoration-color: #00d7ff\">None</span>, <span style=\"color: #00af00; text-decoration-color: #00af00\">82</span>, <span style=\"color: #00af00; text-decoration-color: #00af00\">192</span>)   │          <span style=\"color: #00af00; text-decoration-color: #00af00\">0</span> │ multi_head_self_… │\n",
       "│ (<span style=\"color: #0087ff; text-decoration-color: #0087ff\">Dropout</span>)           │                   │            │                   │\n",
       "├─────────────────────┼───────────────────┼────────────┼───────────────────┤\n",
       "│ add_54 (<span style=\"color: #0087ff; text-decoration-color: #0087ff\">Add</span>)        │ (<span style=\"color: #00d7ff; text-decoration-color: #00d7ff\">None</span>, <span style=\"color: #00af00; text-decoration-color: #00af00\">82</span>, <span style=\"color: #00af00; text-decoration-color: #00af00\">192</span>)   │          <span style=\"color: #00af00; text-decoration-color: #00af00\">0</span> │ 84_add[<span style=\"color: #00af00; text-decoration-color: #00af00\">0</span>][<span style=\"color: #00af00; text-decoration-color: #00af00\">0</span>],     │\n",
       "│                     │                   │            │ dropout_162[<span style=\"color: #00af00; text-decoration-color: #00af00\">0</span>][<span style=\"color: #00af00; text-decoration-color: #00af00\">0</span>] │\n",
       "├─────────────────────┼───────────────────┼────────────┼───────────────────┤\n",
       "│ batch_normalizatio… │ (<span style=\"color: #00d7ff; text-decoration-color: #00d7ff\">None</span>, <span style=\"color: #00af00; text-decoration-color: #00af00\">82</span>, <span style=\"color: #00af00; text-decoration-color: #00af00\">192</span>)   │        <span style=\"color: #00af00; text-decoration-color: #00af00\">768</span> │ add_54[<span style=\"color: #00af00; text-decoration-color: #00af00\">0</span>][<span style=\"color: #00af00; text-decoration-color: #00af00\">0</span>]      │\n",
       "│ (<span style=\"color: #0087ff; text-decoration-color: #0087ff\">BatchNormalizatio…</span> │                   │            │                   │\n",
       "├─────────────────────┼───────────────────┼────────────┼───────────────────┤\n",
       "│ dense_172 (<span style=\"color: #0087ff; text-decoration-color: #0087ff\">Dense</span>)   │ (<span style=\"color: #00d7ff; text-decoration-color: #00d7ff\">None</span>, <span style=\"color: #00af00; text-decoration-color: #00af00\">82</span>, <span style=\"color: #00af00; text-decoration-color: #00af00\">384</span>)   │     <span style=\"color: #00af00; text-decoration-color: #00af00\">73,728</span> │ batch_normalizat… │\n",
       "├─────────────────────┼───────────────────┼────────────┼───────────────────┤\n",
       "│ dense_173 (<span style=\"color: #0087ff; text-decoration-color: #0087ff\">Dense</span>)   │ (<span style=\"color: #00d7ff; text-decoration-color: #00d7ff\">None</span>, <span style=\"color: #00af00; text-decoration-color: #00af00\">82</span>, <span style=\"color: #00af00; text-decoration-color: #00af00\">192</span>)   │     <span style=\"color: #00af00; text-decoration-color: #00af00\">73,728</span> │ dense_172[<span style=\"color: #00af00; text-decoration-color: #00af00\">0</span>][<span style=\"color: #00af00; text-decoration-color: #00af00\">0</span>]   │\n",
       "├─────────────────────┼───────────────────┼────────────┼───────────────────┤\n",
       "│ dropout_163         │ (<span style=\"color: #00d7ff; text-decoration-color: #00d7ff\">None</span>, <span style=\"color: #00af00; text-decoration-color: #00af00\">82</span>, <span style=\"color: #00af00; text-decoration-color: #00af00\">192</span>)   │          <span style=\"color: #00af00; text-decoration-color: #00af00\">0</span> │ dense_173[<span style=\"color: #00af00; text-decoration-color: #00af00\">0</span>][<span style=\"color: #00af00; text-decoration-color: #00af00\">0</span>]   │\n",
       "│ (<span style=\"color: #0087ff; text-decoration-color: #0087ff\">Dropout</span>)           │                   │            │                   │\n",
       "├─────────────────────┼───────────────────┼────────────┼───────────────────┤\n",
       "│ add_55 (<span style=\"color: #0087ff; text-decoration-color: #0087ff\">Add</span>)        │ (<span style=\"color: #00d7ff; text-decoration-color: #00d7ff\">None</span>, <span style=\"color: #00af00; text-decoration-color: #00af00\">82</span>, <span style=\"color: #00af00; text-decoration-color: #00af00\">192</span>)   │          <span style=\"color: #00af00; text-decoration-color: #00af00\">0</span> │ add_54[<span style=\"color: #00af00; text-decoration-color: #00af00\">0</span>][<span style=\"color: #00af00; text-decoration-color: #00af00\">0</span>],     │\n",
       "│                     │                   │            │ dropout_163[<span style=\"color: #00af00; text-decoration-color: #00af00\">0</span>][<span style=\"color: #00af00; text-decoration-color: #00af00\">0</span>] │\n",
       "├─────────────────────┼───────────────────┼────────────┼───────────────────┤\n",
       "│ top_conv (<span style=\"color: #0087ff; text-decoration-color: #0087ff\">Dense</span>)    │ (<span style=\"color: #00d7ff; text-decoration-color: #00d7ff\">None</span>, <span style=\"color: #00af00; text-decoration-color: #00af00\">82</span>, <span style=\"color: #00af00; text-decoration-color: #00af00\">384</span>)   │     <span style=\"color: #00af00; text-decoration-color: #00af00\">74,112</span> │ add_55[<span style=\"color: #00af00; text-decoration-color: #00af00\">0</span>][<span style=\"color: #00af00; text-decoration-color: #00af00\">0</span>]      │\n",
       "├─────────────────────┼───────────────────┼────────────┼───────────────────┤\n",
       "│ global_average_poo… │ (<span style=\"color: #00d7ff; text-decoration-color: #00d7ff\">None</span>, <span style=\"color: #00af00; text-decoration-color: #00af00\">384</span>)       │          <span style=\"color: #00af00; text-decoration-color: #00af00\">0</span> │ top_conv[<span style=\"color: #00af00; text-decoration-color: #00af00\">0</span>][<span style=\"color: #00af00; text-decoration-color: #00af00\">0</span>]    │\n",
       "│ (<span style=\"color: #0087ff; text-decoration-color: #0087ff\">GlobalAveragePool…</span> │                   │            │                   │\n",
       "├─────────────────────┼───────────────────┼────────────┼───────────────────┤\n",
       "│ dropout_164         │ (<span style=\"color: #00d7ff; text-decoration-color: #00d7ff\">None</span>, <span style=\"color: #00af00; text-decoration-color: #00af00\">384</span>)       │          <span style=\"color: #00af00; text-decoration-color: #00af00\">0</span> │ global_average_p… │\n",
       "│ (<span style=\"color: #0087ff; text-decoration-color: #0087ff\">Dropout</span>)           │                   │            │                   │\n",
       "├─────────────────────┼───────────────────┼────────────┼───────────────────┤\n",
       "│ dense_174 (<span style=\"color: #0087ff; text-decoration-color: #0087ff\">Dense</span>)   │ (<span style=\"color: #00d7ff; text-decoration-color: #00d7ff\">None</span>, <span style=\"color: #00af00; text-decoration-color: #00af00\">100</span>)       │     <span style=\"color: #00af00; text-decoration-color: #00af00\">38,500</span> │ dropout_164[<span style=\"color: #00af00; text-decoration-color: #00af00\">0</span>][<span style=\"color: #00af00; text-decoration-color: #00af00\">0</span>] │\n",
       "└─────────────────────┴───────────────────┴────────────┴───────────────────┘\n",
       "</pre>\n"
      ],
      "text/plain": [
       "┏━━━━━━━━━━━━━━━━━━━━━┳━━━━━━━━━━━━━━━━━━━┳━━━━━━━━━━━━┳━━━━━━━━━━━━━━━━━━━┓\n",
       "┃\u001b[1m \u001b[0m\u001b[1mLayer (type)       \u001b[0m\u001b[1m \u001b[0m┃\u001b[1m \u001b[0m\u001b[1mOutput Shape     \u001b[0m\u001b[1m \u001b[0m┃\u001b[1m \u001b[0m\u001b[1m   Param #\u001b[0m\u001b[1m \u001b[0m┃\u001b[1m \u001b[0m\u001b[1mConnected to     \u001b[0m\u001b[1m \u001b[0m┃\n",
       "┡━━━━━━━━━━━━━━━━━━━━━╇━━━━━━━━━━━━━━━━━━━╇━━━━━━━━━━━━╇━━━━━━━━━━━━━━━━━━━┩\n",
       "│ input (\u001b[38;5;33mInputLayer\u001b[0m)  │ (\u001b[38;5;45mNone\u001b[0m, \u001b[38;5;34m82\u001b[0m, \u001b[38;5;34m124\u001b[0m,   │          \u001b[38;5;34m0\u001b[0m │ -                 │\n",
       "│                     │ \u001b[38;5;34m3\u001b[0m)                │            │                   │\n",
       "├─────────────────────┼───────────────────┼────────────┼───────────────────┤\n",
       "│ my_layer_13         │ (\u001b[38;5;45mNone\u001b[0m, \u001b[38;5;34m82\u001b[0m, \u001b[38;5;34m372\u001b[0m)   │          \u001b[38;5;34m0\u001b[0m │ input[\u001b[38;5;34m0\u001b[0m][\u001b[38;5;34m0\u001b[0m]       │\n",
       "│ (\u001b[38;5;33mMyLayer\u001b[0m)           │                   │            │                   │\n",
       "├─────────────────────┼───────────────────┼────────────┼───────────────────┤\n",
       "│ stem_conv (\u001b[38;5;33mDense\u001b[0m)   │ (\u001b[38;5;45mNone\u001b[0m, \u001b[38;5;34m82\u001b[0m, \u001b[38;5;34m192\u001b[0m)   │     \u001b[38;5;34m71,424\u001b[0m │ my_layer_13[\u001b[38;5;34m0\u001b[0m][\u001b[38;5;34m0\u001b[0m] │\n",
       "├─────────────────────┼───────────────────┼────────────┼───────────────────┤\n",
       "│ stem_bn             │ (\u001b[38;5;45mNone\u001b[0m, \u001b[38;5;34m82\u001b[0m, \u001b[38;5;34m192\u001b[0m)   │        \u001b[38;5;34m768\u001b[0m │ stem_conv[\u001b[38;5;34m0\u001b[0m][\u001b[38;5;34m0\u001b[0m]   │\n",
       "│ (\u001b[38;5;33mBatchNormalizatio…\u001b[0m │                   │            │                   │\n",
       "├─────────────────────┼───────────────────┼────────────┼───────────────────┤\n",
       "│ 79_expand_conv      │ (\u001b[38;5;45mNone\u001b[0m, \u001b[38;5;34m82\u001b[0m, \u001b[38;5;34m384\u001b[0m)   │     \u001b[38;5;34m74,112\u001b[0m │ stem_bn[\u001b[38;5;34m0\u001b[0m][\u001b[38;5;34m0\u001b[0m]     │\n",
       "│ (\u001b[38;5;33mDense\u001b[0m)             │                   │            │                   │\n",
       "├─────────────────────┼───────────────────┼────────────┼───────────────────┤\n",
       "│ 79_dwconv           │ (\u001b[38;5;45mNone\u001b[0m, \u001b[38;5;34m82\u001b[0m, \u001b[38;5;34m384\u001b[0m)   │      \u001b[38;5;34m6,528\u001b[0m │ 79_expand_conv[\u001b[38;5;34m0\u001b[0m… │\n",
       "│ (\u001b[38;5;33mCausalDWConv1D\u001b[0m)    │                   │            │                   │\n",
       "├─────────────────────┼───────────────────┼────────────┼───────────────────┤\n",
       "│ 79_bn               │ (\u001b[38;5;45mNone\u001b[0m, \u001b[38;5;34m82\u001b[0m, \u001b[38;5;34m384\u001b[0m)   │      \u001b[38;5;34m1,536\u001b[0m │ 79_dwconv[\u001b[38;5;34m0\u001b[0m][\u001b[38;5;34m0\u001b[0m]   │\n",
       "│ (\u001b[38;5;33mBatchNormalizatio…\u001b[0m │                   │            │                   │\n",
       "├─────────────────────┼───────────────────┼────────────┼───────────────────┤\n",
       "│ eca_78 (\u001b[38;5;33mECA\u001b[0m)        │ (\u001b[38;5;45mNone\u001b[0m, \u001b[38;5;34m82\u001b[0m, \u001b[38;5;34m384\u001b[0m)   │          \u001b[38;5;34m5\u001b[0m │ 79_bn[\u001b[38;5;34m0\u001b[0m][\u001b[38;5;34m0\u001b[0m]       │\n",
       "├─────────────────────┼───────────────────┼────────────┼───────────────────┤\n",
       "│ 79_project_conv     │ (\u001b[38;5;45mNone\u001b[0m, \u001b[38;5;34m82\u001b[0m, \u001b[38;5;34m192\u001b[0m)   │     \u001b[38;5;34m73,920\u001b[0m │ eca_78[\u001b[38;5;34m0\u001b[0m][\u001b[38;5;34m0\u001b[0m]      │\n",
       "│ (\u001b[38;5;33mDense\u001b[0m)             │                   │            │                   │\n",
       "├─────────────────────┼───────────────────┼────────────┼───────────────────┤\n",
       "│ 79_drop (\u001b[38;5;33mDropout\u001b[0m)   │ (\u001b[38;5;45mNone\u001b[0m, \u001b[38;5;34m82\u001b[0m, \u001b[38;5;34m192\u001b[0m)   │          \u001b[38;5;34m0\u001b[0m │ 79_project_conv[\u001b[38;5;34m…\u001b[0m │\n",
       "├─────────────────────┼───────────────────┼────────────┼───────────────────┤\n",
       "│ 79_add (\u001b[38;5;33mAdd\u001b[0m)        │ (\u001b[38;5;45mNone\u001b[0m, \u001b[38;5;34m82\u001b[0m, \u001b[38;5;34m192\u001b[0m)   │          \u001b[38;5;34m0\u001b[0m │ 79_drop[\u001b[38;5;34m0\u001b[0m][\u001b[38;5;34m0\u001b[0m],    │\n",
       "│                     │                   │            │ stem_bn[\u001b[38;5;34m0\u001b[0m][\u001b[38;5;34m0\u001b[0m]     │\n",
       "├─────────────────────┼───────────────────┼────────────┼───────────────────┤\n",
       "│ 80_expand_conv      │ (\u001b[38;5;45mNone\u001b[0m, \u001b[38;5;34m82\u001b[0m, \u001b[38;5;34m384\u001b[0m)   │     \u001b[38;5;34m74,112\u001b[0m │ 79_add[\u001b[38;5;34m0\u001b[0m][\u001b[38;5;34m0\u001b[0m]      │\n",
       "│ (\u001b[38;5;33mDense\u001b[0m)             │                   │            │                   │\n",
       "├─────────────────────┼───────────────────┼────────────┼───────────────────┤\n",
       "│ 80_dwconv           │ (\u001b[38;5;45mNone\u001b[0m, \u001b[38;5;34m82\u001b[0m, \u001b[38;5;34m384\u001b[0m)   │      \u001b[38;5;34m6,528\u001b[0m │ 80_expand_conv[\u001b[38;5;34m0\u001b[0m… │\n",
       "│ (\u001b[38;5;33mCausalDWConv1D\u001b[0m)    │                   │            │                   │\n",
       "├─────────────────────┼───────────────────┼────────────┼───────────────────┤\n",
       "│ 80_bn               │ (\u001b[38;5;45mNone\u001b[0m, \u001b[38;5;34m82\u001b[0m, \u001b[38;5;34m384\u001b[0m)   │      \u001b[38;5;34m1,536\u001b[0m │ 80_dwconv[\u001b[38;5;34m0\u001b[0m][\u001b[38;5;34m0\u001b[0m]   │\n",
       "│ (\u001b[38;5;33mBatchNormalizatio…\u001b[0m │                   │            │                   │\n",
       "├─────────────────────┼───────────────────┼────────────┼───────────────────┤\n",
       "│ eca_79 (\u001b[38;5;33mECA\u001b[0m)        │ (\u001b[38;5;45mNone\u001b[0m, \u001b[38;5;34m82\u001b[0m, \u001b[38;5;34m384\u001b[0m)   │          \u001b[38;5;34m5\u001b[0m │ 80_bn[\u001b[38;5;34m0\u001b[0m][\u001b[38;5;34m0\u001b[0m]       │\n",
       "├─────────────────────┼───────────────────┼────────────┼───────────────────┤\n",
       "│ 80_project_conv     │ (\u001b[38;5;45mNone\u001b[0m, \u001b[38;5;34m82\u001b[0m, \u001b[38;5;34m192\u001b[0m)   │     \u001b[38;5;34m73,920\u001b[0m │ eca_79[\u001b[38;5;34m0\u001b[0m][\u001b[38;5;34m0\u001b[0m]      │\n",
       "│ (\u001b[38;5;33mDense\u001b[0m)             │                   │            │                   │\n",
       "├─────────────────────┼───────────────────┼────────────┼───────────────────┤\n",
       "│ 80_drop (\u001b[38;5;33mDropout\u001b[0m)   │ (\u001b[38;5;45mNone\u001b[0m, \u001b[38;5;34m82\u001b[0m, \u001b[38;5;34m192\u001b[0m)   │          \u001b[38;5;34m0\u001b[0m │ 80_project_conv[\u001b[38;5;34m…\u001b[0m │\n",
       "├─────────────────────┼───────────────────┼────────────┼───────────────────┤\n",
       "│ 80_add (\u001b[38;5;33mAdd\u001b[0m)        │ (\u001b[38;5;45mNone\u001b[0m, \u001b[38;5;34m82\u001b[0m, \u001b[38;5;34m192\u001b[0m)   │          \u001b[38;5;34m0\u001b[0m │ 80_drop[\u001b[38;5;34m0\u001b[0m][\u001b[38;5;34m0\u001b[0m],    │\n",
       "│                     │                   │            │ 79_add[\u001b[38;5;34m0\u001b[0m][\u001b[38;5;34m0\u001b[0m]      │\n",
       "├─────────────────────┼───────────────────┼────────────┼───────────────────┤\n",
       "│ 81_expand_conv      │ (\u001b[38;5;45mNone\u001b[0m, \u001b[38;5;34m82\u001b[0m, \u001b[38;5;34m384\u001b[0m)   │     \u001b[38;5;34m74,112\u001b[0m │ 80_add[\u001b[38;5;34m0\u001b[0m][\u001b[38;5;34m0\u001b[0m]      │\n",
       "│ (\u001b[38;5;33mDense\u001b[0m)             │                   │            │                   │\n",
       "├─────────────────────┼───────────────────┼────────────┼───────────────────┤\n",
       "│ 81_dwconv           │ (\u001b[38;5;45mNone\u001b[0m, \u001b[38;5;34m82\u001b[0m, \u001b[38;5;34m384\u001b[0m)   │      \u001b[38;5;34m6,528\u001b[0m │ 81_expand_conv[\u001b[38;5;34m0\u001b[0m… │\n",
       "│ (\u001b[38;5;33mCausalDWConv1D\u001b[0m)    │                   │            │                   │\n",
       "├─────────────────────┼───────────────────┼────────────┼───────────────────┤\n",
       "│ 81_bn               │ (\u001b[38;5;45mNone\u001b[0m, \u001b[38;5;34m82\u001b[0m, \u001b[38;5;34m384\u001b[0m)   │      \u001b[38;5;34m1,536\u001b[0m │ 81_dwconv[\u001b[38;5;34m0\u001b[0m][\u001b[38;5;34m0\u001b[0m]   │\n",
       "│ (\u001b[38;5;33mBatchNormalizatio…\u001b[0m │                   │            │                   │\n",
       "├─────────────────────┼───────────────────┼────────────┼───────────────────┤\n",
       "│ eca_80 (\u001b[38;5;33mECA\u001b[0m)        │ (\u001b[38;5;45mNone\u001b[0m, \u001b[38;5;34m82\u001b[0m, \u001b[38;5;34m384\u001b[0m)   │          \u001b[38;5;34m5\u001b[0m │ 81_bn[\u001b[38;5;34m0\u001b[0m][\u001b[38;5;34m0\u001b[0m]       │\n",
       "├─────────────────────┼───────────────────┼────────────┼───────────────────┤\n",
       "│ 81_project_conv     │ (\u001b[38;5;45mNone\u001b[0m, \u001b[38;5;34m82\u001b[0m, \u001b[38;5;34m192\u001b[0m)   │     \u001b[38;5;34m73,920\u001b[0m │ eca_80[\u001b[38;5;34m0\u001b[0m][\u001b[38;5;34m0\u001b[0m]      │\n",
       "│ (\u001b[38;5;33mDense\u001b[0m)             │                   │            │                   │\n",
       "├─────────────────────┼───────────────────┼────────────┼───────────────────┤\n",
       "│ 81_drop (\u001b[38;5;33mDropout\u001b[0m)   │ (\u001b[38;5;45mNone\u001b[0m, \u001b[38;5;34m82\u001b[0m, \u001b[38;5;34m192\u001b[0m)   │          \u001b[38;5;34m0\u001b[0m │ 81_project_conv[\u001b[38;5;34m…\u001b[0m │\n",
       "├─────────────────────┼───────────────────┼────────────┼───────────────────┤\n",
       "│ 81_add (\u001b[38;5;33mAdd\u001b[0m)        │ (\u001b[38;5;45mNone\u001b[0m, \u001b[38;5;34m82\u001b[0m, \u001b[38;5;34m192\u001b[0m)   │          \u001b[38;5;34m0\u001b[0m │ 81_drop[\u001b[38;5;34m0\u001b[0m][\u001b[38;5;34m0\u001b[0m],    │\n",
       "│                     │                   │            │ 80_add[\u001b[38;5;34m0\u001b[0m][\u001b[38;5;34m0\u001b[0m]      │\n",
       "├─────────────────────┼───────────────────┼────────────┼───────────────────┤\n",
       "│ batch_normalizatio… │ (\u001b[38;5;45mNone\u001b[0m, \u001b[38;5;34m82\u001b[0m, \u001b[38;5;34m192\u001b[0m)   │        \u001b[38;5;34m768\u001b[0m │ 81_add[\u001b[38;5;34m0\u001b[0m][\u001b[38;5;34m0\u001b[0m]      │\n",
       "│ (\u001b[38;5;33mBatchNormalizatio…\u001b[0m │                   │            │                   │\n",
       "├─────────────────────┼───────────────────┼────────────┼───────────────────┤\n",
       "│ multi_head_self_at… │ (\u001b[38;5;45mNone\u001b[0m, \u001b[38;5;34m82\u001b[0m, \u001b[38;5;34m192\u001b[0m)   │    \u001b[38;5;34m147,456\u001b[0m │ batch_normalizat… │\n",
       "│ (\u001b[38;5;33mMultiHeadSelfAtte…\u001b[0m │                   │            │                   │\n",
       "├─────────────────────┼───────────────────┼────────────┼───────────────────┤\n",
       "│ dropout_159         │ (\u001b[38;5;45mNone\u001b[0m, \u001b[38;5;34m82\u001b[0m, \u001b[38;5;34m192\u001b[0m)   │          \u001b[38;5;34m0\u001b[0m │ multi_head_self_… │\n",
       "│ (\u001b[38;5;33mDropout\u001b[0m)           │                   │            │                   │\n",
       "├─────────────────────┼───────────────────┼────────────┼───────────────────┤\n",
       "│ add_52 (\u001b[38;5;33mAdd\u001b[0m)        │ (\u001b[38;5;45mNone\u001b[0m, \u001b[38;5;34m82\u001b[0m, \u001b[38;5;34m192\u001b[0m)   │          \u001b[38;5;34m0\u001b[0m │ 81_add[\u001b[38;5;34m0\u001b[0m][\u001b[38;5;34m0\u001b[0m],     │\n",
       "│                     │                   │            │ dropout_159[\u001b[38;5;34m0\u001b[0m][\u001b[38;5;34m0\u001b[0m] │\n",
       "├─────────────────────┼───────────────────┼────────────┼───────────────────┤\n",
       "│ batch_normalizatio… │ (\u001b[38;5;45mNone\u001b[0m, \u001b[38;5;34m82\u001b[0m, \u001b[38;5;34m192\u001b[0m)   │        \u001b[38;5;34m768\u001b[0m │ add_52[\u001b[38;5;34m0\u001b[0m][\u001b[38;5;34m0\u001b[0m]      │\n",
       "│ (\u001b[38;5;33mBatchNormalizatio…\u001b[0m │                   │            │                   │\n",
       "├─────────────────────┼───────────────────┼────────────┼───────────────────┤\n",
       "│ dense_168 (\u001b[38;5;33mDense\u001b[0m)   │ (\u001b[38;5;45mNone\u001b[0m, \u001b[38;5;34m82\u001b[0m, \u001b[38;5;34m384\u001b[0m)   │     \u001b[38;5;34m73,728\u001b[0m │ batch_normalizat… │\n",
       "├─────────────────────┼───────────────────┼────────────┼───────────────────┤\n",
       "│ dense_169 (\u001b[38;5;33mDense\u001b[0m)   │ (\u001b[38;5;45mNone\u001b[0m, \u001b[38;5;34m82\u001b[0m, \u001b[38;5;34m192\u001b[0m)   │     \u001b[38;5;34m73,728\u001b[0m │ dense_168[\u001b[38;5;34m0\u001b[0m][\u001b[38;5;34m0\u001b[0m]   │\n",
       "├─────────────────────┼───────────────────┼────────────┼───────────────────┤\n",
       "│ dropout_160         │ (\u001b[38;5;45mNone\u001b[0m, \u001b[38;5;34m82\u001b[0m, \u001b[38;5;34m192\u001b[0m)   │          \u001b[38;5;34m0\u001b[0m │ dense_169[\u001b[38;5;34m0\u001b[0m][\u001b[38;5;34m0\u001b[0m]   │\n",
       "│ (\u001b[38;5;33mDropout\u001b[0m)           │                   │            │                   │\n",
       "├─────────────────────┼───────────────────┼────────────┼───────────────────┤\n",
       "│ add_53 (\u001b[38;5;33mAdd\u001b[0m)        │ (\u001b[38;5;45mNone\u001b[0m, \u001b[38;5;34m82\u001b[0m, \u001b[38;5;34m192\u001b[0m)   │          \u001b[38;5;34m0\u001b[0m │ add_52[\u001b[38;5;34m0\u001b[0m][\u001b[38;5;34m0\u001b[0m],     │\n",
       "│                     │                   │            │ dropout_160[\u001b[38;5;34m0\u001b[0m][\u001b[38;5;34m0\u001b[0m] │\n",
       "├─────────────────────┼───────────────────┼────────────┼───────────────────┤\n",
       "│ 82_expand_conv      │ (\u001b[38;5;45mNone\u001b[0m, \u001b[38;5;34m82\u001b[0m, \u001b[38;5;34m384\u001b[0m)   │     \u001b[38;5;34m74,112\u001b[0m │ add_53[\u001b[38;5;34m0\u001b[0m][\u001b[38;5;34m0\u001b[0m]      │\n",
       "│ (\u001b[38;5;33mDense\u001b[0m)             │                   │            │                   │\n",
       "├─────────────────────┼───────────────────┼────────────┼───────────────────┤\n",
       "│ 82_dwconv           │ (\u001b[38;5;45mNone\u001b[0m, \u001b[38;5;34m82\u001b[0m, \u001b[38;5;34m384\u001b[0m)   │      \u001b[38;5;34m6,528\u001b[0m │ 82_expand_conv[\u001b[38;5;34m0\u001b[0m… │\n",
       "│ (\u001b[38;5;33mCausalDWConv1D\u001b[0m)    │                   │            │                   │\n",
       "├─────────────────────┼───────────────────┼────────────┼───────────────────┤\n",
       "│ 82_bn               │ (\u001b[38;5;45mNone\u001b[0m, \u001b[38;5;34m82\u001b[0m, \u001b[38;5;34m384\u001b[0m)   │      \u001b[38;5;34m1,536\u001b[0m │ 82_dwconv[\u001b[38;5;34m0\u001b[0m][\u001b[38;5;34m0\u001b[0m]   │\n",
       "│ (\u001b[38;5;33mBatchNormalizatio…\u001b[0m │                   │            │                   │\n",
       "├─────────────────────┼───────────────────┼────────────┼───────────────────┤\n",
       "│ eca_81 (\u001b[38;5;33mECA\u001b[0m)        │ (\u001b[38;5;45mNone\u001b[0m, \u001b[38;5;34m82\u001b[0m, \u001b[38;5;34m384\u001b[0m)   │          \u001b[38;5;34m5\u001b[0m │ 82_bn[\u001b[38;5;34m0\u001b[0m][\u001b[38;5;34m0\u001b[0m]       │\n",
       "├─────────────────────┼───────────────────┼────────────┼───────────────────┤\n",
       "│ 82_project_conv     │ (\u001b[38;5;45mNone\u001b[0m, \u001b[38;5;34m82\u001b[0m, \u001b[38;5;34m192\u001b[0m)   │     \u001b[38;5;34m73,920\u001b[0m │ eca_81[\u001b[38;5;34m0\u001b[0m][\u001b[38;5;34m0\u001b[0m]      │\n",
       "│ (\u001b[38;5;33mDense\u001b[0m)             │                   │            │                   │\n",
       "├─────────────────────┼───────────────────┼────────────┼───────────────────┤\n",
       "│ 82_drop (\u001b[38;5;33mDropout\u001b[0m)   │ (\u001b[38;5;45mNone\u001b[0m, \u001b[38;5;34m82\u001b[0m, \u001b[38;5;34m192\u001b[0m)   │          \u001b[38;5;34m0\u001b[0m │ 82_project_conv[\u001b[38;5;34m…\u001b[0m │\n",
       "├─────────────────────┼───────────────────┼────────────┼───────────────────┤\n",
       "│ 82_add (\u001b[38;5;33mAdd\u001b[0m)        │ (\u001b[38;5;45mNone\u001b[0m, \u001b[38;5;34m82\u001b[0m, \u001b[38;5;34m192\u001b[0m)   │          \u001b[38;5;34m0\u001b[0m │ 82_drop[\u001b[38;5;34m0\u001b[0m][\u001b[38;5;34m0\u001b[0m],    │\n",
       "│                     │                   │            │ add_53[\u001b[38;5;34m0\u001b[0m][\u001b[38;5;34m0\u001b[0m]      │\n",
       "├─────────────────────┼───────────────────┼────────────┼───────────────────┤\n",
       "│ 83_expand_conv      │ (\u001b[38;5;45mNone\u001b[0m, \u001b[38;5;34m82\u001b[0m, \u001b[38;5;34m384\u001b[0m)   │     \u001b[38;5;34m74,112\u001b[0m │ 82_add[\u001b[38;5;34m0\u001b[0m][\u001b[38;5;34m0\u001b[0m]      │\n",
       "│ (\u001b[38;5;33mDense\u001b[0m)             │                   │            │                   │\n",
       "├─────────────────────┼───────────────────┼────────────┼───────────────────┤\n",
       "│ 83_dwconv           │ (\u001b[38;5;45mNone\u001b[0m, \u001b[38;5;34m82\u001b[0m, \u001b[38;5;34m384\u001b[0m)   │      \u001b[38;5;34m6,528\u001b[0m │ 83_expand_conv[\u001b[38;5;34m0\u001b[0m… │\n",
       "│ (\u001b[38;5;33mCausalDWConv1D\u001b[0m)    │                   │            │                   │\n",
       "├─────────────────────┼───────────────────┼────────────┼───────────────────┤\n",
       "│ 83_bn               │ (\u001b[38;5;45mNone\u001b[0m, \u001b[38;5;34m82\u001b[0m, \u001b[38;5;34m384\u001b[0m)   │      \u001b[38;5;34m1,536\u001b[0m │ 83_dwconv[\u001b[38;5;34m0\u001b[0m][\u001b[38;5;34m0\u001b[0m]   │\n",
       "│ (\u001b[38;5;33mBatchNormalizatio…\u001b[0m │                   │            │                   │\n",
       "├─────────────────────┼───────────────────┼────────────┼───────────────────┤\n",
       "│ eca_82 (\u001b[38;5;33mECA\u001b[0m)        │ (\u001b[38;5;45mNone\u001b[0m, \u001b[38;5;34m82\u001b[0m, \u001b[38;5;34m384\u001b[0m)   │          \u001b[38;5;34m5\u001b[0m │ 83_bn[\u001b[38;5;34m0\u001b[0m][\u001b[38;5;34m0\u001b[0m]       │\n",
       "├─────────────────────┼───────────────────┼────────────┼───────────────────┤\n",
       "│ 83_project_conv     │ (\u001b[38;5;45mNone\u001b[0m, \u001b[38;5;34m82\u001b[0m, \u001b[38;5;34m192\u001b[0m)   │     \u001b[38;5;34m73,920\u001b[0m │ eca_82[\u001b[38;5;34m0\u001b[0m][\u001b[38;5;34m0\u001b[0m]      │\n",
       "│ (\u001b[38;5;33mDense\u001b[0m)             │                   │            │                   │\n",
       "├─────────────────────┼───────────────────┼────────────┼───────────────────┤\n",
       "│ 83_drop (\u001b[38;5;33mDropout\u001b[0m)   │ (\u001b[38;5;45mNone\u001b[0m, \u001b[38;5;34m82\u001b[0m, \u001b[38;5;34m192\u001b[0m)   │          \u001b[38;5;34m0\u001b[0m │ 83_project_conv[\u001b[38;5;34m…\u001b[0m │\n",
       "├─────────────────────┼───────────────────┼────────────┼───────────────────┤\n",
       "│ 83_add (\u001b[38;5;33mAdd\u001b[0m)        │ (\u001b[38;5;45mNone\u001b[0m, \u001b[38;5;34m82\u001b[0m, \u001b[38;5;34m192\u001b[0m)   │          \u001b[38;5;34m0\u001b[0m │ 83_drop[\u001b[38;5;34m0\u001b[0m][\u001b[38;5;34m0\u001b[0m],    │\n",
       "│                     │                   │            │ 82_add[\u001b[38;5;34m0\u001b[0m][\u001b[38;5;34m0\u001b[0m]      │\n",
       "├─────────────────────┼───────────────────┼────────────┼───────────────────┤\n",
       "│ 84_expand_conv      │ (\u001b[38;5;45mNone\u001b[0m, \u001b[38;5;34m82\u001b[0m, \u001b[38;5;34m384\u001b[0m)   │     \u001b[38;5;34m74,112\u001b[0m │ 83_add[\u001b[38;5;34m0\u001b[0m][\u001b[38;5;34m0\u001b[0m]      │\n",
       "│ (\u001b[38;5;33mDense\u001b[0m)             │                   │            │                   │\n",
       "├─────────────────────┼───────────────────┼────────────┼───────────────────┤\n",
       "│ 84_dwconv           │ (\u001b[38;5;45mNone\u001b[0m, \u001b[38;5;34m82\u001b[0m, \u001b[38;5;34m384\u001b[0m)   │      \u001b[38;5;34m6,528\u001b[0m │ 84_expand_conv[\u001b[38;5;34m0\u001b[0m… │\n",
       "│ (\u001b[38;5;33mCausalDWConv1D\u001b[0m)    │                   │            │                   │\n",
       "├─────────────────────┼───────────────────┼────────────┼───────────────────┤\n",
       "│ 84_bn               │ (\u001b[38;5;45mNone\u001b[0m, \u001b[38;5;34m82\u001b[0m, \u001b[38;5;34m384\u001b[0m)   │      \u001b[38;5;34m1,536\u001b[0m │ 84_dwconv[\u001b[38;5;34m0\u001b[0m][\u001b[38;5;34m0\u001b[0m]   │\n",
       "│ (\u001b[38;5;33mBatchNormalizatio…\u001b[0m │                   │            │                   │\n",
       "├─────────────────────┼───────────────────┼────────────┼───────────────────┤\n",
       "│ eca_83 (\u001b[38;5;33mECA\u001b[0m)        │ (\u001b[38;5;45mNone\u001b[0m, \u001b[38;5;34m82\u001b[0m, \u001b[38;5;34m384\u001b[0m)   │          \u001b[38;5;34m5\u001b[0m │ 84_bn[\u001b[38;5;34m0\u001b[0m][\u001b[38;5;34m0\u001b[0m]       │\n",
       "├─────────────────────┼───────────────────┼────────────┼───────────────────┤\n",
       "│ 84_project_conv     │ (\u001b[38;5;45mNone\u001b[0m, \u001b[38;5;34m82\u001b[0m, \u001b[38;5;34m192\u001b[0m)   │     \u001b[38;5;34m73,920\u001b[0m │ eca_83[\u001b[38;5;34m0\u001b[0m][\u001b[38;5;34m0\u001b[0m]      │\n",
       "│ (\u001b[38;5;33mDense\u001b[0m)             │                   │            │                   │\n",
       "├─────────────────────┼───────────────────┼────────────┼───────────────────┤\n",
       "│ 84_drop (\u001b[38;5;33mDropout\u001b[0m)   │ (\u001b[38;5;45mNone\u001b[0m, \u001b[38;5;34m82\u001b[0m, \u001b[38;5;34m192\u001b[0m)   │          \u001b[38;5;34m0\u001b[0m │ 84_project_conv[\u001b[38;5;34m…\u001b[0m │\n",
       "├─────────────────────┼───────────────────┼────────────┼───────────────────┤\n",
       "│ 84_add (\u001b[38;5;33mAdd\u001b[0m)        │ (\u001b[38;5;45mNone\u001b[0m, \u001b[38;5;34m82\u001b[0m, \u001b[38;5;34m192\u001b[0m)   │          \u001b[38;5;34m0\u001b[0m │ 84_drop[\u001b[38;5;34m0\u001b[0m][\u001b[38;5;34m0\u001b[0m],    │\n",
       "│                     │                   │            │ 83_add[\u001b[38;5;34m0\u001b[0m][\u001b[38;5;34m0\u001b[0m]      │\n",
       "├─────────────────────┼───────────────────┼────────────┼───────────────────┤\n",
       "│ batch_normalizatio… │ (\u001b[38;5;45mNone\u001b[0m, \u001b[38;5;34m82\u001b[0m, \u001b[38;5;34m192\u001b[0m)   │        \u001b[38;5;34m768\u001b[0m │ 84_add[\u001b[38;5;34m0\u001b[0m][\u001b[38;5;34m0\u001b[0m]      │\n",
       "│ (\u001b[38;5;33mBatchNormalizatio…\u001b[0m │                   │            │                   │\n",
       "├─────────────────────┼───────────────────┼────────────┼───────────────────┤\n",
       "│ multi_head_self_at… │ (\u001b[38;5;45mNone\u001b[0m, \u001b[38;5;34m82\u001b[0m, \u001b[38;5;34m192\u001b[0m)   │    \u001b[38;5;34m147,456\u001b[0m │ batch_normalizat… │\n",
       "│ (\u001b[38;5;33mMultiHeadSelfAtte…\u001b[0m │                   │            │                   │\n",
       "├─────────────────────┼───────────────────┼────────────┼───────────────────┤\n",
       "│ dropout_162         │ (\u001b[38;5;45mNone\u001b[0m, \u001b[38;5;34m82\u001b[0m, \u001b[38;5;34m192\u001b[0m)   │          \u001b[38;5;34m0\u001b[0m │ multi_head_self_… │\n",
       "│ (\u001b[38;5;33mDropout\u001b[0m)           │                   │            │                   │\n",
       "├─────────────────────┼───────────────────┼────────────┼───────────────────┤\n",
       "│ add_54 (\u001b[38;5;33mAdd\u001b[0m)        │ (\u001b[38;5;45mNone\u001b[0m, \u001b[38;5;34m82\u001b[0m, \u001b[38;5;34m192\u001b[0m)   │          \u001b[38;5;34m0\u001b[0m │ 84_add[\u001b[38;5;34m0\u001b[0m][\u001b[38;5;34m0\u001b[0m],     │\n",
       "│                     │                   │            │ dropout_162[\u001b[38;5;34m0\u001b[0m][\u001b[38;5;34m0\u001b[0m] │\n",
       "├─────────────────────┼───────────────────┼────────────┼───────────────────┤\n",
       "│ batch_normalizatio… │ (\u001b[38;5;45mNone\u001b[0m, \u001b[38;5;34m82\u001b[0m, \u001b[38;5;34m192\u001b[0m)   │        \u001b[38;5;34m768\u001b[0m │ add_54[\u001b[38;5;34m0\u001b[0m][\u001b[38;5;34m0\u001b[0m]      │\n",
       "│ (\u001b[38;5;33mBatchNormalizatio…\u001b[0m │                   │            │                   │\n",
       "├─────────────────────┼───────────────────┼────────────┼───────────────────┤\n",
       "│ dense_172 (\u001b[38;5;33mDense\u001b[0m)   │ (\u001b[38;5;45mNone\u001b[0m, \u001b[38;5;34m82\u001b[0m, \u001b[38;5;34m384\u001b[0m)   │     \u001b[38;5;34m73,728\u001b[0m │ batch_normalizat… │\n",
       "├─────────────────────┼───────────────────┼────────────┼───────────────────┤\n",
       "│ dense_173 (\u001b[38;5;33mDense\u001b[0m)   │ (\u001b[38;5;45mNone\u001b[0m, \u001b[38;5;34m82\u001b[0m, \u001b[38;5;34m192\u001b[0m)   │     \u001b[38;5;34m73,728\u001b[0m │ dense_172[\u001b[38;5;34m0\u001b[0m][\u001b[38;5;34m0\u001b[0m]   │\n",
       "├─────────────────────┼───────────────────┼────────────┼───────────────────┤\n",
       "│ dropout_163         │ (\u001b[38;5;45mNone\u001b[0m, \u001b[38;5;34m82\u001b[0m, \u001b[38;5;34m192\u001b[0m)   │          \u001b[38;5;34m0\u001b[0m │ dense_173[\u001b[38;5;34m0\u001b[0m][\u001b[38;5;34m0\u001b[0m]   │\n",
       "│ (\u001b[38;5;33mDropout\u001b[0m)           │                   │            │                   │\n",
       "├─────────────────────┼───────────────────┼────────────┼───────────────────┤\n",
       "│ add_55 (\u001b[38;5;33mAdd\u001b[0m)        │ (\u001b[38;5;45mNone\u001b[0m, \u001b[38;5;34m82\u001b[0m, \u001b[38;5;34m192\u001b[0m)   │          \u001b[38;5;34m0\u001b[0m │ add_54[\u001b[38;5;34m0\u001b[0m][\u001b[38;5;34m0\u001b[0m],     │\n",
       "│                     │                   │            │ dropout_163[\u001b[38;5;34m0\u001b[0m][\u001b[38;5;34m0\u001b[0m] │\n",
       "├─────────────────────┼───────────────────┼────────────┼───────────────────┤\n",
       "│ top_conv (\u001b[38;5;33mDense\u001b[0m)    │ (\u001b[38;5;45mNone\u001b[0m, \u001b[38;5;34m82\u001b[0m, \u001b[38;5;34m384\u001b[0m)   │     \u001b[38;5;34m74,112\u001b[0m │ add_55[\u001b[38;5;34m0\u001b[0m][\u001b[38;5;34m0\u001b[0m]      │\n",
       "├─────────────────────┼───────────────────┼────────────┼───────────────────┤\n",
       "│ global_average_poo… │ (\u001b[38;5;45mNone\u001b[0m, \u001b[38;5;34m384\u001b[0m)       │          \u001b[38;5;34m0\u001b[0m │ top_conv[\u001b[38;5;34m0\u001b[0m][\u001b[38;5;34m0\u001b[0m]    │\n",
       "│ (\u001b[38;5;33mGlobalAveragePool…\u001b[0m │                   │            │                   │\n",
       "├─────────────────────┼───────────────────┼────────────┼───────────────────┤\n",
       "│ dropout_164         │ (\u001b[38;5;45mNone\u001b[0m, \u001b[38;5;34m384\u001b[0m)       │          \u001b[38;5;34m0\u001b[0m │ global_average_p… │\n",
       "│ (\u001b[38;5;33mDropout\u001b[0m)           │                   │            │                   │\n",
       "├─────────────────────┼───────────────────┼────────────┼───────────────────┤\n",
       "│ dense_174 (\u001b[38;5;33mDense\u001b[0m)   │ (\u001b[38;5;45mNone\u001b[0m, \u001b[38;5;34m100\u001b[0m)       │     \u001b[38;5;34m38,500\u001b[0m │ dropout_164[\u001b[38;5;34m0\u001b[0m][\u001b[38;5;34m0\u001b[0m] │\n",
       "└─────────────────────┴───────────────────┴────────────┴───────────────────┘\n"
      ]
     },
     "metadata": {},
     "output_type": "display_data"
    },
    {
     "data": {
      "text/html": [
       "<pre style=\"white-space:pre;overflow-x:auto;line-height:normal;font-family:Menlo,'DejaVu Sans Mono',consolas,'Courier New',monospace\"><span style=\"font-weight: bold\"> Total params: </span><span style=\"color: #00af00; text-decoration-color: #00af00\">5,129,864</span> (19.57 MB)\n",
       "</pre>\n"
      ],
      "text/plain": [
       "\u001b[1m Total params: \u001b[0m\u001b[38;5;34m5,129,864\u001b[0m (19.57 MB)\n"
      ]
     },
     "metadata": {},
     "output_type": "display_data"
    },
    {
     "data": {
      "text/html": [
       "<pre style=\"white-space:pre;overflow-x:auto;line-height:normal;font-family:Menlo,'DejaVu Sans Mono',consolas,'Courier New',monospace\"><span style=\"font-weight: bold\"> Trainable params: </span><span style=\"color: #00af00; text-decoration-color: #00af00\">1,707,778</span> (6.51 MB)\n",
       "</pre>\n"
      ],
      "text/plain": [
       "\u001b[1m Trainable params: \u001b[0m\u001b[38;5;34m1,707,778\u001b[0m (6.51 MB)\n"
      ]
     },
     "metadata": {},
     "output_type": "display_data"
    },
    {
     "data": {
      "text/html": [
       "<pre style=\"white-space:pre;overflow-x:auto;line-height:normal;font-family:Menlo,'DejaVu Sans Mono',consolas,'Courier New',monospace\"><span style=\"font-weight: bold\"> Non-trainable params: </span><span style=\"color: #00af00; text-decoration-color: #00af00\">6,528</span> (25.50 KB)\n",
       "</pre>\n"
      ],
      "text/plain": [
       "\u001b[1m Non-trainable params: \u001b[0m\u001b[38;5;34m6,528\u001b[0m (25.50 KB)\n"
      ]
     },
     "metadata": {},
     "output_type": "display_data"
    },
    {
     "data": {
      "text/html": [
       "<pre style=\"white-space:pre;overflow-x:auto;line-height:normal;font-family:Menlo,'DejaVu Sans Mono',consolas,'Courier New',monospace\"><span style=\"font-weight: bold\"> Optimizer params: </span><span style=\"color: #00af00; text-decoration-color: #00af00\">3,415,558</span> (13.03 MB)\n",
       "</pre>\n"
      ],
      "text/plain": [
       "\u001b[1m Optimizer params: \u001b[0m\u001b[38;5;34m3,415,558\u001b[0m (13.03 MB)\n"
      ]
     },
     "metadata": {},
     "output_type": "display_data"
    }
   ],
   "source": [
    "model.summary()"
   ]
  },
  {
   "cell_type": "markdown",
   "metadata": {},
   "source": [
    "# GRU model"
   ]
  },
  {
   "cell_type": "code",
   "execution_count": null,
   "metadata": {
    "execution": {
     "iopub.execute_input": "2024-06-16T09:43:26.845737Z",
     "iopub.status.busy": "2024-06-16T09:43:26.845484Z",
     "iopub.status.idle": "2024-06-16T09:43:26.854504Z",
     "shell.execute_reply": "2024-06-16T09:43:26.853432Z",
     "shell.execute_reply.started": "2024-06-16T09:43:26.845714Z"
    },
    "scrolled": true,
    "trusted": true
   },
   "outputs": [],
   "source": [
    "import tensorflow as tf\n",
    "from tensorflow.keras.models import Model\n",
    "from tensorflow.keras.layers import Input, GRU, Dense, Dropout, BatchNormalization, Reshape\n",
    "\n",
    "def gru_bn(x, units, return_sequences=False):\n",
    "    x = GRU(units, return_sequences=return_sequences, use_bias=False)(x)\n",
    "    x = BatchNormalization()(x)\n",
    "    return x\n",
    "\n",
    "def build_gru_model(input_shape, num_classes):\n",
    "    inputs = Input(shape=input_shape)\n",
    "\n",
    "    # Reshape pentru a adăuga dimensiunea width\n",
    "    x = Reshape((input_shape[0], input_shape[1] * input_shape[2]))(inputs)  \n",
    "    # Straturi GRU\n",
    "    x = gru_bn(x, 64, return_sequences=True)\n",
    "    x = Dropout(0.3)(x)\n",
    "    x = gru_bn(x, 128, return_sequences=True)\n",
    "    x = Dropout(0.3)(x)\n",
    "    x = gru_bn(x, 256, return_sequences=True)\n",
    "    \n",
    "    # Global Average Pooling + Dense\n",
    "    x = tf.keras.layers.GlobalAveragePooling1D()(x)\n",
    "    x = Dropout(0.8)(x)\n",
    "\n",
    "    outputs = Dense(num_classes, activation='softmax')(x)\n",
    "\n",
    "    model = Model(inputs=inputs, outputs=outputs)\n",
    "    return model\n",
    "\n"
   ]
  },
  {
   "cell_type": "code",
   "execution_count": 681,
   "metadata": {
    "execution": {
     "iopub.execute_input": "2024-06-16T09:43:26.977682Z",
     "iopub.status.busy": "2024-06-16T09:43:26.976934Z",
     "iopub.status.idle": "2024-06-16T09:43:27.207227Z",
     "shell.execute_reply": "2024-06-16T09:43:27.206208Z",
     "shell.execute_reply.started": "2024-06-16T09:43:26.977650Z"
    },
    "trusted": true
   },
   "outputs": [],
   "source": [
    "input_shape = (length, NUM_LANDMARKS, 3) \n",
    "num_classes = NUM_CLASSES\n",
    "epochs = EPOCHS\n",
    "\n",
    "# LearningRateScheduler\n",
    "tf.random.set_seed(42)\n",
    "model = build_gru_model(input_shape, num_classes)\n",
    "initial_learning_rate = 1e-3\n",
    "model.compile(\n",
    "    loss=tf.keras.losses.CategoricalCrossentropy(label_smoothing=0.1),\n",
    "    optimizer=tf.keras.optimizers.AdamW(learning_rate=1e-3, weight_decay=1e-5, clipnorm=1.0),\n",
    "    metrics=[tf.keras.metrics.CategoricalAccuracy(), tf.keras.metrics.TopKCategoricalAccuracy(k=5, name=f'top{5}', dtype=None)]\n",
    ")\n",
    "\n",
    "checkpoint = tf.keras.callbacks.ModelCheckpoint('best_model_gru.keras', monitor='val_categorical_accuracy', save_best_only=True, mode='max', verbose=1)\n",
    "lr_scheduler = tf.keras.callbacks.LearningRateScheduler(lambda epoch, lr: float(lr * tf.math.exp(-0.1)) if epoch >= 50 else float(lr))\n",
    "callbacks_list = [checkpoint, lr_scheduler]\n",
    "\n"
   ]
  },
  {
   "cell_type": "code",
   "execution_count": 682,
   "metadata": {
    "execution": {
     "iopub.execute_input": "2024-06-16T09:43:27.209285Z",
     "iopub.status.busy": "2024-06-16T09:43:27.208963Z",
     "iopub.status.idle": "2024-06-16T09:43:27.235625Z",
     "shell.execute_reply": "2024-06-16T09:43:27.234718Z",
     "shell.execute_reply.started": "2024-06-16T09:43:27.209258Z"
    },
    "trusted": true
   },
   "outputs": [
    {
     "data": {
      "text/html": [
       "<pre style=\"white-space:pre;overflow-x:auto;line-height:normal;font-family:Menlo,'DejaVu Sans Mono',consolas,'Courier New',monospace\"><span style=\"font-weight: bold\">Model: \"functional_63\"</span>\n",
       "</pre>\n"
      ],
      "text/plain": [
       "\u001b[1mModel: \"functional_63\"\u001b[0m\n"
      ]
     },
     "metadata": {},
     "output_type": "display_data"
    },
    {
     "data": {
      "text/html": [
       "<pre style=\"white-space:pre;overflow-x:auto;line-height:normal;font-family:Menlo,'DejaVu Sans Mono',consolas,'Courier New',monospace\">┏━━━━━━━━━━━━━━━━━━━━━━━━━━━━━━━━━┳━━━━━━━━━━━━━━━━━━━━━━━━┳━━━━━━━━━━━━━━━┓\n",
       "┃<span style=\"font-weight: bold\"> Layer (type)                    </span>┃<span style=\"font-weight: bold\"> Output Shape           </span>┃<span style=\"font-weight: bold\">       Param # </span>┃\n",
       "┡━━━━━━━━━━━━━━━━━━━━━━━━━━━━━━━━━╇━━━━━━━━━━━━━━━━━━━━━━━━╇━━━━━━━━━━━━━━━┩\n",
       "│ input_layer_17 (<span style=\"color: #0087ff; text-decoration-color: #0087ff\">InputLayer</span>)     │ (<span style=\"color: #00d7ff; text-decoration-color: #00d7ff\">None</span>, <span style=\"color: #00af00; text-decoration-color: #00af00\">82</span>, <span style=\"color: #00af00; text-decoration-color: #00af00\">124</span>, <span style=\"color: #00af00; text-decoration-color: #00af00\">3</span>)     │             <span style=\"color: #00af00; text-decoration-color: #00af00\">0</span> │\n",
       "├─────────────────────────────────┼────────────────────────┼───────────────┤\n",
       "│ reshape_325 (<span style=\"color: #0087ff; text-decoration-color: #0087ff\">Reshape</span>)           │ (<span style=\"color: #00d7ff; text-decoration-color: #00d7ff\">None</span>, <span style=\"color: #00af00; text-decoration-color: #00af00\">82</span>, <span style=\"color: #00af00; text-decoration-color: #00af00\">372</span>)        │             <span style=\"color: #00af00; text-decoration-color: #00af00\">0</span> │\n",
       "├─────────────────────────────────┼────────────────────────┼───────────────┤\n",
       "│ gru_30 (<span style=\"color: #0087ff; text-decoration-color: #0087ff\">GRU</span>)                    │ (<span style=\"color: #00d7ff; text-decoration-color: #00d7ff\">None</span>, <span style=\"color: #00af00; text-decoration-color: #00af00\">82</span>, <span style=\"color: #00af00; text-decoration-color: #00af00\">64</span>)         │        <span style=\"color: #00af00; text-decoration-color: #00af00\">83,712</span> │\n",
       "├─────────────────────────────────┼────────────────────────┼───────────────┤\n",
       "│ batch_normalization_107         │ (<span style=\"color: #00d7ff; text-decoration-color: #00d7ff\">None</span>, <span style=\"color: #00af00; text-decoration-color: #00af00\">82</span>, <span style=\"color: #00af00; text-decoration-color: #00af00\">64</span>)         │           <span style=\"color: #00af00; text-decoration-color: #00af00\">256</span> │\n",
       "│ (<span style=\"color: #0087ff; text-decoration-color: #0087ff\">BatchNormalization</span>)            │                        │               │\n",
       "├─────────────────────────────────┼────────────────────────┼───────────────┤\n",
       "│ dropout_169 (<span style=\"color: #0087ff; text-decoration-color: #0087ff\">Dropout</span>)           │ (<span style=\"color: #00d7ff; text-decoration-color: #00d7ff\">None</span>, <span style=\"color: #00af00; text-decoration-color: #00af00\">82</span>, <span style=\"color: #00af00; text-decoration-color: #00af00\">64</span>)         │             <span style=\"color: #00af00; text-decoration-color: #00af00\">0</span> │\n",
       "├─────────────────────────────────┼────────────────────────┼───────────────┤\n",
       "│ gru_31 (<span style=\"color: #0087ff; text-decoration-color: #0087ff\">GRU</span>)                    │ (<span style=\"color: #00d7ff; text-decoration-color: #00d7ff\">None</span>, <span style=\"color: #00af00; text-decoration-color: #00af00\">82</span>, <span style=\"color: #00af00; text-decoration-color: #00af00\">128</span>)        │        <span style=\"color: #00af00; text-decoration-color: #00af00\">73,728</span> │\n",
       "├─────────────────────────────────┼────────────────────────┼───────────────┤\n",
       "│ batch_normalization_108         │ (<span style=\"color: #00d7ff; text-decoration-color: #00d7ff\">None</span>, <span style=\"color: #00af00; text-decoration-color: #00af00\">82</span>, <span style=\"color: #00af00; text-decoration-color: #00af00\">128</span>)        │           <span style=\"color: #00af00; text-decoration-color: #00af00\">512</span> │\n",
       "│ (<span style=\"color: #0087ff; text-decoration-color: #0087ff\">BatchNormalization</span>)            │                        │               │\n",
       "├─────────────────────────────────┼────────────────────────┼───────────────┤\n",
       "│ dropout_170 (<span style=\"color: #0087ff; text-decoration-color: #0087ff\">Dropout</span>)           │ (<span style=\"color: #00d7ff; text-decoration-color: #00d7ff\">None</span>, <span style=\"color: #00af00; text-decoration-color: #00af00\">82</span>, <span style=\"color: #00af00; text-decoration-color: #00af00\">128</span>)        │             <span style=\"color: #00af00; text-decoration-color: #00af00\">0</span> │\n",
       "├─────────────────────────────────┼────────────────────────┼───────────────┤\n",
       "│ gru_32 (<span style=\"color: #0087ff; text-decoration-color: #0087ff\">GRU</span>)                    │ (<span style=\"color: #00d7ff; text-decoration-color: #00d7ff\">None</span>, <span style=\"color: #00af00; text-decoration-color: #00af00\">82</span>, <span style=\"color: #00af00; text-decoration-color: #00af00\">256</span>)        │       <span style=\"color: #00af00; text-decoration-color: #00af00\">294,912</span> │\n",
       "├─────────────────────────────────┼────────────────────────┼───────────────┤\n",
       "│ batch_normalization_109         │ (<span style=\"color: #00d7ff; text-decoration-color: #00d7ff\">None</span>, <span style=\"color: #00af00; text-decoration-color: #00af00\">82</span>, <span style=\"color: #00af00; text-decoration-color: #00af00\">256</span>)        │         <span style=\"color: #00af00; text-decoration-color: #00af00\">1,024</span> │\n",
       "│ (<span style=\"color: #0087ff; text-decoration-color: #0087ff\">BatchNormalization</span>)            │                        │               │\n",
       "├─────────────────────────────────┼────────────────────────┼───────────────┤\n",
       "│ global_average_pooling1d_493    │ (<span style=\"color: #00d7ff; text-decoration-color: #00d7ff\">None</span>, <span style=\"color: #00af00; text-decoration-color: #00af00\">256</span>)            │             <span style=\"color: #00af00; text-decoration-color: #00af00\">0</span> │\n",
       "│ (<span style=\"color: #0087ff; text-decoration-color: #0087ff\">GlobalAveragePooling1D</span>)        │                        │               │\n",
       "├─────────────────────────────────┼────────────────────────┼───────────────┤\n",
       "│ dropout_171 (<span style=\"color: #0087ff; text-decoration-color: #0087ff\">Dropout</span>)           │ (<span style=\"color: #00d7ff; text-decoration-color: #00d7ff\">None</span>, <span style=\"color: #00af00; text-decoration-color: #00af00\">256</span>)            │             <span style=\"color: #00af00; text-decoration-color: #00af00\">0</span> │\n",
       "├─────────────────────────────────┼────────────────────────┼───────────────┤\n",
       "│ dense_183 (<span style=\"color: #0087ff; text-decoration-color: #0087ff\">Dense</span>)               │ (<span style=\"color: #00d7ff; text-decoration-color: #00d7ff\">None</span>, <span style=\"color: #00af00; text-decoration-color: #00af00\">100</span>)            │        <span style=\"color: #00af00; text-decoration-color: #00af00\">25,700</span> │\n",
       "└─────────────────────────────────┴────────────────────────┴───────────────┘\n",
       "</pre>\n"
      ],
      "text/plain": [
       "┏━━━━━━━━━━━━━━━━━━━━━━━━━━━━━━━━━┳━━━━━━━━━━━━━━━━━━━━━━━━┳━━━━━━━━━━━━━━━┓\n",
       "┃\u001b[1m \u001b[0m\u001b[1mLayer (type)                   \u001b[0m\u001b[1m \u001b[0m┃\u001b[1m \u001b[0m\u001b[1mOutput Shape          \u001b[0m\u001b[1m \u001b[0m┃\u001b[1m \u001b[0m\u001b[1m      Param #\u001b[0m\u001b[1m \u001b[0m┃\n",
       "┡━━━━━━━━━━━━━━━━━━━━━━━━━━━━━━━━━╇━━━━━━━━━━━━━━━━━━━━━━━━╇━━━━━━━━━━━━━━━┩\n",
       "│ input_layer_17 (\u001b[38;5;33mInputLayer\u001b[0m)     │ (\u001b[38;5;45mNone\u001b[0m, \u001b[38;5;34m82\u001b[0m, \u001b[38;5;34m124\u001b[0m, \u001b[38;5;34m3\u001b[0m)     │             \u001b[38;5;34m0\u001b[0m │\n",
       "├─────────────────────────────────┼────────────────────────┼───────────────┤\n",
       "│ reshape_325 (\u001b[38;5;33mReshape\u001b[0m)           │ (\u001b[38;5;45mNone\u001b[0m, \u001b[38;5;34m82\u001b[0m, \u001b[38;5;34m372\u001b[0m)        │             \u001b[38;5;34m0\u001b[0m │\n",
       "├─────────────────────────────────┼────────────────────────┼───────────────┤\n",
       "│ gru_30 (\u001b[38;5;33mGRU\u001b[0m)                    │ (\u001b[38;5;45mNone\u001b[0m, \u001b[38;5;34m82\u001b[0m, \u001b[38;5;34m64\u001b[0m)         │        \u001b[38;5;34m83,712\u001b[0m │\n",
       "├─────────────────────────────────┼────────────────────────┼───────────────┤\n",
       "│ batch_normalization_107         │ (\u001b[38;5;45mNone\u001b[0m, \u001b[38;5;34m82\u001b[0m, \u001b[38;5;34m64\u001b[0m)         │           \u001b[38;5;34m256\u001b[0m │\n",
       "│ (\u001b[38;5;33mBatchNormalization\u001b[0m)            │                        │               │\n",
       "├─────────────────────────────────┼────────────────────────┼───────────────┤\n",
       "│ dropout_169 (\u001b[38;5;33mDropout\u001b[0m)           │ (\u001b[38;5;45mNone\u001b[0m, \u001b[38;5;34m82\u001b[0m, \u001b[38;5;34m64\u001b[0m)         │             \u001b[38;5;34m0\u001b[0m │\n",
       "├─────────────────────────────────┼────────────────────────┼───────────────┤\n",
       "│ gru_31 (\u001b[38;5;33mGRU\u001b[0m)                    │ (\u001b[38;5;45mNone\u001b[0m, \u001b[38;5;34m82\u001b[0m, \u001b[38;5;34m128\u001b[0m)        │        \u001b[38;5;34m73,728\u001b[0m │\n",
       "├─────────────────────────────────┼────────────────────────┼───────────────┤\n",
       "│ batch_normalization_108         │ (\u001b[38;5;45mNone\u001b[0m, \u001b[38;5;34m82\u001b[0m, \u001b[38;5;34m128\u001b[0m)        │           \u001b[38;5;34m512\u001b[0m │\n",
       "│ (\u001b[38;5;33mBatchNormalization\u001b[0m)            │                        │               │\n",
       "├─────────────────────────────────┼────────────────────────┼───────────────┤\n",
       "│ dropout_170 (\u001b[38;5;33mDropout\u001b[0m)           │ (\u001b[38;5;45mNone\u001b[0m, \u001b[38;5;34m82\u001b[0m, \u001b[38;5;34m128\u001b[0m)        │             \u001b[38;5;34m0\u001b[0m │\n",
       "├─────────────────────────────────┼────────────────────────┼───────────────┤\n",
       "│ gru_32 (\u001b[38;5;33mGRU\u001b[0m)                    │ (\u001b[38;5;45mNone\u001b[0m, \u001b[38;5;34m82\u001b[0m, \u001b[38;5;34m256\u001b[0m)        │       \u001b[38;5;34m294,912\u001b[0m │\n",
       "├─────────────────────────────────┼────────────────────────┼───────────────┤\n",
       "│ batch_normalization_109         │ (\u001b[38;5;45mNone\u001b[0m, \u001b[38;5;34m82\u001b[0m, \u001b[38;5;34m256\u001b[0m)        │         \u001b[38;5;34m1,024\u001b[0m │\n",
       "│ (\u001b[38;5;33mBatchNormalization\u001b[0m)            │                        │               │\n",
       "├─────────────────────────────────┼────────────────────────┼───────────────┤\n",
       "│ global_average_pooling1d_493    │ (\u001b[38;5;45mNone\u001b[0m, \u001b[38;5;34m256\u001b[0m)            │             \u001b[38;5;34m0\u001b[0m │\n",
       "│ (\u001b[38;5;33mGlobalAveragePooling1D\u001b[0m)        │                        │               │\n",
       "├─────────────────────────────────┼────────────────────────┼───────────────┤\n",
       "│ dropout_171 (\u001b[38;5;33mDropout\u001b[0m)           │ (\u001b[38;5;45mNone\u001b[0m, \u001b[38;5;34m256\u001b[0m)            │             \u001b[38;5;34m0\u001b[0m │\n",
       "├─────────────────────────────────┼────────────────────────┼───────────────┤\n",
       "│ dense_183 (\u001b[38;5;33mDense\u001b[0m)               │ (\u001b[38;5;45mNone\u001b[0m, \u001b[38;5;34m100\u001b[0m)            │        \u001b[38;5;34m25,700\u001b[0m │\n",
       "└─────────────────────────────────┴────────────────────────┴───────────────┘\n"
      ]
     },
     "metadata": {},
     "output_type": "display_data"
    },
    {
     "data": {
      "text/html": [
       "<pre style=\"white-space:pre;overflow-x:auto;line-height:normal;font-family:Menlo,'DejaVu Sans Mono',consolas,'Courier New',monospace\"><span style=\"font-weight: bold\"> Total params: </span><span style=\"color: #00af00; text-decoration-color: #00af00\">479,844</span> (1.83 MB)\n",
       "</pre>\n"
      ],
      "text/plain": [
       "\u001b[1m Total params: \u001b[0m\u001b[38;5;34m479,844\u001b[0m (1.83 MB)\n"
      ]
     },
     "metadata": {},
     "output_type": "display_data"
    },
    {
     "data": {
      "text/html": [
       "<pre style=\"white-space:pre;overflow-x:auto;line-height:normal;font-family:Menlo,'DejaVu Sans Mono',consolas,'Courier New',monospace\"><span style=\"font-weight: bold\"> Trainable params: </span><span style=\"color: #00af00; text-decoration-color: #00af00\">478,948</span> (1.83 MB)\n",
       "</pre>\n"
      ],
      "text/plain": [
       "\u001b[1m Trainable params: \u001b[0m\u001b[38;5;34m478,948\u001b[0m (1.83 MB)\n"
      ]
     },
     "metadata": {},
     "output_type": "display_data"
    },
    {
     "data": {
      "text/html": [
       "<pre style=\"white-space:pre;overflow-x:auto;line-height:normal;font-family:Menlo,'DejaVu Sans Mono',consolas,'Courier New',monospace\"><span style=\"font-weight: bold\"> Non-trainable params: </span><span style=\"color: #00af00; text-decoration-color: #00af00\">896</span> (3.50 KB)\n",
       "</pre>\n"
      ],
      "text/plain": [
       "\u001b[1m Non-trainable params: \u001b[0m\u001b[38;5;34m896\u001b[0m (3.50 KB)\n"
      ]
     },
     "metadata": {},
     "output_type": "display_data"
    }
   ],
   "source": [
    "model.summary()"
   ]
  },
  {
   "cell_type": "code",
   "execution_count": 683,
   "metadata": {
    "execution": {
     "iopub.execute_input": "2024-06-16T09:43:27.238024Z",
     "iopub.status.busy": "2024-06-16T09:43:27.237425Z",
     "iopub.status.idle": "2024-06-16T09:45:18.129594Z",
     "shell.execute_reply": "2024-06-16T09:45:18.128576Z",
     "shell.execute_reply.started": "2024-06-16T09:43:27.237989Z"
    },
    "scrolled": true,
    "trusted": true
   },
   "outputs": [
    {
     "name": "stdout",
     "output_type": "stream",
     "text": [
      "Epoch 1/100\n",
      "\u001b[1m16/16\u001b[0m \u001b[32m━━━━━━━━━━━━━━━━━━━━\u001b[0m\u001b[37m\u001b[0m \u001b[1m0s\u001b[0m 628ms/step - categorical_accuracy: 0.0152 - loss: 5.5995 - top5: 0.0558\n",
      "Epoch 1: val_categorical_accuracy improved from -inf to 0.01292, saving model to best_model_gru.keras\n",
      "\u001b[1m16/16\u001b[0m \u001b[32m━━━━━━━━━━━━━━━━━━━━\u001b[0m\u001b[37m\u001b[0m \u001b[1m25s\u001b[0m 782ms/step - categorical_accuracy: 0.0151 - loss: 5.5880 - top5: 0.0560 - val_categorical_accuracy: 0.0129 - val_loss: 4.5925 - val_top5: 0.1240 - learning_rate: 0.0010\n",
      "Epoch 2/100\n",
      "\u001b[1m16/16\u001b[0m \u001b[32m━━━━━━━━━━━━━━━━━━━━\u001b[0m\u001b[37m\u001b[0m \u001b[1m0s\u001b[0m 54ms/step - categorical_accuracy: 0.0249 - loss: 4.8583 - top5: 0.0979\n",
      "Epoch 2: val_categorical_accuracy improved from 0.01292 to 0.02326, saving model to best_model_gru.keras\n",
      "\u001b[1m16/16\u001b[0m \u001b[32m━━━━━━━━━━━━━━━━━━━━\u001b[0m\u001b[37m\u001b[0m \u001b[1m1s\u001b[0m 64ms/step - categorical_accuracy: 0.0251 - loss: 4.8538 - top5: 0.0982 - val_categorical_accuracy: 0.0233 - val_loss: 4.5686 - val_top5: 0.1370 - learning_rate: 0.0010\n",
      "Epoch 3/100\n",
      "\u001b[1m16/16\u001b[0m \u001b[32m━━━━━━━━━━━━━━━━━━━━\u001b[0m\u001b[37m\u001b[0m \u001b[1m0s\u001b[0m 46ms/step - categorical_accuracy: 0.0398 - loss: 4.5980 - top5: 0.1410\n",
      "Epoch 3: val_categorical_accuracy improved from 0.02326 to 0.03359, saving model to best_model_gru.keras\n",
      "\u001b[1m16/16\u001b[0m \u001b[32m━━━━━━━━━━━━━━━━━━━━\u001b[0m\u001b[37m\u001b[0m \u001b[1m1s\u001b[0m 55ms/step - categorical_accuracy: 0.0399 - loss: 4.5968 - top5: 0.1410 - val_categorical_accuracy: 0.0336 - val_loss: 4.5424 - val_top5: 0.1550 - learning_rate: 0.0010\n",
      "Epoch 4/100\n",
      "\u001b[1m15/16\u001b[0m \u001b[32m━━━━━━━━━━━━━━━━━━\u001b[0m\u001b[37m━━\u001b[0m \u001b[1m0s\u001b[0m 47ms/step - categorical_accuracy: 0.0585 - loss: 4.3638 - top5: 0.2112\n",
      "Epoch 4: val_categorical_accuracy improved from 0.03359 to 0.06718, saving model to best_model_gru.keras\n",
      "\u001b[1m16/16\u001b[0m \u001b[32m━━━━━━━━━━━━━━━━━━━━\u001b[0m\u001b[37m\u001b[0m \u001b[1m1s\u001b[0m 57ms/step - categorical_accuracy: 0.0598 - loss: 4.3597 - top5: 0.2116 - val_categorical_accuracy: 0.0672 - val_loss: 4.5143 - val_top5: 0.1886 - learning_rate: 0.0010\n",
      "Epoch 5/100\n",
      "\u001b[1m15/16\u001b[0m \u001b[32m━━━━━━━━━━━━━━━━━━\u001b[0m\u001b[37m━━\u001b[0m \u001b[1m0s\u001b[0m 47ms/step - categorical_accuracy: 0.0731 - loss: 4.2087 - top5: 0.2511\n",
      "Epoch 5: val_categorical_accuracy did not improve from 0.06718\n",
      "\u001b[1m16/16\u001b[0m \u001b[32m━━━━━━━━━━━━━━━━━━━━\u001b[0m\u001b[37m\u001b[0m \u001b[1m1s\u001b[0m 51ms/step - categorical_accuracy: 0.0750 - loss: 4.2041 - top5: 0.2525 - val_categorical_accuracy: 0.0594 - val_loss: 4.4843 - val_top5: 0.1964 - learning_rate: 0.0010\n",
      "Epoch 6/100\n",
      "\u001b[1m16/16\u001b[0m \u001b[32m━━━━━━━━━━━━━━━━━━━━\u001b[0m\u001b[37m\u001b[0m \u001b[1m0s\u001b[0m 46ms/step - categorical_accuracy: 0.1092 - loss: 4.0362 - top5: 0.3210\n",
      "Epoch 6: val_categorical_accuracy did not improve from 0.06718\n",
      "\u001b[1m16/16\u001b[0m \u001b[32m━━━━━━━━━━━━━━━━━━━━\u001b[0m\u001b[37m\u001b[0m \u001b[1m1s\u001b[0m 52ms/step - categorical_accuracy: 0.1095 - loss: 4.0340 - top5: 0.3213 - val_categorical_accuracy: 0.0439 - val_loss: 4.4428 - val_top5: 0.2145 - learning_rate: 0.0010\n",
      "Epoch 7/100\n",
      "\u001b[1m15/16\u001b[0m \u001b[32m━━━━━━━━━━━━━━━━━━\u001b[0m\u001b[37m━━\u001b[0m \u001b[1m0s\u001b[0m 47ms/step - categorical_accuracy: 0.1238 - loss: 3.8820 - top5: 0.3736\n",
      "Epoch 7: val_categorical_accuracy did not improve from 0.06718\n",
      "\u001b[1m16/16\u001b[0m \u001b[32m━━━━━━━━━━━━━━━━━━━━\u001b[0m\u001b[37m\u001b[0m \u001b[1m1s\u001b[0m 51ms/step - categorical_accuracy: 0.1253 - loss: 3.8761 - top5: 0.3752 - val_categorical_accuracy: 0.0388 - val_loss: 4.3945 - val_top5: 0.1731 - learning_rate: 0.0010\n",
      "Epoch 8/100\n",
      "\u001b[1m15/16\u001b[0m \u001b[32m━━━━━━━━━━━━━━━━━━\u001b[0m\u001b[37m━━\u001b[0m \u001b[1m0s\u001b[0m 47ms/step - categorical_accuracy: 0.1756 - loss: 3.6763 - top5: 0.4365\n",
      "Epoch 8: val_categorical_accuracy did not improve from 0.06718\n",
      "\u001b[1m16/16\u001b[0m \u001b[32m━━━━━━━━━━━━━━━━━━━━\u001b[0m\u001b[37m\u001b[0m \u001b[1m1s\u001b[0m 51ms/step - categorical_accuracy: 0.1755 - loss: 3.6771 - top5: 0.4367 - val_categorical_accuracy: 0.0388 - val_loss: 4.3412 - val_top5: 0.1757 - learning_rate: 0.0010\n",
      "Epoch 9/100\n",
      "\u001b[1m15/16\u001b[0m \u001b[32m━━━━━━━━━━━━━━━━━━\u001b[0m\u001b[37m━━\u001b[0m \u001b[1m0s\u001b[0m 46ms/step - categorical_accuracy: 0.2103 - loss: 3.5359 - top5: 0.4804\n",
      "Epoch 9: val_categorical_accuracy did not improve from 0.06718\n",
      "\u001b[1m16/16\u001b[0m \u001b[32m━━━━━━━━━━━━━━━━━━━━\u001b[0m\u001b[37m\u001b[0m \u001b[1m1s\u001b[0m 50ms/step - categorical_accuracy: 0.2115 - loss: 3.5306 - top5: 0.4827 - val_categorical_accuracy: 0.0439 - val_loss: 4.2702 - val_top5: 0.2145 - learning_rate: 0.0010\n",
      "Epoch 10/100\n",
      "\u001b[1m15/16\u001b[0m \u001b[32m━━━━━━━━━━━━━━━━━━\u001b[0m\u001b[37m━━\u001b[0m \u001b[1m0s\u001b[0m 48ms/step - categorical_accuracy: 0.2516 - loss: 3.3600 - top5: 0.5416\n",
      "Epoch 10: val_categorical_accuracy did not improve from 0.06718\n",
      "\u001b[1m16/16\u001b[0m \u001b[32m━━━━━━━━━━━━━━━━━━━━\u001b[0m\u001b[37m\u001b[0m \u001b[1m1s\u001b[0m 51ms/step - categorical_accuracy: 0.2529 - loss: 3.3537 - top5: 0.5444 - val_categorical_accuracy: 0.0413 - val_loss: 4.2212 - val_top5: 0.1938 - learning_rate: 0.0010\n",
      "Epoch 11/100\n",
      "\u001b[1m15/16\u001b[0m \u001b[32m━━━━━━━━━━━━━━━━━━\u001b[0m\u001b[37m━━\u001b[0m \u001b[1m0s\u001b[0m 48ms/step - categorical_accuracy: 0.2847 - loss: 3.1983 - top5: 0.5974\n",
      "Epoch 11: val_categorical_accuracy did not improve from 0.06718\n",
      "\u001b[1m16/16\u001b[0m \u001b[32m━━━━━━━━━━━━━━━━━━━━\u001b[0m\u001b[37m\u001b[0m \u001b[1m1s\u001b[0m 51ms/step - categorical_accuracy: 0.2847 - loss: 3.1964 - top5: 0.5992 - val_categorical_accuracy: 0.0336 - val_loss: 4.1523 - val_top5: 0.2248 - learning_rate: 0.0010\n",
      "Epoch 12/100\n",
      "\u001b[1m16/16\u001b[0m \u001b[32m━━━━━━━━━━━━━━━━━━━━\u001b[0m\u001b[37m\u001b[0m \u001b[1m0s\u001b[0m 46ms/step - categorical_accuracy: 0.3192 - loss: 3.0419 - top5: 0.6716\n",
      "Epoch 12: val_categorical_accuracy did not improve from 0.06718\n",
      "\u001b[1m16/16\u001b[0m \u001b[32m━━━━━━━━━━━━━━━━━━━━\u001b[0m\u001b[37m\u001b[0m \u001b[1m1s\u001b[0m 51ms/step - categorical_accuracy: 0.3189 - loss: 3.0421 - top5: 0.6713 - val_categorical_accuracy: 0.0413 - val_loss: 4.0981 - val_top5: 0.2326 - learning_rate: 0.0010\n",
      "Epoch 13/100\n",
      "\u001b[1m16/16\u001b[0m \u001b[32m━━━━━━━━━━━━━━━━━━━━\u001b[0m\u001b[37m\u001b[0m \u001b[1m0s\u001b[0m 46ms/step - categorical_accuracy: 0.3308 - loss: 2.9507 - top5: 0.7099\n",
      "Epoch 13: val_categorical_accuracy did not improve from 0.06718\n",
      "\u001b[1m16/16\u001b[0m \u001b[32m━━━━━━━━━━━━━━━━━━━━\u001b[0m\u001b[37m\u001b[0m \u001b[1m1s\u001b[0m 51ms/step - categorical_accuracy: 0.3320 - loss: 2.9489 - top5: 0.7102 - val_categorical_accuracy: 0.0568 - val_loss: 4.0585 - val_top5: 0.2481 - learning_rate: 0.0010\n",
      "Epoch 14/100\n",
      "\u001b[1m16/16\u001b[0m \u001b[32m━━━━━━━━━━━━━━━━━━━━\u001b[0m\u001b[37m\u001b[0m \u001b[1m0s\u001b[0m 46ms/step - categorical_accuracy: 0.3909 - loss: 2.8158 - top5: 0.7414\n",
      "Epoch 14: val_categorical_accuracy improved from 0.06718 to 0.07752, saving model to best_model_gru.keras\n",
      "\u001b[1m16/16\u001b[0m \u001b[32m━━━━━━━━━━━━━━━━━━━━\u001b[0m\u001b[37m\u001b[0m \u001b[1m1s\u001b[0m 55ms/step - categorical_accuracy: 0.3916 - loss: 2.8126 - top5: 0.7420 - val_categorical_accuracy: 0.0775 - val_loss: 3.9189 - val_top5: 0.3101 - learning_rate: 0.0010\n",
      "Epoch 15/100\n",
      "\u001b[1m15/16\u001b[0m \u001b[32m━━━━━━━━━━━━━━━━━━\u001b[0m\u001b[37m━━\u001b[0m \u001b[1m0s\u001b[0m 48ms/step - categorical_accuracy: 0.4164 - loss: 2.6991 - top5: 0.7863\n",
      "Epoch 15: val_categorical_accuracy improved from 0.07752 to 0.11628, saving model to best_model_gru.keras\n",
      "\u001b[1m16/16\u001b[0m \u001b[32m━━━━━━━━━━━━━━━━━━━━\u001b[0m\u001b[37m\u001b[0m \u001b[1m1s\u001b[0m 57ms/step - categorical_accuracy: 0.4195 - loss: 2.6937 - top5: 0.7870 - val_categorical_accuracy: 0.1163 - val_loss: 3.7125 - val_top5: 0.3876 - learning_rate: 0.0010\n",
      "Epoch 16/100\n",
      "\u001b[1m15/16\u001b[0m \u001b[32m━━━━━━━━━━━━━━━━━━\u001b[0m\u001b[37m━━\u001b[0m \u001b[1m0s\u001b[0m 49ms/step - categorical_accuracy: 0.4652 - loss: 2.5433 - top5: 0.8042\n",
      "Epoch 16: val_categorical_accuracy did not improve from 0.11628\n",
      "\u001b[1m16/16\u001b[0m \u001b[32m━━━━━━━━━━━━━━━━━━━━\u001b[0m\u001b[37m\u001b[0m \u001b[1m1s\u001b[0m 53ms/step - categorical_accuracy: 0.4658 - loss: 2.5432 - top5: 0.8043 - val_categorical_accuracy: 0.0775 - val_loss: 3.9470 - val_top5: 0.2817 - learning_rate: 0.0010\n",
      "Epoch 17/100\n",
      "\u001b[1m15/16\u001b[0m \u001b[32m━━━━━━━━━━━━━━━━━━\u001b[0m\u001b[37m━━\u001b[0m \u001b[1m0s\u001b[0m 47ms/step - categorical_accuracy: 0.4948 - loss: 2.4995 - top5: 0.8349\n",
      "Epoch 17: val_categorical_accuracy improved from 0.11628 to 0.17054, saving model to best_model_gru.keras\n",
      "\u001b[1m16/16\u001b[0m \u001b[32m━━━━━━━━━━━━━━━━━━━━\u001b[0m\u001b[37m\u001b[0m \u001b[1m1s\u001b[0m 55ms/step - categorical_accuracy: 0.4954 - loss: 2.4974 - top5: 0.8341 - val_categorical_accuracy: 0.1705 - val_loss: 3.5182 - val_top5: 0.4548 - learning_rate: 0.0010\n",
      "Epoch 18/100\n",
      "\u001b[1m16/16\u001b[0m \u001b[32m━━━━━━━━━━━━━━━━━━━━\u001b[0m\u001b[37m\u001b[0m \u001b[1m0s\u001b[0m 46ms/step - categorical_accuracy: 0.5205 - loss: 2.4007 - top5: 0.8390\n",
      "Epoch 18: val_categorical_accuracy improved from 0.17054 to 0.25840, saving model to best_model_gru.keras\n",
      "\u001b[1m16/16\u001b[0m \u001b[32m━━━━━━━━━━━━━━━━━━━━\u001b[0m\u001b[37m\u001b[0m \u001b[1m1s\u001b[0m 55ms/step - categorical_accuracy: 0.5214 - loss: 2.3983 - top5: 0.8397 - val_categorical_accuracy: 0.2584 - val_loss: 3.2278 - val_top5: 0.6098 - learning_rate: 0.0010\n",
      "Epoch 19/100\n",
      "\u001b[1m16/16\u001b[0m \u001b[32m━━━━━━━━━━━━━━━━━━━━\u001b[0m\u001b[37m\u001b[0m \u001b[1m0s\u001b[0m 46ms/step - categorical_accuracy: 0.5416 - loss: 2.3158 - top5: 0.8804\n",
      "Epoch 19: val_categorical_accuracy did not improve from 0.25840\n",
      "\u001b[1m16/16\u001b[0m \u001b[32m━━━━━━━━━━━━━━━━━━━━\u001b[0m\u001b[37m\u001b[0m \u001b[1m1s\u001b[0m 51ms/step - categorical_accuracy: 0.5428 - loss: 2.3142 - top5: 0.8803 - val_categorical_accuracy: 0.2429 - val_loss: 3.1794 - val_top5: 0.6589 - learning_rate: 0.0010\n",
      "Epoch 20/100\n",
      "\u001b[1m16/16\u001b[0m \u001b[32m━━━━━━━━━━━━━━━━━━━━\u001b[0m\u001b[37m\u001b[0m \u001b[1m0s\u001b[0m 46ms/step - categorical_accuracy: 0.6034 - loss: 2.2074 - top5: 0.8893\n",
      "Epoch 20: val_categorical_accuracy improved from 0.25840 to 0.31783, saving model to best_model_gru.keras\n",
      "\u001b[1m16/16\u001b[0m \u001b[32m━━━━━━━━━━━━━━━━━━━━\u001b[0m\u001b[37m\u001b[0m \u001b[1m1s\u001b[0m 56ms/step - categorical_accuracy: 0.6037 - loss: 2.2062 - top5: 0.8894 - val_categorical_accuracy: 0.3178 - val_loss: 3.0041 - val_top5: 0.6873 - learning_rate: 0.0010\n",
      "Epoch 21/100\n",
      "\u001b[1m16/16\u001b[0m \u001b[32m━━━━━━━━━━━━━━━━━━━━\u001b[0m\u001b[37m\u001b[0m \u001b[1m0s\u001b[0m 46ms/step - categorical_accuracy: 0.6389 - loss: 2.1014 - top5: 0.9011\n",
      "Epoch 21: val_categorical_accuracy improved from 0.31783 to 0.35917, saving model to best_model_gru.keras\n",
      "\u001b[1m16/16\u001b[0m \u001b[32m━━━━━━━━━━━━━━━━━━━━\u001b[0m\u001b[37m\u001b[0m \u001b[1m1s\u001b[0m 55ms/step - categorical_accuracy: 0.6390 - loss: 2.0998 - top5: 0.9017 - val_categorical_accuracy: 0.3592 - val_loss: 2.8964 - val_top5: 0.7235 - learning_rate: 0.0010\n",
      "Epoch 22/100\n",
      "\u001b[1m15/16\u001b[0m \u001b[32m━━━━━━━━━━━━━━━━━━\u001b[0m\u001b[37m━━\u001b[0m \u001b[1m0s\u001b[0m 46ms/step - categorical_accuracy: 0.6515 - loss: 2.0500 - top5: 0.9268\n",
      "Epoch 22: val_categorical_accuracy improved from 0.35917 to 0.51938, saving model to best_model_gru.keras\n",
      "\u001b[1m16/16\u001b[0m \u001b[32m━━━━━━━━━━━━━━━━━━━━\u001b[0m\u001b[37m\u001b[0m \u001b[1m1s\u001b[0m 54ms/step - categorical_accuracy: 0.6517 - loss: 2.0492 - top5: 0.9264 - val_categorical_accuracy: 0.5194 - val_loss: 2.5248 - val_top5: 0.8217 - learning_rate: 0.0010\n",
      "Epoch 23/100\n",
      "\u001b[1m15/16\u001b[0m \u001b[32m━━━━━━━━━━━━━━━━━━\u001b[0m\u001b[37m━━\u001b[0m \u001b[1m0s\u001b[0m 47ms/step - categorical_accuracy: 0.6794 - loss: 1.9869 - top5: 0.9228\n",
      "Epoch 23: val_categorical_accuracy did not improve from 0.51938\n",
      "\u001b[1m16/16\u001b[0m \u001b[32m━━━━━━━━━━━━━━━━━━━━\u001b[0m\u001b[37m\u001b[0m \u001b[1m1s\u001b[0m 50ms/step - categorical_accuracy: 0.6801 - loss: 1.9844 - top5: 0.9231 - val_categorical_accuracy: 0.4987 - val_loss: 2.4957 - val_top5: 0.8398 - learning_rate: 0.0010\n",
      "Epoch 24/100\n",
      "\u001b[1m15/16\u001b[0m \u001b[32m━━━━━━━━━━━━━━━━━━\u001b[0m\u001b[37m━━\u001b[0m \u001b[1m0s\u001b[0m 47ms/step - categorical_accuracy: 0.7008 - loss: 1.9200 - top5: 0.9234\n",
      "Epoch 24: val_categorical_accuracy improved from 0.51938 to 0.56848, saving model to best_model_gru.keras\n",
      "\u001b[1m16/16\u001b[0m \u001b[32m━━━━━━━━━━━━━━━━━━━━\u001b[0m\u001b[37m\u001b[0m \u001b[1m1s\u001b[0m 55ms/step - categorical_accuracy: 0.7006 - loss: 1.9184 - top5: 0.9243 - val_categorical_accuracy: 0.5685 - val_loss: 2.2563 - val_top5: 0.8992 - learning_rate: 0.0010\n",
      "Epoch 25/100\n",
      "\u001b[1m16/16\u001b[0m \u001b[32m━━━━━━━━━━━━━━━━━━━━\u001b[0m\u001b[37m\u001b[0m \u001b[1m0s\u001b[0m 46ms/step - categorical_accuracy: 0.7310 - loss: 1.8557 - top5: 0.9435\n",
      "Epoch 25: val_categorical_accuracy improved from 0.56848 to 0.63307, saving model to best_model_gru.keras\n",
      "\u001b[1m16/16\u001b[0m \u001b[32m━━━━━━━━━━━━━━━━━━━━\u001b[0m\u001b[37m\u001b[0m \u001b[1m1s\u001b[0m 55ms/step - categorical_accuracy: 0.7313 - loss: 1.8555 - top5: 0.9434 - val_categorical_accuracy: 0.6331 - val_loss: 2.1404 - val_top5: 0.9173 - learning_rate: 0.0010\n",
      "Epoch 26/100\n",
      "\u001b[1m15/16\u001b[0m \u001b[32m━━━━━━━━━━━━━━━━━━\u001b[0m\u001b[37m━━\u001b[0m \u001b[1m0s\u001b[0m 46ms/step - categorical_accuracy: 0.7337 - loss: 1.8043 - top5: 0.9528\n",
      "Epoch 26: val_categorical_accuracy improved from 0.63307 to 0.68475, saving model to best_model_gru.keras\n",
      "\u001b[1m16/16\u001b[0m \u001b[32m━━━━━━━━━━━━━━━━━━━━\u001b[0m\u001b[37m\u001b[0m \u001b[1m1s\u001b[0m 54ms/step - categorical_accuracy: 0.7341 - loss: 1.8043 - top5: 0.9529 - val_categorical_accuracy: 0.6848 - val_loss: 2.0329 - val_top5: 0.9328 - learning_rate: 0.0010\n",
      "Epoch 27/100\n",
      "\u001b[1m15/16\u001b[0m \u001b[32m━━━━━━━━━━━━━━━━━━\u001b[0m\u001b[37m━━\u001b[0m \u001b[1m0s\u001b[0m 47ms/step - categorical_accuracy: 0.7700 - loss: 1.7518 - top5: 0.9593\n",
      "Epoch 27: val_categorical_accuracy did not improve from 0.68475\n",
      "\u001b[1m16/16\u001b[0m \u001b[32m━━━━━━━━━━━━━━━━━━━━\u001b[0m\u001b[37m\u001b[0m \u001b[1m1s\u001b[0m 51ms/step - categorical_accuracy: 0.7707 - loss: 1.7486 - top5: 0.9597 - val_categorical_accuracy: 0.6718 - val_loss: 1.9623 - val_top5: 0.9354 - learning_rate: 0.0010\n",
      "Epoch 28/100\n",
      "\u001b[1m16/16\u001b[0m \u001b[32m━━━━━━━━━━━━━━━━━━━━\u001b[0m\u001b[37m\u001b[0m \u001b[1m0s\u001b[0m 46ms/step - categorical_accuracy: 0.7700 - loss: 1.7279 - top5: 0.9660\n",
      "Epoch 28: val_categorical_accuracy improved from 0.68475 to 0.69767, saving model to best_model_gru.keras\n",
      "\u001b[1m16/16\u001b[0m \u001b[32m━━━━━━━━━━━━━━━━━━━━\u001b[0m\u001b[37m\u001b[0m \u001b[1m1s\u001b[0m 55ms/step - categorical_accuracy: 0.7704 - loss: 1.7270 - top5: 0.9657 - val_categorical_accuracy: 0.6977 - val_loss: 1.8724 - val_top5: 0.9483 - learning_rate: 0.0010\n",
      "Epoch 29/100\n",
      "\u001b[1m15/16\u001b[0m \u001b[32m━━━━━━━━━━━━━━━━━━\u001b[0m\u001b[37m━━\u001b[0m \u001b[1m0s\u001b[0m 47ms/step - categorical_accuracy: 0.8160 - loss: 1.6656 - top5: 0.9651\n",
      "Epoch 29: val_categorical_accuracy did not improve from 0.69767\n",
      "\u001b[1m16/16\u001b[0m \u001b[32m━━━━━━━━━━━━━━━━━━━━\u001b[0m\u001b[37m\u001b[0m \u001b[1m1s\u001b[0m 51ms/step - categorical_accuracy: 0.8150 - loss: 1.6647 - top5: 0.9654 - val_categorical_accuracy: 0.6899 - val_loss: 1.9303 - val_top5: 0.9354 - learning_rate: 0.0010\n",
      "Epoch 30/100\n",
      "\u001b[1m15/16\u001b[0m \u001b[32m━━━━━━━━━━━━━━━━━━\u001b[0m\u001b[37m━━\u001b[0m \u001b[1m0s\u001b[0m 46ms/step - categorical_accuracy: 0.8109 - loss: 1.6562 - top5: 0.9655\n",
      "Epoch 30: val_categorical_accuracy improved from 0.69767 to 0.71576, saving model to best_model_gru.keras\n",
      "\u001b[1m16/16\u001b[0m \u001b[32m━━━━━━━━━━━━━━━━━━━━\u001b[0m\u001b[37m\u001b[0m \u001b[1m1s\u001b[0m 55ms/step - categorical_accuracy: 0.8105 - loss: 1.6563 - top5: 0.9653 - val_categorical_accuracy: 0.7158 - val_loss: 1.8374 - val_top5: 0.9328 - learning_rate: 0.0010\n",
      "Epoch 31/100\n",
      "\u001b[1m15/16\u001b[0m \u001b[32m━━━━━━━━━━━━━━━━━━\u001b[0m\u001b[37m━━\u001b[0m \u001b[1m0s\u001b[0m 46ms/step - categorical_accuracy: 0.8173 - loss: 1.6281 - top5: 0.9686\n",
      "Epoch 31: val_categorical_accuracy improved from 0.71576 to 0.72093, saving model to best_model_gru.keras\n",
      "\u001b[1m16/16\u001b[0m \u001b[32m━━━━━━━━━━━━━━━━━━━━\u001b[0m\u001b[37m\u001b[0m \u001b[1m1s\u001b[0m 54ms/step - categorical_accuracy: 0.8182 - loss: 1.6260 - top5: 0.9686 - val_categorical_accuracy: 0.7209 - val_loss: 1.7747 - val_top5: 0.9457 - learning_rate: 0.0010\n",
      "Epoch 32/100\n",
      "\u001b[1m15/16\u001b[0m \u001b[32m━━━━━━━━━━━━━━━━━━\u001b[0m\u001b[37m━━\u001b[0m \u001b[1m0s\u001b[0m 46ms/step - categorical_accuracy: 0.8297 - loss: 1.5881 - top5: 0.9738\n",
      "Epoch 32: val_categorical_accuracy improved from 0.72093 to 0.73902, saving model to best_model_gru.keras\n",
      "\u001b[1m16/16\u001b[0m \u001b[32m━━━━━━━━━━━━━━━━━━━━\u001b[0m\u001b[37m\u001b[0m \u001b[1m1s\u001b[0m 54ms/step - categorical_accuracy: 0.8305 - loss: 1.5864 - top5: 0.9740 - val_categorical_accuracy: 0.7390 - val_loss: 1.7442 - val_top5: 0.9535 - learning_rate: 0.0010\n",
      "Epoch 33/100\n",
      "\u001b[1m16/16\u001b[0m \u001b[32m━━━━━━━━━━━━━━━━━━━━\u001b[0m\u001b[37m\u001b[0m \u001b[1m0s\u001b[0m 46ms/step - categorical_accuracy: 0.8474 - loss: 1.5526 - top5: 0.9796\n",
      "Epoch 33: val_categorical_accuracy did not improve from 0.73902\n",
      "\u001b[1m16/16\u001b[0m \u001b[32m━━━━━━━━━━━━━━━━━━━━\u001b[0m\u001b[37m\u001b[0m \u001b[1m1s\u001b[0m 51ms/step - categorical_accuracy: 0.8471 - loss: 1.5525 - top5: 0.9794 - val_categorical_accuracy: 0.7183 - val_loss: 1.7741 - val_top5: 0.9535 - learning_rate: 0.0010\n",
      "Epoch 34/100\n",
      "\u001b[1m16/16\u001b[0m \u001b[32m━━━━━━━━━━━━━━━━━━━━\u001b[0m\u001b[37m\u001b[0m \u001b[1m0s\u001b[0m 46ms/step - categorical_accuracy: 0.8581 - loss: 1.5156 - top5: 0.9813\n",
      "Epoch 34: val_categorical_accuracy improved from 0.73902 to 0.76486, saving model to best_model_gru.keras\n",
      "\u001b[1m16/16\u001b[0m \u001b[32m━━━━━━━━━━━━━━━━━━━━\u001b[0m\u001b[37m\u001b[0m \u001b[1m1s\u001b[0m 55ms/step - categorical_accuracy: 0.8579 - loss: 1.5159 - top5: 0.9812 - val_categorical_accuracy: 0.7649 - val_loss: 1.6626 - val_top5: 0.9509 - learning_rate: 0.0010\n",
      "Epoch 35/100\n",
      "\u001b[1m15/16\u001b[0m \u001b[32m━━━━━━━━━━━━━━━━━━\u001b[0m\u001b[37m━━\u001b[0m \u001b[1m0s\u001b[0m 46ms/step - categorical_accuracy: 0.8601 - loss: 1.5100 - top5: 0.9787\n",
      "Epoch 35: val_categorical_accuracy improved from 0.76486 to 0.79070, saving model to best_model_gru.keras\n",
      "\u001b[1m16/16\u001b[0m \u001b[32m━━━━━━━━━━━━━━━━━━━━\u001b[0m\u001b[37m\u001b[0m \u001b[1m1s\u001b[0m 54ms/step - categorical_accuracy: 0.8614 - loss: 1.5064 - top5: 0.9789 - val_categorical_accuracy: 0.7907 - val_loss: 1.6609 - val_top5: 0.9509 - learning_rate: 0.0010\n",
      "Epoch 36/100\n",
      "\u001b[1m15/16\u001b[0m \u001b[32m━━━━━━━━━━━━━━━━━━\u001b[0m\u001b[37m━━\u001b[0m \u001b[1m0s\u001b[0m 47ms/step - categorical_accuracy: 0.8680 - loss: 1.4824 - top5: 0.9850\n",
      "Epoch 36: val_categorical_accuracy did not improve from 0.79070\n",
      "\u001b[1m16/16\u001b[0m \u001b[32m━━━━━━━━━━━━━━━━━━━━\u001b[0m\u001b[37m\u001b[0m \u001b[1m1s\u001b[0m 50ms/step - categorical_accuracy: 0.8678 - loss: 1.4821 - top5: 0.9851 - val_categorical_accuracy: 0.7649 - val_loss: 1.6761 - val_top5: 0.9509 - learning_rate: 0.0010\n",
      "Epoch 37/100\n",
      "\u001b[1m15/16\u001b[0m \u001b[32m━━━━━━━━━━━━━━━━━━\u001b[0m\u001b[37m━━\u001b[0m \u001b[1m0s\u001b[0m 46ms/step - categorical_accuracy: 0.8854 - loss: 1.4295 - top5: 0.9903\n",
      "Epoch 37: val_categorical_accuracy improved from 0.79070 to 0.79328, saving model to best_model_gru.keras\n",
      "\u001b[1m16/16\u001b[0m \u001b[32m━━━━━━━━━━━━━━━━━━━━\u001b[0m\u001b[37m\u001b[0m \u001b[1m1s\u001b[0m 54ms/step - categorical_accuracy: 0.8851 - loss: 1.4300 - top5: 0.9899 - val_categorical_accuracy: 0.7933 - val_loss: 1.6395 - val_top5: 0.9432 - learning_rate: 0.0010\n",
      "Epoch 38/100\n",
      "\u001b[1m15/16\u001b[0m \u001b[32m━━━━━━━━━━━━━━━━━━\u001b[0m\u001b[37m━━\u001b[0m \u001b[1m0s\u001b[0m 46ms/step - categorical_accuracy: 0.8882 - loss: 1.4179 - top5: 0.9890\n",
      "Epoch 38: val_categorical_accuracy did not improve from 0.79328\n",
      "\u001b[1m16/16\u001b[0m \u001b[32m━━━━━━━━━━━━━━━━━━━━\u001b[0m\u001b[37m\u001b[0m \u001b[1m1s\u001b[0m 50ms/step - categorical_accuracy: 0.8881 - loss: 1.4175 - top5: 0.9886 - val_categorical_accuracy: 0.7597 - val_loss: 1.7065 - val_top5: 0.9509 - learning_rate: 0.0010\n",
      "Epoch 39/100\n",
      "\u001b[1m16/16\u001b[0m \u001b[32m━━━━━━━━━━━━━━━━━━━━\u001b[0m\u001b[37m\u001b[0m \u001b[1m0s\u001b[0m 47ms/step - categorical_accuracy: 0.8885 - loss: 1.4219 - top5: 0.9884\n",
      "Epoch 39: val_categorical_accuracy did not improve from 0.79328\n",
      "\u001b[1m16/16\u001b[0m \u001b[32m━━━━━━━━━━━━━━━━━━━━\u001b[0m\u001b[37m\u001b[0m \u001b[1m1s\u001b[0m 52ms/step - categorical_accuracy: 0.8887 - loss: 1.4215 - top5: 0.9883 - val_categorical_accuracy: 0.7623 - val_loss: 1.6963 - val_top5: 0.9432 - learning_rate: 0.0010\n",
      "Epoch 40/100\n",
      "\u001b[1m16/16\u001b[0m \u001b[32m━━━━━━━━━━━━━━━━━━━━\u001b[0m\u001b[37m\u001b[0m \u001b[1m0s\u001b[0m 45ms/step - categorical_accuracy: 0.9073 - loss: 1.3896 - top5: 0.9927\n",
      "Epoch 40: val_categorical_accuracy improved from 0.79328 to 0.81654, saving model to best_model_gru.keras\n",
      "\u001b[1m16/16\u001b[0m \u001b[32m━━━━━━━━━━━━━━━━━━━━\u001b[0m\u001b[37m\u001b[0m \u001b[1m1s\u001b[0m 55ms/step - categorical_accuracy: 0.9072 - loss: 1.3897 - top5: 0.9924 - val_categorical_accuracy: 0.8165 - val_loss: 1.5942 - val_top5: 0.9612 - learning_rate: 0.0010\n",
      "Epoch 41/100\n",
      "\u001b[1m16/16\u001b[0m \u001b[32m━━━━━━━━━━━━━━━━━━━━\u001b[0m\u001b[37m\u001b[0m \u001b[1m0s\u001b[0m 45ms/step - categorical_accuracy: 0.9247 - loss: 1.3682 - top5: 0.9947\n",
      "Epoch 41: val_categorical_accuracy did not improve from 0.81654\n",
      "\u001b[1m16/16\u001b[0m \u001b[32m━━━━━━━━━━━━━━━━━━━━\u001b[0m\u001b[37m\u001b[0m \u001b[1m1s\u001b[0m 50ms/step - categorical_accuracy: 0.9246 - loss: 1.3676 - top5: 0.9947 - val_categorical_accuracy: 0.7778 - val_loss: 1.6340 - val_top5: 0.9432 - learning_rate: 0.0010\n",
      "Epoch 42/100\n",
      "\u001b[1m15/16\u001b[0m \u001b[32m━━━━━━━━━━━━━━━━━━\u001b[0m\u001b[37m━━\u001b[0m \u001b[1m0s\u001b[0m 47ms/step - categorical_accuracy: 0.9078 - loss: 1.3622 - top5: 0.9946\n",
      "Epoch 42: val_categorical_accuracy did not improve from 0.81654\n",
      "\u001b[1m16/16\u001b[0m \u001b[32m━━━━━━━━━━━━━━━━━━━━\u001b[0m\u001b[37m\u001b[0m \u001b[1m1s\u001b[0m 50ms/step - categorical_accuracy: 0.9080 - loss: 1.3619 - top5: 0.9944 - val_categorical_accuracy: 0.7881 - val_loss: 1.6049 - val_top5: 0.9561 - learning_rate: 0.0010\n",
      "Epoch 43/100\n",
      "\u001b[1m15/16\u001b[0m \u001b[32m━━━━━━━━━━━━━━━━━━\u001b[0m\u001b[37m━━\u001b[0m \u001b[1m0s\u001b[0m 47ms/step - categorical_accuracy: 0.9222 - loss: 1.3526 - top5: 0.9933\n",
      "Epoch 43: val_categorical_accuracy did not improve from 0.81654\n",
      "\u001b[1m16/16\u001b[0m \u001b[32m━━━━━━━━━━━━━━━━━━━━\u001b[0m\u001b[37m\u001b[0m \u001b[1m1s\u001b[0m 51ms/step - categorical_accuracy: 0.9215 - loss: 1.3533 - top5: 0.9932 - val_categorical_accuracy: 0.7597 - val_loss: 1.7020 - val_top5: 0.9509 - learning_rate: 0.0010\n",
      "Epoch 44/100\n",
      "\u001b[1m16/16\u001b[0m \u001b[32m━━━━━━━━━━━━━━━━━━━━\u001b[0m\u001b[37m\u001b[0m \u001b[1m0s\u001b[0m 46ms/step - categorical_accuracy: 0.9214 - loss: 1.3488 - top5: 0.9972\n",
      "Epoch 44: val_categorical_accuracy did not improve from 0.81654\n",
      "\u001b[1m16/16\u001b[0m \u001b[32m━━━━━━━━━━━━━━━━━━━━\u001b[0m\u001b[37m\u001b[0m \u001b[1m1s\u001b[0m 51ms/step - categorical_accuracy: 0.9216 - loss: 1.3480 - top5: 0.9971 - val_categorical_accuracy: 0.8010 - val_loss: 1.6157 - val_top5: 0.9587 - learning_rate: 0.0010\n",
      "Epoch 45/100\n",
      "\u001b[1m15/16\u001b[0m \u001b[32m━━━━━━━━━━━━━━━━━━\u001b[0m\u001b[37m━━\u001b[0m \u001b[1m0s\u001b[0m 46ms/step - categorical_accuracy: 0.9191 - loss: 1.3308 - top5: 0.9972\n",
      "Epoch 45: val_categorical_accuracy did not improve from 0.81654\n",
      "\u001b[1m16/16\u001b[0m \u001b[32m━━━━━━━━━━━━━━━━━━━━\u001b[0m\u001b[37m\u001b[0m \u001b[1m1s\u001b[0m 50ms/step - categorical_accuracy: 0.9201 - loss: 1.3289 - top5: 0.9971 - val_categorical_accuracy: 0.7907 - val_loss: 1.6074 - val_top5: 0.9612 - learning_rate: 0.0010\n",
      "Epoch 46/100\n",
      "\u001b[1m16/16\u001b[0m \u001b[32m━━━━━━━━━━━━━━━━━━━━\u001b[0m\u001b[37m\u001b[0m \u001b[1m0s\u001b[0m 45ms/step - categorical_accuracy: 0.9342 - loss: 1.3174 - top5: 0.9932\n",
      "Epoch 46: val_categorical_accuracy did not improve from 0.81654\n",
      "\u001b[1m16/16\u001b[0m \u001b[32m━━━━━━━━━━━━━━━━━━━━\u001b[0m\u001b[37m\u001b[0m \u001b[1m1s\u001b[0m 51ms/step - categorical_accuracy: 0.9340 - loss: 1.3171 - top5: 0.9932 - val_categorical_accuracy: 0.8140 - val_loss: 1.5580 - val_top5: 0.9535 - learning_rate: 0.0010\n",
      "Epoch 47/100\n",
      "\u001b[1m16/16\u001b[0m \u001b[32m━━━━━━━━━━━━━━━━━━━━\u001b[0m\u001b[37m\u001b[0m \u001b[1m0s\u001b[0m 45ms/step - categorical_accuracy: 0.9456 - loss: 1.2980 - top5: 0.9969\n",
      "Epoch 47: val_categorical_accuracy did not improve from 0.81654\n",
      "\u001b[1m16/16\u001b[0m \u001b[32m━━━━━━━━━━━━━━━━━━━━\u001b[0m\u001b[37m\u001b[0m \u001b[1m1s\u001b[0m 50ms/step - categorical_accuracy: 0.9454 - loss: 1.2978 - top5: 0.9968 - val_categorical_accuracy: 0.8140 - val_loss: 1.5727 - val_top5: 0.9690 - learning_rate: 0.0010\n",
      "Epoch 48/100\n",
      "\u001b[1m15/16\u001b[0m \u001b[32m━━━━━━━━━━━━━━━━━━\u001b[0m\u001b[37m━━\u001b[0m \u001b[1m0s\u001b[0m 47ms/step - categorical_accuracy: 0.9451 - loss: 1.2865 - top5: 0.9974\n",
      "Epoch 48: val_categorical_accuracy did not improve from 0.81654\n",
      "\u001b[1m16/16\u001b[0m \u001b[32m━━━━━━━━━━━━━━━━━━━━\u001b[0m\u001b[37m\u001b[0m \u001b[1m1s\u001b[0m 51ms/step - categorical_accuracy: 0.9447 - loss: 1.2860 - top5: 0.9974 - val_categorical_accuracy: 0.7959 - val_loss: 1.5895 - val_top5: 0.9638 - learning_rate: 0.0010\n",
      "Epoch 49/100\n",
      "\u001b[1m15/16\u001b[0m \u001b[32m━━━━━━━━━━━━━━━━━━\u001b[0m\u001b[37m━━\u001b[0m \u001b[1m0s\u001b[0m 47ms/step - categorical_accuracy: 0.9509 - loss: 1.2826 - top5: 0.9958\n",
      "Epoch 49: val_categorical_accuracy did not improve from 0.81654\n",
      "\u001b[1m16/16\u001b[0m \u001b[32m━━━━━━━━━━━━━━━━━━━━\u001b[0m\u001b[37m\u001b[0m \u001b[1m1s\u001b[0m 51ms/step - categorical_accuracy: 0.9505 - loss: 1.2817 - top5: 0.9958 - val_categorical_accuracy: 0.7959 - val_loss: 1.5809 - val_top5: 0.9664 - learning_rate: 0.0010\n",
      "Epoch 50/100\n",
      "\u001b[1m16/16\u001b[0m \u001b[32m━━━━━━━━━━━━━━━━━━━━\u001b[0m\u001b[37m\u001b[0m \u001b[1m0s\u001b[0m 46ms/step - categorical_accuracy: 0.9410 - loss: 1.2811 - top5: 0.9984\n",
      "Epoch 50: val_categorical_accuracy did not improve from 0.81654\n",
      "\u001b[1m16/16\u001b[0m \u001b[32m━━━━━━━━━━━━━━━━━━━━\u001b[0m\u001b[37m\u001b[0m \u001b[1m1s\u001b[0m 51ms/step - categorical_accuracy: 0.9415 - loss: 1.2802 - top5: 0.9983 - val_categorical_accuracy: 0.8114 - val_loss: 1.5884 - val_top5: 0.9561 - learning_rate: 0.0010\n",
      "Epoch 51/100\n",
      "\u001b[1m16/16\u001b[0m \u001b[32m━━━━━━━━━━━━━━━━━━━━\u001b[0m\u001b[37m\u001b[0m \u001b[1m0s\u001b[0m 48ms/step - categorical_accuracy: 0.9536 - loss: 1.2538 - top5: 0.9961\n",
      "Epoch 51: val_categorical_accuracy did not improve from 0.81654\n",
      "\u001b[1m16/16\u001b[0m \u001b[32m━━━━━━━━━━━━━━━━━━━━\u001b[0m\u001b[37m\u001b[0m \u001b[1m1s\u001b[0m 54ms/step - categorical_accuracy: 0.9536 - loss: 1.2539 - top5: 0.9961 - val_categorical_accuracy: 0.7907 - val_loss: 1.5622 - val_top5: 0.9612 - learning_rate: 9.0484e-04\n",
      "Epoch 52/100\n",
      "\u001b[1m15/16\u001b[0m \u001b[32m━━━━━━━━━━━━━━━━━━\u001b[0m\u001b[37m━━\u001b[0m \u001b[1m0s\u001b[0m 48ms/step - categorical_accuracy: 0.9601 - loss: 1.2484 - top5: 0.9984\n",
      "Epoch 52: val_categorical_accuracy did not improve from 0.81654\n",
      "\u001b[1m16/16\u001b[0m \u001b[32m━━━━━━━━━━━━━━━━━━━━\u001b[0m\u001b[37m\u001b[0m \u001b[1m1s\u001b[0m 51ms/step - categorical_accuracy: 0.9601 - loss: 1.2473 - top5: 0.9983 - val_categorical_accuracy: 0.8088 - val_loss: 1.5408 - val_top5: 0.9664 - learning_rate: 8.1873e-04\n",
      "Epoch 53/100\n",
      "\u001b[1m16/16\u001b[0m \u001b[32m━━━━━━━━━━━━━━━━━━━━\u001b[0m\u001b[37m\u001b[0m \u001b[1m0s\u001b[0m 45ms/step - categorical_accuracy: 0.9576 - loss: 1.2358 - top5: 0.9973\n",
      "Epoch 53: val_categorical_accuracy improved from 0.81654 to 0.82171, saving model to best_model_gru.keras\n",
      "\u001b[1m16/16\u001b[0m \u001b[32m━━━━━━━━━━━━━━━━━━━━\u001b[0m\u001b[37m\u001b[0m \u001b[1m1s\u001b[0m 54ms/step - categorical_accuracy: 0.9573 - loss: 1.2363 - top5: 0.9971 - val_categorical_accuracy: 0.8217 - val_loss: 1.5295 - val_top5: 0.9690 - learning_rate: 7.4082e-04\n",
      "Epoch 54/100\n",
      "\u001b[1m16/16\u001b[0m \u001b[32m━━━━━━━━━━━━━━━━━━━━\u001b[0m\u001b[37m\u001b[0m \u001b[1m0s\u001b[0m 45ms/step - categorical_accuracy: 0.9705 - loss: 1.2170 - top5: 0.9994\n",
      "Epoch 54: val_categorical_accuracy improved from 0.82171 to 0.83204, saving model to best_model_gru.keras\n",
      "\u001b[1m16/16\u001b[0m \u001b[32m━━━━━━━━━━━━━━━━━━━━\u001b[0m\u001b[37m\u001b[0m \u001b[1m1s\u001b[0m 54ms/step - categorical_accuracy: 0.9705 - loss: 1.2165 - top5: 0.9993 - val_categorical_accuracy: 0.8320 - val_loss: 1.5087 - val_top5: 0.9690 - learning_rate: 6.7032e-04\n",
      "Epoch 55/100\n",
      "\u001b[1m16/16\u001b[0m \u001b[32m━━━━━━━━━━━━━━━━━━━━\u001b[0m\u001b[37m\u001b[0m \u001b[1m0s\u001b[0m 45ms/step - categorical_accuracy: 0.9702 - loss: 1.2000 - top5: 0.9982\n",
      "Epoch 55: val_categorical_accuracy did not improve from 0.83204\n",
      "\u001b[1m16/16\u001b[0m \u001b[32m━━━━━━━━━━━━━━━━━━━━\u001b[0m\u001b[37m\u001b[0m \u001b[1m1s\u001b[0m 51ms/step - categorical_accuracy: 0.9701 - loss: 1.1998 - top5: 0.9982 - val_categorical_accuracy: 0.7907 - val_loss: 1.5625 - val_top5: 0.9612 - learning_rate: 6.0653e-04\n",
      "Epoch 56/100\n",
      "\u001b[1m15/16\u001b[0m \u001b[32m━━━━━━━━━━━━━━━━━━\u001b[0m\u001b[37m━━\u001b[0m \u001b[1m0s\u001b[0m 46ms/step - categorical_accuracy: 0.9861 - loss: 1.1838 - top5: 0.9987\n",
      "Epoch 56: val_categorical_accuracy did not improve from 0.83204\n",
      "\u001b[1m16/16\u001b[0m \u001b[32m━━━━━━━━━━━━━━━━━━━━\u001b[0m\u001b[37m\u001b[0m \u001b[1m1s\u001b[0m 50ms/step - categorical_accuracy: 0.9850 - loss: 1.1849 - top5: 0.9986 - val_categorical_accuracy: 0.8295 - val_loss: 1.4868 - val_top5: 0.9716 - learning_rate: 5.4881e-04\n",
      "Epoch 57/100\n",
      "\u001b[1m15/16\u001b[0m \u001b[32m━━━━━━━━━━━━━━━━━━\u001b[0m\u001b[37m━━\u001b[0m \u001b[1m0s\u001b[0m 46ms/step - categorical_accuracy: 0.9727 - loss: 1.1947 - top5: 0.9984\n",
      "Epoch 57: val_categorical_accuracy did not improve from 0.83204\n",
      "\u001b[1m16/16\u001b[0m \u001b[32m━━━━━━━━━━━━━━━━━━━━\u001b[0m\u001b[37m\u001b[0m \u001b[1m1s\u001b[0m 50ms/step - categorical_accuracy: 0.9732 - loss: 1.1938 - top5: 0.9984 - val_categorical_accuracy: 0.8191 - val_loss: 1.5156 - val_top5: 0.9767 - learning_rate: 4.9659e-04\n",
      "Epoch 58/100\n",
      "\u001b[1m15/16\u001b[0m \u001b[32m━━━━━━━━━━━━━━━━━━\u001b[0m\u001b[37m━━\u001b[0m \u001b[1m0s\u001b[0m 47ms/step - categorical_accuracy: 0.9805 - loss: 1.1841 - top5: 0.9989\n",
      "Epoch 58: val_categorical_accuracy did not improve from 0.83204\n",
      "\u001b[1m16/16\u001b[0m \u001b[32m━━━━━━━━━━━━━━━━━━━━\u001b[0m\u001b[37m\u001b[0m \u001b[1m1s\u001b[0m 51ms/step - categorical_accuracy: 0.9805 - loss: 1.1834 - top5: 0.9988 - val_categorical_accuracy: 0.8165 - val_loss: 1.4973 - val_top5: 0.9767 - learning_rate: 4.4933e-04\n",
      "Epoch 59/100\n",
      "\u001b[1m16/16\u001b[0m \u001b[32m━━━━━━━━━━━━━━━━━━━━\u001b[0m\u001b[37m\u001b[0m \u001b[1m0s\u001b[0m 45ms/step - categorical_accuracy: 0.9737 - loss: 1.1786 - top5: 0.9960\n",
      "Epoch 59: val_categorical_accuracy did not improve from 0.83204\n",
      "\u001b[1m16/16\u001b[0m \u001b[32m━━━━━━━━━━━━━━━━━━━━\u001b[0m\u001b[37m\u001b[0m \u001b[1m1s\u001b[0m 51ms/step - categorical_accuracy: 0.9738 - loss: 1.1783 - top5: 0.9960 - val_categorical_accuracy: 0.8243 - val_loss: 1.4710 - val_top5: 0.9742 - learning_rate: 4.0657e-04\n",
      "Epoch 60/100\n",
      "\u001b[1m15/16\u001b[0m \u001b[32m━━━━━━━━━━━━━━━━━━\u001b[0m\u001b[37m━━\u001b[0m \u001b[1m0s\u001b[0m 46ms/step - categorical_accuracy: 0.9728 - loss: 1.1695 - top5: 0.9987\n",
      "Epoch 60: val_categorical_accuracy did not improve from 0.83204\n",
      "\u001b[1m16/16\u001b[0m \u001b[32m━━━━━━━━━━━━━━━━━━━━\u001b[0m\u001b[37m\u001b[0m \u001b[1m1s\u001b[0m 50ms/step - categorical_accuracy: 0.9726 - loss: 1.1691 - top5: 0.9987 - val_categorical_accuracy: 0.8243 - val_loss: 1.4760 - val_top5: 0.9742 - learning_rate: 3.6788e-04\n",
      "Epoch 61/100\n",
      "\u001b[1m16/16\u001b[0m \u001b[32m━━━━━━━━━━━━━━━━━━━━\u001b[0m\u001b[37m\u001b[0m \u001b[1m0s\u001b[0m 45ms/step - categorical_accuracy: 0.9767 - loss: 1.1673 - top5: 0.9988\n",
      "Epoch 61: val_categorical_accuracy did not improve from 0.83204\n",
      "\u001b[1m16/16\u001b[0m \u001b[32m━━━━━━━━━━━━━━━━━━━━\u001b[0m\u001b[37m\u001b[0m \u001b[1m1s\u001b[0m 51ms/step - categorical_accuracy: 0.9766 - loss: 1.1671 - top5: 0.9987 - val_categorical_accuracy: 0.8269 - val_loss: 1.4571 - val_top5: 0.9742 - learning_rate: 3.3287e-04\n",
      "Epoch 62/100\n",
      "\u001b[1m16/16\u001b[0m \u001b[32m━━━━━━━━━━━━━━━━━━━━\u001b[0m\u001b[37m\u001b[0m \u001b[1m0s\u001b[0m 46ms/step - categorical_accuracy: 0.9779 - loss: 1.1694 - top5: 1.0000\n",
      "Epoch 62: val_categorical_accuracy did not improve from 0.83204\n",
      "\u001b[1m16/16\u001b[0m \u001b[32m━━━━━━━━━━━━━━━━━━━━\u001b[0m\u001b[37m\u001b[0m \u001b[1m1s\u001b[0m 52ms/step - categorical_accuracy: 0.9780 - loss: 1.1690 - top5: 1.0000 - val_categorical_accuracy: 0.8320 - val_loss: 1.4561 - val_top5: 0.9767 - learning_rate: 3.0119e-04\n",
      "Epoch 63/100\n",
      "\u001b[1m15/16\u001b[0m \u001b[32m━━━━━━━━━━━━━━━━━━\u001b[0m\u001b[37m━━\u001b[0m \u001b[1m0s\u001b[0m 46ms/step - categorical_accuracy: 0.9813 - loss: 1.1419 - top5: 1.0000\n",
      "Epoch 63: val_categorical_accuracy improved from 0.83204 to 0.83979, saving model to best_model_gru.keras\n",
      "\u001b[1m16/16\u001b[0m \u001b[32m━━━━━━━━━━━━━━━━━━━━\u001b[0m\u001b[37m\u001b[0m \u001b[1m1s\u001b[0m 55ms/step - categorical_accuracy: 0.9813 - loss: 1.1424 - top5: 0.9999 - val_categorical_accuracy: 0.8398 - val_loss: 1.4334 - val_top5: 0.9767 - learning_rate: 2.7253e-04\n",
      "Epoch 64/100\n",
      "\u001b[1m16/16\u001b[0m \u001b[32m━━━━━━━━━━━━━━━━━━━━\u001b[0m\u001b[37m\u001b[0m \u001b[1m0s\u001b[0m 46ms/step - categorical_accuracy: 0.9853 - loss: 1.1516 - top5: 0.9997\n",
      "Epoch 64: val_categorical_accuracy improved from 0.83979 to 0.84496, saving model to best_model_gru.keras\n",
      "\u001b[1m16/16\u001b[0m \u001b[32m━━━━━━━━━━━━━━━━━━━━\u001b[0m\u001b[37m\u001b[0m \u001b[1m1s\u001b[0m 55ms/step - categorical_accuracy: 0.9852 - loss: 1.1516 - top5: 0.9997 - val_categorical_accuracy: 0.8450 - val_loss: 1.4381 - val_top5: 0.9742 - learning_rate: 2.4660e-04\n",
      "Epoch 65/100\n",
      "\u001b[1m16/16\u001b[0m \u001b[32m━━━━━━━━━━━━━━━━━━━━\u001b[0m\u001b[37m\u001b[0m \u001b[1m0s\u001b[0m 45ms/step - categorical_accuracy: 0.9830 - loss: 1.1491 - top5: 1.0000\n",
      "Epoch 65: val_categorical_accuracy did not improve from 0.84496\n",
      "\u001b[1m16/16\u001b[0m \u001b[32m━━━━━━━━━━━━━━━━━━━━\u001b[0m\u001b[37m\u001b[0m \u001b[1m1s\u001b[0m 51ms/step - categorical_accuracy: 0.9830 - loss: 1.1489 - top5: 1.0000 - val_categorical_accuracy: 0.8450 - val_loss: 1.4467 - val_top5: 0.9716 - learning_rate: 2.2313e-04\n",
      "Epoch 66/100\n",
      "\u001b[1m15/16\u001b[0m \u001b[32m━━━━━━━━━━━━━━━━━━\u001b[0m\u001b[37m━━\u001b[0m \u001b[1m0s\u001b[0m 46ms/step - categorical_accuracy: 0.9853 - loss: 1.1500 - top5: 0.9992\n",
      "Epoch 66: val_categorical_accuracy did not improve from 0.84496\n",
      "\u001b[1m16/16\u001b[0m \u001b[32m━━━━━━━━━━━━━━━━━━━━\u001b[0m\u001b[37m\u001b[0m \u001b[1m1s\u001b[0m 50ms/step - categorical_accuracy: 0.9852 - loss: 1.1494 - top5: 0.9991 - val_categorical_accuracy: 0.8372 - val_loss: 1.4557 - val_top5: 0.9716 - learning_rate: 2.0190e-04\n",
      "Epoch 67/100\n",
      "\u001b[1m15/16\u001b[0m \u001b[32m━━━━━━━━━━━━━━━━━━\u001b[0m\u001b[37m━━\u001b[0m \u001b[1m0s\u001b[0m 46ms/step - categorical_accuracy: 0.9791 - loss: 1.1481 - top5: 0.9995\n",
      "Epoch 67: val_categorical_accuracy improved from 0.84496 to 0.85013, saving model to best_model_gru.keras\n",
      "\u001b[1m16/16\u001b[0m \u001b[32m━━━━━━━━━━━━━━━━━━━━\u001b[0m\u001b[37m\u001b[0m \u001b[1m1s\u001b[0m 54ms/step - categorical_accuracy: 0.9792 - loss: 1.1479 - top5: 0.9995 - val_categorical_accuracy: 0.8501 - val_loss: 1.4593 - val_top5: 0.9742 - learning_rate: 1.8268e-04\n",
      "Epoch 68/100\n",
      "\u001b[1m15/16\u001b[0m \u001b[32m━━━━━━━━━━━━━━━━━━\u001b[0m\u001b[37m━━\u001b[0m \u001b[1m0s\u001b[0m 47ms/step - categorical_accuracy: 0.9889 - loss: 1.1373 - top5: 0.9998\n",
      "Epoch 68: val_categorical_accuracy did not improve from 0.85013\n",
      "\u001b[1m16/16\u001b[0m \u001b[32m━━━━━━━━━━━━━━━━━━━━\u001b[0m\u001b[37m\u001b[0m \u001b[1m1s\u001b[0m 50ms/step - categorical_accuracy: 0.9886 - loss: 1.1372 - top5: 0.9998 - val_categorical_accuracy: 0.8424 - val_loss: 1.4464 - val_top5: 0.9767 - learning_rate: 1.6530e-04\n",
      "Epoch 69/100\n",
      "\u001b[1m15/16\u001b[0m \u001b[32m━━━━━━━━━━━━━━━━━━\u001b[0m\u001b[37m━━\u001b[0m \u001b[1m0s\u001b[0m 46ms/step - categorical_accuracy: 0.9888 - loss: 1.1384 - top5: 0.9997\n",
      "Epoch 69: val_categorical_accuracy did not improve from 0.85013\n",
      "\u001b[1m16/16\u001b[0m \u001b[32m━━━━━━━━━━━━━━━━━━━━\u001b[0m\u001b[37m\u001b[0m \u001b[1m1s\u001b[0m 50ms/step - categorical_accuracy: 0.9884 - loss: 1.1388 - top5: 0.9997 - val_categorical_accuracy: 0.8269 - val_loss: 1.4596 - val_top5: 0.9742 - learning_rate: 1.4957e-04\n",
      "Epoch 70/100\n",
      "\u001b[1m16/16\u001b[0m \u001b[32m━━━━━━━━━━━━━━━━━━━━\u001b[0m\u001b[37m\u001b[0m \u001b[1m0s\u001b[0m 46ms/step - categorical_accuracy: 0.9845 - loss: 1.1395 - top5: 0.9995\n",
      "Epoch 70: val_categorical_accuracy did not improve from 0.85013\n",
      "\u001b[1m16/16\u001b[0m \u001b[32m━━━━━━━━━━━━━━━━━━━━\u001b[0m\u001b[37m\u001b[0m \u001b[1m1s\u001b[0m 51ms/step - categorical_accuracy: 0.9845 - loss: 1.1393 - top5: 0.9995 - val_categorical_accuracy: 0.8424 - val_loss: 1.4575 - val_top5: 0.9716 - learning_rate: 1.3534e-04\n",
      "Epoch 71/100\n",
      "\u001b[1m16/16\u001b[0m \u001b[32m━━━━━━━━━━━━━━━━━━━━\u001b[0m\u001b[37m\u001b[0m \u001b[1m0s\u001b[0m 45ms/step - categorical_accuracy: 0.9867 - loss: 1.1313 - top5: 1.0000\n",
      "Epoch 71: val_categorical_accuracy did not improve from 0.85013\n",
      "\u001b[1m16/16\u001b[0m \u001b[32m━━━━━━━━━━━━━━━━━━━━\u001b[0m\u001b[37m\u001b[0m \u001b[1m1s\u001b[0m 50ms/step - categorical_accuracy: 0.9866 - loss: 1.1316 - top5: 1.0000 - val_categorical_accuracy: 0.8475 - val_loss: 1.4458 - val_top5: 0.9742 - learning_rate: 1.2246e-04\n",
      "Epoch 72/100\n",
      "\u001b[1m15/16\u001b[0m \u001b[32m━━━━━━━━━━━━━━━━━━\u001b[0m\u001b[37m━━\u001b[0m \u001b[1m0s\u001b[0m 46ms/step - categorical_accuracy: 0.9857 - loss: 1.1374 - top5: 1.0000\n",
      "Epoch 72: val_categorical_accuracy did not improve from 0.85013\n",
      "\u001b[1m16/16\u001b[0m \u001b[32m━━━━━━━━━━━━━━━━━━━━\u001b[0m\u001b[37m\u001b[0m \u001b[1m1s\u001b[0m 51ms/step - categorical_accuracy: 0.9861 - loss: 1.1372 - top5: 1.0000 - val_categorical_accuracy: 0.8372 - val_loss: 1.4476 - val_top5: 0.9767 - learning_rate: 1.1080e-04\n",
      "Epoch 73/100\n",
      "\u001b[1m15/16\u001b[0m \u001b[32m━━━━━━━━━━━━━━━━━━\u001b[0m\u001b[37m━━\u001b[0m \u001b[1m0s\u001b[0m 46ms/step - categorical_accuracy: 0.9849 - loss: 1.1262 - top5: 0.9999\n",
      "Epoch 73: val_categorical_accuracy did not improve from 0.85013\n",
      "\u001b[1m16/16\u001b[0m \u001b[32m━━━━━━━━━━━━━━━━━━━━\u001b[0m\u001b[37m\u001b[0m \u001b[1m1s\u001b[0m 50ms/step - categorical_accuracy: 0.9850 - loss: 1.1261 - top5: 0.9999 - val_categorical_accuracy: 0.8243 - val_loss: 1.4630 - val_top5: 0.9742 - learning_rate: 1.0026e-04\n",
      "Epoch 74/100\n",
      "\u001b[1m15/16\u001b[0m \u001b[32m━━━━━━━━━━━━━━━━━━\u001b[0m\u001b[37m━━\u001b[0m \u001b[1m0s\u001b[0m 47ms/step - categorical_accuracy: 0.9862 - loss: 1.1500 - top5: 0.9995\n",
      "Epoch 74: val_categorical_accuracy did not improve from 0.85013\n",
      "\u001b[1m16/16\u001b[0m \u001b[32m━━━━━━━━━━━━━━━━━━━━\u001b[0m\u001b[37m\u001b[0m \u001b[1m1s\u001b[0m 51ms/step - categorical_accuracy: 0.9862 - loss: 1.1487 - top5: 0.9994 - val_categorical_accuracy: 0.8320 - val_loss: 1.4645 - val_top5: 0.9742 - learning_rate: 9.0718e-05\n",
      "Epoch 75/100\n",
      "\u001b[1m16/16\u001b[0m \u001b[32m━━━━━━━━━━━━━━━━━━━━\u001b[0m\u001b[37m\u001b[0m \u001b[1m0s\u001b[0m 45ms/step - categorical_accuracy: 0.9878 - loss: 1.1316 - top5: 1.0000\n",
      "Epoch 75: val_categorical_accuracy did not improve from 0.85013\n",
      "\u001b[1m16/16\u001b[0m \u001b[32m━━━━━━━━━━━━━━━━━━━━\u001b[0m\u001b[37m\u001b[0m \u001b[1m1s\u001b[0m 51ms/step - categorical_accuracy: 0.9877 - loss: 1.1318 - top5: 1.0000 - val_categorical_accuracy: 0.8424 - val_loss: 1.4604 - val_top5: 0.9742 - learning_rate: 8.2085e-05\n",
      "Epoch 76/100\n",
      "\u001b[1m15/16\u001b[0m \u001b[32m━━━━━━━━━━━━━━━━━━\u001b[0m\u001b[37m━━\u001b[0m \u001b[1m0s\u001b[0m 47ms/step - categorical_accuracy: 0.9902 - loss: 1.1307 - top5: 0.9993\n",
      "Epoch 76: val_categorical_accuracy did not improve from 0.85013\n",
      "\u001b[1m16/16\u001b[0m \u001b[32m━━━━━━━━━━━━━━━━━━━━\u001b[0m\u001b[37m\u001b[0m \u001b[1m1s\u001b[0m 50ms/step - categorical_accuracy: 0.9900 - loss: 1.1308 - top5: 0.9992 - val_categorical_accuracy: 0.8398 - val_loss: 1.4537 - val_top5: 0.9742 - learning_rate: 7.4273e-05\n",
      "Epoch 77/100\n",
      "\u001b[1m15/16\u001b[0m \u001b[32m━━━━━━━━━━━━━━━━━━\u001b[0m\u001b[37m━━\u001b[0m \u001b[1m0s\u001b[0m 46ms/step - categorical_accuracy: 0.9885 - loss: 1.1266 - top5: 0.9997\n",
      "Epoch 77: val_categorical_accuracy did not improve from 0.85013\n",
      "\u001b[1m16/16\u001b[0m \u001b[32m━━━━━━━━━━━━━━━━━━━━\u001b[0m\u001b[37m\u001b[0m \u001b[1m1s\u001b[0m 50ms/step - categorical_accuracy: 0.9881 - loss: 1.1268 - top5: 0.9996 - val_categorical_accuracy: 0.8398 - val_loss: 1.4463 - val_top5: 0.9742 - learning_rate: 6.7205e-05\n",
      "Epoch 78/100\n",
      "\u001b[1m16/16\u001b[0m \u001b[32m━━━━━━━━━━━━━━━━━━━━\u001b[0m\u001b[37m\u001b[0m \u001b[1m0s\u001b[0m 46ms/step - categorical_accuracy: 0.9865 - loss: 1.1214 - top5: 0.9997\n",
      "Epoch 78: val_categorical_accuracy did not improve from 0.85013\n",
      "\u001b[1m16/16\u001b[0m \u001b[32m━━━━━━━━━━━━━━━━━━━━\u001b[0m\u001b[37m\u001b[0m \u001b[1m1s\u001b[0m 51ms/step - categorical_accuracy: 0.9865 - loss: 1.1214 - top5: 0.9997 - val_categorical_accuracy: 0.8372 - val_loss: 1.4452 - val_top5: 0.9742 - learning_rate: 6.0810e-05\n",
      "Epoch 79/100\n",
      "\u001b[1m15/16\u001b[0m \u001b[32m━━━━━━━━━━━━━━━━━━\u001b[0m\u001b[37m━━\u001b[0m \u001b[1m0s\u001b[0m 46ms/step - categorical_accuracy: 0.9881 - loss: 1.1293 - top5: 0.9997\n",
      "Epoch 79: val_categorical_accuracy did not improve from 0.85013\n",
      "\u001b[1m16/16\u001b[0m \u001b[32m━━━━━━━━━━━━━━━━━━━━\u001b[0m\u001b[37m\u001b[0m \u001b[1m1s\u001b[0m 50ms/step - categorical_accuracy: 0.9876 - loss: 1.1298 - top5: 0.9997 - val_categorical_accuracy: 0.8424 - val_loss: 1.4417 - val_top5: 0.9767 - learning_rate: 5.5023e-05\n",
      "Epoch 80/100\n",
      "\u001b[1m16/16\u001b[0m \u001b[32m━━━━━━━━━━━━━━━━━━━━\u001b[0m\u001b[37m\u001b[0m \u001b[1m0s\u001b[0m 45ms/step - categorical_accuracy: 0.9878 - loss: 1.1339 - top5: 0.9995\n",
      "Epoch 80: val_categorical_accuracy did not improve from 0.85013\n",
      "\u001b[1m16/16\u001b[0m \u001b[32m━━━━━━━━━━━━━━━━━━━━\u001b[0m\u001b[37m\u001b[0m \u001b[1m1s\u001b[0m 51ms/step - categorical_accuracy: 0.9878 - loss: 1.1336 - top5: 0.9994 - val_categorical_accuracy: 0.8424 - val_loss: 1.4375 - val_top5: 0.9742 - learning_rate: 4.9787e-05\n",
      "Epoch 81/100\n",
      "\u001b[1m15/16\u001b[0m \u001b[32m━━━━━━━━━━━━━━━━━━\u001b[0m\u001b[37m━━\u001b[0m \u001b[1m0s\u001b[0m 46ms/step - categorical_accuracy: 0.9951 - loss: 1.1200 - top5: 1.0000\n",
      "Epoch 81: val_categorical_accuracy did not improve from 0.85013\n",
      "\u001b[1m16/16\u001b[0m \u001b[32m━━━━━━━━━━━━━━━━━━━━\u001b[0m\u001b[37m\u001b[0m \u001b[1m1s\u001b[0m 50ms/step - categorical_accuracy: 0.9946 - loss: 1.1207 - top5: 1.0000 - val_categorical_accuracy: 0.8398 - val_loss: 1.4347 - val_top5: 0.9742 - learning_rate: 4.5049e-05\n",
      "Epoch 82/100\n",
      "\u001b[1m15/16\u001b[0m \u001b[32m━━━━━━━━━━━━━━━━━━\u001b[0m\u001b[37m━━\u001b[0m \u001b[1m0s\u001b[0m 47ms/step - categorical_accuracy: 0.9872 - loss: 1.1351 - top5: 0.9995\n",
      "Epoch 82: val_categorical_accuracy did not improve from 0.85013\n",
      "\u001b[1m16/16\u001b[0m \u001b[32m━━━━━━━━━━━━━━━━━━━━\u001b[0m\u001b[37m\u001b[0m \u001b[1m1s\u001b[0m 51ms/step - categorical_accuracy: 0.9871 - loss: 1.1346 - top5: 0.9995 - val_categorical_accuracy: 0.8398 - val_loss: 1.4349 - val_top5: 0.9742 - learning_rate: 4.0762e-05\n",
      "Epoch 83/100\n",
      "\u001b[1m16/16\u001b[0m \u001b[32m━━━━━━━━━━━━━━━━━━━━\u001b[0m\u001b[37m\u001b[0m \u001b[1m0s\u001b[0m 45ms/step - categorical_accuracy: 0.9922 - loss: 1.1316 - top5: 0.9999\n",
      "Epoch 83: val_categorical_accuracy did not improve from 0.85013\n",
      "\u001b[1m16/16\u001b[0m \u001b[32m━━━━━━━━━━━━━━━━━━━━\u001b[0m\u001b[37m\u001b[0m \u001b[1m1s\u001b[0m 51ms/step - categorical_accuracy: 0.9920 - loss: 1.1315 - top5: 0.9999 - val_categorical_accuracy: 0.8424 - val_loss: 1.4390 - val_top5: 0.9742 - learning_rate: 3.6883e-05\n",
      "Epoch 84/100\n",
      "\u001b[1m15/16\u001b[0m \u001b[32m━━━━━━━━━━━━━━━━━━\u001b[0m\u001b[37m━━\u001b[0m \u001b[1m0s\u001b[0m 46ms/step - categorical_accuracy: 0.9856 - loss: 1.1372 - top5: 1.0000\n",
      "Epoch 84: val_categorical_accuracy did not improve from 0.85013\n",
      "\u001b[1m16/16\u001b[0m \u001b[32m━━━━━━━━━━━━━━━━━━━━\u001b[0m\u001b[37m\u001b[0m \u001b[1m1s\u001b[0m 51ms/step - categorical_accuracy: 0.9855 - loss: 1.1372 - top5: 1.0000 - val_categorical_accuracy: 0.8398 - val_loss: 1.4383 - val_top5: 0.9742 - learning_rate: 3.3373e-05\n",
      "Epoch 85/100\n",
      "\u001b[1m15/16\u001b[0m \u001b[32m━━━━━━━━━━━━━━━━━━\u001b[0m\u001b[37m━━\u001b[0m \u001b[1m0s\u001b[0m 46ms/step - categorical_accuracy: 0.9868 - loss: 1.1219 - top5: 0.9995\n",
      "Epoch 85: val_categorical_accuracy did not improve from 0.85013\n",
      "\u001b[1m16/16\u001b[0m \u001b[32m━━━━━━━━━━━━━━━━━━━━\u001b[0m\u001b[37m\u001b[0m \u001b[1m1s\u001b[0m 50ms/step - categorical_accuracy: 0.9864 - loss: 1.1217 - top5: 0.9995 - val_categorical_accuracy: 0.8398 - val_loss: 1.4354 - val_top5: 0.9742 - learning_rate: 3.0197e-05\n",
      "Epoch 86/100\n",
      "\u001b[1m16/16\u001b[0m \u001b[32m━━━━━━━━━━━━━━━━━━━━\u001b[0m\u001b[37m\u001b[0m \u001b[1m0s\u001b[0m 46ms/step - categorical_accuracy: 0.9843 - loss: 1.1345 - top5: 0.9993\n",
      "Epoch 86: val_categorical_accuracy did not improve from 0.85013\n",
      "\u001b[1m16/16\u001b[0m \u001b[32m━━━━━━━━━━━━━━━━━━━━\u001b[0m\u001b[37m\u001b[0m \u001b[1m1s\u001b[0m 52ms/step - categorical_accuracy: 0.9843 - loss: 1.1343 - top5: 0.9993 - val_categorical_accuracy: 0.8398 - val_loss: 1.4358 - val_top5: 0.9742 - learning_rate: 2.7324e-05\n",
      "Epoch 87/100\n",
      "\u001b[1m15/16\u001b[0m \u001b[32m━━━━━━━━━━━━━━━━━━\u001b[0m\u001b[37m━━\u001b[0m \u001b[1m0s\u001b[0m 46ms/step - categorical_accuracy: 0.9856 - loss: 1.1150 - top5: 0.9986\n",
      "Epoch 87: val_categorical_accuracy did not improve from 0.85013\n",
      "\u001b[1m16/16\u001b[0m \u001b[32m━━━━━━━━━━━━━━━━━━━━\u001b[0m\u001b[37m\u001b[0m \u001b[1m1s\u001b[0m 50ms/step - categorical_accuracy: 0.9855 - loss: 1.1163 - top5: 0.9986 - val_categorical_accuracy: 0.8372 - val_loss: 1.4360 - val_top5: 0.9742 - learning_rate: 2.4723e-05\n",
      "Epoch 88/100\n",
      "\u001b[1m15/16\u001b[0m \u001b[32m━━━━━━━━━━━━━━━━━━\u001b[0m\u001b[37m━━\u001b[0m \u001b[1m0s\u001b[0m 47ms/step - categorical_accuracy: 0.9919 - loss: 1.1183 - top5: 1.0000\n",
      "Epoch 88: val_categorical_accuracy did not improve from 0.85013\n",
      "\u001b[1m16/16\u001b[0m \u001b[32m━━━━━━━━━━━━━━━━━━━━\u001b[0m\u001b[37m\u001b[0m \u001b[1m1s\u001b[0m 52ms/step - categorical_accuracy: 0.9919 - loss: 1.1183 - top5: 1.0000 - val_categorical_accuracy: 0.8346 - val_loss: 1.4353 - val_top5: 0.9742 - learning_rate: 2.2371e-05\n",
      "Epoch 89/100\n",
      "\u001b[1m16/16\u001b[0m \u001b[32m━━━━━━━━━━━━━━━━━━━━\u001b[0m\u001b[37m\u001b[0m \u001b[1m0s\u001b[0m 46ms/step - categorical_accuracy: 0.9895 - loss: 1.1213 - top5: 1.0000\n",
      "Epoch 89: val_categorical_accuracy did not improve from 0.85013\n",
      "\u001b[1m16/16\u001b[0m \u001b[32m━━━━━━━━━━━━━━━━━━━━\u001b[0m\u001b[37m\u001b[0m \u001b[1m1s\u001b[0m 51ms/step - categorical_accuracy: 0.9893 - loss: 1.1215 - top5: 1.0000 - val_categorical_accuracy: 0.8372 - val_loss: 1.4364 - val_top5: 0.9742 - learning_rate: 2.0242e-05\n",
      "Epoch 90/100\n",
      "\u001b[1m15/16\u001b[0m \u001b[32m━━━━━━━━━━━━━━━━━━\u001b[0m\u001b[37m━━\u001b[0m \u001b[1m0s\u001b[0m 47ms/step - categorical_accuracy: 0.9865 - loss: 1.1318 - top5: 0.9995\n",
      "Epoch 90: val_categorical_accuracy did not improve from 0.85013\n",
      "\u001b[1m16/16\u001b[0m \u001b[32m━━━━━━━━━━━━━━━━━━━━\u001b[0m\u001b[37m\u001b[0m \u001b[1m1s\u001b[0m 51ms/step - categorical_accuracy: 0.9865 - loss: 1.1318 - top5: 0.9995 - val_categorical_accuracy: 0.8398 - val_loss: 1.4367 - val_top5: 0.9742 - learning_rate: 1.8316e-05\n",
      "Epoch 91/100\n",
      "\u001b[1m15/16\u001b[0m \u001b[32m━━━━━━━━━━━━━━━━━━\u001b[0m\u001b[37m━━\u001b[0m \u001b[1m0s\u001b[0m 46ms/step - categorical_accuracy: 0.9883 - loss: 1.1344 - top5: 0.9989\n",
      "Epoch 91: val_categorical_accuracy did not improve from 0.85013\n",
      "\u001b[1m16/16\u001b[0m \u001b[32m━━━━━━━━━━━━━━━━━━━━\u001b[0m\u001b[37m\u001b[0m \u001b[1m1s\u001b[0m 50ms/step - categorical_accuracy: 0.9882 - loss: 1.1341 - top5: 0.9988 - val_categorical_accuracy: 0.8398 - val_loss: 1.4356 - val_top5: 0.9742 - learning_rate: 1.6573e-05\n",
      "Epoch 92/100\n",
      "\u001b[1m16/16\u001b[0m \u001b[32m━━━━━━━━━━━━━━━━━━━━\u001b[0m\u001b[37m\u001b[0m \u001b[1m0s\u001b[0m 45ms/step - categorical_accuracy: 0.9850 - loss: 1.1235 - top5: 0.9997\n",
      "Epoch 92: val_categorical_accuracy did not improve from 0.85013\n",
      "\u001b[1m16/16\u001b[0m \u001b[32m━━━━━━━━━━━━━━━━━━━━\u001b[0m\u001b[37m\u001b[0m \u001b[1m1s\u001b[0m 50ms/step - categorical_accuracy: 0.9851 - loss: 1.1233 - top5: 0.9997 - val_categorical_accuracy: 0.8398 - val_loss: 1.4351 - val_top5: 0.9742 - learning_rate: 1.4996e-05\n",
      "Epoch 93/100\n",
      "\u001b[1m15/16\u001b[0m \u001b[32m━━━━━━━━━━━━━━━━━━\u001b[0m\u001b[37m━━\u001b[0m \u001b[1m0s\u001b[0m 46ms/step - categorical_accuracy: 0.9913 - loss: 1.1197 - top5: 0.9999\n",
      "Epoch 93: val_categorical_accuracy did not improve from 0.85013\n",
      "\u001b[1m16/16\u001b[0m \u001b[32m━━━━━━━━━━━━━━━━━━━━\u001b[0m\u001b[37m\u001b[0m \u001b[1m1s\u001b[0m 50ms/step - categorical_accuracy: 0.9911 - loss: 1.1200 - top5: 0.9999 - val_categorical_accuracy: 0.8424 - val_loss: 1.4355 - val_top5: 0.9742 - learning_rate: 1.3569e-05\n",
      "Epoch 94/100\n",
      "\u001b[1m16/16\u001b[0m \u001b[32m━━━━━━━━━━━━━━━━━━━━\u001b[0m\u001b[37m\u001b[0m \u001b[1m0s\u001b[0m 45ms/step - categorical_accuracy: 0.9904 - loss: 1.1213 - top5: 1.0000\n",
      "Epoch 94: val_categorical_accuracy did not improve from 0.85013\n",
      "\u001b[1m16/16\u001b[0m \u001b[32m━━━━━━━━━━━━━━━━━━━━\u001b[0m\u001b[37m\u001b[0m \u001b[1m1s\u001b[0m 50ms/step - categorical_accuracy: 0.9902 - loss: 1.1216 - top5: 1.0000 - val_categorical_accuracy: 0.8450 - val_loss: 1.4355 - val_top5: 0.9742 - learning_rate: 1.2277e-05\n",
      "Epoch 95/100\n",
      "\u001b[1m16/16\u001b[0m \u001b[32m━━━━━━━━━━━━━━━━━━━━\u001b[0m\u001b[37m\u001b[0m \u001b[1m0s\u001b[0m 45ms/step - categorical_accuracy: 0.9880 - loss: 1.1291 - top5: 0.9995\n",
      "Epoch 95: val_categorical_accuracy did not improve from 0.85013\n",
      "\u001b[1m16/16\u001b[0m \u001b[32m━━━━━━━━━━━━━━━━━━━━\u001b[0m\u001b[37m\u001b[0m \u001b[1m1s\u001b[0m 50ms/step - categorical_accuracy: 0.9880 - loss: 1.1292 - top5: 0.9994 - val_categorical_accuracy: 0.8398 - val_loss: 1.4353 - val_top5: 0.9742 - learning_rate: 1.1109e-05\n",
      "Epoch 96/100\n",
      "\u001b[1m16/16\u001b[0m \u001b[32m━━━━━━━━━━━━━━━━━━━━\u001b[0m\u001b[37m\u001b[0m \u001b[1m0s\u001b[0m 45ms/step - categorical_accuracy: 0.9882 - loss: 1.1198 - top5: 1.0000\n",
      "Epoch 96: val_categorical_accuracy did not improve from 0.85013\n",
      "\u001b[1m16/16\u001b[0m \u001b[32m━━━━━━━━━━━━━━━━━━━━\u001b[0m\u001b[37m\u001b[0m \u001b[1m1s\u001b[0m 50ms/step - categorical_accuracy: 0.9881 - loss: 1.1197 - top5: 1.0000 - val_categorical_accuracy: 0.8398 - val_loss: 1.4351 - val_top5: 0.9742 - learning_rate: 1.0052e-05\n",
      "Epoch 97/100\n",
      "\u001b[1m15/16\u001b[0m \u001b[32m━━━━━━━━━━━━━━━━━━\u001b[0m\u001b[37m━━\u001b[0m \u001b[1m0s\u001b[0m 46ms/step - categorical_accuracy: 0.9901 - loss: 1.1253 - top5: 0.9996\n",
      "Epoch 97: val_categorical_accuracy did not improve from 0.85013\n",
      "\u001b[1m16/16\u001b[0m \u001b[32m━━━━━━━━━━━━━━━━━━━━\u001b[0m\u001b[37m\u001b[0m \u001b[1m1s\u001b[0m 50ms/step - categorical_accuracy: 0.9899 - loss: 1.1252 - top5: 0.9995 - val_categorical_accuracy: 0.8398 - val_loss: 1.4340 - val_top5: 0.9742 - learning_rate: 9.0953e-06\n",
      "Epoch 98/100\n",
      "\u001b[1m15/16\u001b[0m \u001b[32m━━━━━━━━━━━━━━━━━━\u001b[0m\u001b[37m━━\u001b[0m \u001b[1m0s\u001b[0m 47ms/step - categorical_accuracy: 0.9909 - loss: 1.1243 - top5: 1.0000\n",
      "Epoch 98: val_categorical_accuracy did not improve from 0.85013\n",
      "\u001b[1m16/16\u001b[0m \u001b[32m━━━━━━━━━━━━━━━━━━━━\u001b[0m\u001b[37m\u001b[0m \u001b[1m1s\u001b[0m 51ms/step - categorical_accuracy: 0.9905 - loss: 1.1244 - top5: 1.0000 - val_categorical_accuracy: 0.8398 - val_loss: 1.4332 - val_top5: 0.9742 - learning_rate: 8.2297e-06\n",
      "Epoch 99/100\n",
      "\u001b[1m15/16\u001b[0m \u001b[32m━━━━━━━━━━━━━━━━━━\u001b[0m\u001b[37m━━\u001b[0m \u001b[1m0s\u001b[0m 46ms/step - categorical_accuracy: 0.9836 - loss: 1.1230 - top5: 0.9995\n",
      "Epoch 99: val_categorical_accuracy did not improve from 0.85013\n",
      "\u001b[1m16/16\u001b[0m \u001b[32m━━━━━━━━━━━━━━━━━━━━\u001b[0m\u001b[37m\u001b[0m \u001b[1m1s\u001b[0m 50ms/step - categorical_accuracy: 0.9835 - loss: 1.1232 - top5: 0.9995 - val_categorical_accuracy: 0.8398 - val_loss: 1.4334 - val_top5: 0.9742 - learning_rate: 7.4466e-06\n",
      "Epoch 100/100\n",
      "\u001b[1m16/16\u001b[0m \u001b[32m━━━━━━━━━━━━━━━━━━━━\u001b[0m\u001b[37m\u001b[0m \u001b[1m0s\u001b[0m 45ms/step - categorical_accuracy: 0.9923 - loss: 1.1241 - top5: 1.0000\n",
      "Epoch 100: val_categorical_accuracy did not improve from 0.85013\n",
      "\u001b[1m16/16\u001b[0m \u001b[32m━━━━━━━━━━━━━━━━━━━━\u001b[0m\u001b[37m\u001b[0m \u001b[1m1s\u001b[0m 50ms/step - categorical_accuracy: 0.9921 - loss: 1.1241 - top5: 1.0000 - val_categorical_accuracy: 0.8424 - val_loss: 1.4341 - val_top5: 0.9742 - learning_rate: 6.7379e-06\n"
     ]
    }
   ],
   "source": [
    "history = model.fit(X_train, Y_train, epochs=epochs, batch_size=128, validation_data=(X_val, Y_val), callbacks=callbacks_list, shuffle=True)"
   ]
  },
  {
   "cell_type": "code",
   "execution_count": 684,
   "metadata": {
    "execution": {
     "iopub.execute_input": "2024-06-16T09:45:18.132976Z",
     "iopub.status.busy": "2024-06-16T09:45:18.132247Z",
     "iopub.status.idle": "2024-06-16T09:45:21.475029Z",
     "shell.execute_reply": "2024-06-16T09:45:21.474237Z",
     "shell.execute_reply.started": "2024-06-16T09:45:18.132943Z"
    },
    "trusted": true
   },
   "outputs": [
    {
     "name": "stdout",
     "output_type": "stream",
     "text": [
      "\u001b[1m40/40\u001b[0m \u001b[32m━━━━━━━━━━━━━━━━━━━━\u001b[0m\u001b[37m\u001b[0m \u001b[1m3s\u001b[0m 30ms/step - categorical_accuracy: 0.7956 - loss: 1.6093 - top5: 0.9423\n"
     ]
    }
   ],
   "source": [
    "loaded_model = load_model('best_model_gru.keras')\n",
    "x = loaded_model.evaluate(X_test, Y_test)"
   ]
  },
  {
   "cell_type": "markdown",
   "metadata": {},
   "source": [
    "# LSTM model"
   ]
  },
  {
   "cell_type": "code",
   "execution_count": 686,
   "metadata": {
    "execution": {
     "iopub.execute_input": "2024-06-16T09:47:44.795085Z",
     "iopub.status.busy": "2024-06-16T09:47:44.794023Z",
     "iopub.status.idle": "2024-06-16T09:49:40.701572Z",
     "shell.execute_reply": "2024-06-16T09:49:40.700728Z",
     "shell.execute_reply.started": "2024-06-16T09:47:44.795039Z"
    },
    "scrolled": true,
    "trusted": true
   },
   "outputs": [
    {
     "name": "stdout",
     "output_type": "stream",
     "text": [
      "Epoch 1/100\n",
      "\u001b[1m 2/16\u001b[0m \u001b[32m━━\u001b[0m\u001b[37m━━━━━━━━━━━━━━━━━━\u001b[0m \u001b[1m1s\u001b[0m 88ms/step - categorical_accuracy: 0.0059 - loss: 5.7683 - top5: 0.0469 "
     ]
    },
    {
     "name": "stderr",
     "output_type": "stream",
     "text": [
      "W0000 00:00:1718531277.726863     141 graph_launch.cc:671] Fallback to op-by-op mode because memset node breaks graph update\n"
     ]
    },
    {
     "name": "stdout",
     "output_type": "stream",
     "text": [
      "\u001b[1m16/16\u001b[0m \u001b[32m━━━━━━━━━━━━━━━━━━━━\u001b[0m\u001b[37m\u001b[0m \u001b[1m0s\u001b[0m 597ms/step - categorical_accuracy: 0.0119 - loss: 5.4872 - top5: 0.0692\n",
      "Epoch 1: val_categorical_accuracy improved from -inf to 0.00775, saving model to best_model_lstm.keras\n",
      "\u001b[1m16/16\u001b[0m \u001b[32m━━━━━━━━━━━━━━━━━━━━\u001b[0m\u001b[37m\u001b[0m \u001b[1m23s\u001b[0m 752ms/step - categorical_accuracy: 0.0122 - loss: 5.4754 - top5: 0.0700 - val_categorical_accuracy: 0.0078 - val_loss: 4.6042 - val_top5: 0.0879 - learning_rate: 0.0010\n",
      "Epoch 2/100\n",
      "\u001b[1m15/16\u001b[0m \u001b[32m━━━━━━━━━━━━━━━━━━\u001b[0m\u001b[37m━━\u001b[0m \u001b[1m0s\u001b[0m 56ms/step - categorical_accuracy: 0.0346 - loss: 4.6953 - top5: 0.1228\n",
      "Epoch 2: val_categorical_accuracy improved from 0.00775 to 0.01550, saving model to best_model_lstm.keras\n",
      "\u001b[1m16/16\u001b[0m \u001b[32m━━━━━━━━━━━━━━━━━━━━\u001b[0m\u001b[37m\u001b[0m \u001b[1m1s\u001b[0m 64ms/step - categorical_accuracy: 0.0352 - loss: 4.6894 - top5: 0.1245 - val_categorical_accuracy: 0.0155 - val_loss: 4.6023 - val_top5: 0.0620 - learning_rate: 0.0010\n",
      "Epoch 3/100\n",
      "\u001b[1m15/16\u001b[0m \u001b[32m━━━━━━━━━━━━━━━━━━\u001b[0m\u001b[37m━━\u001b[0m \u001b[1m0s\u001b[0m 51ms/step - categorical_accuracy: 0.0645 - loss: 4.3892 - top5: 0.1904\n",
      "Epoch 3: val_categorical_accuracy did not improve from 0.01550\n",
      "\u001b[1m16/16\u001b[0m \u001b[32m━━━━━━━━━━━━━━━━━━━━\u001b[0m\u001b[37m\u001b[0m \u001b[1m1s\u001b[0m 55ms/step - categorical_accuracy: 0.0643 - loss: 4.3841 - top5: 0.1916 - val_categorical_accuracy: 0.0103 - val_loss: 4.6006 - val_top5: 0.0594 - learning_rate: 0.0010\n",
      "Epoch 4/100\n",
      "\u001b[1m15/16\u001b[0m \u001b[32m━━━━━━━━━━━━━━━━━━\u001b[0m\u001b[37m━━\u001b[0m \u001b[1m0s\u001b[0m 51ms/step - categorical_accuracy: 0.0965 - loss: 4.1355 - top5: 0.2851\n",
      "Epoch 4: val_categorical_accuracy improved from 0.01550 to 0.01809, saving model to best_model_lstm.keras\n",
      "\u001b[1m16/16\u001b[0m \u001b[32m━━━━━━━━━━━━━━━━━━━━\u001b[0m\u001b[37m\u001b[0m \u001b[1m1s\u001b[0m 59ms/step - categorical_accuracy: 0.0979 - loss: 4.1288 - top5: 0.2865 - val_categorical_accuracy: 0.0181 - val_loss: 4.5979 - val_top5: 0.0543 - learning_rate: 0.0010\n",
      "Epoch 5/100\n",
      "\u001b[1m15/16\u001b[0m \u001b[32m━━━━━━━━━━━━━━━━━━\u001b[0m\u001b[37m━━\u001b[0m \u001b[1m0s\u001b[0m 51ms/step - categorical_accuracy: 0.1515 - loss: 3.8749 - top5: 0.3852\n",
      "Epoch 5: val_categorical_accuracy did not improve from 0.01809\n",
      "\u001b[1m16/16\u001b[0m \u001b[32m━━━━━━━━━━━━━━━━━━━━\u001b[0m\u001b[37m\u001b[0m \u001b[1m1s\u001b[0m 55ms/step - categorical_accuracy: 0.1526 - loss: 3.8692 - top5: 0.3873 - val_categorical_accuracy: 0.0103 - val_loss: 4.5948 - val_top5: 0.0724 - learning_rate: 0.0010\n",
      "Epoch 6/100\n",
      "\u001b[1m15/16\u001b[0m \u001b[32m━━━━━━━━━━━━━━━━━━\u001b[0m\u001b[37m━━\u001b[0m \u001b[1m0s\u001b[0m 52ms/step - categorical_accuracy: 0.1788 - loss: 3.6737 - top5: 0.4406\n",
      "Epoch 6: val_categorical_accuracy did not improve from 0.01809\n",
      "\u001b[1m16/16\u001b[0m \u001b[32m━━━━━━━━━━━━━━━━━━━━\u001b[0m\u001b[37m\u001b[0m \u001b[1m1s\u001b[0m 56ms/step - categorical_accuracy: 0.1789 - loss: 3.6722 - top5: 0.4417 - val_categorical_accuracy: 0.0103 - val_loss: 4.5904 - val_top5: 0.0775 - learning_rate: 0.0010\n",
      "Epoch 7/100\n",
      "\u001b[1m15/16\u001b[0m \u001b[32m━━━━━━━━━━━━━━━━━━\u001b[0m\u001b[37m━━\u001b[0m \u001b[1m0s\u001b[0m 52ms/step - categorical_accuracy: 0.2322 - loss: 3.4908 - top5: 0.4980\n",
      "Epoch 7: val_categorical_accuracy did not improve from 0.01809\n",
      "\u001b[1m16/16\u001b[0m \u001b[32m━━━━━━━━━━━━━━━━━━━━\u001b[0m\u001b[37m\u001b[0m \u001b[1m1s\u001b[0m 56ms/step - categorical_accuracy: 0.2336 - loss: 3.4864 - top5: 0.5010 - val_categorical_accuracy: 0.0103 - val_loss: 4.5833 - val_top5: 0.0801 - learning_rate: 0.0010\n",
      "Epoch 8/100\n",
      "\u001b[1m15/16\u001b[0m \u001b[32m━━━━━━━━━━━━━━━━━━\u001b[0m\u001b[37m━━\u001b[0m \u001b[1m0s\u001b[0m 52ms/step - categorical_accuracy: 0.2790 - loss: 3.2598 - top5: 0.5933\n",
      "Epoch 8: val_categorical_accuracy did not improve from 0.01809\n",
      "\u001b[1m16/16\u001b[0m \u001b[32m━━━━━━━━━━━━━━━━━━━━\u001b[0m\u001b[37m\u001b[0m \u001b[1m1s\u001b[0m 57ms/step - categorical_accuracy: 0.2792 - loss: 3.2570 - top5: 0.5946 - val_categorical_accuracy: 0.0129 - val_loss: 4.5721 - val_top5: 0.0724 - learning_rate: 0.0010\n",
      "Epoch 9/100\n",
      "\u001b[1m16/16\u001b[0m \u001b[32m━━━━━━━━━━━━━━━━━━━━\u001b[0m\u001b[37m\u001b[0m \u001b[1m0s\u001b[0m 50ms/step - categorical_accuracy: 0.3066 - loss: 3.1140 - top5: 0.6493\n",
      "Epoch 9: val_categorical_accuracy did not improve from 0.01809\n",
      "\u001b[1m16/16\u001b[0m \u001b[32m━━━━━━━━━━━━━━━━━━━━\u001b[0m\u001b[37m\u001b[0m \u001b[1m1s\u001b[0m 55ms/step - categorical_accuracy: 0.3068 - loss: 3.1133 - top5: 0.6496 - val_categorical_accuracy: 0.0181 - val_loss: 4.5535 - val_top5: 0.0801 - learning_rate: 0.0010\n",
      "Epoch 10/100\n",
      "\u001b[1m15/16\u001b[0m \u001b[32m━━━━━━━━━━━━━━━━━━\u001b[0m\u001b[37m━━\u001b[0m \u001b[1m0s\u001b[0m 51ms/step - categorical_accuracy: 0.3837 - loss: 2.8612 - top5: 0.7221\n",
      "Epoch 10: val_categorical_accuracy did not improve from 0.01809\n",
      "\u001b[1m16/16\u001b[0m \u001b[32m━━━━━━━━━━━━━━━━━━━━\u001b[0m\u001b[37m\u001b[0m \u001b[1m1s\u001b[0m 55ms/step - categorical_accuracy: 0.3848 - loss: 2.8607 - top5: 0.7210 - val_categorical_accuracy: 0.0181 - val_loss: 4.5305 - val_top5: 0.0956 - learning_rate: 0.0010\n",
      "Epoch 11/100\n",
      "\u001b[1m15/16\u001b[0m \u001b[32m━━━━━━━━━━━━━━━━━━\u001b[0m\u001b[37m━━\u001b[0m \u001b[1m0s\u001b[0m 52ms/step - categorical_accuracy: 0.4116 - loss: 2.7652 - top5: 0.7468\n",
      "Epoch 11: val_categorical_accuracy improved from 0.01809 to 0.03101, saving model to best_model_lstm.keras\n",
      "\u001b[1m16/16\u001b[0m \u001b[32m━━━━━━━━━━━━━━━━━━━━\u001b[0m\u001b[37m\u001b[0m \u001b[1m1s\u001b[0m 60ms/step - categorical_accuracy: 0.4122 - loss: 2.7616 - top5: 0.7486 - val_categorical_accuracy: 0.0310 - val_loss: 4.4908 - val_top5: 0.1525 - learning_rate: 0.0010\n",
      "Epoch 12/100\n",
      "\u001b[1m15/16\u001b[0m \u001b[32m━━━━━━━━━━━━━━━━━━\u001b[0m\u001b[37m━━\u001b[0m \u001b[1m0s\u001b[0m 52ms/step - categorical_accuracy: 0.4654 - loss: 2.6130 - top5: 0.7969\n",
      "Epoch 12: val_categorical_accuracy improved from 0.03101 to 0.05685, saving model to best_model_lstm.keras\n",
      "\u001b[1m16/16\u001b[0m \u001b[32m━━━━━━━━━━━━━━━━━━━━\u001b[0m\u001b[37m\u001b[0m \u001b[1m1s\u001b[0m 60ms/step - categorical_accuracy: 0.4671 - loss: 2.6089 - top5: 0.7974 - val_categorical_accuracy: 0.0568 - val_loss: 4.4133 - val_top5: 0.2558 - learning_rate: 0.0010\n",
      "Epoch 13/100\n",
      "\u001b[1m15/16\u001b[0m \u001b[32m━━━━━━━━━━━━━━━━━━\u001b[0m\u001b[37m━━\u001b[0m \u001b[1m0s\u001b[0m 51ms/step - categorical_accuracy: 0.5139 - loss: 2.4792 - top5: 0.8325\n",
      "Epoch 13: val_categorical_accuracy improved from 0.05685 to 0.05943, saving model to best_model_lstm.keras\n",
      "\u001b[1m16/16\u001b[0m \u001b[32m━━━━━━━━━━━━━━━━━━━━\u001b[0m\u001b[37m\u001b[0m \u001b[1m1s\u001b[0m 60ms/step - categorical_accuracy: 0.5125 - loss: 2.4792 - top5: 0.8317 - val_categorical_accuracy: 0.0594 - val_loss: 4.3872 - val_top5: 0.2274 - learning_rate: 0.0010\n",
      "Epoch 14/100\n",
      "\u001b[1m15/16\u001b[0m \u001b[32m━━━━━━━━━━━━━━━━━━\u001b[0m\u001b[37m━━\u001b[0m \u001b[1m0s\u001b[0m 51ms/step - categorical_accuracy: 0.5438 - loss: 2.3488 - top5: 0.8585\n",
      "Epoch 14: val_categorical_accuracy improved from 0.05943 to 0.13953, saving model to best_model_lstm.keras\n",
      "\u001b[1m16/16\u001b[0m \u001b[32m━━━━━━━━━━━━━━━━━━━━\u001b[0m\u001b[37m\u001b[0m \u001b[1m1s\u001b[0m 59ms/step - categorical_accuracy: 0.5457 - loss: 2.3440 - top5: 0.8587 - val_categorical_accuracy: 0.1395 - val_loss: 4.1840 - val_top5: 0.3488 - learning_rate: 0.0010\n",
      "Epoch 15/100\n",
      "\u001b[1m16/16\u001b[0m \u001b[32m━━━━━━━━━━━━━━━━━━━━\u001b[0m\u001b[37m\u001b[0m \u001b[1m0s\u001b[0m 49ms/step - categorical_accuracy: 0.5752 - loss: 2.2750 - top5: 0.8698\n",
      "Epoch 15: val_categorical_accuracy improved from 0.13953 to 0.18346, saving model to best_model_lstm.keras\n",
      "\u001b[1m16/16\u001b[0m \u001b[32m━━━━━━━━━━━━━━━━━━━━\u001b[0m\u001b[37m\u001b[0m \u001b[1m1s\u001b[0m 59ms/step - categorical_accuracy: 0.5762 - loss: 2.2735 - top5: 0.8700 - val_categorical_accuracy: 0.1835 - val_loss: 4.0139 - val_top5: 0.4109 - learning_rate: 0.0010\n",
      "Epoch 16/100\n",
      "\u001b[1m15/16\u001b[0m \u001b[32m━━━━━━━━━━━━━━━━━━\u001b[0m\u001b[37m━━\u001b[0m \u001b[1m0s\u001b[0m 51ms/step - categorical_accuracy: 0.6252 - loss: 2.1487 - top5: 0.8908\n",
      "Epoch 16: val_categorical_accuracy did not improve from 0.18346\n",
      "\u001b[1m16/16\u001b[0m \u001b[32m━━━━━━━━━━━━━━━━━━━━\u001b[0m\u001b[37m\u001b[0m \u001b[1m1s\u001b[0m 55ms/step - categorical_accuracy: 0.6255 - loss: 2.1481 - top5: 0.8906 - val_categorical_accuracy: 0.1654 - val_loss: 3.7461 - val_top5: 0.4935 - learning_rate: 0.0010\n",
      "Epoch 17/100\n",
      "\u001b[1m15/16\u001b[0m \u001b[32m━━━━━━━━━━━━━━━━━━\u001b[0m\u001b[37m━━\u001b[0m \u001b[1m0s\u001b[0m 51ms/step - categorical_accuracy: 0.6474 - loss: 2.0824 - top5: 0.9052\n",
      "Epoch 17: val_categorical_accuracy did not improve from 0.18346\n",
      "\u001b[1m16/16\u001b[0m \u001b[32m━━━━━━━━━━━━━━━━━━━━\u001b[0m\u001b[37m\u001b[0m \u001b[1m1s\u001b[0m 55ms/step - categorical_accuracy: 0.6469 - loss: 2.0816 - top5: 0.9051 - val_categorical_accuracy: 0.1525 - val_loss: 3.7448 - val_top5: 0.4729 - learning_rate: 0.0010\n",
      "Epoch 18/100\n",
      "\u001b[1m15/16\u001b[0m \u001b[32m━━━━━━━━━━━━━━━━━━\u001b[0m\u001b[37m━━\u001b[0m \u001b[1m0s\u001b[0m 51ms/step - categorical_accuracy: 0.6417 - loss: 2.0460 - top5: 0.9016\n",
      "Epoch 18: val_categorical_accuracy improved from 0.18346 to 0.22997, saving model to best_model_lstm.keras\n",
      "\u001b[1m16/16\u001b[0m \u001b[32m━━━━━━━━━━━━━━━━━━━━\u001b[0m\u001b[37m\u001b[0m \u001b[1m1s\u001b[0m 59ms/step - categorical_accuracy: 0.6434 - loss: 2.0443 - top5: 0.9022 - val_categorical_accuracy: 0.2300 - val_loss: 3.4413 - val_top5: 0.5943 - learning_rate: 0.0010\n",
      "Epoch 19/100\n",
      "\u001b[1m15/16\u001b[0m \u001b[32m━━━━━━━━━━━━━━━━━━\u001b[0m\u001b[37m━━\u001b[0m \u001b[1m0s\u001b[0m 52ms/step - categorical_accuracy: 0.6773 - loss: 1.9574 - top5: 0.9285\n",
      "Epoch 19: val_categorical_accuracy did not improve from 0.22997\n",
      "\u001b[1m16/16\u001b[0m \u001b[32m━━━━━━━━━━━━━━━━━━━━\u001b[0m\u001b[37m\u001b[0m \u001b[1m1s\u001b[0m 56ms/step - categorical_accuracy: 0.6778 - loss: 1.9564 - top5: 0.9281 - val_categorical_accuracy: 0.1809 - val_loss: 3.4832 - val_top5: 0.5556 - learning_rate: 0.0010\n",
      "Epoch 20/100\n",
      "\u001b[1m16/16\u001b[0m \u001b[32m━━━━━━━━━━━━━━━━━━━━\u001b[0m\u001b[37m\u001b[0m \u001b[1m0s\u001b[0m 49ms/step - categorical_accuracy: 0.7126 - loss: 1.8899 - top5: 0.9334\n",
      "Epoch 20: val_categorical_accuracy improved from 0.22997 to 0.34625, saving model to best_model_lstm.keras\n",
      "\u001b[1m16/16\u001b[0m \u001b[32m━━━━━━━━━━━━━━━━━━━━\u001b[0m\u001b[37m\u001b[0m \u001b[1m1s\u001b[0m 59ms/step - categorical_accuracy: 0.7133 - loss: 1.8877 - top5: 0.9336 - val_categorical_accuracy: 0.3463 - val_loss: 3.0711 - val_top5: 0.7106 - learning_rate: 0.0010\n",
      "Epoch 21/100\n",
      "\u001b[1m15/16\u001b[0m \u001b[32m━━━━━━━━━━━━━━━━━━\u001b[0m\u001b[37m━━\u001b[0m \u001b[1m0s\u001b[0m 51ms/step - categorical_accuracy: 0.7389 - loss: 1.8273 - top5: 0.9567\n",
      "Epoch 21: val_categorical_accuracy improved from 0.34625 to 0.37468, saving model to best_model_lstm.keras\n",
      "\u001b[1m16/16\u001b[0m \u001b[32m━━━━━━━━━━━━━━━━━━━━\u001b[0m\u001b[37m\u001b[0m \u001b[1m1s\u001b[0m 59ms/step - categorical_accuracy: 0.7392 - loss: 1.8274 - top5: 0.9557 - val_categorical_accuracy: 0.3747 - val_loss: 2.8969 - val_top5: 0.7364 - learning_rate: 0.0010\n",
      "Epoch 22/100\n",
      "\u001b[1m15/16\u001b[0m \u001b[32m━━━━━━━━━━━━━━━━━━\u001b[0m\u001b[37m━━\u001b[0m \u001b[1m0s\u001b[0m 51ms/step - categorical_accuracy: 0.7356 - loss: 1.7705 - top5: 0.9528\n",
      "Epoch 22: val_categorical_accuracy did not improve from 0.37468\n",
      "\u001b[1m16/16\u001b[0m \u001b[32m━━━━━━━━━━━━━━━━━━━━\u001b[0m\u001b[37m\u001b[0m \u001b[1m1s\u001b[0m 55ms/step - categorical_accuracy: 0.7365 - loss: 1.7714 - top5: 0.9522 - val_categorical_accuracy: 0.3618 - val_loss: 2.8782 - val_top5: 0.7313 - learning_rate: 0.0010\n",
      "Epoch 23/100\n",
      "\u001b[1m16/16\u001b[0m \u001b[32m━━━━━━━━━━━━━━━━━━━━\u001b[0m\u001b[37m\u001b[0m \u001b[1m0s\u001b[0m 49ms/step - categorical_accuracy: 0.7756 - loss: 1.7055 - top5: 0.9644\n",
      "Epoch 23: val_categorical_accuracy improved from 0.37468 to 0.46770, saving model to best_model_lstm.keras\n",
      "\u001b[1m16/16\u001b[0m \u001b[32m━━━━━━━━━━━━━━━━━━━━\u001b[0m\u001b[37m\u001b[0m \u001b[1m1s\u001b[0m 60ms/step - categorical_accuracy: 0.7760 - loss: 1.7047 - top5: 0.9643 - val_categorical_accuracy: 0.4677 - val_loss: 2.5816 - val_top5: 0.8088 - learning_rate: 0.0010\n",
      "Epoch 24/100\n",
      "\u001b[1m15/16\u001b[0m \u001b[32m━━━━━━━━━━━━━━━━━━\u001b[0m\u001b[37m━━\u001b[0m \u001b[1m0s\u001b[0m 52ms/step - categorical_accuracy: 0.7996 - loss: 1.6217 - top5: 0.9617\n",
      "Epoch 24: val_categorical_accuracy improved from 0.46770 to 0.48837, saving model to best_model_lstm.keras\n",
      "\u001b[1m16/16\u001b[0m \u001b[32m━━━━━━━━━━━━━━━━━━━━\u001b[0m\u001b[37m\u001b[0m \u001b[1m1s\u001b[0m 60ms/step - categorical_accuracy: 0.8004 - loss: 1.6218 - top5: 0.9614 - val_categorical_accuracy: 0.4884 - val_loss: 2.4480 - val_top5: 0.8579 - learning_rate: 0.0010\n",
      "Epoch 25/100\n",
      "\u001b[1m15/16\u001b[0m \u001b[32m━━━━━━━━━━━━━━━━━━\u001b[0m\u001b[37m━━\u001b[0m \u001b[1m0s\u001b[0m 51ms/step - categorical_accuracy: 0.8206 - loss: 1.6001 - top5: 0.9703\n",
      "Epoch 25: val_categorical_accuracy improved from 0.48837 to 0.53488, saving model to best_model_lstm.keras\n",
      "\u001b[1m16/16\u001b[0m \u001b[32m━━━━━━━━━━━━━━━━━━━━\u001b[0m\u001b[37m\u001b[0m \u001b[1m1s\u001b[0m 59ms/step - categorical_accuracy: 0.8197 - loss: 1.6005 - top5: 0.9702 - val_categorical_accuracy: 0.5349 - val_loss: 2.2330 - val_top5: 0.8863 - learning_rate: 0.0010\n",
      "Epoch 26/100\n",
      "\u001b[1m15/16\u001b[0m \u001b[32m━━━━━━━━━━━━━━━━━━\u001b[0m\u001b[37m━━\u001b[0m \u001b[1m0s\u001b[0m 51ms/step - categorical_accuracy: 0.8209 - loss: 1.5863 - top5: 0.9765\n",
      "Epoch 26: val_categorical_accuracy improved from 0.53488 to 0.61757, saving model to best_model_lstm.keras\n",
      "\u001b[1m16/16\u001b[0m \u001b[32m━━━━━━━━━━━━━━━━━━━━\u001b[0m\u001b[37m\u001b[0m \u001b[1m1s\u001b[0m 59ms/step - categorical_accuracy: 0.8207 - loss: 1.5854 - top5: 0.9764 - val_categorical_accuracy: 0.6176 - val_loss: 2.0706 - val_top5: 0.9147 - learning_rate: 0.0010\n",
      "Epoch 27/100\n",
      "\u001b[1m15/16\u001b[0m \u001b[32m━━━━━━━━━━━━━━━━━━\u001b[0m\u001b[37m━━\u001b[0m \u001b[1m0s\u001b[0m 51ms/step - categorical_accuracy: 0.8295 - loss: 1.5332 - top5: 0.9819\n",
      "Epoch 27: val_categorical_accuracy did not improve from 0.61757\n",
      "\u001b[1m16/16\u001b[0m \u001b[32m━━━━━━━━━━━━━━━━━━━━\u001b[0m\u001b[37m\u001b[0m \u001b[1m1s\u001b[0m 55ms/step - categorical_accuracy: 0.8298 - loss: 1.5332 - top5: 0.9813 - val_categorical_accuracy: 0.5917 - val_loss: 2.1478 - val_top5: 0.8889 - learning_rate: 0.0010\n",
      "Epoch 28/100\n",
      "\u001b[1m15/16\u001b[0m \u001b[32m━━━━━━━━━━━━━━━━━━\u001b[0m\u001b[37m━━\u001b[0m \u001b[1m0s\u001b[0m 51ms/step - categorical_accuracy: 0.8611 - loss: 1.4988 - top5: 0.9838\n",
      "Epoch 28: val_categorical_accuracy improved from 0.61757 to 0.64083, saving model to best_model_lstm.keras\n",
      "\u001b[1m16/16\u001b[0m \u001b[32m━━━━━━━━━━━━━━━━━━━━\u001b[0m\u001b[37m\u001b[0m \u001b[1m1s\u001b[0m 60ms/step - categorical_accuracy: 0.8602 - loss: 1.4990 - top5: 0.9831 - val_categorical_accuracy: 0.6408 - val_loss: 1.9860 - val_top5: 0.9173 - learning_rate: 0.0010\n",
      "Epoch 29/100\n",
      "\u001b[1m15/16\u001b[0m \u001b[32m━━━━━━━━━━━━━━━━━━\u001b[0m\u001b[37m━━\u001b[0m \u001b[1m0s\u001b[0m 52ms/step - categorical_accuracy: 0.8353 - loss: 1.5055 - top5: 0.9734\n",
      "Epoch 29: val_categorical_accuracy improved from 0.64083 to 0.66667, saving model to best_model_lstm.keras\n",
      "\u001b[1m16/16\u001b[0m \u001b[32m━━━━━━━━━━━━━━━━━━━━\u001b[0m\u001b[37m\u001b[0m \u001b[1m1s\u001b[0m 60ms/step - categorical_accuracy: 0.8367 - loss: 1.5044 - top5: 0.9733 - val_categorical_accuracy: 0.6667 - val_loss: 1.9337 - val_top5: 0.9121 - learning_rate: 0.0010\n",
      "Epoch 30/100\n",
      "\u001b[1m15/16\u001b[0m \u001b[32m━━━━━━━━━━━━━━━━━━\u001b[0m\u001b[37m━━\u001b[0m \u001b[1m0s\u001b[0m 51ms/step - categorical_accuracy: 0.8819 - loss: 1.4452 - top5: 0.9837\n",
      "Epoch 30: val_categorical_accuracy did not improve from 0.66667\n",
      "\u001b[1m16/16\u001b[0m \u001b[32m━━━━━━━━━━━━━━━━━━━━\u001b[0m\u001b[37m\u001b[0m \u001b[1m1s\u001b[0m 55ms/step - categorical_accuracy: 0.8818 - loss: 1.4448 - top5: 0.9836 - val_categorical_accuracy: 0.6408 - val_loss: 1.9656 - val_top5: 0.9096 - learning_rate: 0.0010\n",
      "Epoch 31/100\n",
      "\u001b[1m15/16\u001b[0m \u001b[32m━━━━━━━━━━━━━━━━━━\u001b[0m\u001b[37m━━\u001b[0m \u001b[1m0s\u001b[0m 51ms/step - categorical_accuracy: 0.8962 - loss: 1.4270 - top5: 0.9810\n",
      "Epoch 31: val_categorical_accuracy improved from 0.66667 to 0.73902, saving model to best_model_lstm.keras\n",
      "\u001b[1m16/16\u001b[0m \u001b[32m━━━━━━━━━━━━━━━━━━━━\u001b[0m\u001b[37m\u001b[0m \u001b[1m1s\u001b[0m 59ms/step - categorical_accuracy: 0.8956 - loss: 1.4256 - top5: 0.9809 - val_categorical_accuracy: 0.7390 - val_loss: 1.7748 - val_top5: 0.9302 - learning_rate: 0.0010\n",
      "Epoch 32/100\n",
      "\u001b[1m16/16\u001b[0m \u001b[32m━━━━━━━━━━━━━━━━━━━━\u001b[0m\u001b[37m\u001b[0m \u001b[1m0s\u001b[0m 49ms/step - categorical_accuracy: 0.8958 - loss: 1.3978 - top5: 0.9886\n",
      "Epoch 32: val_categorical_accuracy did not improve from 0.73902\n",
      "\u001b[1m16/16\u001b[0m \u001b[32m━━━━━━━━━━━━━━━━━━━━\u001b[0m\u001b[37m\u001b[0m \u001b[1m1s\u001b[0m 55ms/step - categorical_accuracy: 0.8956 - loss: 1.3975 - top5: 0.9886 - val_categorical_accuracy: 0.7261 - val_loss: 1.7621 - val_top5: 0.9380 - learning_rate: 0.0010\n",
      "Epoch 33/100\n",
      "\u001b[1m15/16\u001b[0m \u001b[32m━━━━━━━━━━━━━━━━━━\u001b[0m\u001b[37m━━\u001b[0m \u001b[1m0s\u001b[0m 51ms/step - categorical_accuracy: 0.9060 - loss: 1.3778 - top5: 0.9891\n",
      "Epoch 33: val_categorical_accuracy did not improve from 0.73902\n",
      "\u001b[1m16/16\u001b[0m \u001b[32m━━━━━━━━━━━━━━━━━━━━\u001b[0m\u001b[37m\u001b[0m \u001b[1m1s\u001b[0m 55ms/step - categorical_accuracy: 0.9045 - loss: 1.3790 - top5: 0.9888 - val_categorical_accuracy: 0.7003 - val_loss: 1.7515 - val_top5: 0.9380 - learning_rate: 0.0010\n",
      "Epoch 34/100\n",
      "\u001b[1m16/16\u001b[0m \u001b[32m━━━━━━━━━━━━━━━━━━━━\u001b[0m\u001b[37m\u001b[0m \u001b[1m0s\u001b[0m 49ms/step - categorical_accuracy: 0.8926 - loss: 1.3890 - top5: 0.9873\n",
      "Epoch 34: val_categorical_accuracy improved from 0.73902 to 0.74419, saving model to best_model_lstm.keras\n",
      "\u001b[1m16/16\u001b[0m \u001b[32m━━━━━━━━━━━━━━━━━━━━\u001b[0m\u001b[37m\u001b[0m \u001b[1m1s\u001b[0m 59ms/step - categorical_accuracy: 0.8930 - loss: 1.3886 - top5: 0.9873 - val_categorical_accuracy: 0.7442 - val_loss: 1.7050 - val_top5: 0.9380 - learning_rate: 0.0010\n",
      "Epoch 35/100\n",
      "\u001b[1m15/16\u001b[0m \u001b[32m━━━━━━━━━━━━━━━━━━\u001b[0m\u001b[37m━━\u001b[0m \u001b[1m0s\u001b[0m 51ms/step - categorical_accuracy: 0.9114 - loss: 1.3654 - top5: 0.9850\n",
      "Epoch 35: val_categorical_accuracy did not improve from 0.74419\n",
      "\u001b[1m16/16\u001b[0m \u001b[32m━━━━━━━━━━━━━━━━━━━━\u001b[0m\u001b[37m\u001b[0m \u001b[1m1s\u001b[0m 55ms/step - categorical_accuracy: 0.9108 - loss: 1.3652 - top5: 0.9850 - val_categorical_accuracy: 0.7132 - val_loss: 1.7734 - val_top5: 0.9457 - learning_rate: 0.0010\n",
      "Epoch 36/100\n",
      "\u001b[1m15/16\u001b[0m \u001b[32m━━━━━━━━━━━━━━━━━━\u001b[0m\u001b[37m━━\u001b[0m \u001b[1m0s\u001b[0m 51ms/step - categorical_accuracy: 0.9176 - loss: 1.3479 - top5: 0.9922\n",
      "Epoch 36: val_categorical_accuracy did not improve from 0.74419\n",
      "\u001b[1m16/16\u001b[0m \u001b[32m━━━━━━━━━━━━━━━━━━━━\u001b[0m\u001b[37m\u001b[0m \u001b[1m1s\u001b[0m 55ms/step - categorical_accuracy: 0.9173 - loss: 1.3473 - top5: 0.9921 - val_categorical_accuracy: 0.6951 - val_loss: 1.8884 - val_top5: 0.9070 - learning_rate: 0.0010\n",
      "Epoch 37/100\n",
      "\u001b[1m15/16\u001b[0m \u001b[32m━━━━━━━━━━━━━━━━━━\u001b[0m\u001b[37m━━\u001b[0m \u001b[1m0s\u001b[0m 51ms/step - categorical_accuracy: 0.9165 - loss: 1.3308 - top5: 0.9933\n",
      "Epoch 37: val_categorical_accuracy improved from 0.74419 to 0.75711, saving model to best_model_lstm.keras\n",
      "\u001b[1m16/16\u001b[0m \u001b[32m━━━━━━━━━━━━━━━━━━━━\u001b[0m\u001b[37m\u001b[0m \u001b[1m1s\u001b[0m 59ms/step - categorical_accuracy: 0.9155 - loss: 1.3320 - top5: 0.9930 - val_categorical_accuracy: 0.7571 - val_loss: 1.6662 - val_top5: 0.9535 - learning_rate: 0.0010\n",
      "Epoch 38/100\n",
      "\u001b[1m15/16\u001b[0m \u001b[32m━━━━━━━━━━━━━━━━━━\u001b[0m\u001b[37m━━\u001b[0m \u001b[1m0s\u001b[0m 50ms/step - categorical_accuracy: 0.9204 - loss: 1.3214 - top5: 0.9908\n",
      "Epoch 38: val_categorical_accuracy did not improve from 0.75711\n",
      "\u001b[1m16/16\u001b[0m \u001b[32m━━━━━━━━━━━━━━━━━━━━\u001b[0m\u001b[37m\u001b[0m \u001b[1m1s\u001b[0m 54ms/step - categorical_accuracy: 0.9208 - loss: 1.3197 - top5: 0.9909 - val_categorical_accuracy: 0.6796 - val_loss: 1.8046 - val_top5: 0.9432 - learning_rate: 0.0010\n",
      "Epoch 39/100\n",
      "\u001b[1m15/16\u001b[0m \u001b[32m━━━━━━━━━━━━━━━━━━\u001b[0m\u001b[37m━━\u001b[0m \u001b[1m0s\u001b[0m 50ms/step - categorical_accuracy: 0.9296 - loss: 1.3033 - top5: 0.9942\n",
      "Epoch 39: val_categorical_accuracy did not improve from 0.75711\n",
      "\u001b[1m16/16\u001b[0m \u001b[32m━━━━━━━━━━━━━━━━━━━━\u001b[0m\u001b[37m\u001b[0m \u001b[1m1s\u001b[0m 54ms/step - categorical_accuracy: 0.9288 - loss: 1.3046 - top5: 0.9941 - val_categorical_accuracy: 0.7390 - val_loss: 1.6811 - val_top5: 0.9354 - learning_rate: 0.0010\n",
      "Epoch 40/100\n",
      "\u001b[1m15/16\u001b[0m \u001b[32m━━━━━━━━━━━━━━━━━━\u001b[0m\u001b[37m━━\u001b[0m \u001b[1m0s\u001b[0m 51ms/step - categorical_accuracy: 0.9483 - loss: 1.2561 - top5: 0.9966\n",
      "Epoch 40: val_categorical_accuracy improved from 0.75711 to 0.77778, saving model to best_model_lstm.keras\n",
      "\u001b[1m16/16\u001b[0m \u001b[32m━━━━━━━━━━━━━━━━━━━━\u001b[0m\u001b[37m\u001b[0m \u001b[1m1s\u001b[0m 59ms/step - categorical_accuracy: 0.9479 - loss: 1.2566 - top5: 0.9963 - val_categorical_accuracy: 0.7778 - val_loss: 1.6483 - val_top5: 0.9535 - learning_rate: 0.0010\n",
      "Epoch 41/100\n",
      "\u001b[1m15/16\u001b[0m \u001b[32m━━━━━━━━━━━━━━━━━━\u001b[0m\u001b[37m━━\u001b[0m \u001b[1m0s\u001b[0m 53ms/step - categorical_accuracy: 0.9484 - loss: 1.2713 - top5: 0.9937\n",
      "Epoch 41: val_categorical_accuracy did not improve from 0.77778\n",
      "\u001b[1m16/16\u001b[0m \u001b[32m━━━━━━━━━━━━━━━━━━━━\u001b[0m\u001b[37m\u001b[0m \u001b[1m1s\u001b[0m 57ms/step - categorical_accuracy: 0.9477 - loss: 1.2711 - top5: 0.9937 - val_categorical_accuracy: 0.7468 - val_loss: 1.6887 - val_top5: 0.9509 - learning_rate: 0.0010\n",
      "Epoch 42/100\n",
      "\u001b[1m15/16\u001b[0m \u001b[32m━━━━━━━━━━━━━━━━━━\u001b[0m\u001b[37m━━\u001b[0m \u001b[1m0s\u001b[0m 51ms/step - categorical_accuracy: 0.9466 - loss: 1.2642 - top5: 0.9933\n",
      "Epoch 42: val_categorical_accuracy did not improve from 0.77778\n",
      "\u001b[1m16/16\u001b[0m \u001b[32m━━━━━━━━━━━━━━━━━━━━\u001b[0m\u001b[37m\u001b[0m \u001b[1m1s\u001b[0m 55ms/step - categorical_accuracy: 0.9463 - loss: 1.2635 - top5: 0.9933 - val_categorical_accuracy: 0.7442 - val_loss: 1.6966 - val_top5: 0.9587 - learning_rate: 0.0010\n",
      "Epoch 43/100\n",
      "\u001b[1m15/16\u001b[0m \u001b[32m━━━━━━━━━━━━━━━━━━\u001b[0m\u001b[37m━━\u001b[0m \u001b[1m0s\u001b[0m 51ms/step - categorical_accuracy: 0.9498 - loss: 1.2466 - top5: 0.9958\n",
      "Epoch 43: val_categorical_accuracy did not improve from 0.77778\n",
      "\u001b[1m16/16\u001b[0m \u001b[32m━━━━━━━━━━━━━━━━━━━━\u001b[0m\u001b[37m\u001b[0m \u001b[1m1s\u001b[0m 55ms/step - categorical_accuracy: 0.9500 - loss: 1.2453 - top5: 0.9958 - val_categorical_accuracy: 0.7442 - val_loss: 1.6839 - val_top5: 0.9612 - learning_rate: 0.0010\n",
      "Epoch 44/100\n",
      "\u001b[1m15/16\u001b[0m \u001b[32m━━━━━━━━━━━━━━━━━━\u001b[0m\u001b[37m━━\u001b[0m \u001b[1m0s\u001b[0m 50ms/step - categorical_accuracy: 0.9459 - loss: 1.2564 - top5: 0.9941\n",
      "Epoch 44: val_categorical_accuracy did not improve from 0.77778\n",
      "\u001b[1m16/16\u001b[0m \u001b[32m━━━━━━━━━━━━━━━━━━━━\u001b[0m\u001b[37m\u001b[0m \u001b[1m1s\u001b[0m 54ms/step - categorical_accuracy: 0.9462 - loss: 1.2554 - top5: 0.9940 - val_categorical_accuracy: 0.7235 - val_loss: 1.8107 - val_top5: 0.9328 - learning_rate: 0.0010\n",
      "Epoch 45/100\n",
      "\u001b[1m16/16\u001b[0m \u001b[32m━━━━━━━━━━━━━━━━━━━━\u001b[0m\u001b[37m\u001b[0m \u001b[1m0s\u001b[0m 49ms/step - categorical_accuracy: 0.9483 - loss: 1.2592 - top5: 0.9957\n",
      "Epoch 45: val_categorical_accuracy did not improve from 0.77778\n",
      "\u001b[1m16/16\u001b[0m \u001b[32m━━━━━━━━━━━━━━━━━━━━\u001b[0m\u001b[37m\u001b[0m \u001b[1m1s\u001b[0m 54ms/step - categorical_accuracy: 0.9483 - loss: 1.2583 - top5: 0.9958 - val_categorical_accuracy: 0.7649 - val_loss: 1.6684 - val_top5: 0.9535 - learning_rate: 0.0010\n",
      "Epoch 46/100\n",
      "\u001b[1m16/16\u001b[0m \u001b[32m━━━━━━━━━━━━━━━━━━━━\u001b[0m\u001b[37m\u001b[0m \u001b[1m0s\u001b[0m 49ms/step - categorical_accuracy: 0.9561 - loss: 1.2166 - top5: 0.9975\n",
      "Epoch 46: val_categorical_accuracy did not improve from 0.77778\n",
      "\u001b[1m16/16\u001b[0m \u001b[32m━━━━━━━━━━━━━━━━━━━━\u001b[0m\u001b[37m\u001b[0m \u001b[1m1s\u001b[0m 54ms/step - categorical_accuracy: 0.9559 - loss: 1.2168 - top5: 0.9974 - val_categorical_accuracy: 0.7132 - val_loss: 1.7513 - val_top5: 0.9406 - learning_rate: 0.0010\n",
      "Epoch 47/100\n",
      "\u001b[1m16/16\u001b[0m \u001b[32m━━━━━━━━━━━━━━━━━━━━\u001b[0m\u001b[37m\u001b[0m \u001b[1m0s\u001b[0m 49ms/step - categorical_accuracy: 0.9598 - loss: 1.2202 - top5: 0.9923\n",
      "Epoch 47: val_categorical_accuracy did not improve from 0.77778\n",
      "\u001b[1m16/16\u001b[0m \u001b[32m━━━━━━━━━━━━━━━━━━━━\u001b[0m\u001b[37m\u001b[0m \u001b[1m1s\u001b[0m 54ms/step - categorical_accuracy: 0.9598 - loss: 1.2197 - top5: 0.9923 - val_categorical_accuracy: 0.7494 - val_loss: 1.6959 - val_top5: 0.9483 - learning_rate: 0.0010\n",
      "Epoch 48/100\n",
      "\u001b[1m16/16\u001b[0m \u001b[32m━━━━━━━━━━━━━━━━━━━━\u001b[0m\u001b[37m\u001b[0m \u001b[1m0s\u001b[0m 49ms/step - categorical_accuracy: 0.9503 - loss: 1.2241 - top5: 0.9968\n",
      "Epoch 48: val_categorical_accuracy did not improve from 0.77778\n",
      "\u001b[1m16/16\u001b[0m \u001b[32m━━━━━━━━━━━━━━━━━━━━\u001b[0m\u001b[37m\u001b[0m \u001b[1m1s\u001b[0m 54ms/step - categorical_accuracy: 0.9505 - loss: 1.2238 - top5: 0.9967 - val_categorical_accuracy: 0.7313 - val_loss: 1.7301 - val_top5: 0.9354 - learning_rate: 0.0010\n",
      "Epoch 49/100\n",
      "\u001b[1m15/16\u001b[0m \u001b[32m━━━━━━━━━━━━━━━━━━\u001b[0m\u001b[37m━━\u001b[0m \u001b[1m0s\u001b[0m 50ms/step - categorical_accuracy: 0.9671 - loss: 1.1997 - top5: 0.9988\n",
      "Epoch 49: val_categorical_accuracy did not improve from 0.77778\n",
      "\u001b[1m16/16\u001b[0m \u001b[32m━━━━━━━━━━━━━━━━━━━━\u001b[0m\u001b[37m\u001b[0m \u001b[1m1s\u001b[0m 54ms/step - categorical_accuracy: 0.9664 - loss: 1.2006 - top5: 0.9986 - val_categorical_accuracy: 0.7649 - val_loss: 1.6702 - val_top5: 0.9535 - learning_rate: 0.0010\n",
      "Epoch 50/100\n",
      "\u001b[1m16/16\u001b[0m \u001b[32m━━━━━━━━━━━━━━━━━━━━\u001b[0m\u001b[37m\u001b[0m \u001b[1m0s\u001b[0m 49ms/step - categorical_accuracy: 0.9593 - loss: 1.2035 - top5: 0.9970\n",
      "Epoch 50: val_categorical_accuracy did not improve from 0.77778\n",
      "\u001b[1m16/16\u001b[0m \u001b[32m━━━━━━━━━━━━━━━━━━━━\u001b[0m\u001b[37m\u001b[0m \u001b[1m1s\u001b[0m 55ms/step - categorical_accuracy: 0.9593 - loss: 1.2033 - top5: 0.9970 - val_categorical_accuracy: 0.7700 - val_loss: 1.6607 - val_top5: 0.9457 - learning_rate: 0.0010\n",
      "Epoch 51/100\n",
      "\u001b[1m15/16\u001b[0m \u001b[32m━━━━━━━━━━━━━━━━━━\u001b[0m\u001b[37m━━\u001b[0m \u001b[1m0s\u001b[0m 49ms/step - categorical_accuracy: 0.9585 - loss: 1.2034 - top5: 0.9997\n",
      "Epoch 51: val_categorical_accuracy improved from 0.77778 to 0.78295, saving model to best_model_lstm.keras\n",
      "\u001b[1m16/16\u001b[0m \u001b[32m━━━━━━━━━━━━━━━━━━━━\u001b[0m\u001b[37m\u001b[0m \u001b[1m1s\u001b[0m 58ms/step - categorical_accuracy: 0.9595 - loss: 1.2004 - top5: 0.9996 - val_categorical_accuracy: 0.7829 - val_loss: 1.6023 - val_top5: 0.9612 - learning_rate: 9.0484e-04\n",
      "Epoch 52/100\n",
      "\u001b[1m15/16\u001b[0m \u001b[32m━━━━━━━━━━━━━━━━━━\u001b[0m\u001b[37m━━\u001b[0m \u001b[1m0s\u001b[0m 51ms/step - categorical_accuracy: 0.9740 - loss: 1.1735 - top5: 0.9989\n",
      "Epoch 52: val_categorical_accuracy did not improve from 0.78295\n",
      "\u001b[1m16/16\u001b[0m \u001b[32m━━━━━━━━━━━━━━━━━━━━\u001b[0m\u001b[37m\u001b[0m \u001b[1m1s\u001b[0m 54ms/step - categorical_accuracy: 0.9739 - loss: 1.1726 - top5: 0.9989 - val_categorical_accuracy: 0.7778 - val_loss: 1.6076 - val_top5: 0.9406 - learning_rate: 8.1873e-04\n",
      "Epoch 53/100\n",
      "\u001b[1m15/16\u001b[0m \u001b[32m━━━━━━━━━━━━━━━━━━\u001b[0m\u001b[37m━━\u001b[0m \u001b[1m0s\u001b[0m 51ms/step - categorical_accuracy: 0.9815 - loss: 1.1494 - top5: 0.9983\n",
      "Epoch 53: val_categorical_accuracy did not improve from 0.78295\n",
      "\u001b[1m16/16\u001b[0m \u001b[32m━━━━━━━━━━━━━━━━━━━━\u001b[0m\u001b[37m\u001b[0m \u001b[1m1s\u001b[0m 55ms/step - categorical_accuracy: 0.9816 - loss: 1.1489 - top5: 0.9984 - val_categorical_accuracy: 0.7804 - val_loss: 1.6138 - val_top5: 0.9509 - learning_rate: 7.4082e-04\n",
      "Epoch 54/100\n",
      "\u001b[1m15/16\u001b[0m \u001b[32m━━━━━━━━━━━━━━━━━━\u001b[0m\u001b[37m━━\u001b[0m \u001b[1m0s\u001b[0m 50ms/step - categorical_accuracy: 0.9862 - loss: 1.1294 - top5: 1.0000\n",
      "Epoch 54: val_categorical_accuracy improved from 0.78295 to 0.79845, saving model to best_model_lstm.keras\n",
      "\u001b[1m16/16\u001b[0m \u001b[32m━━━━━━━━━━━━━━━━━━━━\u001b[0m\u001b[37m\u001b[0m \u001b[1m1s\u001b[0m 59ms/step - categorical_accuracy: 0.9861 - loss: 1.1297 - top5: 1.0000 - val_categorical_accuracy: 0.7984 - val_loss: 1.5573 - val_top5: 0.9664 - learning_rate: 6.7032e-04\n",
      "Epoch 55/100\n",
      "\u001b[1m15/16\u001b[0m \u001b[32m━━━━━━━━━━━━━━━━━━\u001b[0m\u001b[37m━━\u001b[0m \u001b[1m0s\u001b[0m 50ms/step - categorical_accuracy: 0.9835 - loss: 1.1432 - top5: 0.9992\n",
      "Epoch 55: val_categorical_accuracy did not improve from 0.79845\n",
      "\u001b[1m16/16\u001b[0m \u001b[32m━━━━━━━━━━━━━━━━━━━━\u001b[0m\u001b[37m\u001b[0m \u001b[1m1s\u001b[0m 54ms/step - categorical_accuracy: 0.9830 - loss: 1.1435 - top5: 0.9992 - val_categorical_accuracy: 0.7881 - val_loss: 1.5597 - val_top5: 0.9638 - learning_rate: 6.0653e-04\n",
      "Epoch 56/100\n",
      "\u001b[1m15/16\u001b[0m \u001b[32m━━━━━━━━━━━━━━━━━━\u001b[0m\u001b[37m━━\u001b[0m \u001b[1m0s\u001b[0m 50ms/step - categorical_accuracy: 0.9827 - loss: 1.1345 - top5: 0.9957\n",
      "Epoch 56: val_categorical_accuracy did not improve from 0.79845\n",
      "\u001b[1m16/16\u001b[0m \u001b[32m━━━━━━━━━━━━━━━━━━━━\u001b[0m\u001b[37m\u001b[0m \u001b[1m1s\u001b[0m 54ms/step - categorical_accuracy: 0.9829 - loss: 1.1336 - top5: 0.9959 - val_categorical_accuracy: 0.7907 - val_loss: 1.5432 - val_top5: 0.9638 - learning_rate: 5.4881e-04\n",
      "Epoch 57/100\n",
      "\u001b[1m15/16\u001b[0m \u001b[32m━━━━━━━━━━━━━━━━━━\u001b[0m\u001b[37m━━\u001b[0m \u001b[1m0s\u001b[0m 50ms/step - categorical_accuracy: 0.9879 - loss: 1.1158 - top5: 0.9993\n",
      "Epoch 57: val_categorical_accuracy did not improve from 0.79845\n",
      "\u001b[1m16/16\u001b[0m \u001b[32m━━━━━━━━━━━━━━━━━━━━\u001b[0m\u001b[37m\u001b[0m \u001b[1m1s\u001b[0m 54ms/step - categorical_accuracy: 0.9875 - loss: 1.1152 - top5: 0.9993 - val_categorical_accuracy: 0.7907 - val_loss: 1.5593 - val_top5: 0.9664 - learning_rate: 4.9659e-04\n",
      "Epoch 58/100\n",
      "\u001b[1m15/16\u001b[0m \u001b[32m━━━━━━━━━━━━━━━━━━\u001b[0m\u001b[37m━━\u001b[0m \u001b[1m0s\u001b[0m 51ms/step - categorical_accuracy: 0.9881 - loss: 1.1124 - top5: 0.9994\n",
      "Epoch 58: val_categorical_accuracy did not improve from 0.79845\n",
      "\u001b[1m16/16\u001b[0m \u001b[32m━━━━━━━━━━━━━━━━━━━━\u001b[0m\u001b[37m\u001b[0m \u001b[1m1s\u001b[0m 55ms/step - categorical_accuracy: 0.9878 - loss: 1.1122 - top5: 0.9993 - val_categorical_accuracy: 0.7649 - val_loss: 1.5846 - val_top5: 0.9612 - learning_rate: 4.4933e-04\n",
      "Epoch 59/100\n",
      "\u001b[1m16/16\u001b[0m \u001b[32m━━━━━━━━━━━━━━━━━━━━\u001b[0m\u001b[37m\u001b[0m \u001b[1m0s\u001b[0m 49ms/step - categorical_accuracy: 0.9888 - loss: 1.1135 - top5: 0.9986\n",
      "Epoch 59: val_categorical_accuracy did not improve from 0.79845\n",
      "\u001b[1m16/16\u001b[0m \u001b[32m━━━━━━━━━━━━━━━━━━━━\u001b[0m\u001b[37m\u001b[0m \u001b[1m1s\u001b[0m 54ms/step - categorical_accuracy: 0.9887 - loss: 1.1131 - top5: 0.9986 - val_categorical_accuracy: 0.7726 - val_loss: 1.6158 - val_top5: 0.9612 - learning_rate: 4.0657e-04\n",
      "Epoch 60/100\n",
      "\u001b[1m15/16\u001b[0m \u001b[32m━━━━━━━━━━━━━━━━━━\u001b[0m\u001b[37m━━\u001b[0m \u001b[1m0s\u001b[0m 50ms/step - categorical_accuracy: 0.9881 - loss: 1.1057 - top5: 0.9991\n",
      "Epoch 60: val_categorical_accuracy improved from 0.79845 to 0.80879, saving model to best_model_lstm.keras\n",
      "\u001b[1m16/16\u001b[0m \u001b[32m━━━━━━━━━━━━━━━━━━━━\u001b[0m\u001b[37m\u001b[0m \u001b[1m1s\u001b[0m 58ms/step - categorical_accuracy: 0.9880 - loss: 1.1050 - top5: 0.9991 - val_categorical_accuracy: 0.8088 - val_loss: 1.5280 - val_top5: 0.9638 - learning_rate: 3.6788e-04\n",
      "Epoch 61/100\n",
      "\u001b[1m15/16\u001b[0m \u001b[32m━━━━━━━━━━━━━━━━━━\u001b[0m\u001b[37m━━\u001b[0m \u001b[1m0s\u001b[0m 51ms/step - categorical_accuracy: 0.9880 - loss: 1.1075 - top5: 0.9988\n",
      "Epoch 61: val_categorical_accuracy did not improve from 0.80879\n",
      "\u001b[1m16/16\u001b[0m \u001b[32m━━━━━━━━━━━━━━━━━━━━\u001b[0m\u001b[37m\u001b[0m \u001b[1m1s\u001b[0m 55ms/step - categorical_accuracy: 0.9881 - loss: 1.1062 - top5: 0.9988 - val_categorical_accuracy: 0.8088 - val_loss: 1.5254 - val_top5: 0.9664 - learning_rate: 3.3287e-04\n",
      "Epoch 62/100\n",
      "\u001b[1m15/16\u001b[0m \u001b[32m━━━━━━━━━━━━━━━━━━\u001b[0m\u001b[37m━━\u001b[0m \u001b[1m0s\u001b[0m 50ms/step - categorical_accuracy: 0.9952 - loss: 1.0861 - top5: 0.9999\n",
      "Epoch 62: val_categorical_accuracy did not improve from 0.80879\n",
      "\u001b[1m16/16\u001b[0m \u001b[32m━━━━━━━━━━━━━━━━━━━━\u001b[0m\u001b[37m\u001b[0m \u001b[1m1s\u001b[0m 53ms/step - categorical_accuracy: 0.9949 - loss: 1.0860 - top5: 0.9999 - val_categorical_accuracy: 0.7933 - val_loss: 1.5462 - val_top5: 0.9612 - learning_rate: 3.0119e-04\n",
      "Epoch 63/100\n",
      "\u001b[1m15/16\u001b[0m \u001b[32m━━━━━━━━━━━━━━━━━━\u001b[0m\u001b[37m━━\u001b[0m \u001b[1m0s\u001b[0m 50ms/step - categorical_accuracy: 0.9930 - loss: 1.0898 - top5: 0.9997\n",
      "Epoch 63: val_categorical_accuracy improved from 0.80879 to 0.81654, saving model to best_model_lstm.keras\n",
      "\u001b[1m16/16\u001b[0m \u001b[32m━━━━━━━━━━━━━━━━━━━━\u001b[0m\u001b[37m\u001b[0m \u001b[1m1s\u001b[0m 59ms/step - categorical_accuracy: 0.9928 - loss: 1.0897 - top5: 0.9997 - val_categorical_accuracy: 0.8165 - val_loss: 1.4997 - val_top5: 0.9638 - learning_rate: 2.7253e-04\n",
      "Epoch 64/100\n",
      "\u001b[1m16/16\u001b[0m \u001b[32m━━━━━━━━━━━━━━━━━━━━\u001b[0m\u001b[37m\u001b[0m \u001b[1m0s\u001b[0m 48ms/step - categorical_accuracy: 0.9962 - loss: 1.0851 - top5: 1.0000\n",
      "Epoch 64: val_categorical_accuracy did not improve from 0.81654\n",
      "\u001b[1m16/16\u001b[0m \u001b[32m━━━━━━━━━━━━━━━━━━━━\u001b[0m\u001b[37m\u001b[0m \u001b[1m1s\u001b[0m 54ms/step - categorical_accuracy: 0.9960 - loss: 1.0851 - top5: 1.0000 - val_categorical_accuracy: 0.8114 - val_loss: 1.5242 - val_top5: 0.9612 - learning_rate: 2.4660e-04\n",
      "Epoch 65/100\n",
      "\u001b[1m15/16\u001b[0m \u001b[32m━━━━━━━━━━━━━━━━━━\u001b[0m\u001b[37m━━\u001b[0m \u001b[1m0s\u001b[0m 50ms/step - categorical_accuracy: 0.9887 - loss: 1.0938 - top5: 0.9995\n",
      "Epoch 65: val_categorical_accuracy did not improve from 0.81654\n",
      "\u001b[1m16/16\u001b[0m \u001b[32m━━━━━━━━━━━━━━━━━━━━\u001b[0m\u001b[37m\u001b[0m \u001b[1m1s\u001b[0m 54ms/step - categorical_accuracy: 0.9889 - loss: 1.0931 - top5: 0.9995 - val_categorical_accuracy: 0.8165 - val_loss: 1.5068 - val_top5: 0.9664 - learning_rate: 2.2313e-04\n",
      "Epoch 66/100\n",
      "\u001b[1m15/16\u001b[0m \u001b[32m━━━━━━━━━━━━━━━━━━\u001b[0m\u001b[37m━━\u001b[0m \u001b[1m0s\u001b[0m 49ms/step - categorical_accuracy: 0.9919 - loss: 1.0926 - top5: 0.9981\n",
      "Epoch 66: val_categorical_accuracy did not improve from 0.81654\n",
      "\u001b[1m16/16\u001b[0m \u001b[32m━━━━━━━━━━━━━━━━━━━━\u001b[0m\u001b[37m\u001b[0m \u001b[1m1s\u001b[0m 53ms/step - categorical_accuracy: 0.9917 - loss: 1.0920 - top5: 0.9982 - val_categorical_accuracy: 0.8114 - val_loss: 1.4981 - val_top5: 0.9664 - learning_rate: 2.0190e-04\n",
      "Epoch 67/100\n",
      "\u001b[1m15/16\u001b[0m \u001b[32m━━━━━━━━━━━━━━━━━━\u001b[0m\u001b[37m━━\u001b[0m \u001b[1m0s\u001b[0m 49ms/step - categorical_accuracy: 0.9966 - loss: 1.0873 - top5: 1.0000\n",
      "Epoch 67: val_categorical_accuracy did not improve from 0.81654\n",
      "\u001b[1m16/16\u001b[0m \u001b[32m━━━━━━━━━━━━━━━━━━━━\u001b[0m\u001b[37m\u001b[0m \u001b[1m1s\u001b[0m 53ms/step - categorical_accuracy: 0.9964 - loss: 1.0864 - top5: 1.0000 - val_categorical_accuracy: 0.7881 - val_loss: 1.5140 - val_top5: 0.9612 - learning_rate: 1.8268e-04\n",
      "Epoch 68/100\n",
      "\u001b[1m15/16\u001b[0m \u001b[32m━━━━━━━━━━━━━━━━━━\u001b[0m\u001b[37m━━\u001b[0m \u001b[1m0s\u001b[0m 50ms/step - categorical_accuracy: 0.9941 - loss: 1.0889 - top5: 0.9993\n",
      "Epoch 68: val_categorical_accuracy did not improve from 0.81654\n",
      "\u001b[1m16/16\u001b[0m \u001b[32m━━━━━━━━━━━━━━━━━━━━\u001b[0m\u001b[37m\u001b[0m \u001b[1m1s\u001b[0m 54ms/step - categorical_accuracy: 0.9940 - loss: 1.0888 - top5: 0.9993 - val_categorical_accuracy: 0.7881 - val_loss: 1.5301 - val_top5: 0.9612 - learning_rate: 1.6530e-04\n",
      "Epoch 69/100\n",
      "\u001b[1m15/16\u001b[0m \u001b[32m━━━━━━━━━━━━━━━━━━\u001b[0m\u001b[37m━━\u001b[0m \u001b[1m0s\u001b[0m 50ms/step - categorical_accuracy: 0.9968 - loss: 1.0739 - top5: 1.0000\n",
      "Epoch 69: val_categorical_accuracy did not improve from 0.81654\n",
      "\u001b[1m16/16\u001b[0m \u001b[32m━━━━━━━━━━━━━━━━━━━━\u001b[0m\u001b[37m\u001b[0m \u001b[1m1s\u001b[0m 54ms/step - categorical_accuracy: 0.9965 - loss: 1.0738 - top5: 1.0000 - val_categorical_accuracy: 0.8114 - val_loss: 1.5013 - val_top5: 0.9638 - learning_rate: 1.4957e-04\n",
      "Epoch 70/100\n",
      "\u001b[1m16/16\u001b[0m \u001b[32m━━━━━━━━━━━━━━━━━━━━\u001b[0m\u001b[37m\u001b[0m \u001b[1m0s\u001b[0m 48ms/step - categorical_accuracy: 0.9938 - loss: 1.0693 - top5: 1.0000\n",
      "Epoch 70: val_categorical_accuracy did not improve from 0.81654\n",
      "\u001b[1m16/16\u001b[0m \u001b[32m━━━━━━━━━━━━━━━━━━━━\u001b[0m\u001b[37m\u001b[0m \u001b[1m1s\u001b[0m 53ms/step - categorical_accuracy: 0.9937 - loss: 1.0694 - top5: 1.0000 - val_categorical_accuracy: 0.8036 - val_loss: 1.4965 - val_top5: 0.9587 - learning_rate: 1.3534e-04\n",
      "Epoch 71/100\n",
      "\u001b[1m16/16\u001b[0m \u001b[32m━━━━━━━━━━━━━━━━━━━━\u001b[0m\u001b[37m\u001b[0m \u001b[1m0s\u001b[0m 49ms/step - categorical_accuracy: 0.9931 - loss: 1.0678 - top5: 1.0000\n",
      "Epoch 71: val_categorical_accuracy did not improve from 0.81654\n",
      "\u001b[1m16/16\u001b[0m \u001b[32m━━━━━━━━━━━━━━━━━━━━\u001b[0m\u001b[37m\u001b[0m \u001b[1m1s\u001b[0m 54ms/step - categorical_accuracy: 0.9932 - loss: 1.0676 - top5: 1.0000 - val_categorical_accuracy: 0.8062 - val_loss: 1.5065 - val_top5: 0.9612 - learning_rate: 1.2246e-04\n",
      "Epoch 72/100\n",
      "\u001b[1m16/16\u001b[0m \u001b[32m━━━━━━━━━━━━━━━━━━━━\u001b[0m\u001b[37m\u001b[0m \u001b[1m0s\u001b[0m 48ms/step - categorical_accuracy: 0.9934 - loss: 1.0762 - top5: 0.9992\n",
      "Epoch 72: val_categorical_accuracy did not improve from 0.81654\n",
      "\u001b[1m16/16\u001b[0m \u001b[32m━━━━━━━━━━━━━━━━━━━━\u001b[0m\u001b[37m\u001b[0m \u001b[1m1s\u001b[0m 55ms/step - categorical_accuracy: 0.9933 - loss: 1.0763 - top5: 0.9993 - val_categorical_accuracy: 0.8036 - val_loss: 1.5106 - val_top5: 0.9664 - learning_rate: 1.1080e-04\n",
      "Epoch 73/100\n",
      "\u001b[1m16/16\u001b[0m \u001b[32m━━━━━━━━━━━━━━━━━━━━\u001b[0m\u001b[37m\u001b[0m \u001b[1m0s\u001b[0m 48ms/step - categorical_accuracy: 0.9946 - loss: 1.0753 - top5: 0.9991\n",
      "Epoch 73: val_categorical_accuracy did not improve from 0.81654\n",
      "\u001b[1m16/16\u001b[0m \u001b[32m━━━━━━━━━━━━━━━━━━━━\u001b[0m\u001b[37m\u001b[0m \u001b[1m1s\u001b[0m 53ms/step - categorical_accuracy: 0.9946 - loss: 1.0748 - top5: 0.9991 - val_categorical_accuracy: 0.8062 - val_loss: 1.5063 - val_top5: 0.9638 - learning_rate: 1.0026e-04\n",
      "Epoch 74/100\n",
      "\u001b[1m16/16\u001b[0m \u001b[32m━━━━━━━━━━━━━━━━━━━━\u001b[0m\u001b[37m\u001b[0m \u001b[1m0s\u001b[0m 48ms/step - categorical_accuracy: 0.9962 - loss: 1.0808 - top5: 1.0000\n",
      "Epoch 74: val_categorical_accuracy did not improve from 0.81654\n",
      "\u001b[1m16/16\u001b[0m \u001b[32m━━━━━━━━━━━━━━━━━━━━\u001b[0m\u001b[37m\u001b[0m \u001b[1m1s\u001b[0m 53ms/step - categorical_accuracy: 0.9961 - loss: 1.0806 - top5: 1.0000 - val_categorical_accuracy: 0.8114 - val_loss: 1.5029 - val_top5: 0.9664 - learning_rate: 9.0718e-05\n",
      "Epoch 75/100\n",
      "\u001b[1m15/16\u001b[0m \u001b[32m━━━━━━━━━━━━━━━━━━\u001b[0m\u001b[37m━━\u001b[0m \u001b[1m0s\u001b[0m 52ms/step - categorical_accuracy: 0.9962 - loss: 1.0697 - top5: 0.9998\n",
      "Epoch 75: val_categorical_accuracy did not improve from 0.81654\n",
      "\u001b[1m16/16\u001b[0m \u001b[32m━━━━━━━━━━━━━━━━━━━━\u001b[0m\u001b[37m\u001b[0m \u001b[1m1s\u001b[0m 56ms/step - categorical_accuracy: 0.9958 - loss: 1.0695 - top5: 0.9998 - val_categorical_accuracy: 0.8114 - val_loss: 1.5119 - val_top5: 0.9664 - learning_rate: 8.2085e-05\n",
      "Epoch 76/100\n",
      "\u001b[1m15/16\u001b[0m \u001b[32m━━━━━━━━━━━━━━━━━━\u001b[0m\u001b[37m━━\u001b[0m \u001b[1m0s\u001b[0m 51ms/step - categorical_accuracy: 0.9976 - loss: 1.0648 - top5: 0.9988\n",
      "Epoch 76: val_categorical_accuracy did not improve from 0.81654\n",
      "\u001b[1m16/16\u001b[0m \u001b[32m━━━━━━━━━━━━━━━━━━━━\u001b[0m\u001b[37m\u001b[0m \u001b[1m1s\u001b[0m 55ms/step - categorical_accuracy: 0.9976 - loss: 1.0645 - top5: 0.9988 - val_categorical_accuracy: 0.8036 - val_loss: 1.5263 - val_top5: 0.9638 - learning_rate: 7.4273e-05\n",
      "Epoch 77/100\n",
      "\u001b[1m15/16\u001b[0m \u001b[32m━━━━━━━━━━━━━━━━━━\u001b[0m\u001b[37m━━\u001b[0m \u001b[1m0s\u001b[0m 49ms/step - categorical_accuracy: 0.9952 - loss: 1.0731 - top5: 1.0000\n",
      "Epoch 77: val_categorical_accuracy did not improve from 0.81654\n",
      "\u001b[1m16/16\u001b[0m \u001b[32m━━━━━━━━━━━━━━━━━━━━\u001b[0m\u001b[37m\u001b[0m \u001b[1m1s\u001b[0m 53ms/step - categorical_accuracy: 0.9951 - loss: 1.0720 - top5: 1.0000 - val_categorical_accuracy: 0.8036 - val_loss: 1.5364 - val_top5: 0.9638 - learning_rate: 6.7205e-05\n",
      "Epoch 78/100\n",
      "\u001b[1m15/16\u001b[0m \u001b[32m━━━━━━━━━━━━━━━━━━\u001b[0m\u001b[37m━━\u001b[0m \u001b[1m0s\u001b[0m 49ms/step - categorical_accuracy: 0.9973 - loss: 1.0798 - top5: 0.9995\n",
      "Epoch 78: val_categorical_accuracy did not improve from 0.81654\n",
      "\u001b[1m16/16\u001b[0m \u001b[32m━━━━━━━━━━━━━━━━━━━━\u001b[0m\u001b[37m\u001b[0m \u001b[1m1s\u001b[0m 53ms/step - categorical_accuracy: 0.9973 - loss: 1.0792 - top5: 0.9995 - val_categorical_accuracy: 0.7984 - val_loss: 1.5394 - val_top5: 0.9638 - learning_rate: 6.0810e-05\n",
      "Epoch 79/100\n",
      "\u001b[1m16/16\u001b[0m \u001b[32m━━━━━━━━━━━━━━━━━━━━\u001b[0m\u001b[37m\u001b[0m \u001b[1m0s\u001b[0m 49ms/step - categorical_accuracy: 0.9942 - loss: 1.0733 - top5: 1.0000\n",
      "Epoch 79: val_categorical_accuracy did not improve from 0.81654\n",
      "\u001b[1m16/16\u001b[0m \u001b[32m━━━━━━━━━━━━━━━━━━━━\u001b[0m\u001b[37m\u001b[0m \u001b[1m1s\u001b[0m 54ms/step - categorical_accuracy: 0.9942 - loss: 1.0732 - top5: 1.0000 - val_categorical_accuracy: 0.8010 - val_loss: 1.5219 - val_top5: 0.9638 - learning_rate: 5.5023e-05\n",
      "Epoch 80/100\n",
      "\u001b[1m15/16\u001b[0m \u001b[32m━━━━━━━━━━━━━━━━━━\u001b[0m\u001b[37m━━\u001b[0m \u001b[1m0s\u001b[0m 50ms/step - categorical_accuracy: 0.9952 - loss: 1.0700 - top5: 1.0000\n",
      "Epoch 80: val_categorical_accuracy did not improve from 0.81654\n",
      "\u001b[1m16/16\u001b[0m \u001b[32m━━━━━━━━━━━━━━━━━━━━\u001b[0m\u001b[37m\u001b[0m \u001b[1m1s\u001b[0m 54ms/step - categorical_accuracy: 0.9951 - loss: 1.0698 - top5: 1.0000 - val_categorical_accuracy: 0.8062 - val_loss: 1.5139 - val_top5: 0.9638 - learning_rate: 4.9787e-05\n",
      "Epoch 81/100\n",
      "\u001b[1m15/16\u001b[0m \u001b[32m━━━━━━━━━━━━━━━━━━\u001b[0m\u001b[37m━━\u001b[0m \u001b[1m0s\u001b[0m 51ms/step - categorical_accuracy: 0.9954 - loss: 1.0731 - top5: 1.0000\n",
      "Epoch 81: val_categorical_accuracy did not improve from 0.81654\n",
      "\u001b[1m16/16\u001b[0m \u001b[32m━━━━━━━━━━━━━━━━━━━━\u001b[0m\u001b[37m\u001b[0m \u001b[1m1s\u001b[0m 55ms/step - categorical_accuracy: 0.9955 - loss: 1.0723 - top5: 1.0000 - val_categorical_accuracy: 0.8036 - val_loss: 1.5087 - val_top5: 0.9664 - learning_rate: 4.5049e-05\n",
      "Epoch 82/100\n",
      "\u001b[1m16/16\u001b[0m \u001b[32m━━━━━━━━━━━━━━━━━━━━\u001b[0m\u001b[37m\u001b[0m \u001b[1m0s\u001b[0m 49ms/step - categorical_accuracy: 0.9947 - loss: 1.0590 - top5: 0.9996\n",
      "Epoch 82: val_categorical_accuracy did not improve from 0.81654\n",
      "\u001b[1m16/16\u001b[0m \u001b[32m━━━━━━━━━━━━━━━━━━━━\u001b[0m\u001b[37m\u001b[0m \u001b[1m1s\u001b[0m 54ms/step - categorical_accuracy: 0.9946 - loss: 1.0589 - top5: 0.9996 - val_categorical_accuracy: 0.8062 - val_loss: 1.5070 - val_top5: 0.9664 - learning_rate: 4.0762e-05\n",
      "Epoch 83/100\n",
      "\u001b[1m16/16\u001b[0m \u001b[32m━━━━━━━━━━━━━━━━━━━━\u001b[0m\u001b[37m\u001b[0m \u001b[1m0s\u001b[0m 49ms/step - categorical_accuracy: 0.9963 - loss: 1.0681 - top5: 0.9991\n",
      "Epoch 83: val_categorical_accuracy did not improve from 0.81654\n",
      "\u001b[1m16/16\u001b[0m \u001b[32m━━━━━━━━━━━━━━━━━━━━\u001b[0m\u001b[37m\u001b[0m \u001b[1m1s\u001b[0m 55ms/step - categorical_accuracy: 0.9963 - loss: 1.0680 - top5: 0.9991 - val_categorical_accuracy: 0.8062 - val_loss: 1.5131 - val_top5: 0.9664 - learning_rate: 3.6883e-05\n",
      "Epoch 84/100\n",
      "\u001b[1m16/16\u001b[0m \u001b[32m━━━━━━━━━━━━━━━━━━━━\u001b[0m\u001b[37m\u001b[0m \u001b[1m0s\u001b[0m 49ms/step - categorical_accuracy: 0.9919 - loss: 1.0712 - top5: 0.9988\n",
      "Epoch 84: val_categorical_accuracy did not improve from 0.81654\n",
      "\u001b[1m16/16\u001b[0m \u001b[32m━━━━━━━━━━━━━━━━━━━━\u001b[0m\u001b[37m\u001b[0m \u001b[1m1s\u001b[0m 54ms/step - categorical_accuracy: 0.9920 - loss: 1.0711 - top5: 0.9989 - val_categorical_accuracy: 0.8036 - val_loss: 1.5160 - val_top5: 0.9664 - learning_rate: 3.3373e-05\n",
      "Epoch 85/100\n",
      "\u001b[1m15/16\u001b[0m \u001b[32m━━━━━━━━━━━━━━━━━━\u001b[0m\u001b[37m━━\u001b[0m \u001b[1m0s\u001b[0m 50ms/step - categorical_accuracy: 0.9985 - loss: 1.0701 - top5: 1.0000\n",
      "Epoch 85: val_categorical_accuracy did not improve from 0.81654\n",
      "\u001b[1m16/16\u001b[0m \u001b[32m━━━━━━━━━━━━━━━━━━━━\u001b[0m\u001b[37m\u001b[0m \u001b[1m1s\u001b[0m 54ms/step - categorical_accuracy: 0.9983 - loss: 1.0701 - top5: 1.0000 - val_categorical_accuracy: 0.8036 - val_loss: 1.5156 - val_top5: 0.9638 - learning_rate: 3.0197e-05\n",
      "Epoch 86/100\n",
      "\u001b[1m15/16\u001b[0m \u001b[32m━━━━━━━━━━━━━━━━━━\u001b[0m\u001b[37m━━\u001b[0m \u001b[1m0s\u001b[0m 50ms/step - categorical_accuracy: 0.9959 - loss: 1.0675 - top5: 1.0000\n",
      "Epoch 86: val_categorical_accuracy did not improve from 0.81654\n",
      "\u001b[1m16/16\u001b[0m \u001b[32m━━━━━━━━━━━━━━━━━━━━\u001b[0m\u001b[37m\u001b[0m \u001b[1m1s\u001b[0m 54ms/step - categorical_accuracy: 0.9956 - loss: 1.0669 - top5: 1.0000 - val_categorical_accuracy: 0.8010 - val_loss: 1.5181 - val_top5: 0.9664 - learning_rate: 2.7324e-05\n",
      "Epoch 87/100\n",
      "\u001b[1m16/16\u001b[0m \u001b[32m━━━━━━━━━━━━━━━━━━━━\u001b[0m\u001b[37m\u001b[0m \u001b[1m0s\u001b[0m 48ms/step - categorical_accuracy: 0.9959 - loss: 1.0671 - top5: 1.0000\n",
      "Epoch 87: val_categorical_accuracy did not improve from 0.81654\n",
      "\u001b[1m16/16\u001b[0m \u001b[32m━━━━━━━━━━━━━━━━━━━━\u001b[0m\u001b[37m\u001b[0m \u001b[1m1s\u001b[0m 54ms/step - categorical_accuracy: 0.9959 - loss: 1.0671 - top5: 1.0000 - val_categorical_accuracy: 0.7959 - val_loss: 1.5157 - val_top5: 0.9664 - learning_rate: 2.4723e-05\n",
      "Epoch 88/100\n",
      "\u001b[1m15/16\u001b[0m \u001b[32m━━━━━━━━━━━━━━━━━━\u001b[0m\u001b[37m━━\u001b[0m \u001b[1m0s\u001b[0m 50ms/step - categorical_accuracy: 0.9960 - loss: 1.0688 - top5: 1.0000\n",
      "Epoch 88: val_categorical_accuracy did not improve from 0.81654\n",
      "\u001b[1m16/16\u001b[0m \u001b[32m━━━━━━━━━━━━━━━━━━━━\u001b[0m\u001b[37m\u001b[0m \u001b[1m1s\u001b[0m 54ms/step - categorical_accuracy: 0.9958 - loss: 1.0681 - top5: 1.0000 - val_categorical_accuracy: 0.7984 - val_loss: 1.5151 - val_top5: 0.9664 - learning_rate: 2.2371e-05\n",
      "Epoch 89/100\n",
      "\u001b[1m16/16\u001b[0m \u001b[32m━━━━━━━━━━━━━━━━━━━━\u001b[0m\u001b[37m\u001b[0m \u001b[1m0s\u001b[0m 49ms/step - categorical_accuracy: 0.9947 - loss: 1.0714 - top5: 0.9996\n",
      "Epoch 89: val_categorical_accuracy did not improve from 0.81654\n",
      "\u001b[1m16/16\u001b[0m \u001b[32m━━━━━━━━━━━━━━━━━━━━\u001b[0m\u001b[37m\u001b[0m \u001b[1m1s\u001b[0m 54ms/step - categorical_accuracy: 0.9947 - loss: 1.0711 - top5: 0.9996 - val_categorical_accuracy: 0.8010 - val_loss: 1.5138 - val_top5: 0.9664 - learning_rate: 2.0242e-05\n",
      "Epoch 90/100\n",
      "\u001b[1m15/16\u001b[0m \u001b[32m━━━━━━━━━━━━━━━━━━\u001b[0m\u001b[37m━━\u001b[0m \u001b[1m0s\u001b[0m 50ms/step - categorical_accuracy: 0.9946 - loss: 1.0722 - top5: 0.9986\n",
      "Epoch 90: val_categorical_accuracy did not improve from 0.81654\n",
      "\u001b[1m16/16\u001b[0m \u001b[32m━━━━━━━━━━━━━━━━━━━━\u001b[0m\u001b[37m\u001b[0m \u001b[1m1s\u001b[0m 54ms/step - categorical_accuracy: 0.9945 - loss: 1.0721 - top5: 0.9986 - val_categorical_accuracy: 0.8062 - val_loss: 1.5117 - val_top5: 0.9638 - learning_rate: 1.8316e-05\n",
      "Epoch 91/100\n",
      "\u001b[1m16/16\u001b[0m \u001b[32m━━━━━━━━━━━━━━━━━━━━\u001b[0m\u001b[37m\u001b[0m \u001b[1m0s\u001b[0m 49ms/step - categorical_accuracy: 0.9951 - loss: 1.0609 - top5: 1.0000\n",
      "Epoch 91: val_categorical_accuracy did not improve from 0.81654\n",
      "\u001b[1m16/16\u001b[0m \u001b[32m━━━━━━━━━━━━━━━━━━━━\u001b[0m\u001b[37m\u001b[0m \u001b[1m1s\u001b[0m 54ms/step - categorical_accuracy: 0.9950 - loss: 1.0609 - top5: 1.0000 - val_categorical_accuracy: 0.8062 - val_loss: 1.5103 - val_top5: 0.9638 - learning_rate: 1.6573e-05\n",
      "Epoch 92/100\n",
      "\u001b[1m16/16\u001b[0m \u001b[32m━━━━━━━━━━━━━━━━━━━━\u001b[0m\u001b[37m\u001b[0m \u001b[1m0s\u001b[0m 49ms/step - categorical_accuracy: 0.9971 - loss: 1.0573 - top5: 1.0000\n",
      "Epoch 92: val_categorical_accuracy did not improve from 0.81654\n",
      "\u001b[1m16/16\u001b[0m \u001b[32m━━━━━━━━━━━━━━━━━━━━\u001b[0m\u001b[37m\u001b[0m \u001b[1m1s\u001b[0m 54ms/step - categorical_accuracy: 0.9970 - loss: 1.0575 - top5: 1.0000 - val_categorical_accuracy: 0.8062 - val_loss: 1.5090 - val_top5: 0.9612 - learning_rate: 1.4996e-05\n",
      "Epoch 93/100\n",
      "\u001b[1m15/16\u001b[0m \u001b[32m━━━━━━━━━━━━━━━━━━\u001b[0m\u001b[37m━━\u001b[0m \u001b[1m0s\u001b[0m 49ms/step - categorical_accuracy: 0.9935 - loss: 1.0738 - top5: 0.9978\n",
      "Epoch 93: val_categorical_accuracy did not improve from 0.81654\n",
      "\u001b[1m16/16\u001b[0m \u001b[32m━━━━━━━━━━━━━━━━━━━━\u001b[0m\u001b[37m\u001b[0m \u001b[1m1s\u001b[0m 53ms/step - categorical_accuracy: 0.9938 - loss: 1.0733 - top5: 0.9980 - val_categorical_accuracy: 0.8062 - val_loss: 1.5078 - val_top5: 0.9612 - learning_rate: 1.3569e-05\n",
      "Epoch 94/100\n",
      "\u001b[1m16/16\u001b[0m \u001b[32m━━━━━━━━━━━━━━━━━━━━\u001b[0m\u001b[37m\u001b[0m \u001b[1m0s\u001b[0m 48ms/step - categorical_accuracy: 0.9963 - loss: 1.0648 - top5: 1.0000\n",
      "Epoch 94: val_categorical_accuracy did not improve from 0.81654\n",
      "\u001b[1m16/16\u001b[0m \u001b[32m━━━━━━━━━━━━━━━━━━━━\u001b[0m\u001b[37m\u001b[0m \u001b[1m1s\u001b[0m 54ms/step - categorical_accuracy: 0.9963 - loss: 1.0644 - top5: 1.0000 - val_categorical_accuracy: 0.8036 - val_loss: 1.5082 - val_top5: 0.9612 - learning_rate: 1.2277e-05\n",
      "Epoch 95/100\n",
      "\u001b[1m15/16\u001b[0m \u001b[32m━━━━━━━━━━━━━━━━━━\u001b[0m\u001b[37m━━\u001b[0m \u001b[1m0s\u001b[0m 50ms/step - categorical_accuracy: 0.9948 - loss: 1.0618 - top5: 1.0000\n",
      "Epoch 95: val_categorical_accuracy did not improve from 0.81654\n",
      "\u001b[1m16/16\u001b[0m \u001b[32m━━━━━━━━━━━━━━━━━━━━\u001b[0m\u001b[37m\u001b[0m \u001b[1m1s\u001b[0m 54ms/step - categorical_accuracy: 0.9947 - loss: 1.0620 - top5: 1.0000 - val_categorical_accuracy: 0.8062 - val_loss: 1.5093 - val_top5: 0.9612 - learning_rate: 1.1109e-05\n",
      "Epoch 96/100\n",
      "\u001b[1m16/16\u001b[0m \u001b[32m━━━━━━━━━━━━━━━━━━━━\u001b[0m\u001b[37m\u001b[0m \u001b[1m0s\u001b[0m 48ms/step - categorical_accuracy: 0.9934 - loss: 1.0761 - top5: 1.0000\n",
      "Epoch 96: val_categorical_accuracy did not improve from 0.81654\n",
      "\u001b[1m16/16\u001b[0m \u001b[32m━━━━━━━━━━━━━━━━━━━━\u001b[0m\u001b[37m\u001b[0m \u001b[1m1s\u001b[0m 54ms/step - categorical_accuracy: 0.9935 - loss: 1.0757 - top5: 1.0000 - val_categorical_accuracy: 0.8062 - val_loss: 1.5080 - val_top5: 0.9612 - learning_rate: 1.0052e-05\n",
      "Epoch 97/100\n",
      "\u001b[1m15/16\u001b[0m \u001b[32m━━━━━━━━━━━━━━━━━━\u001b[0m\u001b[37m━━\u001b[0m \u001b[1m0s\u001b[0m 49ms/step - categorical_accuracy: 0.9954 - loss: 1.0732 - top5: 1.0000\n",
      "Epoch 97: val_categorical_accuracy did not improve from 0.81654\n",
      "\u001b[1m16/16\u001b[0m \u001b[32m━━━━━━━━━━━━━━━━━━━━\u001b[0m\u001b[37m\u001b[0m \u001b[1m1s\u001b[0m 53ms/step - categorical_accuracy: 0.9955 - loss: 1.0725 - top5: 1.0000 - val_categorical_accuracy: 0.8036 - val_loss: 1.5050 - val_top5: 0.9664 - learning_rate: 9.0953e-06\n",
      "Epoch 98/100\n",
      "\u001b[1m15/16\u001b[0m \u001b[32m━━━━━━━━━━━━━━━━━━\u001b[0m\u001b[37m━━\u001b[0m \u001b[1m0s\u001b[0m 50ms/step - categorical_accuracy: 0.9944 - loss: 1.0532 - top5: 1.0000\n",
      "Epoch 98: val_categorical_accuracy did not improve from 0.81654\n",
      "\u001b[1m16/16\u001b[0m \u001b[32m━━━━━━━━━━━━━━━━━━━━\u001b[0m\u001b[37m\u001b[0m \u001b[1m1s\u001b[0m 54ms/step - categorical_accuracy: 0.9944 - loss: 1.0538 - top5: 1.0000 - val_categorical_accuracy: 0.8036 - val_loss: 1.5042 - val_top5: 0.9664 - learning_rate: 8.2297e-06\n",
      "Epoch 99/100\n",
      "\u001b[1m15/16\u001b[0m \u001b[32m━━━━━━━━━━━━━━━━━━\u001b[0m\u001b[37m━━\u001b[0m \u001b[1m0s\u001b[0m 49ms/step - categorical_accuracy: 0.9951 - loss: 1.0677 - top5: 1.0000\n",
      "Epoch 99: val_categorical_accuracy did not improve from 0.81654\n",
      "\u001b[1m16/16\u001b[0m \u001b[32m━━━━━━━━━━━━━━━━━━━━\u001b[0m\u001b[37m\u001b[0m \u001b[1m1s\u001b[0m 53ms/step - categorical_accuracy: 0.9953 - loss: 1.0671 - top5: 1.0000 - val_categorical_accuracy: 0.8036 - val_loss: 1.5040 - val_top5: 0.9664 - learning_rate: 7.4466e-06\n",
      "Epoch 100/100\n",
      "\u001b[1m15/16\u001b[0m \u001b[32m━━━━━━━━━━━━━━━━━━\u001b[0m\u001b[37m━━\u001b[0m \u001b[1m0s\u001b[0m 49ms/step - categorical_accuracy: 0.9947 - loss: 1.0687 - top5: 0.9995\n",
      "Epoch 100: val_categorical_accuracy did not improve from 0.81654\n",
      "\u001b[1m16/16\u001b[0m \u001b[32m━━━━━━━━━━━━━━━━━━━━\u001b[0m\u001b[37m\u001b[0m \u001b[1m1s\u001b[0m 53ms/step - categorical_accuracy: 0.9946 - loss: 1.0683 - top5: 0.9995 - val_categorical_accuracy: 0.8062 - val_loss: 1.5053 - val_top5: 0.9664 - learning_rate: 6.7379e-06\n"
     ]
    }
   ],
   "source": [
    "import tensorflow as tf\n",
    "from tensorflow.keras.models import Model\n",
    "from tensorflow.keras.layers import Input, LSTM, Dense, Dropout, BatchNormalization, Reshape\n",
    "\n",
    "def lstmblock(x, units, return_sequences=False):\n",
    "    x = LSTM(units, return_sequences=return_sequences, use_bias=False)(x)\n",
    "    x = BatchNormalization()(x)\n",
    "    return x\n",
    "\n",
    "def build_lstm_model(input_shape, num_classes):\n",
    "    inputs = Input(shape=input_shape)\n",
    "\n",
    "    # Reshape pentru a adăuga dimensiunea width\n",
    "    x = Reshape((input_shape[0], input_shape[1] * input_shape[2]))(inputs)  \n",
    "    # Straturi GRU\n",
    "    x = lstmblock(x, 64, return_sequences=True)\n",
    "    x = Dropout(0.3)(x)\n",
    "    x = lstmblock(x, 128, return_sequences=True)\n",
    "    x = Dropout(0.3)(x)\n",
    "    x = lstmblock(x, 256, return_sequences=True)\n",
    "    \n",
    "    # Global Average Pooling + Dense\n",
    "    x = tf.keras.layers.GlobalAveragePooling1D()(x)\n",
    "    x = Dropout(0.8)(x)\n",
    "\n",
    "    outputs = Dense(num_classes, activation='softmax')(x)\n",
    "\n",
    "    model = Model(inputs=inputs, outputs=outputs)\n",
    "    return model\n",
    "\n",
    "input_shape = (length, NUM_LANDMARKS, 3) \n",
    "num_classes = NUM_CLASSES\n",
    "epochs = EPOCHS\n",
    "\n",
    "# LearningRateScheduler\n",
    "tf.random.set_seed(42)\n",
    "model = build_lstm_model(input_shape, num_classes)\n",
    "initial_learning_rate = 1e-3\n",
    "model.compile(\n",
    "    loss=tf.keras.losses.CategoricalCrossentropy(label_smoothing=0.1),\n",
    "    optimizer=tf.keras.optimizers.AdamW(learning_rate=1e-3, weight_decay=1e-5, clipnorm=1.0),\n",
    "    metrics=[tf.keras.metrics.CategoricalAccuracy(), tf.keras.metrics.TopKCategoricalAccuracy(k=5, name=f'top{5}', dtype=None)]\n",
    ")\n",
    "\n",
    "checkpoint = tf.keras.callbacks.ModelCheckpoint('best_model_lstm.keras', monitor='val_categorical_accuracy', save_best_only=True, mode='max', verbose=1)\n",
    "lr_scheduler = tf.keras.callbacks.LearningRateScheduler(lambda epoch, lr: float(lr * tf.math.exp(-0.1)) if epoch >= 50 else float(lr))\n",
    "callbacks_list = [checkpoint, lr_scheduler]\n",
    "\n",
    "history = model.fit(X_train, Y_train, epochs=epochs, batch_size=128, validation_data=(X_val, Y_val), callbacks=callbacks_list, shuffle=True)"
   ]
  },
  {
   "cell_type": "code",
   "execution_count": null,
   "metadata": {
    "execution": {
     "iopub.execute_input": "2024-06-16T09:49:40.703979Z",
     "iopub.status.busy": "2024-06-16T09:49:40.703685Z",
     "iopub.status.idle": "2024-06-16T09:49:40.710404Z",
     "shell.execute_reply": "2024-06-16T09:49:40.709425Z",
     "shell.execute_reply.started": "2024-06-16T09:49:40.703952Z"
    },
    "trusted": true
   },
   "outputs": [],
   "source": [
    "loaded_model = load_model('best_model_lstm.keras')\n",
    "x = loaded_model.evaluate(X_test, Y_test)"
   ]
  }
 ],
 "metadata": {
  "kaggle": {
   "accelerator": "nvidiaTeslaT4",
   "dataSources": [
    {
     "datasetId": 5141210,
     "sourceId": 8594295,
     "sourceType": "datasetVersion"
    },
    {
     "datasetId": 5162758,
     "sourceId": 8623817,
     "sourceType": "datasetVersion"
    },
    {
     "datasetId": 5162807,
     "sourceId": 8623894,
     "sourceType": "datasetVersion"
    },
    {
     "datasetId": 5164502,
     "sourceId": 8626288,
     "sourceType": "datasetVersion"
    },
    {
     "datasetId": 5168025,
     "sourceId": 8631147,
     "sourceType": "datasetVersion"
    }
   ],
   "dockerImageVersionId": 30716,
   "isGpuEnabled": true,
   "isInternetEnabled": true,
   "language": "python",
   "sourceType": "notebook"
  },
  "kernelspec": {
   "display_name": "Python 3",
   "language": "python",
   "name": "python3"
  },
  "language_info": {
   "codemirror_mode": {
    "name": "ipython",
    "version": 3
   },
   "file_extension": ".py",
   "mimetype": "text/x-python",
   "name": "python",
   "nbconvert_exporter": "python",
   "pygments_lexer": "ipython3",
   "version": "3.11.3"
  }
 },
 "nbformat": 4,
 "nbformat_minor": 4
}
